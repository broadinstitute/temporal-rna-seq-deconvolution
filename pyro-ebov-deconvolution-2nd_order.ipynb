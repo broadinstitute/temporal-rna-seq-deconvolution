{
 "cells": [
  {
   "cell_type": "markdown",
   "id": "executed-showcase",
   "metadata": {},
   "source": [
    "## EBOV deconvolution in Pyro\n",
    "\n",
    "indices:\n",
    "- j for cell type\n",
    "- m for sample index in the sample sheet\n"
   ]
  },
  {
   "cell_type": "code",
   "execution_count": 1,
   "id": "finnish-frequency",
   "metadata": {},
   "outputs": [],
   "source": [
    "import os\n",
    "import pickle5\n",
    "import numpy as np\n",
    "import pandas as pd\n",
    "import matplotlib.pylab as plt\n",
    "\n",
    "import torch\n",
    "import pyro\n",
    "from pyro.infer import SVI, Trace_ELBO\n",
    "\n",
    "device = torch.device(\"cuda:0\")\n",
    "dtype = torch.float32\n",
    "dtype_np = np.float32"
   ]
  },
  {
   "cell_type": "markdown",
   "id": "endangered-humor",
   "metadata": {},
   "source": [
    "## Configuration"
   ]
  },
  {
   "cell_type": "code",
   "execution_count": 2,
   "id": "optical-adobe",
   "metadata": {},
   "outputs": [],
   "source": [
    "# data_path = '/home/jupyter/mb-ml-data-disk/pyro-ebov-deconvolution'\n",
    "data_path = \"/home/nbarkas/disk1/deconvolution/data/load_data_python\""
   ]
  },
  {
   "cell_type": "code",
   "execution_count": 3,
   "id": "aggressive-coaching",
   "metadata": {},
   "outputs": [],
   "source": [
    "from typing import List, Dict\n",
    "from boltons.cacheutils import cachedproperty\n",
    "\n",
    "\n",
    "class EBOVDataset:\n",
    "    \n",
    "    def __init__(\n",
    "            self,\n",
    "            data_path: str,\n",
    "            dtype_np: np.dtype):\n",
    "        \n",
    "        self.dtype_np = dtype_np\n",
    "        \n",
    "        # load all data\n",
    "        self.bulk_raw_gex_gm = np.load(os.path.join(data_path, 'bulk_matrix.npy')).astype(dtype_np)\n",
    "        \n",
    "        with open(os.path.join(data_path, 'bulk_pdata.pkl'), 'rb') as f:\n",
    "            loader = pickle5.Unpickler(f)\n",
    "            self.bulk_sample_metadata_pd = loader.load()\n",
    "\n",
    "        self.sc_raw_gex_gj = np.load(os.path.join(data_path, 'sc_matrix.npy'))\n",
    "\n",
    "        with open(os.path.join(data_path, 'sc_pdata.pkl'), 'rb') as f:\n",
    "            loader = pickle5.Unpickler(f)\n",
    "            self.sc_sample_metadata_pd = loader.load()\n",
    "            \n",
    "        # shorthands\n",
    "        self.num_samples = self.bulk_raw_gex_gm.shape[-1]\n",
    "        self.num_genes = self.bulk_raw_gex_gm.shape[-2]\n",
    "        self.num_individuals = len(set(self.bulk_sample_metadata_pd['id.individual'].values))\n",
    "        \n",
    "        # index individuals\n",
    "        individual_str_list = sorted(list(set(self.bulk_sample_metadata_pd['id.individual'].values)))\n",
    "        individual_str_to_index_map = {\n",
    "            individual_str: index for index, individual_str in enumerate(individual_str_list)}\n",
    "        \n",
    "        # individual index of each sample\n",
    "        self.m_to_i = np.asarray(list(\n",
    "            map(\n",
    "                individual_str_to_index_map.get,\n",
    "                self.bulk_sample_metadata_pd['id.individual'].values)))\n",
    "        \n",
    "        # pre-process dpi times\n",
    "        self.dpi_time_m = np.clip(\n",
    "            self.bulk_sample_metadata_pd['dpi_time'].values.astype(dtype_np),\n",
    "            a_min=0., a_max=None)\n",
    "        self.dpi_time_m = self.dpi_time_m / self.dpi_time_m.max()\n",
    "\n",
    "    @cachedproperty\n",
    "    def cell_type_str_list(self) -> List[str]:\n",
    "        return sorted(list(set(self.sc_sample_metadata_pd['Subclustering_reduced'])))\n",
    "\n",
    "    @cachedproperty\n",
    "    def cell_type_str_to_index_map(self) -> Dict[str, int]:\n",
    "        return {cell_type_str: index for index, cell_type_str in enumerate(self.cell_type_str_list)}        \n",
    "\n",
    "    @cachedproperty\n",
    "    def num_cell_types(self) -> int:\n",
    "        return len(self.cell_type_str_list)\n",
    "    \n",
    "    @cachedproperty\n",
    "    def w_hat_gc(self) -> np.ndarray:\n",
    "        w_hat_gc = np.zeros((self.num_genes, self.num_cell_types))\n",
    "        for cell_type_str in self.cell_type_str_list:\n",
    "            i_cell_type = self.cell_type_str_to_index_map[cell_type_str]\n",
    "            mask_j = self.sc_sample_metadata_pd['Subclustering_reduced'].values == cell_type_str\n",
    "            w_hat_gc[:, i_cell_type] = np.sum(self.sc_raw_gex_gj[:, mask_j], axis=-1)\n",
    "            w_hat_gc[:, i_cell_type] = w_hat_gc[:, i_cell_type] / np.sum(w_hat_gc[:, i_cell_type])\n",
    "        return w_hat_gc"
   ]
  },
  {
   "cell_type": "code",
   "execution_count": 4,
   "id": "gentle-register",
   "metadata": {},
   "outputs": [],
   "source": [
    "ebov_dataset = EBOVDataset(data_path, dtype_np)"
   ]
  },
  {
   "cell_type": "code",
   "execution_count": 5,
   "id": "random-manor",
   "metadata": {},
   "outputs": [],
   "source": [
    "from typing import Dict\n",
    "\n",
    "def generate_minibatch(\n",
    "        dataset: EBOVDataset,\n",
    "        minibatch_size: int,\n",
    "        device: torch.device,\n",
    "        dtype: torch.dtype,\n",
    "        return_full_batch: bool = False) -> Dict[str, torch.Tensor]:\n",
    "    \"\"\"\n",
    "    \n",
    "    TODO: balanced sampling from time\n",
    "    \n",
    "    \"\"\"\n",
    "    \n",
    "    # choose random samples\n",
    "    if return_full_batch:\n",
    "        sample_indices_n = np.arange(dataset.num_samples)\n",
    "    else:\n",
    "        sample_indices_n = np.random.randint(0, dataset.num_samples, size=minibatch_size)\n",
    "    \n",
    "    # subset data\n",
    "    x_ng = dataset.bulk_raw_gex_gm[:, sample_indices_n].T\n",
    "    t_n = dataset.dpi_time_m[sample_indices_n]\n",
    "    ind_index_n = dataset.m_to_i[sample_indices_n]\n",
    "    \n",
    "    return {\n",
    "        'x_ng': torch.tensor(x_ng, device=device, dtype=dtype),\n",
    "        't_n': torch.tensor(t_n, device=device, dtype=dtype),\n",
    "        'ind_index_n': torch.tensor(ind_index_n, device=device, dtype=torch.long),\n",
    "        'sample_index_n': torch.tensor(sample_indices_n, device=device, dtype=torch.long)\n",
    "    }"
   ]
  },
  {
   "cell_type": "code",
   "execution_count": 6,
   "id": "outside-republic",
   "metadata": {},
   "outputs": [],
   "source": [
    "from pyro.distributions.torch_distribution import TorchDistribution, TorchDistributionMixin\n",
    "from torch.distributions.utils import probs_to_logits, logits_to_probs, broadcast_all, lazy_property\n",
    "from torch.distributions import constraints\n",
    "from numbers import Number\n",
    "\n",
    "\n",
    "class NegativeBinomialAltParam(TorchDistribution):\n",
    "    r\"\"\"\n",
    "    Creates a negative binomial distribution.\n",
    "    \n",
    "    Args:\n",
    "        mu (Number, Tensor): mean (must be strictly positive)\n",
    "        phi (Number, Tensor): overdispersion (must be strictly positive)\n",
    "    \"\"\"\n",
    "    arg_constraints = {'mu': constraints.positive, 'phi': constraints.positive}\n",
    "    support = constraints.nonnegative_integer\n",
    "    EPS = 1e-6\n",
    "    \n",
    "    def __init__(self, mu, phi, validate_args=None):\n",
    "        self.mu, self.phi = broadcast_all(mu, phi)\n",
    "        if all(isinstance(_var, Number) for _var in (mu, phi)): \n",
    "            batch_shape = torch.Size()\n",
    "        else:\n",
    "            batch_shape = self.mu.size()\n",
    "        super(NegativeBinomialAltParam, self).__init__(batch_shape, validate_args=validate_args)\n",
    "        \n",
    "    def expand(self, batch_shape, _instance=None):\n",
    "        new = self._get_checked_instance(NegativeBinomialAltParam, _instance)\n",
    "        batch_shape = torch.Size(batch_shape)\n",
    "        new.mu = self.mu.expand(batch_shape)\n",
    "        new.phi = self.phi.expand(batch_shape)\n",
    "        \n",
    "        super(NegativeBinomialAltParam, new).__init__(batch_shape, validate_args=False)\n",
    "        new._validate_args = self._validate_args\n",
    "        return new\n",
    "    \n",
    "    @lazy_property\n",
    "    def _gamma(self):\n",
    "        return torch.distributions.Gamma(\n",
    "            concentration=self.phi.reciprocal(),\n",
    "            rate=(self.mu * self.phi).reciprocal())\n",
    "\n",
    "    def sample(self, sample_shape=torch.Size()):\n",
    "        with torch.no_grad():\n",
    "            return torch.poisson(self._gamma.sample(sample_shape=sample_shape))\n",
    "        \n",
    "    @property\n",
    "    def mean(self):\n",
    "        return self.mu\n",
    "    \n",
    "    @property\n",
    "    def variance(self):\n",
    "        return self.mu + self.phi * self.mu.pow(2)\n",
    "    \n",
    "    def log_prob(self, value):\n",
    "        if self._validate_args:\n",
    "            self._validate_sample(value)\n",
    "        mu, phi, value = broadcast_all(self.mu, self.phi, value)\n",
    "        alpha = (self.EPS + phi).reciprocal()\n",
    "        return ((value + alpha).lgamma() - (value + 1).lgamma() - alpha.lgamma()\n",
    "                + alpha * (alpha.log() - (alpha + mu).log())\n",
    "                + value * (mu.log() - (alpha + mu).log()))"
   ]
  },
  {
   "cell_type": "code",
   "execution_count": 7,
   "id": "geological-pointer",
   "metadata": {},
   "outputs": [],
   "source": [
    "import pyro.distributions as dist\n",
    "\n",
    "\n",
    "class PseudoTimeRegDeconvolution:\n",
    "    \"\"\"\n",
    "    \n",
    "    .. note: we use \"n\" for batch dimension, and \"m\" for sample index.\n",
    "    \n",
    "    \"\"\"\n",
    "    \n",
    "    def  __init__(\n",
    "            self,\n",
    "            dataset: EBOVDataset,\n",
    "            device: device,\n",
    "            dtype: dtype):\n",
    "        \n",
    "        self.dataset = dataset\n",
    "        self.device = device\n",
    "        self.dtype = dtype\n",
    "        \n",
    "        # hyperparameters\n",
    "        self.log_beta_prior_scale = 1.0\n",
    "        self.log_r_prior_scale = 1.0\n",
    "        self.tau_prior_scale = 1.0\n",
    "        self.log_phi_prior_loc = -5.0\n",
    "        self.log_phi_prior_scale = 1.0\n",
    "        \n",
    "        self.unnorm_cell_pop_base_prior_loc_c = np.zeros((self.dataset.num_cell_types,))\n",
    "        self.unnorm_cell_pop_base_prior_scale_c = np.ones((self.dataset.num_cell_types,))\n",
    "        \n",
    "        # first order population deformation\n",
    "        self.unnorm_cell_pop_deform_prior_loc_c = np.zeros((self.dataset.num_cell_types,))\n",
    "        self.unnorm_cell_pop_deform_prior_scale_c = np.ones((self.dataset.num_cell_types,))\n",
    "        \n",
    "        # second order population deformation\n",
    "        self.unnorm_cell_pop_deform2_prior_loc_c = np.zeros((self.dataset.num_cell_types,))\n",
    "        self.unnorm_cell_pop_deform2_prior_scale_c = np.ones((self.dataset.num_cell_types,))        \n",
    "        \n",
    "        self.unnorm_cell_pop_deform3_prior_loc_c = np.zeros((self.dataset.num_cell_types,))\n",
    "        self.unnorm_cell_pop_deform3_prior_scale_c = np.ones((self.dataset.num_cell_types,)) \n",
    "\n",
    "        self.init_posterior_global_scale_factor = 0.05\n",
    "        \n",
    "        self.log_beta_posterior_scale = 1.0 * self.init_posterior_global_scale_factor\n",
    "        self.log_r_posterior_scale = 1.0 * self.init_posterior_global_scale_factor\n",
    "        self.tau_posterior_scale = 1.0 * self.init_posterior_global_scale_factor\n",
    "        self.log_phi_posterior_loc = -5.0\n",
    "        self.log_phi_posterior_scale = 0.1 * self.init_posterior_global_scale_factor\n",
    "        \n",
    "        self.unnorm_cell_pop_base_posterior_loc_c = np.zeros((self.dataset.num_cell_types,))\n",
    "        self.unnorm_cell_pop_base_posterior_scale_c = self.init_posterior_global_scale_factor * np.ones((self.dataset.num_cell_types,))\n",
    "        \n",
    "        self.unnorm_cell_pop_deform_posterior_loc_c = np.zeros((self.dataset.num_cell_types,))\n",
    "        self.unnorm_cell_pop_deform_posterior_scale_c = self.init_posterior_global_scale_factor * np.ones((self.dataset.num_cell_types,))\n",
    "        \n",
    "        self.unnorm_cell_pop_deform2_posterior_loc_c = np.zeros((self.dataset.num_cell_types,))\n",
    "        self.unnorm_cell_pop_deform2_posterior_scale_c = self.init_posterior_global_scale_factor * np.ones((self.dataset.num_cell_types,))\n",
    "        \n",
    "        # cache useful tensors\n",
    "        self.w_hat_gc = torch.tensor(self.dataset.w_hat_gc, device=device, dtype=dtype)\n",
    "        \n",
    "    def model(\n",
    "            self,\n",
    "            x_ng: torch.Tensor,\n",
    "            t_n: torch.Tensor,\n",
    "            ind_index_n: torch.Tensor,\n",
    "            sample_index_n: torch.Tensor):\n",
    "        \"\"\"\n",
    "        :param x_ng: gene expression\n",
    "        :param t_n: obseration time\n",
    "        :param ind_index_n: index of the individual\n",
    "        :param sample_index_n: index of the sample in the dataset\n",
    "        \"\"\"\n",
    "        \n",
    "        minibatch_size = x_ng.shape[0]\n",
    "        \n",
    "        # sample log_phi_g\n",
    "        log_phi_g = pyro.sample(\n",
    "            'log_phi_g',\n",
    "            dist.Normal(\n",
    "                loc=self.log_phi_prior_loc * torch.ones(\n",
    "                    (self.dataset.num_genes,), device=self.device, dtype=self.dtype),\n",
    "                scale=self.log_phi_prior_scale * torch.ones(\n",
    "                    (self.dataset.num_genes,), device=self.device, dtype=self.dtype)).to_event(1))\n",
    "        \n",
    "        # sample log_beta_g\n",
    "        log_beta_g = pyro.sample(\n",
    "            'log_beta_g',\n",
    "            dist.Normal(\n",
    "                loc=torch.zeros(\n",
    "                    (self.dataset.num_genes,), device=self.device, dtype=self.dtype),\n",
    "                scale=self.log_beta_prior_scale * torch.ones(\n",
    "                    (self.dataset.num_genes,), device=self.device, dtype=self.dtype)).to_event(1))\n",
    "        \n",
    "        # sample log_r_i\n",
    "        log_r_i = pyro.sample(\n",
    "            'log_r_i',\n",
    "            dist.Normal(\n",
    "                loc=torch.zeros(\n",
    "                    (self.dataset.num_individuals,), device=self.device, dtype=self.dtype),\n",
    "                scale=self.log_r_prior_scale * torch.ones(\n",
    "                    (self.dataset.num_individuals,), device=self.device, dtype=self.dtype)).to_event(1))\n",
    "        \n",
    "        # sample unnorm_cell_pop_base_c\n",
    "        unnorm_cell_pop_base_c = pyro.sample(\n",
    "            'unnorm_cell_pop_base_c',\n",
    "            dist.Normal(\n",
    "                loc=torch.tensor(\n",
    "                    self.unnorm_cell_pop_base_prior_loc_c,\n",
    "                    device=self.device, dtype=self.dtype),\n",
    "                scale=torch.tensor(\n",
    "                    self.unnorm_cell_pop_base_prior_scale_c,\n",
    "                    device=self.device, dtype=self.dtype)).to_event(1))\n",
    "        \n",
    "        # sample unnorm_cell_pop_base_c\n",
    "        unnorm_cell_pop_deform_c = pyro.sample(\n",
    "            'unnorm_cell_pop_deform_c',\n",
    "            dist.Normal(\n",
    "                loc=torch.tensor(\n",
    "                    self.unnorm_cell_pop_deform_prior_loc_c,\n",
    "                    device=self.device, dtype=self.dtype),\n",
    "                scale=torch.tensor(\n",
    "                    self.unnorm_cell_pop_deform_prior_scale_c,\n",
    "                    device=self.device, dtype=self.dtype)).to_event(1))\n",
    "        \n",
    "        # sample unnorm_cell_pop_base_c\n",
    "        unnorm_cell_pop_deform2_c = pyro.sample(\n",
    "            'unnorm_cell_pop_deform2_c',\n",
    "            dist.Normal(\n",
    "                loc=torch.tensor(\n",
    "                    self.unnorm_cell_pop_deform2_prior_loc_c,\n",
    "                    device=self.device, dtype=self.dtype),\n",
    "                scale=torch.tensor(\n",
    "                    self.unnorm_cell_pop_deform2_prior_scale_c,\n",
    "                    device=self.device, dtype=self.dtype)).to_event(1))\n",
    "        \n",
    "        # calculate useful derived variables\n",
    "        beta_g = log_beta_g.exp()\n",
    "        phi_g = log_phi_g.exp()\n",
    "        \n",
    "#         ### NOTE ###\n",
    "#         phi_g = 0.01 * torch.ones((self.dataset.num_genes,), device=self.device, dtype=self.dtype)\n",
    "#         beta_g = torch.ones((self.dataset.num_genes,), device=self.device, dtype=self.dtype)\n",
    "        \n",
    "        unnorm_w_gc = self.w_hat_gc * beta_g[:, None]\n",
    "        w_gc = unnorm_w_gc / unnorm_w_gc.sum(0)\n",
    "        r_n = log_r_i[ind_index_n].exp()\n",
    "        \n",
    "        with pyro.poutine.scale(scale=self.dataset.num_samples / minibatch_size):\n",
    "            \n",
    "            with pyro.plate(\"batch\"):\n",
    "\n",
    "                # sample tau (\"actual infection\") for each sample\n",
    "                tau_mean_shift_n = t_n / r_n\n",
    "                tau_deviation_n = pyro.sample(\n",
    "                    \"tau_deviation_n\",\n",
    "                    dist.Normal(\n",
    "                        loc=torch.zeros_like(t_n),\n",
    "                        scale=self.tau_prior_scale * torch.ones_like(t_n)))\n",
    "                tau_n = tau_mean_shift_n + tau_deviation_n\n",
    "\n",
    "                # calculate cell proportion\n",
    "                cell_pop_nc = torch.nn.functional.softmax(\n",
    "                    unnorm_cell_pop_base_c + unnorm_cell_pop_deform_c * tau_n[:, None] + \n",
    "                        unnorm_cell_pop_deform2_c * (tau_n[:,None] * tau_n[:,None]),\n",
    "                    dim=-1)\n",
    "\n",
    "                # calculate mean gene expression\n",
    "                mu_ng = x_ng.sum(-1)[:, None] * torch.matmul(cell_pop_nc, w_gc.transpose(-1, -2))\n",
    "\n",
    "                # observe gene expression\n",
    "                pyro.sample(\n",
    "                    \"x_ng\",\n",
    "                    NegativeBinomialAltParam(\n",
    "                        mu=mu_ng,\n",
    "                        phi=phi_g[None, :]).to_event(1),\n",
    "                    obs=x_ng)\n",
    "\n",
    "    def delta_guide(\n",
    "            self,\n",
    "            x_ng: torch.Tensor,\n",
    "            t_n: torch.Tensor,\n",
    "            ind_index_n: torch.Tensor,\n",
    "            sample_index_n: torch.Tensor):\n",
    "        \n",
    "        minibatch_size = x_ng.shape[0]\n",
    "        \n",
    "        # variational parameters for log_phi_g\n",
    "        log_phi_posterior_loc_g = pyro.param(\n",
    "            \"log_phi_posterior_loc_g\",\n",
    "            self.log_phi_posterior_loc * torch.ones(\n",
    "                (self.dataset.num_genes,), device=self.device, dtype=self.dtype))\n",
    "\n",
    "        # variational parameters for log_beta_g\n",
    "        log_beta_posterior_loc_g = pyro.param(\n",
    "            \"log_beta_posterior_loc_g\",\n",
    "            torch.zeros(\n",
    "                (self.dataset.num_genes,), device=self.device, dtype=self.dtype))        \n",
    "        \n",
    "        # variational parameters for log_r_i\n",
    "        log_r_posterior_loc_i = pyro.param(\n",
    "            \"log_r_posterior_loc_i\",\n",
    "            torch.zeros(\n",
    "                (self.dataset.num_individuals,), device=self.device, dtype=self.dtype))\n",
    "        \n",
    "        # variational parameters for unnorm_cell_pop_base_c (\"B_c\")\n",
    "        unnorm_cell_pop_base_posterior_loc_c = pyro.param(\n",
    "            \"unnorm_cell_pop_base_posterior_loc_c\",\n",
    "            torch.tensor(\n",
    "                self.unnorm_cell_pop_base_posterior_loc_c,\n",
    "                device=self.device, dtype=self.dtype))\n",
    "        \n",
    "        # variational parameters for unnorm_cell_pop_deform_c (\"R_c\")\n",
    "        unnorm_cell_pop_deform_posterior_loc_c = pyro.param(\n",
    "            \"unnorm_cell_pop_deform_posterior_loc_c\",\n",
    "            torch.tensor(\n",
    "                self.unnorm_cell_pop_deform_posterior_loc_c,\n",
    "                device=self.device, dtype=self.dtype))\n",
    "        \n",
    "        # variational parameters for unnorm_cell_pop_deform_c (\"R_c\")\n",
    "        unnorm_cell_pop_deform2_posterior_loc_c = pyro.param(\n",
    "            \"unnorm_cell_pop_deform2_posterior_loc_c\",\n",
    "            torch.tensor(\n",
    "                self.unnorm_cell_pop_deform2_posterior_loc_c,\n",
    "                device=self.device, dtype=self.dtype))\n",
    "        \n",
    "        # variational parameters for tau_deviation_m\n",
    "        tau_deviation_posterior_loc_m = pyro.param(\n",
    "            \"tau_deviation_posterior_loc_m\",\n",
    "            torch.zeros(\n",
    "                (self.dataset.num_samples,),\n",
    "                device=self.device, dtype=self.dtype))\n",
    "        \n",
    "        # posterior sample statements\n",
    "        log_phi_g = pyro.sample(\n",
    "            \"log_phi_g\",\n",
    "            dist.Delta(\n",
    "                v=log_phi_posterior_loc_g).to_event(1))\n",
    "\n",
    "        log_beta_g = pyro.sample(\n",
    "            \"log_beta_g\",\n",
    "            dist.Delta(\n",
    "                v=log_beta_posterior_loc_g).to_event(1))\n",
    "\n",
    "        log_r_i = pyro.sample(\n",
    "            \"log_r_i\",\n",
    "            dist.Delta(\n",
    "                v=log_r_posterior_loc_i).to_event(1))\n",
    "\n",
    "        unnorm_cell_pop_base_c = pyro.sample(\n",
    "            'unnorm_cell_pop_base_c',\n",
    "            dist.Delta(\n",
    "                v=unnorm_cell_pop_base_posterior_loc_c).to_event(1))\n",
    "        \n",
    "        unnorm_cell_pop_deform_c = pyro.sample(\n",
    "            'unnorm_cell_pop_deform_c',\n",
    "            dist.Delta(\n",
    "                v=unnorm_cell_pop_deform_posterior_loc_c).to_event(1))\n",
    "        \n",
    "        unnorm_cell_pop_deform2_c = pyro.sample(\n",
    "            'unnorm_cell_pop_deform2_c',\n",
    "            dist.Delta(\n",
    "                v=unnorm_cell_pop_deform2_posterior_loc_c).to_event(1))\n",
    "        \n",
    "        with pyro.poutine.scale(scale=self.dataset.num_samples / minibatch_size):\n",
    "\n",
    "            with pyro.plate(\"batch\"):\n",
    "            \n",
    "                tau_deviation_n = pyro.sample(\n",
    "                    \"tau_deviation_n\",\n",
    "                    dist.Delta(\n",
    "                        v=tau_deviation_posterior_loc_m[sample_index_n]))\n",
    "    "
   ]
  },
  {
   "cell_type": "code",
   "execution_count": 8,
   "id": "constitutional-restriction",
   "metadata": {},
   "outputs": [],
   "source": [
    "pseudo_time_reg_deconv = PseudoTimeRegDeconvolution(\n",
    "    dataset=ebov_dataset,\n",
    "    device=device,\n",
    "    dtype=dtype)\n",
    "\n",
    "pyro.clear_param_store()"
   ]
  },
  {
   "cell_type": "code",
   "execution_count": 9,
   "id": "perfect-nirvana",
   "metadata": {},
   "outputs": [],
   "source": [
    "# minibatch_dict = generate_minibatch(ebov_dataset, 10, device, dtype)\n",
    "\n",
    "# pseudo_time_reg_deconv.model(\n",
    "#     x_ng=minibatch_dict['x_ng'],\n",
    "#     t_n=minibatch_dict['t_n'],\n",
    "#     ind_index_n=minibatch_dict['ind_index_n'],\n",
    "#     sample_index_n=minibatch_dict['sample_indices_n'])\n",
    "\n",
    "# pseudo_time_reg_deconv.guide(\n",
    "#     x_ng=minibatch_dict['x_ng'],\n",
    "#     t_n=minibatch_dict['t_n'],\n",
    "#     ind_index_n=minibatch_dict['ind_index_n'],\n",
    "#     sample_index_n=minibatch_dict['sample_indices_n'])"
   ]
  },
  {
   "cell_type": "code",
   "execution_count": 10,
   "id": "discrete-david",
   "metadata": {},
   "outputs": [],
   "source": [
    "n_iters = 10_000\n",
    "minibatch_size = 50\n",
    "log_frequency = 100"
   ]
  },
  {
   "cell_type": "code",
   "execution_count": 11,
   "id": "fluid-caribbean",
   "metadata": {},
   "outputs": [],
   "source": [
    "# optimizer\n",
    "optim = pyro.optim.Adam(\n",
    "    {'lr': 5e-3})\n",
    "\n",
    "loss_hist = []"
   ]
  },
  {
   "cell_type": "code",
   "execution_count": 12,
   "id": "specific-squad",
   "metadata": {},
   "outputs": [],
   "source": [
    "# SVI objective\n",
    "svi = SVI(\n",
    "    model=pseudo_time_reg_deconv.model,\n",
    "    guide=pseudo_time_reg_deconv.delta_guide,\n",
    "    optim=optim,\n",
    "    loss=Trace_ELBO())"
   ]
  },
  {
   "cell_type": "code",
   "execution_count": 13,
   "id": "hydraulic-windows",
   "metadata": {},
   "outputs": [
    {
     "name": "stdout",
     "output_type": "stream",
     "text": [
      "0   loss: 94785425.99514198\n",
      "100   loss: 44332221.97444248\n",
      "200   loss: 25780063.217264175\n",
      "300   loss: 16957764.067871094\n",
      "400   loss: 12290146.240962029\n",
      "500   loss: 9707986.904691696\n",
      "600   loss: 8205907.402504921\n",
      "700   loss: 7277682.936987877\n",
      "800   loss: 6668553.321181297\n",
      "900   loss: 6247599.203063965\n",
      "1000   loss: 5944209.548402786\n",
      "1100   loss: 5718079.209718704\n",
      "1200   loss: 5544862.165060997\n",
      "1300   loss: 5409163.606514931\n",
      "1400   loss: 5300844.923013687\n",
      "1500   loss: 5212985.502362251\n",
      "1600   loss: 5140729.9661951065\n",
      "1700   loss: 5080588.004858971\n",
      "1800   loss: 5030002.256583214\n",
      "1900   loss: 4987063.194574356\n",
      "2000   loss: 4950310.363239288\n",
      "2100   loss: 4918615.835582733\n",
      "2200   loss: 4891102.39081955\n",
      "2300   loss: 4867072.3216257095\n",
      "2400   loss: 4845973.486498833\n",
      "2500   loss: 4827355.851456642\n",
      "2600   loss: 4810855.39968586\n",
      "2700   loss: 4796172.628001213\n",
      "2800   loss: 4783050.929405212\n",
      "2900   loss: 4771285.817840576\n",
      "3000   loss: 4760706.330900192\n",
      "3100   loss: 4751166.340168953\n",
      "3200   loss: 4742537.949579239\n",
      "3300   loss: 4734715.364645004\n",
      "3400   loss: 4727605.433414459\n",
      "3500   loss: 4721125.912327766\n",
      "3600   loss: 4715213.583366394\n",
      "3700   loss: 4709813.880573273\n",
      "3800   loss: 4704867.6679439545\n",
      "3900   loss: 4700330.039782524\n",
      "4000   loss: 4696162.879666328\n",
      "4100   loss: 4692328.748720169\n",
      "4200   loss: 4688799.8409900665\n",
      "4300   loss: 4685547.411169052\n",
      "4400   loss: 4682549.243349075\n",
      "4500   loss: 4679777.937911034\n",
      "4600   loss: 4677215.378334045\n",
      "4700   loss: 4674848.346456528\n",
      "4800   loss: 4672657.15516758\n",
      "4900   loss: 4670628.224545479\n",
      "5000   loss: 4668754.101312637\n",
      "5100   loss: 4667016.085453033\n",
      "5200   loss: 4665404.195529938\n",
      "5300   loss: 4663916.133047104\n",
      "5400   loss: 4662536.562278748\n",
      "5500   loss: 4661257.489039421\n",
      "5600   loss: 4660075.337181091\n",
      "5700   loss: 4658981.478037834\n",
      "5800   loss: 4657968.36333847\n",
      "5900   loss: 4657027.599410057\n",
      "6000   loss: 4656149.913998604\n",
      "6100   loss: 4655331.6131772995\n",
      "6200   loss: 4654565.5930223465\n",
      "6300   loss: 4653848.267180443\n",
      "6400   loss: 4653172.578825951\n",
      "6500   loss: 4652536.98841095\n",
      "6600   loss: 4651939.546265602\n",
      "6700   loss: 4651368.33542347\n",
      "6800   loss: 4650833.200105667\n",
      "6900   loss: 4650314.457906723\n",
      "7000   loss: 4649816.784784317\n",
      "7100   loss: 4649333.342460632\n",
      "7200   loss: 4648819.33210659\n",
      "7300   loss: 4648299.242405891\n",
      "7400   loss: 4647796.837394714\n",
      "7500   loss: 4647316.7988910675\n",
      "7600   loss: 4646863.29548645\n",
      "7700   loss: 4646436.608012199\n",
      "7800   loss: 4646042.225300789\n",
      "7900   loss: 4645683.3484249115\n",
      "8000   loss: 4645351.6410655975\n",
      "8100   loss: 4645037.73620224\n",
      "8200   loss: 4644735.962686539\n",
      "8300   loss: 4644449.00402832\n",
      "8400   loss: 4644174.205622673\n",
      "8500   loss: 4643903.6499996185\n",
      "8600   loss: 4643643.5672159195\n",
      "8700   loss: 4643391.72701931\n",
      "8800   loss: 4643141.254306793\n",
      "8900   loss: 4642897.671153069\n",
      "9000   loss: 4642656.245876312\n",
      "9100   loss: 4642416.239122391\n",
      "9200   loss: 4642177.693136215\n",
      "9300   loss: 4641950.724696159\n",
      "9400   loss: 4641726.311393738\n",
      "9500   loss: 4641510.765100479\n",
      "9600   loss: 4641299.651343346\n",
      "9700   loss: 4641091.411151886\n",
      "9800   loss: 4640890.049488068\n",
      "9900   loss: 4640694.022289276\n"
     ]
    }
   ],
   "source": [
    "for i_iter in range(n_iters):\n",
    "    \n",
    "    minibatch_dict = generate_minibatch(\n",
    "        ebov_dataset, minibatch_size, device, dtype,\n",
    "        return_full_batch=True)\n",
    "    loss = svi.step(**minibatch_dict)\n",
    "    \n",
    "    loss_hist.append(loss)\n",
    "    \n",
    "    if i_iter % log_frequency == 0:\n",
    "        print(f\"{i_iter}   loss: {loss_hist[-1]}\")"
   ]
  },
  {
   "cell_type": "code",
   "execution_count": 14,
   "id": "complex-friday",
   "metadata": {},
   "outputs": [
    {
     "data": {
      "text/plain": [
       "[<matplotlib.lines.Line2D at 0x7fcb567cec90>]"
      ]
     },
     "execution_count": 14,
     "metadata": {},
     "output_type": "execute_result"
    },
    {
     "data": {
      "image/png": "[encoded data removed]",
      "text/plain": [
       "<Figure size 432x288 with 1 Axes>"
      ]
     },
     "metadata": {
      "needs_background": "light"
     },
     "output_type": "display_data"
    }
   ],
   "source": [
    "plt.plot(loss_hist)"
   ]
  },
  {
   "cell_type": "code",
   "execution_count": 15,
   "id": "flying-tenant",
   "metadata": {},
   "outputs": [
    {
     "data": {
      "text/plain": [
       "dict_keys(['log_phi_posterior_loc_g', 'log_beta_posterior_loc_g', 'log_r_posterior_loc_i', 'unnorm_cell_pop_base_posterior_loc_c', 'unnorm_cell_pop_deform_posterior_loc_c', 'unnorm_cell_pop_deform2_posterior_loc_c', 'tau_deviation_posterior_loc_m'])"
      ]
     },
     "execution_count": 15,
     "metadata": {},
     "output_type": "execute_result"
    }
   ],
   "source": [
    "pyro.get_param_store().keys()"
   ]
  },
  {
   "cell_type": "code",
   "execution_count": 16,
   "id": "radical-custody",
   "metadata": {},
   "outputs": [
    {
     "data": {
      "image/png": "[encoded data removed]",
      "text/plain": [
       "<Figure size 432x288 with 1 Axes>"
      ]
     },
     "metadata": {
      "needs_background": "light"
     },
     "output_type": "display_data"
    }
   ],
   "source": [
    "# Histogram of the posterior estimates of the gene dispersion (phi)\n",
    "plt.hist(pyro.param('log_phi_posterior_loc_g').detach().cpu().numpy(), bins=50);"
   ]
  },
  {
   "cell_type": "code",
   "execution_count": 17,
   "id": "studied-navigator",
   "metadata": {},
   "outputs": [
    {
     "data": {
      "image/png": "[encoded data removed]",
      "text/plain": [
       "<Figure size 432x288 with 1 Axes>"
      ]
     },
     "metadata": {
      "needs_background": "light"
     },
     "output_type": "display_data"
    }
   ],
   "source": [
    "# Histogram of the posterior estimates of the gene betas (scaling coefficients of genes)\n",
    "plt.hist(pyro.param('log_beta_posterior_loc_g').detach().cpu().numpy(), bins=50);"
   ]
  },
  {
   "cell_type": "code",
   "execution_count": 18,
   "id": "liberal-creek",
   "metadata": {},
   "outputs": [
    {
     "data": {
      "image/png": "[encoded data removed]",
      "text/plain": [
       "<Figure size 432x288 with 1 Axes>"
      ]
     },
     "metadata": {
      "needs_background": "light"
     },
     "output_type": "display_data"
    }
   ],
   "source": [
    "# Plot the celltype base composition\n",
    "\n",
    "fig = plt.figure()\n",
    "ax = plt.gca()\n",
    "\n",
    "ax.bar(\n",
    "    np.arange(ebov_dataset.num_cell_types),\n",
    "    torch.nn.functional.softmax(pyro.param(\"unnorm_cell_pop_base_posterior_loc_c\"), dim=0).detach().cpu().numpy())\n",
    "\n",
    "ax.set_title('Base cell population')\n",
    "ax.set_xticks(np.arange(ebov_dataset.num_cell_types))\n",
    "ax.set_xticklabels(ebov_dataset.cell_type_str_list, rotation=90);"
   ]
  },
  {
   "cell_type": "code",
   "execution_count": 19,
   "id": "placed-timeline",
   "metadata": {},
   "outputs": [
    {
     "data": {
      "image/png": "[encoded data removed]",
      "text/plain": [
       "<Figure size 432x288 with 1 Axes>"
      ]
     },
     "metadata": {
      "needs_background": "light"
     },
     "output_type": "display_data"
    }
   ],
   "source": [
    "# Plot the deltas of the celltype composition\n",
    "\n",
    "fig = plt.figure()\n",
    "ax = plt.gca()\n",
    "\n",
    "ax.bar(\n",
    "    np.arange(ebov_dataset.num_cell_types),\n",
    "    pyro.param(\"unnorm_cell_pop_deform_posterior_loc_c\").detach().cpu().numpy())\n",
    "\n",
    "ax.set_xticks(np.arange(ebov_dataset.num_cell_types))\n",
    "ax.set_xticklabels(ebov_dataset.cell_type_str_list, rotation=90);"
   ]
  },
  {
   "cell_type": "code",
   "execution_count": 20,
   "id": "different-shipping",
   "metadata": {},
   "outputs": [
    {
     "data": {
      "image/png": "[encoded data removed]",
      "text/plain": [
       "<Figure size 432x288 with 1 Axes>"
      ]
     },
     "metadata": {
      "needs_background": "light"
     },
     "output_type": "display_data"
    }
   ],
   "source": [
    "# celltype composition at time 0.1\n",
    "time = 0.1\n",
    "\n",
    "base_composition_post = pyro.param(\"unnorm_cell_pop_base_posterior_loc_c\").detach().cpu()\n",
    "delta_composition_post = pyro.param(\"unnorm_cell_pop_deform_posterior_loc_c\").detach().cpu()\n",
    "delta2_composition_post = pyro.param(\"unnorm_cell_pop_deform2_posterior_loc_c\").detach().cpu()\n",
    "    \n",
    "norm_comp_t = torch.nn.functional.softmax(base_composition_post + \n",
    "                                          time * delta_composition_post + \n",
    "                                          time**2 * delta2_composition_post , dim=0).numpy()\n",
    "\n",
    "fig = plt.figure()\n",
    "ax = plt.gca()\n",
    "\n",
    "ax.bar(\n",
    "    np.arange(ebov_dataset.num_cell_types),\n",
    "    norm_comp_t\n",
    ")\n",
    "\n",
    "ax.set_title(f'Cell population proportions at time {time}')\n",
    "ax.set_xticks(np.arange(ebov_dataset.num_cell_types))\n",
    "ax.set_xticklabels(ebov_dataset.cell_type_str_list, rotation=90);"
   ]
  },
  {
   "cell_type": "code",
   "execution_count": 21,
   "id": "posted-liver",
   "metadata": {},
   "outputs": [
    {
     "data": {
      "text/plain": [
       "torch.Size([10, 1])"
      ]
     },
     "execution_count": 21,
     "metadata": {},
     "output_type": "execute_result"
    }
   ],
   "source": [
    "times = torch.arange(0,1,0.1)\n",
    "times.unsqueeze(1).shape"
   ]
  },
  {
   "cell_type": "code",
   "execution_count": 22,
   "id": "minus-ground",
   "metadata": {},
   "outputs": [
    {
     "data": {
      "text/plain": [
       "torch.Size([9])"
      ]
     },
     "execution_count": 22,
     "metadata": {},
     "output_type": "execute_result"
    }
   ],
   "source": [
    "delta_composition_post\n",
    "delta_composition_post.shape"
   ]
  },
  {
   "cell_type": "code",
   "execution_count": 23,
   "id": "located-regular",
   "metadata": {},
   "outputs": [
    {
     "data": {
      "text/plain": [
       "tensor([0.0000, 0.0100, 0.0400, 0.0900, 0.1600, 0.2500, 0.3600, 0.4900, 0.6400,\n",
       "        0.8100])"
      ]
     },
     "execution_count": 23,
     "metadata": {},
     "output_type": "execute_result"
    }
   ],
   "source": [
    "times*times"
   ]
  },
  {
   "cell_type": "code",
   "execution_count": 24,
   "id": "charming-housing",
   "metadata": {},
   "outputs": [],
   "source": [
    "composition_deltas = times.unsqueeze(1) @ delta_composition_post.unsqueeze(0) + \\\n",
    "    (times * times).unsqueeze(1) @ delta2_composition_post.unsqueeze(0)"
   ]
  },
  {
   "cell_type": "code",
   "execution_count": 25,
   "id": "limited-encyclopedia",
   "metadata": {},
   "outputs": [],
   "source": [
    "composition_over_time = torch.nn.functional.softmax(base_composition_post.expand(10,9) + composition_deltas, dim=1)"
   ]
  },
  {
   "cell_type": "code",
   "execution_count": 26,
   "id": "imperial-monthly",
   "metadata": {},
   "outputs": [
    {
     "data": {
      "text/plain": [
       "tensor([[0.1656, 0.0081, 0.1066, 0.0664, 0.0657, 0.1599, 0.3719, 0.0353, 0.0204],\n",
       "        [0.1690, 0.0076, 0.1050, 0.0737, 0.0671, 0.1520, 0.3678, 0.0370, 0.0208],\n",
       "        [0.1709, 0.0070, 0.1031, 0.0836, 0.0680, 0.1449, 0.3624, 0.0390, 0.0212],\n",
       "        [0.1709, 0.0063, 0.1008, 0.0970, 0.0685, 0.1385, 0.3553, 0.0411, 0.0216],\n",
       "        [0.1689, 0.0056, 0.0980, 0.1149, 0.0685, 0.1324, 0.3464, 0.0433, 0.0221],\n",
       "        [0.1647, 0.0048, 0.0946, 0.1387, 0.0677, 0.1264, 0.3350, 0.0456, 0.0225],\n",
       "        [0.1579, 0.0041, 0.0904, 0.1700, 0.0661, 0.1202, 0.3206, 0.0478, 0.0228],\n",
       "        [0.1484, 0.0033, 0.0853, 0.2110, 0.0635, 0.1135, 0.3024, 0.0497, 0.0228],\n",
       "        [0.1359, 0.0026, 0.0789, 0.2637, 0.0597, 0.1057, 0.2798, 0.0511, 0.0226],\n",
       "        [0.1205, 0.0020, 0.0711, 0.3296, 0.0546, 0.0966, 0.2521, 0.0514, 0.0219]])"
      ]
     },
     "execution_count": 26,
     "metadata": {},
     "output_type": "execute_result"
    }
   ],
   "source": [
    "composition_over_time"
   ]
  },
  {
   "cell_type": "code",
   "execution_count": 27,
   "id": "fifteen-canvas",
   "metadata": {},
   "outputs": [
    {
     "data": {
      "text/plain": [
       "tensor([0.1656, 0.1690, 0.1709, 0.1709, 0.1689, 0.1647, 0.1579, 0.1484, 0.1359,\n",
       "        0.1205])"
      ]
     },
     "execution_count": 27,
     "metadata": {},
     "output_type": "execute_result"
    }
   ],
   "source": [
    "composition_over_time[:,0]"
   ]
  },
  {
   "cell_type": "code",
   "execution_count": 28,
   "id": "treated-globe",
   "metadata": {},
   "outputs": [
    {
     "data": {
      "text/plain": [
       "[<matplotlib.lines.Line2D at 0x7fcdcaf57110>]"
      ]
     },
     "execution_count": 28,
     "metadata": {},
     "output_type": "execute_result"
    },
    {
     "data": {
      "image/png": "[encoded data removed]",
      "text/plain": [
       "<Figure size 432x288 with 1 Axes>"
      ]
     },
     "metadata": {
      "needs_background": "light"
     },
     "output_type": "display_data"
    }
   ],
   "source": [
    "fig = plt.figure()\n",
    "ax = plt.gca()\n",
    "\n",
    "ax.plot(times.numpy(), composition_over_time[:,0])"
   ]
  },
  {
   "cell_type": "code",
   "execution_count": 29,
   "id": "written-grain",
   "metadata": {},
   "outputs": [
    {
     "data": {
      "text/plain": [
       "<matplotlib.legend.Legend at 0x7fcb56464a90>"
      ]
     },
     "execution_count": 29,
     "metadata": {},
     "output_type": "execute_result"
    },
    {
     "data": {
      "image/png": "[encoded data removed]",
      "text/plain": [
       "<Figure size 432x288 with 1 Axes>"
      ]
     },
     "metadata": {
      "needs_background": "light"
     },
     "output_type": "display_data"
    }
   ],
   "source": [
    "fig = plt.figure()\n",
    "ax = plt.gca()\n",
    "\n",
    "ax.plot(times.numpy(), composition_over_time)\n",
    "\n",
    "ax.set_title(\"Predicted cell proportions\")\n",
    "ax.set_xlabel(\"Pseudotime\")\n",
    "ax.legend(ebov_dataset.cell_type_str_list,loc='best',fontsize='small')"
   ]
  },
  {
   "cell_type": "code",
   "execution_count": null,
   "id": "technical-table",
   "metadata": {},
   "outputs": [],
   "source": []
  },
  {
   "cell_type": "code",
   "execution_count": null,
   "id": "terminal-belly",
   "metadata": {},
   "outputs": [],
   "source": []
  },
  {
   "cell_type": "code",
   "execution_count": null,
   "id": "comparable-customer",
   "metadata": {},
   "outputs": [],
   "source": []
  },
  {
   "cell_type": "code",
   "execution_count": 30,
   "id": "freelance-daily",
   "metadata": {},
   "outputs": [
    {
     "data": {
      "text/plain": [
       "dict_keys(['log_phi_posterior_loc_g', 'log_beta_posterior_loc_g', 'log_r_posterior_loc_i', 'unnorm_cell_pop_base_posterior_loc_c', 'unnorm_cell_pop_deform_posterior_loc_c', 'unnorm_cell_pop_deform2_posterior_loc_c', 'tau_deviation_posterior_loc_m'])"
      ]
     },
     "execution_count": 30,
     "metadata": {},
     "output_type": "execute_result"
    }
   ],
   "source": [
    "pyro.get_param_store().keys()"
   ]
  },
  {
   "cell_type": "code",
   "execution_count": 31,
   "id": "generic-conditions",
   "metadata": {},
   "outputs": [
    {
     "data": {
      "text/plain": [
       "tensor([0.4985, 0.5967, 0.6300, 0.5396, 1.0340, 0.5015, 0.5577, 0.7113, 0.6502,\n",
       "        1.0000, 0.6472, 1.0712, 0.5657, 0.9131, 0.9724, 0.6400, 0.9262, 1.0000,\n",
       "        0.5616, 0.5310, 1.0000], device='cuda:0', grad_fn=<ExpBackward>)"
      ]
     },
     "execution_count": 31,
     "metadata": {},
     "output_type": "execute_result"
    }
   ],
   "source": [
    "# These are the per individual infection rates\n",
    "pyro.param('log_r_posterior_loc_i').exp()"
   ]
  },
  {
   "cell_type": "code",
   "execution_count": 32,
   "id": "defensive-preliminary",
   "metadata": {},
   "outputs": [
    {
     "data": {
      "text/plain": [
       "<matplotlib.collections.PathCollection at 0x7fcb5640d9d0>"
      ]
     },
     "execution_count": 32,
     "metadata": {},
     "output_type": "execute_result"
    },
    {
     "data": {
      "image/png": "[encoded data removed]",
      "text/plain": [
       "<Figure size 432x288 with 1 Axes>"
      ]
     },
     "metadata": {
      "needs_background": "light"
     },
     "output_type": "display_data"
    }
   ],
   "source": [
    "plt.scatter(\n",
    "    ebov_dataset.m_to_i,\n",
    "    ebov_dataset.dpi_time_m)"
   ]
  },
  {
   "cell_type": "code",
   "execution_count": null,
   "id": "liked-subdivision",
   "metadata": {},
   "outputs": [],
   "source": []
  }
 ],
 "metadata": {
  "environment": {
   "name": "pytorch-gpu.1-7.m65",
   "type": "gcloud",
   "uri": "gcr.io/deeplearning-platform-release/pytorch-gpu.1-7:m65"
  },
  "kernelspec": {
   "display_name": "Python 3",
   "language": "python",
   "name": "python3"
  },
  "language_info": {
   "codemirror_mode": {
    "name": "ipython",
    "version": 3
   },
   "file_extension": ".py",
   "mimetype": "text/x-python",
   "name": "python",
   "nbconvert_exporter": "python",
   "pygments_lexer": "ipython3",
   "version": "3.7.10"
  }
 },
 "nbformat": 4,
 "nbformat_minor": 5
}
