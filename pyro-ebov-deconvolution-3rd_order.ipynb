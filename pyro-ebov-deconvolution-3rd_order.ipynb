{
 "cells": [
  {
   "cell_type": "markdown",
   "id": "terminal-patio",
   "metadata": {},
   "source": [
    "## EBOV deconvolution in Pyro\n",
    "\n",
    "indices:\n",
    "- j for cell type\n",
    "- m for sample index in the sample sheet\n"
   ]
  },
  {
   "cell_type": "code",
   "execution_count": 1,
   "id": "distinct-franklin",
   "metadata": {},
   "outputs": [],
   "source": [
    "import os\n",
    "import pickle5\n",
    "import numpy as np\n",
    "import pandas as pd\n",
    "import matplotlib.pylab as plt\n",
    "\n",
    "import torch\n",
    "import pyro\n",
    "from pyro.infer import SVI, Trace_ELBO\n",
    "\n",
    "device = torch.device(\"cuda:0\")\n",
    "dtype = torch.float32\n",
    "dtype_np = np.float32"
   ]
  },
  {
   "cell_type": "markdown",
   "id": "periodic-holly",
   "metadata": {},
   "source": [
    "## Configuration"
   ]
  },
  {
   "cell_type": "code",
   "execution_count": 2,
   "id": "working-somalia",
   "metadata": {},
   "outputs": [],
   "source": [
    "# data_path = '/home/jupyter/mb-ml-data-disk/pyro-ebov-deconvolution'\n",
    "data_path = \"/home/nbarkas/disk1/deconvolution/data/load_data_python\""
   ]
  },
  {
   "cell_type": "code",
   "execution_count": 3,
   "id": "given-cache",
   "metadata": {},
   "outputs": [],
   "source": [
    "from typing import List, Dict\n",
    "from boltons.cacheutils import cachedproperty\n",
    "\n",
    "\n",
    "class EBOVDataset:\n",
    "    \n",
    "    def __init__(\n",
    "            self,\n",
    "            data_path: str,\n",
    "            dtype_np: np.dtype):\n",
    "        \n",
    "        self.dtype_np = dtype_np\n",
    "        \n",
    "        # load all data\n",
    "        self.bulk_raw_gex_gm = np.load(os.path.join(data_path, 'bulk_matrix.npy')).astype(dtype_np)\n",
    "        \n",
    "        with open(os.path.join(data_path, 'bulk_pdata.pkl'), 'rb') as f:\n",
    "            loader = pickle5.Unpickler(f)\n",
    "            self.bulk_sample_metadata_pd = loader.load()\n",
    "\n",
    "        self.sc_raw_gex_gj = np.load(os.path.join(data_path, 'sc_matrix.npy'))\n",
    "\n",
    "        with open(os.path.join(data_path, 'sc_pdata.pkl'), 'rb') as f:\n",
    "            loader = pickle5.Unpickler(f)\n",
    "            self.sc_sample_metadata_pd = loader.load()\n",
    "            \n",
    "        # shorthands\n",
    "        self.num_samples = self.bulk_raw_gex_gm.shape[-1]\n",
    "        self.num_genes = self.bulk_raw_gex_gm.shape[-2]\n",
    "        self.num_individuals = len(set(self.bulk_sample_metadata_pd['id.individual'].values))\n",
    "        \n",
    "        # index individuals\n",
    "        individual_str_list = sorted(list(set(self.bulk_sample_metadata_pd['id.individual'].values)))\n",
    "        individual_str_to_index_map = {\n",
    "            individual_str: index for index, individual_str in enumerate(individual_str_list)}\n",
    "        \n",
    "        # individual index of each sample\n",
    "        self.m_to_i = np.asarray(list(\n",
    "            map(\n",
    "                individual_str_to_index_map.get,\n",
    "                self.bulk_sample_metadata_pd['id.individual'].values)))\n",
    "        \n",
    "        # pre-process dpi times\n",
    "        self.dpi_time_m = np.clip(\n",
    "            self.bulk_sample_metadata_pd['dpi_time'].values.astype(dtype_np),\n",
    "            a_min=0., a_max=None)\n",
    "        self.dpi_time_m = self.dpi_time_m / self.dpi_time_m.max()\n",
    "\n",
    "    @cachedproperty\n",
    "    def cell_type_str_list(self) -> List[str]:\n",
    "        return sorted(list(set(self.sc_sample_metadata_pd['Subclustering_reduced'])))\n",
    "\n",
    "    @cachedproperty\n",
    "    def cell_type_str_to_index_map(self) -> Dict[str, int]:\n",
    "        return {cell_type_str: index for index, cell_type_str in enumerate(self.cell_type_str_list)}        \n",
    "\n",
    "    @cachedproperty\n",
    "    def num_cell_types(self) -> int:\n",
    "        return len(self.cell_type_str_list)\n",
    "    \n",
    "    @cachedproperty\n",
    "    def w_hat_gc(self) -> np.ndarray:\n",
    "        w_hat_gc = np.zeros((self.num_genes, self.num_cell_types))\n",
    "        for cell_type_str in self.cell_type_str_list:\n",
    "            i_cell_type = self.cell_type_str_to_index_map[cell_type_str]\n",
    "            mask_j = self.sc_sample_metadata_pd['Subclustering_reduced'].values == cell_type_str\n",
    "            w_hat_gc[:, i_cell_type] = np.sum(self.sc_raw_gex_gj[:, mask_j], axis=-1)\n",
    "            w_hat_gc[:, i_cell_type] = w_hat_gc[:, i_cell_type] / np.sum(w_hat_gc[:, i_cell_type])\n",
    "        return w_hat_gc"
   ]
  },
  {
   "cell_type": "code",
   "execution_count": 4,
   "id": "large-bridal",
   "metadata": {},
   "outputs": [],
   "source": [
    "ebov_dataset = EBOVDataset(data_path, dtype_np)"
   ]
  },
  {
   "cell_type": "code",
   "execution_count": 5,
   "id": "burning-wilderness",
   "metadata": {},
   "outputs": [],
   "source": [
    "from typing import Dict\n",
    "\n",
    "def generate_minibatch(\n",
    "        dataset: EBOVDataset,\n",
    "        minibatch_size: int,\n",
    "        device: torch.device,\n",
    "        dtype: torch.dtype,\n",
    "        return_full_batch: bool = False) -> Dict[str, torch.Tensor]:\n",
    "    \"\"\"\n",
    "    \n",
    "    TODO: balanced sampling from time\n",
    "    \n",
    "    \"\"\"\n",
    "    \n",
    "    # choose random samples\n",
    "    if return_full_batch:\n",
    "        sample_indices_n = np.arange(dataset.num_samples)\n",
    "    else:\n",
    "        sample_indices_n = np.random.randint(0, dataset.num_samples, size=minibatch_size)\n",
    "    \n",
    "    # subset data\n",
    "    x_ng = dataset.bulk_raw_gex_gm[:, sample_indices_n].T\n",
    "    t_n = dataset.dpi_time_m[sample_indices_n]\n",
    "    ind_index_n = dataset.m_to_i[sample_indices_n]\n",
    "    \n",
    "    return {\n",
    "        'x_ng': torch.tensor(x_ng, device=device, dtype=dtype),\n",
    "        't_n': torch.tensor(t_n, device=device, dtype=dtype),\n",
    "        'ind_index_n': torch.tensor(ind_index_n, device=device, dtype=torch.long),\n",
    "        'sample_index_n': torch.tensor(sample_indices_n, device=device, dtype=torch.long)\n",
    "    }"
   ]
  },
  {
   "cell_type": "code",
   "execution_count": 6,
   "id": "together-mercy",
   "metadata": {},
   "outputs": [],
   "source": [
    "from pyro.distributions.torch_distribution import TorchDistribution, TorchDistributionMixin\n",
    "from torch.distributions.utils import probs_to_logits, logits_to_probs, broadcast_all, lazy_property\n",
    "from torch.distributions import constraints\n",
    "from numbers import Number\n",
    "\n",
    "\n",
    "class NegativeBinomialAltParam(TorchDistribution):\n",
    "    r\"\"\"\n",
    "    Creates a negative binomial distribution.\n",
    "    \n",
    "    Args:\n",
    "        mu (Number, Tensor): mean (must be strictly positive)\n",
    "        phi (Number, Tensor): overdispersion (must be strictly positive)\n",
    "    \"\"\"\n",
    "    arg_constraints = {'mu': constraints.positive, 'phi': constraints.positive}\n",
    "    support = constraints.nonnegative_integer\n",
    "    EPS = 1e-6\n",
    "    \n",
    "    def __init__(self, mu, phi, validate_args=None):\n",
    "        self.mu, self.phi = broadcast_all(mu, phi)\n",
    "        if all(isinstance(_var, Number) for _var in (mu, phi)): \n",
    "            batch_shape = torch.Size()\n",
    "        else:\n",
    "            batch_shape = self.mu.size()\n",
    "        super(NegativeBinomialAltParam, self).__init__(batch_shape, validate_args=validate_args)\n",
    "        \n",
    "    def expand(self, batch_shape, _instance=None):\n",
    "        new = self._get_checked_instance(NegativeBinomialAltParam, _instance)\n",
    "        batch_shape = torch.Size(batch_shape)\n",
    "        new.mu = self.mu.expand(batch_shape)\n",
    "        new.phi = self.phi.expand(batch_shape)\n",
    "        \n",
    "        super(NegativeBinomialAltParam, new).__init__(batch_shape, validate_args=False)\n",
    "        new._validate_args = self._validate_args\n",
    "        return new\n",
    "    \n",
    "    @lazy_property\n",
    "    def _gamma(self):\n",
    "        return torch.distributions.Gamma(\n",
    "            concentration=self.phi.reciprocal(),\n",
    "            rate=(self.mu * self.phi).reciprocal())\n",
    "\n",
    "    def sample(self, sample_shape=torch.Size()):\n",
    "        with torch.no_grad():\n",
    "            return torch.poisson(self._gamma.sample(sample_shape=sample_shape))\n",
    "        \n",
    "    @property\n",
    "    def mean(self):\n",
    "        return self.mu\n",
    "    \n",
    "    @property\n",
    "    def variance(self):\n",
    "        return self.mu + self.phi * self.mu.pow(2)\n",
    "    \n",
    "    def log_prob(self, value):\n",
    "        if self._validate_args:\n",
    "            self._validate_sample(value)\n",
    "        mu, phi, value = broadcast_all(self.mu, self.phi, value)\n",
    "        alpha = (self.EPS + phi).reciprocal()\n",
    "        return ((value + alpha).lgamma() - (value + 1).lgamma() - alpha.lgamma()\n",
    "                + alpha * (alpha.log() - (alpha + mu).log())\n",
    "                + value * (mu.log() - (alpha + mu).log()))"
   ]
  },
  {
   "cell_type": "code",
   "execution_count": 7,
   "id": "alert-chamber",
   "metadata": {},
   "outputs": [],
   "source": [
    "import pyro.distributions as dist\n",
    "\n",
    "\n",
    "class PseudoTimeRegDeconvolution:\n",
    "    \"\"\"\n",
    "    \n",
    "    .. note: we use \"n\" for batch dimension, and \"m\" for sample index.\n",
    "    \n",
    "    \"\"\"\n",
    "    \n",
    "    def  __init__(\n",
    "            self,\n",
    "            dataset: EBOVDataset,\n",
    "            device: device,\n",
    "            dtype: dtype):\n",
    "        \n",
    "        self.dataset = dataset\n",
    "        self.device = device\n",
    "        self.dtype = dtype\n",
    "        \n",
    "        # hyperparameters\n",
    "        self.log_beta_prior_scale = 1.0\n",
    "        self.log_r_prior_scale = 1.0\n",
    "        self.tau_prior_scale = 1.0\n",
    "        self.log_phi_prior_loc = -5.0\n",
    "        self.log_phi_prior_scale = 1.0\n",
    "        \n",
    "        self.unnorm_cell_pop_base_prior_loc_c = np.zeros((self.dataset.num_cell_types,))\n",
    "        self.unnorm_cell_pop_base_prior_scale_c = np.ones((self.dataset.num_cell_types,))\n",
    "        \n",
    "        # first order population deformation\n",
    "        self.unnorm_cell_pop_deform_prior_loc_c = np.zeros((self.dataset.num_cell_types,))\n",
    "        self.unnorm_cell_pop_deform_prior_scale_c = np.ones((self.dataset.num_cell_types,))\n",
    "        \n",
    "        # second order population deformation\n",
    "        self.unnorm_cell_pop_deform2_prior_loc_c = np.zeros((self.dataset.num_cell_types,))\n",
    "        self.unnorm_cell_pop_deform2_prior_scale_c = np.ones((self.dataset.num_cell_types,))        \n",
    "        \n",
    "        self.unnorm_cell_pop_deform3_prior_loc_c = np.zeros((self.dataset.num_cell_types,))\n",
    "        self.unnorm_cell_pop_deform3_prior_scale_c = np.ones((self.dataset.num_cell_types,)) \n",
    "\n",
    "        self.init_posterior_global_scale_factor = 0.05\n",
    "        \n",
    "        self.log_beta_posterior_scale = 1.0 * self.init_posterior_global_scale_factor\n",
    "        self.log_r_posterior_scale = 1.0 * self.init_posterior_global_scale_factor\n",
    "        self.tau_posterior_scale = 1.0 * self.init_posterior_global_scale_factor\n",
    "        self.log_phi_posterior_loc = -5.0\n",
    "        self.log_phi_posterior_scale = 0.1 * self.init_posterior_global_scale_factor\n",
    "        \n",
    "        self.unnorm_cell_pop_base_posterior_loc_c = np.zeros((self.dataset.num_cell_types,))\n",
    "        self.unnorm_cell_pop_base_posterior_scale_c = self.init_posterior_global_scale_factor * np.ones((self.dataset.num_cell_types,))\n",
    "        \n",
    "        self.unnorm_cell_pop_deform_posterior_loc_c = np.zeros((self.dataset.num_cell_types,))\n",
    "        self.unnorm_cell_pop_deform_posterior_scale_c = self.init_posterior_global_scale_factor * np.ones((self.dataset.num_cell_types,))\n",
    "        \n",
    "        self.unnorm_cell_pop_deform2_posterior_loc_c = np.zeros((self.dataset.num_cell_types,))\n",
    "        self.unnorm_cell_pop_deform2_posterior_scale_c = self.init_posterior_global_scale_factor * np.ones((self.dataset.num_cell_types,))\n",
    "        \n",
    "        self.unnorm_cell_pop_deform3_posterior_loc_c = np.zeros((self.dataset.num_cell_types,))\n",
    "        self.unnorm_cell_pop_deform3_posterior_scale_c = self.init_posterior_global_scale_factor * np.ones((self.dataset.num_cell_types,))\n",
    "\n",
    "        # cache useful tensors\n",
    "        self.w_hat_gc = torch.tensor(self.dataset.w_hat_gc, device=device, dtype=dtype)\n",
    "        \n",
    "    def model(\n",
    "            self,\n",
    "            x_ng: torch.Tensor,\n",
    "            t_n: torch.Tensor,\n",
    "            ind_index_n: torch.Tensor,\n",
    "            sample_index_n: torch.Tensor):\n",
    "        \"\"\"\n",
    "        :param x_ng: gene expression\n",
    "        :param t_n: obseration time\n",
    "        :param ind_index_n: index of the individual\n",
    "        :param sample_index_n: index of the sample in the dataset\n",
    "        \"\"\"\n",
    "        \n",
    "        minibatch_size = x_ng.shape[0]\n",
    "        \n",
    "        # sample log_phi_g\n",
    "        log_phi_g = pyro.sample(\n",
    "            'log_phi_g',\n",
    "            dist.Normal(\n",
    "                loc=self.log_phi_prior_loc * torch.ones(\n",
    "                    (self.dataset.num_genes,), device=self.device, dtype=self.dtype),\n",
    "                scale=self.log_phi_prior_scale * torch.ones(\n",
    "                    (self.dataset.num_genes,), device=self.device, dtype=self.dtype)).to_event(1))\n",
    "        \n",
    "        # sample log_beta_g\n",
    "        log_beta_g = pyro.sample(\n",
    "            'log_beta_g',\n",
    "            dist.Normal(\n",
    "                loc=torch.zeros(\n",
    "                    (self.dataset.num_genes,), device=self.device, dtype=self.dtype),\n",
    "                scale=self.log_beta_prior_scale * torch.ones(\n",
    "                    (self.dataset.num_genes,), device=self.device, dtype=self.dtype)).to_event(1))\n",
    "        \n",
    "        # sample log_r_i\n",
    "        log_r_i = pyro.sample(\n",
    "            'log_r_i',\n",
    "            dist.Normal(\n",
    "                loc=torch.zeros(\n",
    "                    (self.dataset.num_individuals,), device=self.device, dtype=self.dtype),\n",
    "                scale=self.log_r_prior_scale * torch.ones(\n",
    "                    (self.dataset.num_individuals,), device=self.device, dtype=self.dtype)).to_event(1))\n",
    "        \n",
    "        # sample unnorm_cell_pop_base_c\n",
    "        unnorm_cell_pop_base_c = pyro.sample(\n",
    "            'unnorm_cell_pop_base_c',\n",
    "            dist.Normal(\n",
    "                loc=torch.tensor(\n",
    "                    self.unnorm_cell_pop_base_prior_loc_c,\n",
    "                    device=self.device, dtype=self.dtype),\n",
    "                scale=torch.tensor(\n",
    "                    self.unnorm_cell_pop_base_prior_scale_c,\n",
    "                    device=self.device, dtype=self.dtype)).to_event(1))\n",
    "        \n",
    "        # sample unnorm_cell_pop_base_c\n",
    "        unnorm_cell_pop_deform_c = pyro.sample(\n",
    "            'unnorm_cell_pop_deform_c',\n",
    "            dist.Normal(\n",
    "                loc=torch.tensor(\n",
    "                    self.unnorm_cell_pop_deform_prior_loc_c,\n",
    "                    device=self.device, dtype=self.dtype),\n",
    "                scale=torch.tensor(\n",
    "                    self.unnorm_cell_pop_deform_prior_scale_c,\n",
    "                    device=self.device, dtype=self.dtype)).to_event(1))\n",
    "        \n",
    "        # sample unnorm_cell_pop_base_c\n",
    "        unnorm_cell_pop_deform2_c = pyro.sample(\n",
    "            'unnorm_cell_pop_deform2_c',\n",
    "            dist.Normal(\n",
    "                loc=torch.tensor(\n",
    "                    self.unnorm_cell_pop_deform2_prior_loc_c,\n",
    "                    device=self.device, dtype=self.dtype),\n",
    "                scale=torch.tensor(\n",
    "                    self.unnorm_cell_pop_deform2_prior_scale_c,\n",
    "                    device=self.device, dtype=self.dtype)).to_event(1))\n",
    "        \n",
    "        # sample unnorm_cell_pop_base_c\n",
    "        unnorm_cell_pop_deform3_c = pyro.sample(\n",
    "            'unnorm_cell_pop_deform3_c',\n",
    "            dist.Normal(\n",
    "                loc=torch.tensor(\n",
    "                    self.unnorm_cell_pop_deform3_prior_loc_c,\n",
    "                    device=self.device, dtype=self.dtype),\n",
    "                scale=torch.tensor(\n",
    "                    self.unnorm_cell_pop_deform3_prior_scale_c,\n",
    "                    device=self.device, dtype=self.dtype)).to_event(1))\n",
    "        \n",
    "        # calculate useful derived variables\n",
    "        beta_g = log_beta_g.exp()\n",
    "        phi_g = log_phi_g.exp()\n",
    "        \n",
    "#         ### NOTE ###\n",
    "#         phi_g = 0.01 * torch.ones((self.dataset.num_genes,), device=self.device, dtype=self.dtype)\n",
    "#         beta_g = torch.ones((self.dataset.num_genes,), device=self.device, dtype=self.dtype)\n",
    "        \n",
    "        unnorm_w_gc = self.w_hat_gc * beta_g[:, None]\n",
    "        w_gc = unnorm_w_gc / unnorm_w_gc.sum(0)\n",
    "        r_n = log_r_i[ind_index_n].exp()\n",
    "        \n",
    "        with pyro.poutine.scale(scale=self.dataset.num_samples / minibatch_size):\n",
    "            \n",
    "            with pyro.plate(\"batch\"):\n",
    "\n",
    "                # sample tau (\"actual infection\") for each sample\n",
    "                tau_mean_shift_n = t_n / r_n\n",
    "                tau_deviation_n = pyro.sample(\n",
    "                    \"tau_deviation_n\",\n",
    "                    dist.Normal(\n",
    "                        loc=torch.zeros_like(t_n),\n",
    "                        scale=self.tau_prior_scale * torch.ones_like(t_n)))\n",
    "                tau_n = tau_mean_shift_n + tau_deviation_n\n",
    "\n",
    "                # calculate cell proportion\n",
    "                cell_pop_nc = torch.nn.functional.softmax(\n",
    "                    unnorm_cell_pop_base_c + unnorm_cell_pop_deform_c * tau_n[:, None] + \n",
    "                        unnorm_cell_pop_deform2_c * (tau_n[:,None] * tau_n[:,None]) + \n",
    "                        unnorm_cell_pop_deform3_c * (tau_n[:,None] * tau_n[:,None] * tau_n[:,None]),\n",
    "                    dim=-1)\n",
    "\n",
    "                # calculate mean gene expression\n",
    "                mu_ng = x_ng.sum(-1)[:, None] * torch.matmul(cell_pop_nc, w_gc.transpose(-1, -2))\n",
    "\n",
    "                # observe gene expression\n",
    "                pyro.sample(\n",
    "                    \"x_ng\",\n",
    "                    NegativeBinomialAltParam(\n",
    "                        mu=mu_ng,\n",
    "                        phi=phi_g[None, :]).to_event(1),\n",
    "                    obs=x_ng)\n",
    "\n",
    "    def delta_guide(\n",
    "            self,\n",
    "            x_ng: torch.Tensor,\n",
    "            t_n: torch.Tensor,\n",
    "            ind_index_n: torch.Tensor,\n",
    "            sample_index_n: torch.Tensor):\n",
    "        \n",
    "        minibatch_size = x_ng.shape[0]\n",
    "        \n",
    "        # variational parameters for log_phi_g\n",
    "        log_phi_posterior_loc_g = pyro.param(\n",
    "            \"log_phi_posterior_loc_g\",\n",
    "            self.log_phi_posterior_loc * torch.ones(\n",
    "                (self.dataset.num_genes,), device=self.device, dtype=self.dtype))\n",
    "\n",
    "        # variational parameters for log_beta_g\n",
    "        log_beta_posterior_loc_g = pyro.param(\n",
    "            \"log_beta_posterior_loc_g\",\n",
    "            torch.zeros(\n",
    "                (self.dataset.num_genes,), device=self.device, dtype=self.dtype))        \n",
    "        \n",
    "        # variational parameters for log_r_i\n",
    "        log_r_posterior_loc_i = pyro.param(\n",
    "            \"log_r_posterior_loc_i\",\n",
    "            torch.zeros(\n",
    "                (self.dataset.num_individuals,), device=self.device, dtype=self.dtype))\n",
    "        \n",
    "        # variational parameters for unnorm_cell_pop_base_c (\"B_c\")\n",
    "        unnorm_cell_pop_base_posterior_loc_c = pyro.param(\n",
    "            \"unnorm_cell_pop_base_posterior_loc_c\",\n",
    "            torch.tensor(\n",
    "                self.unnorm_cell_pop_base_posterior_loc_c,\n",
    "                device=self.device, dtype=self.dtype))\n",
    "        \n",
    "        # variational parameters for unnorm_cell_pop_deform_c (\"R_c\")\n",
    "        unnorm_cell_pop_deform_posterior_loc_c = pyro.param(\n",
    "            \"unnorm_cell_pop_deform_posterior_loc_c\",\n",
    "            torch.tensor(\n",
    "                self.unnorm_cell_pop_deform_posterior_loc_c,\n",
    "                device=self.device, dtype=self.dtype))\n",
    "        \n",
    "        # variational parameters for unnorm_cell_pop_deform_c (\"R_c\")\n",
    "        unnorm_cell_pop_deform2_posterior_loc_c = pyro.param(\n",
    "            \"unnorm_cell_pop_deform2_posterior_loc_c\",\n",
    "            torch.tensor(\n",
    "                self.unnorm_cell_pop_deform2_posterior_loc_c,\n",
    "                device=self.device, dtype=self.dtype))\n",
    "        \n",
    "        # variational parameters for unnorm_cell_pop_deform_c (\"R_c\")\n",
    "        unnorm_cell_pop_deform3_posterior_loc_c = pyro.param(\n",
    "            \"unnorm_cell_pop_deform3_posterior_loc_c\",\n",
    "            torch.tensor(\n",
    "                self.unnorm_cell_pop_deform3_posterior_loc_c,\n",
    "                device=self.device, dtype=self.dtype))\n",
    "        \n",
    "        # variational parameters for tau_deviation_m\n",
    "        tau_deviation_posterior_loc_m = pyro.param(\n",
    "            \"tau_deviation_posterior_loc_m\",\n",
    "            torch.zeros(\n",
    "                (self.dataset.num_samples,),\n",
    "                device=self.device, dtype=self.dtype))\n",
    "        \n",
    "        # posterior sample statements\n",
    "        log_phi_g = pyro.sample(\n",
    "            \"log_phi_g\",\n",
    "            dist.Delta(\n",
    "                v=log_phi_posterior_loc_g).to_event(1))\n",
    "\n",
    "        log_beta_g = pyro.sample(\n",
    "            \"log_beta_g\",\n",
    "            dist.Delta(\n",
    "                v=log_beta_posterior_loc_g).to_event(1))\n",
    "\n",
    "        log_r_i = pyro.sample(\n",
    "            \"log_r_i\",\n",
    "            dist.Delta(\n",
    "                v=log_r_posterior_loc_i).to_event(1))\n",
    "\n",
    "        unnorm_cell_pop_base_c = pyro.sample(\n",
    "            'unnorm_cell_pop_base_c',\n",
    "            dist.Delta(\n",
    "                v=unnorm_cell_pop_base_posterior_loc_c).to_event(1))\n",
    "        \n",
    "        unnorm_cell_pop_deform_c = pyro.sample(\n",
    "            'unnorm_cell_pop_deform_c',\n",
    "            dist.Delta(\n",
    "                v=unnorm_cell_pop_deform_posterior_loc_c).to_event(1))\n",
    "        \n",
    "        unnorm_cell_pop_deform2_c = pyro.sample(\n",
    "            'unnorm_cell_pop_deform2_c',\n",
    "            dist.Delta(\n",
    "                v=unnorm_cell_pop_deform2_posterior_loc_c).to_event(1))\n",
    "        \n",
    "        unnorm_cell_pop_deform3_c = pyro.sample(\n",
    "            'unnorm_cell_pop_deform3_c',\n",
    "            dist.Delta(\n",
    "                v=unnorm_cell_pop_deform3_posterior_loc_c).to_event(1))\n",
    "        \n",
    "        with pyro.poutine.scale(scale=self.dataset.num_samples / minibatch_size):\n",
    "\n",
    "            with pyro.plate(\"batch\"):\n",
    "            \n",
    "                tau_deviation_n = pyro.sample(\n",
    "                    \"tau_deviation_n\",\n",
    "                    dist.Delta(\n",
    "                        v=tau_deviation_posterior_loc_m[sample_index_n]))\n",
    "    "
   ]
  },
  {
   "cell_type": "code",
   "execution_count": 8,
   "id": "literary-siemens",
   "metadata": {},
   "outputs": [],
   "source": [
    "pseudo_time_reg_deconv = PseudoTimeRegDeconvolution(\n",
    "    dataset=ebov_dataset,\n",
    "    device=device,\n",
    "    dtype=dtype)\n",
    "\n",
    "pyro.clear_param_store()"
   ]
  },
  {
   "cell_type": "code",
   "execution_count": 9,
   "id": "beautiful-crossing",
   "metadata": {},
   "outputs": [],
   "source": [
    "# minibatch_dict = generate_minibatch(ebov_dataset, 10, device, dtype)\n",
    "\n",
    "# pseudo_time_reg_deconv.model(\n",
    "#     x_ng=minibatch_dict['x_ng'],\n",
    "#     t_n=minibatch_dict['t_n'],\n",
    "#     ind_index_n=minibatch_dict['ind_index_n'],\n",
    "#     sample_index_n=minibatch_dict['sample_indices_n'])\n",
    "\n",
    "# pseudo_time_reg_deconv.guide(\n",
    "#     x_ng=minibatch_dict['x_ng'],\n",
    "#     t_n=minibatch_dict['t_n'],\n",
    "#     ind_index_n=minibatch_dict['ind_index_n'],\n",
    "#     sample_index_n=minibatch_dict['sample_indices_n'])"
   ]
  },
  {
   "cell_type": "code",
   "execution_count": 10,
   "id": "guided-vocabulary",
   "metadata": {},
   "outputs": [],
   "source": [
    "n_iters = 10_000\n",
    "minibatch_size = 50\n",
    "log_frequency = 100"
   ]
  },
  {
   "cell_type": "code",
   "execution_count": 11,
   "id": "breeding-fitness",
   "metadata": {},
   "outputs": [],
   "source": [
    "# optimizer\n",
    "optim = pyro.optim.Adam(\n",
    "    {'lr': 5e-3})\n",
    "\n",
    "loss_hist = []"
   ]
  },
  {
   "cell_type": "code",
   "execution_count": 12,
   "id": "precious-somewhere",
   "metadata": {},
   "outputs": [],
   "source": [
    "# SVI objective\n",
    "svi = SVI(\n",
    "    model=pseudo_time_reg_deconv.model,\n",
    "    guide=pseudo_time_reg_deconv.delta_guide,\n",
    "    optim=optim,\n",
    "    loss=Trace_ELBO())"
   ]
  },
  {
   "cell_type": "code",
   "execution_count": 13,
   "id": "concerned-occasion",
   "metadata": {},
   "outputs": [
    {
     "name": "stdout",
     "output_type": "stream",
     "text": [
      "0   loss: 94785434.26558876\n",
      "100   loss: 44138635.03693867\n",
      "200   loss: 25750107.269216537\n",
      "300   loss: 16951044.19209194\n",
      "400   loss: 12285838.386626244\n",
      "500   loss: 9703012.412078857\n",
      "600   loss: 8200495.815188408\n",
      "700   loss: 7272347.974740982\n",
      "800   loss: 6663578.350703239\n",
      "900   loss: 6243062.381937027\n",
      "1000   loss: 5940104.676596642\n",
      "1100   loss: 5714362.226807594\n",
      "1200   loss: 5541483.794658661\n",
      "1300   loss: 5406102.518902779\n",
      "1400   loss: 5298057.229470253\n",
      "1500   loss: 5210439.960309982\n",
      "1600   loss: 5138401.2139081955\n",
      "1700   loss: 5078457.235456467\n",
      "1800   loss: 5028049.015282631\n",
      "1900   loss: 4985266.607310295\n",
      "2000   loss: 4948651.529695511\n",
      "2100   loss: 4917084.549753189\n",
      "2200   loss: 4889681.915072441\n",
      "2300   loss: 4865754.2127017975\n",
      "2400   loss: 4844745.123419762\n",
      "2500   loss: 4826209.94890213\n",
      "2600   loss: 4809784.522058487\n",
      "2700   loss: 4795162.013549805\n",
      "2800   loss: 4782103.451226234\n",
      "2900   loss: 4770391.743783951\n",
      "3000   loss: 4759855.878350258\n",
      "3100   loss: 4750354.943626404\n",
      "3200   loss: 4741764.94422245\n",
      "3300   loss: 4733971.8555316925\n",
      "3400   loss: 4726889.91486454\n",
      "3500   loss: 4720436.918077469\n",
      "3600   loss: 4714549.928517342\n",
      "3700   loss: 4709172.849449158\n",
      "3800   loss: 4704245.86529541\n",
      "3900   loss: 4699730.162279129\n",
      "4000   loss: 4695582.852168083\n",
      "4100   loss: 4691767.616862297\n",
      "4200   loss: 4688259.221920013\n",
      "4300   loss: 4685031.434459686\n",
      "4400   loss: 4682057.728189468\n",
      "4500   loss: 4679315.39689064\n",
      "4600   loss: 4676789.665896416\n",
      "4700   loss: 4674456.319123268\n",
      "4800   loss: 4672304.458809853\n",
      "4900   loss: 4670319.69099617\n",
      "5000   loss: 4668485.4071006775\n",
      "5100   loss: 4666790.690234184\n",
      "5200   loss: 4665219.637509346\n",
      "5300   loss: 4663765.111841202\n",
      "5400   loss: 4662418.769412994\n",
      "5500   loss: 4661167.731496811\n",
      "5600   loss: 4660005.972855568\n",
      "5700   loss: 4658928.943116188\n",
      "5800   loss: 4657928.920044899\n",
      "5900   loss: 4656996.530948639\n",
      "6000   loss: 4656122.055599213\n",
      "6100   loss: 4655305.365677834\n",
      "6200   loss: 4654538.862060547\n",
      "6300   loss: 4653821.533538818\n",
      "6400   loss: 4653142.833859444\n",
      "6500   loss: 4652502.321965218\n",
      "6600   loss: 4651894.066712379\n",
      "6700   loss: 4651320.597442627\n",
      "6800   loss: 4650773.855604172\n",
      "6900   loss: 4650254.055559158\n",
      "7000   loss: 4649751.017107964\n",
      "7100   loss: 4649273.032430649\n",
      "7200   loss: 4648810.320274353\n",
      "7300   loss: 4648366.773763657\n",
      "7400   loss: 4647936.239232063\n",
      "7500   loss: 4647517.40815258\n",
      "7600   loss: 4647109.87871933\n",
      "7700   loss: 4646705.9631175995\n",
      "7800   loss: 4646318.576444626\n",
      "7900   loss: 4645945.444982529\n",
      "8000   loss: 4645586.127723694\n",
      "8100   loss: 4645235.366353989\n",
      "8200   loss: 4644902.040557861\n",
      "8300   loss: 4644575.6052007675\n",
      "8400   loss: 4644258.854939461\n",
      "8500   loss: 4643952.273230553\n",
      "8600   loss: 4643656.390874863\n",
      "8700   loss: 4643350.022476196\n",
      "8800   loss: 4643053.310340881\n",
      "8900   loss: 4642762.253868103\n",
      "9000   loss: 4642468.514424324\n",
      "9100   loss: 4642165.265455246\n",
      "9200   loss: 4641857.643815994\n",
      "9300   loss: 4641542.373855591\n",
      "9400   loss: 4641239.335963249\n",
      "9500   loss: 4640938.81308651\n",
      "9600   loss: 4640635.6165857315\n",
      "9700   loss: 4640329.80123806\n",
      "9800   loss: 4640014.534233093\n",
      "9900   loss: 4639664.067862511\n"
     ]
    }
   ],
   "source": [
    "for i_iter in range(n_iters):\n",
    "    \n",
    "    minibatch_dict = generate_minibatch(\n",
    "        ebov_dataset, minibatch_size, device, dtype,\n",
    "        return_full_batch=True)\n",
    "    loss = svi.step(**minibatch_dict)\n",
    "    \n",
    "    loss_hist.append(loss)\n",
    "    \n",
    "    if i_iter % log_frequency == 0:\n",
    "        print(f\"{i_iter}   loss: {loss_hist[-1]}\")"
   ]
  },
  {
   "cell_type": "code",
   "execution_count": 14,
   "id": "chinese-lebanon",
   "metadata": {},
   "outputs": [
    {
     "data": {
      "text/plain": [
       "[<matplotlib.lines.Line2D at 0x7fc00ed3ed10>]"
      ]
     },
     "execution_count": 14,
     "metadata": {},
     "output_type": "execute_result"
    },
    {
     "data": {
      "image/png": "[encoded data removed]",
      "text/plain": [
       "<Figure size 432x288 with 1 Axes>"
      ]
     },
     "metadata": {
      "needs_background": "light"
     },
     "output_type": "display_data"
    }
   ],
   "source": [
    "plt.plot(loss_hist)"
   ]
  },
  {
   "cell_type": "code",
   "execution_count": 15,
   "id": "dressed-preparation",
   "metadata": {},
   "outputs": [
    {
     "data": {
      "text/plain": [
       "dict_keys(['log_phi_posterior_loc_g', 'log_beta_posterior_loc_g', 'log_r_posterior_loc_i', 'unnorm_cell_pop_base_posterior_loc_c', 'unnorm_cell_pop_deform_posterior_loc_c', 'unnorm_cell_pop_deform2_posterior_loc_c', 'unnorm_cell_pop_deform3_posterior_loc_c', 'tau_deviation_posterior_loc_m'])"
      ]
     },
     "execution_count": 15,
     "metadata": {},
     "output_type": "execute_result"
    }
   ],
   "source": [
    "pyro.get_param_store().keys()"
   ]
  },
  {
   "cell_type": "code",
   "execution_count": 16,
   "id": "affecting-payment",
   "metadata": {},
   "outputs": [
    {
     "data": {
      "image/png": "[encoded data removed]",
      "text/plain": [
       "<Figure size 432x288 with 1 Axes>"
      ]
     },
     "metadata": {
      "needs_background": "light"
     },
     "output_type": "display_data"
    }
   ],
   "source": [
    "# Histogram of the posterior estimates of the gene dispersion (phi)\n",
    "plt.hist(pyro.param('log_phi_posterior_loc_g').detach().cpu().numpy(), bins=50);"
   ]
  },
  {
   "cell_type": "code",
   "execution_count": 17,
   "id": "amended-wales",
   "metadata": {},
   "outputs": [
    {
     "data": {
      "image/png": "[encoded data removed]",
      "text/plain": [
       "<Figure size 432x288 with 1 Axes>"
      ]
     },
     "metadata": {
      "needs_background": "light"
     },
     "output_type": "display_data"
    }
   ],
   "source": [
    "# Histogram of the posterior estimates of the gene betas (scaling coefficients of genes)\n",
    "plt.hist(pyro.param('log_beta_posterior_loc_g').detach().cpu().numpy(), bins=50);"
   ]
  },
  {
   "cell_type": "code",
   "execution_count": 18,
   "id": "vocal-preference",
   "metadata": {},
   "outputs": [
    {
     "data": {
      "image/png": "[encoded data removed]",
      "text/plain": [
       "<Figure size 432x288 with 1 Axes>"
      ]
     },
     "metadata": {
      "needs_background": "light"
     },
     "output_type": "display_data"
    }
   ],
   "source": [
    "# Plot the celltype base composition\n",
    "\n",
    "fig = plt.figure()\n",
    "ax = plt.gca()\n",
    "\n",
    "ax.bar(\n",
    "    np.arange(ebov_dataset.num_cell_types),\n",
    "    torch.nn.functional.softmax(pyro.param(\"unnorm_cell_pop_base_posterior_loc_c\"), dim=0).detach().cpu().numpy())\n",
    "\n",
    "ax.set_title('Base cell population')\n",
    "ax.set_xticks(np.arange(ebov_dataset.num_cell_types))\n",
    "ax.set_xticklabels(ebov_dataset.cell_type_str_list, rotation=90);"
   ]
  },
  {
   "cell_type": "code",
   "execution_count": 19,
   "id": "distinct-cricket",
   "metadata": {},
   "outputs": [
    {
     "data": {
      "image/png": "[encoded data removed]",
      "text/plain": [
       "<Figure size 432x288 with 1 Axes>"
      ]
     },
     "metadata": {
      "needs_background": "light"
     },
     "output_type": "display_data"
    }
   ],
   "source": [
    "# Plot the deltas of the celltype composition\n",
    "\n",
    "fig = plt.figure()\n",
    "ax = plt.gca()\n",
    "\n",
    "ax.bar(\n",
    "    np.arange(ebov_dataset.num_cell_types),\n",
    "    pyro.param(\"unnorm_cell_pop_deform_posterior_loc_c\").detach().cpu().numpy())\n",
    "\n",
    "ax.set_xticks(np.arange(ebov_dataset.num_cell_types))\n",
    "ax.set_xticklabels(ebov_dataset.cell_type_str_list, rotation=90);"
   ]
  },
  {
   "cell_type": "code",
   "execution_count": 20,
   "id": "injured-plumbing",
   "metadata": {},
   "outputs": [
    {
     "data": {
      "image/png": "[encoded data removed]",
      "text/plain": [
       "<Figure size 432x288 with 1 Axes>"
      ]
     },
     "metadata": {
      "needs_background": "light"
     },
     "output_type": "display_data"
    }
   ],
   "source": [
    "# celltype composition at time 0.1\n",
    "time = 0.1\n",
    "\n",
    "base_composition_post = pyro.param(\"unnorm_cell_pop_base_posterior_loc_c\").detach().cpu()\n",
    "delta_composition_post = pyro.param(\"unnorm_cell_pop_deform_posterior_loc_c\").detach().cpu()\n",
    "delta2_composition_post = pyro.param(\"unnorm_cell_pop_deform2_posterior_loc_c\").detach().cpu()\n",
    "delta3_composition_post = pyro.param(\"unnorm_cell_pop_deform3_posterior_loc_c\").detach().cpu()\n",
    "    \n",
    "norm_comp_t = torch.nn.functional.softmax(base_composition_post + \n",
    "                                          time * delta_composition_post + \n",
    "                                          time**2 * delta2_composition_post +\n",
    "                                          time**3 * delta3_composition_post, dim=0).numpy()\n",
    "\n",
    "fig = plt.figure()\n",
    "ax = plt.gca()\n",
    "\n",
    "ax.bar(\n",
    "    np.arange(ebov_dataset.num_cell_types),\n",
    "    norm_comp_t\n",
    ")\n",
    "\n",
    "ax.set_title(f'Cell population proportions at time {time}')\n",
    "ax.set_xticks(np.arange(ebov_dataset.num_cell_types))\n",
    "ax.set_xticklabels(ebov_dataset.cell_type_str_list, rotation=90);"
   ]
  },
  {
   "cell_type": "code",
   "execution_count": 21,
   "id": "solid-adolescent",
   "metadata": {},
   "outputs": [
    {
     "data": {
      "text/plain": [
       "torch.Size([10, 1])"
      ]
     },
     "execution_count": 21,
     "metadata": {},
     "output_type": "execute_result"
    }
   ],
   "source": [
    "times = torch.arange(0,1,0.1)\n",
    "times.unsqueeze(1).shape"
   ]
  },
  {
   "cell_type": "code",
   "execution_count": 22,
   "id": "invisible-summer",
   "metadata": {},
   "outputs": [
    {
     "data": {
      "text/plain": [
       "torch.Size([9])"
      ]
     },
     "execution_count": 22,
     "metadata": {},
     "output_type": "execute_result"
    }
   ],
   "source": [
    "delta_composition_post\n",
    "delta_composition_post.shape"
   ]
  },
  {
   "cell_type": "code",
   "execution_count": 23,
   "id": "retained-rental",
   "metadata": {},
   "outputs": [
    {
     "data": {
      "text/plain": [
       "tensor([0.0000, 0.0100, 0.0400, 0.0900, 0.1600, 0.2500, 0.3600, 0.4900, 0.6400,\n",
       "        0.8100])"
      ]
     },
     "execution_count": 23,
     "metadata": {},
     "output_type": "execute_result"
    }
   ],
   "source": [
    "times*times"
   ]
  },
  {
   "cell_type": "code",
   "execution_count": 24,
   "id": "cheap-baseline",
   "metadata": {},
   "outputs": [],
   "source": [
    "composition_deltas = times.unsqueeze(1) @ delta_composition_post.unsqueeze(0) + \\\n",
    "    (times * times).unsqueeze(1) @ delta2_composition_post.unsqueeze(0) + \\\n",
    "    (times * times * times).unsqueeze(1) @ delta3_composition_post.unsqueeze(0)"
   ]
  },
  {
   "cell_type": "code",
   "execution_count": 25,
   "id": "closed-howard",
   "metadata": {},
   "outputs": [],
   "source": [
    "composition_over_time = torch.nn.functional.softmax(base_composition_post.expand(10,9) + composition_deltas, dim=1)"
   ]
  },
  {
   "cell_type": "code",
   "execution_count": 26,
   "id": "senior-angola",
   "metadata": {},
   "outputs": [
    {
     "data": {
      "text/plain": [
       "tensor([[0.2882, 0.0090, 0.0808, 0.1149, 0.0651, 0.1165, 0.2411, 0.0553, 0.0291],\n",
       "        [0.2895, 0.0080, 0.0805, 0.1164, 0.0663, 0.1127, 0.2407, 0.0567, 0.0291],\n",
       "        [0.2812, 0.0070, 0.0810, 0.1198, 0.0677, 0.1116, 0.2453, 0.0578, 0.0288],\n",
       "        [0.2652, 0.0058, 0.0821, 0.1254, 0.0689, 0.1123, 0.2536, 0.0585, 0.0282],\n",
       "        [0.2437, 0.0047, 0.0834, 0.1338, 0.0698, 0.1143, 0.2640, 0.0588, 0.0275],\n",
       "        [0.2192, 0.0036, 0.0843, 0.1457, 0.0702, 0.1169, 0.2749, 0.0588, 0.0266],\n",
       "        [0.1935, 0.0026, 0.0845, 0.1620, 0.0697, 0.1194, 0.2842, 0.0585, 0.0255],\n",
       "        [0.1685, 0.0018, 0.0835, 0.1844, 0.0682, 0.1211, 0.2899, 0.0580, 0.0244],\n",
       "        [0.1452, 0.0012, 0.0811, 0.2152, 0.0656, 0.1213, 0.2897, 0.0574, 0.0233],\n",
       "        [0.1243, 0.0007, 0.0768, 0.2574, 0.0617, 0.1191, 0.2813, 0.0565, 0.0222]])"
      ]
     },
     "execution_count": 26,
     "metadata": {},
     "output_type": "execute_result"
    }
   ],
   "source": [
    "composition_over_time"
   ]
  },
  {
   "cell_type": "code",
   "execution_count": 27,
   "id": "disabled-portal",
   "metadata": {},
   "outputs": [
    {
     "data": {
      "text/plain": [
       "tensor([0.2882, 0.2895, 0.2812, 0.2652, 0.2437, 0.2192, 0.1935, 0.1685, 0.1452,\n",
       "        0.1243])"
      ]
     },
     "execution_count": 27,
     "metadata": {},
     "output_type": "execute_result"
    }
   ],
   "source": [
    "composition_over_time[:,0]"
   ]
  },
  {
   "cell_type": "code",
   "execution_count": 28,
   "id": "unexpected-adams",
   "metadata": {},
   "outputs": [
    {
     "data": {
      "text/plain": [
       "[<matplotlib.lines.Line2D at 0x7fc00fe22ed0>]"
      ]
     },
     "execution_count": 28,
     "metadata": {},
     "output_type": "execute_result"
    },
    {
     "data": {
      "image/png": "[encoded data removed]",
      "text/plain": [
       "<Figure size 432x288 with 1 Axes>"
      ]
     },
     "metadata": {
      "needs_background": "light"
     },
     "output_type": "display_data"
    }
   ],
   "source": [
    "fig = plt.figure()\n",
    "ax = plt.gca()\n",
    "\n",
    "ax.plot(times.numpy(), composition_over_time[:,0])"
   ]
  },
  {
   "cell_type": "code",
   "execution_count": 29,
   "id": "frozen-stake",
   "metadata": {},
   "outputs": [
    {
     "data": {
      "text/plain": [
       "<matplotlib.legend.Legend at 0x7fc00ea1cd50>"
      ]
     },
     "execution_count": 29,
     "metadata": {},
     "output_type": "execute_result"
    },
    {
     "data": {
      "image/png": "[encoded data removed]",
      "text/plain": [
       "<Figure size 432x288 with 1 Axes>"
      ]
     },
     "metadata": {
      "needs_background": "light"
     },
     "output_type": "display_data"
    }
   ],
   "source": [
    "fig = plt.figure()\n",
    "ax = plt.gca()\n",
    "\n",
    "ax.plot(times.numpy(), composition_over_time)\n",
    "\n",
    "ax.set_title(\"Predicted cell proportions\")\n",
    "ax.set_xlabel(\"Pseudotime\")\n",
    "ax.legend(ebov_dataset.cell_type_str_list,loc='best',fontsize='small')"
   ]
  },
  {
   "cell_type": "code",
   "execution_count": null,
   "id": "confident-monroe",
   "metadata": {},
   "outputs": [],
   "source": []
  },
  {
   "cell_type": "code",
   "execution_count": null,
   "id": "biblical-examination",
   "metadata": {},
   "outputs": [],
   "source": []
  },
  {
   "cell_type": "code",
   "execution_count": null,
   "id": "valued-theme",
   "metadata": {},
   "outputs": [],
   "source": []
  },
  {
   "cell_type": "code",
   "execution_count": 30,
   "id": "laughing-peter",
   "metadata": {},
   "outputs": [
    {
     "data": {
      "text/plain": [
       "dict_keys(['log_phi_posterior_loc_g', 'log_beta_posterior_loc_g', 'log_r_posterior_loc_i', 'unnorm_cell_pop_base_posterior_loc_c', 'unnorm_cell_pop_deform_posterior_loc_c', 'unnorm_cell_pop_deform2_posterior_loc_c', 'unnorm_cell_pop_deform3_posterior_loc_c', 'tau_deviation_posterior_loc_m'])"
      ]
     },
     "execution_count": 30,
     "metadata": {},
     "output_type": "execute_result"
    }
   ],
   "source": [
    "pyro.get_param_store().keys()"
   ]
  },
  {
   "cell_type": "code",
   "execution_count": 31,
   "id": "complete-booking",
   "metadata": {},
   "outputs": [
    {
     "data": {
      "text/plain": [
       "tensor([0.4792, 0.5509, 0.5980, 0.5029, 0.9769, 0.5025, 0.5427, 0.6925, 0.6263,\n",
       "        1.0000, 0.6253, 1.0193, 0.5480, 0.8766, 0.9193, 0.6076, 0.8738, 1.0000,\n",
       "        0.5238, 0.5225, 1.0000], device='cuda:0', grad_fn=<ExpBackward>)"
      ]
     },
     "execution_count": 31,
     "metadata": {},
     "output_type": "execute_result"
    }
   ],
   "source": [
    "# These are the per individual infection rates\n",
    "pyro.param('log_r_posterior_loc_i').exp()"
   ]
  },
  {
   "cell_type": "code",
   "execution_count": 32,
   "id": "behind-story",
   "metadata": {},
   "outputs": [
    {
     "data": {
      "text/plain": [
       "<matplotlib.collections.PathCollection at 0x7fc00e95b650>"
      ]
     },
     "execution_count": 32,
     "metadata": {},
     "output_type": "execute_result"
    },
    {
     "data": {
      "image/png": "[encoded data removed]",
      "text/plain": [
       "<Figure size 432x288 with 1 Axes>"
      ]
     },
     "metadata": {
      "needs_background": "light"
     },
     "output_type": "display_data"
    }
   ],
   "source": [
    "plt.scatter(\n",
    "    ebov_dataset.m_to_i,\n",
    "    ebov_dataset.dpi_time_m)"
   ]
  }
 ],
 "metadata": {
  "environment": {
   "name": "pytorch-gpu.1-7.m65",
   "type": "gcloud",
   "uri": "gcr.io/deeplearning-platform-release/pytorch-gpu.1-7:m65"
  },
  "kernelspec": {
   "display_name": "Python 3",
   "language": "python",
   "name": "python3"
  },
  "language_info": {
   "codemirror_mode": {
    "name": "ipython",
    "version": 3
   },
   "file_extension": ".py",
   "mimetype": "text/x-python",
   "name": "python",
   "nbconvert_exporter": "python",
   "pygments_lexer": "ipython3",
   "version": "3.7.10"
  }
 },
 "nbformat": 4,
 "nbformat_minor": 5
}
