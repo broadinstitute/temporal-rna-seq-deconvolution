{
 "cells": [
  {
   "cell_type": "markdown",
   "id": "racial-seafood",
   "metadata": {},
   "source": [
    "# Working Notebook"
   ]
  },
  {
   "cell_type": "code",
   "execution_count": 1,
   "id": "sublime-adapter",
   "metadata": {},
   "outputs": [],
   "source": [
    "import torch\n",
    "from time_deconv.time_deconv_simulator import *\n",
    "from time_deconv.time_deconv import *\n",
    "from time_deconv.hypercluster import *"
   ]
  },
  {
   "cell_type": "markdown",
   "id": "lined-oregon",
   "metadata": {},
   "source": [
    "# Configure"
   ]
  },
  {
   "cell_type": "code",
   "execution_count": 2,
   "id": "mobile-waste",
   "metadata": {},
   "outputs": [],
   "source": [
    "device = torch.device(\"cuda:0\")\n",
    "dtype = torch.float32\n",
    "dtype_np = np.float32\n",
    "\n",
    "n_iters = 5000"
   ]
  },
  {
   "cell_type": "markdown",
   "id": "after-words",
   "metadata": {},
   "source": [
    "# Load data"
   ]
  },
  {
   "cell_type": "code",
   "execution_count": 3,
   "id": "historic-integer",
   "metadata": {},
   "outputs": [],
   "source": [
    "bulk_anndata_path = \"/home/nbarkas/disk2/deconvolution_method/datasets/ebov/load_data_python/ebov_bulk.h5ad\"\n",
    "sc_anndata_path = \"/home/nbarkas/disk2/deconvolution_method/datasets/ebov/load_data_python/ebov_sc.h5ad\""
   ]
  },
  {
   "cell_type": "code",
   "execution_count": 4,
   "id": "distant-desktop",
   "metadata": {},
   "outputs": [],
   "source": [
    "with open(bulk_anndata_path, 'rb') as fh:\n",
    "    bulk_anndata  = anndata.read_h5ad(fh)\n"
   ]
  },
  {
   "cell_type": "code",
   "execution_count": 5,
   "id": "dried-adobe",
   "metadata": {},
   "outputs": [],
   "source": [
    "with open(sc_anndata_path, 'rb') as fh:\n",
    "    sc_anndata = anndata.read_h5ad(fh)"
   ]
  },
  {
   "cell_type": "code",
   "execution_count": 6,
   "id": "rising-anniversary",
   "metadata": {},
   "outputs": [],
   "source": [
    "# select samples only after or on tp 0\n",
    "bulk_anndata = bulk_anndata[bulk_anndata.obs['dpi_time'] >= 0,]"
   ]
  },
  {
   "cell_type": "code",
   "execution_count": 7,
   "id": "binary-arbor",
   "metadata": {},
   "outputs": [
    {
     "name": "stderr",
     "output_type": "stream",
     "text": [
      "/opt/conda/lib/python3.7/site-packages/sklearn/linear_model/_ridge.py:157: LinAlgWarning: Ill-conditioned matrix (rcond=3.1044e-10): result may not be accurate.\n",
      "  return linalg.solve(A, Xy, sym_pos=True, overwrite_a=True).T\n"
     ]
    }
   ],
   "source": [
    "ebov_dataset = DeconvolutionDataset(\n",
    "    sc_anndata = sc_anndata,\n",
    "    sc_celltype_col = \"Subclustering_reduced\",\n",
    "    bulk_anndata = bulk_anndata,\n",
    "    bulk_time_col = \"dpi_time\",\n",
    "    dtype_np = dtype_np,\n",
    "    dtype = dtype,\n",
    "    device=device,\n",
    "    feature_selection_method = 'overdispersed_bulk_and_high_sc' #'overdispersed_bulk'\n",
    ")"
   ]
  },
  {
   "cell_type": "markdown",
   "id": "satisfactory-ribbon",
   "metadata": {},
   "source": [
    "## Hyper clustering"
   ]
  },
  {
   "cell_type": "code",
   "execution_count": 8,
   "id": "temporal-roommate",
   "metadata": {},
   "outputs": [
    {
     "name": "stdout",
     "output_type": "stream",
     "text": [
      "Reclustering B...\n",
      "\t3 subclusters identified\n",
      "Reclustering Th...\n",
      "\t35 subclusters identified\n",
      "Reclustering Mono...\n",
      "\t6 subclusters identified\n",
      "Reclustering Tc...\n",
      "\t67 subclusters identified\n",
      "Reclustering NK...\n",
      "\t84 subclusters identified\n",
      "Reclustering Neut...\n",
      "\t7 subclusters identified\n",
      "Keeping pDC...\n",
      "Keeping Plasmablast...\n",
      "Keeping cDC...\n",
      "Keeping 202/202 clusters\n"
     ]
    }
   ],
   "source": [
    "hypercluster_results = hypercluster_anndata(\n",
    "    sc_anndata, \n",
    "    'Subclustering_reduced', \n",
    "    min_new_cluster_size=0, \n",
    "    min_cells_recluster=1000,\n",
    "    return_anndata = True,\n",
    "    subcluster_resolution = 1e-10, \n",
    "    type='louvain',\n",
    "    do_preproc = True,\n",
    "    verbose = True,\n",
    ")"
   ]
  },
  {
   "cell_type": "code",
   "execution_count": 9,
   "id": "intermediate-teacher",
   "metadata": {},
   "outputs": [
    {
     "data": {
      "text/plain": [
       "dict_keys(['cluster_map', 'new_clusters', 'ann_data_working'])"
      ]
     },
     "execution_count": 9,
     "metadata": {},
     "output_type": "execute_result"
    }
   ],
   "source": [
    "hypercluster_results.keys()"
   ]
  },
  {
   "cell_type": "code",
   "execution_count": 10,
   "id": "attractive-disposition",
   "metadata": {},
   "outputs": [],
   "source": [
    "ann_data_working = hypercluster_results['ann_data_working']"
   ]
  },
  {
   "cell_type": "code",
   "execution_count": 11,
   "id": "stainless-management",
   "metadata": {},
   "outputs": [],
   "source": [
    "sc.tl.umap(ann_data_working)"
   ]
  },
  {
   "cell_type": "code",
   "execution_count": 12,
   "id": "worst-masters",
   "metadata": {},
   "outputs": [
    {
     "name": "stderr",
     "output_type": "stream",
     "text": [
      "... storing 'hypercluster' as categorical\n"
     ]
    },
    {
     "ename": "AttributeError",
     "evalue": "'Index' object has no attribute 'add_categories'",
     "output_type": "error",
     "traceback": [
      "\u001b[0;31m---------------------------------------------------------------------------\u001b[0m",
      "\u001b[0;31mAttributeError\u001b[0m                            Traceback (most recent call last)",
      "\u001b[0;32m<ipython-input-12-c6a363ef962c>\u001b[0m in \u001b[0;36m<module>\u001b[0;34m\u001b[0m\n\u001b[0;32m----> 1\u001b[0;31m \u001b[0msc\u001b[0m\u001b[0;34m.\u001b[0m\u001b[0mpl\u001b[0m\u001b[0;34m.\u001b[0m\u001b[0mumap\u001b[0m\u001b[0;34m(\u001b[0m\u001b[0mann_data_working\u001b[0m\u001b[0;34m,\u001b[0m \u001b[0mcolor\u001b[0m\u001b[0;34m=\u001b[0m\u001b[0;34m'hypercluster'\u001b[0m\u001b[0;34m)\u001b[0m\u001b[0;34m\u001b[0m\u001b[0;34m\u001b[0m\u001b[0m\n\u001b[0m",
      "\u001b[0;32m/opt/conda/lib/python3.7/site-packages/scanpy/plotting/_tools/scatterplots.py\u001b[0m in \u001b[0;36mumap\u001b[0;34m(adata, **kwargs)\u001b[0m\n\u001b[1;32m    657\u001b[0m     \u001b[0mtl\u001b[0m\u001b[0;34m.\u001b[0m\u001b[0mumap\u001b[0m\u001b[0;34m\u001b[0m\u001b[0;34m\u001b[0m\u001b[0m\n\u001b[1;32m    658\u001b[0m     \"\"\"\n\u001b[0;32m--> 659\u001b[0;31m     \u001b[0;32mreturn\u001b[0m \u001b[0membedding\u001b[0m\u001b[0;34m(\u001b[0m\u001b[0madata\u001b[0m\u001b[0;34m,\u001b[0m \u001b[0;34m'umap'\u001b[0m\u001b[0;34m,\u001b[0m \u001b[0;34m**\u001b[0m\u001b[0mkwargs\u001b[0m\u001b[0;34m)\u001b[0m\u001b[0;34m\u001b[0m\u001b[0;34m\u001b[0m\u001b[0m\n\u001b[0m\u001b[1;32m    660\u001b[0m \u001b[0;34m\u001b[0m\u001b[0m\n\u001b[1;32m    661\u001b[0m \u001b[0;34m\u001b[0m\u001b[0m\n",
      "\u001b[0;32m/opt/conda/lib/python3.7/site-packages/scanpy/plotting/_tools/scatterplots.py\u001b[0m in \u001b[0;36membedding\u001b[0;34m(adata, basis, color, gene_symbols, use_raw, sort_order, edges, edges_width, edges_color, neighbors_key, arrows, arrows_kwds, groups, components, layer, projection, scale_factor, color_map, cmap, palette, na_color, na_in_legend, size, frameon, legend_fontsize, legend_fontweight, legend_loc, legend_fontoutline, vmax, vmin, vcenter, norm, add_outline, outline_width, outline_color, ncols, hspace, wspace, title, show, save, ax, return_fig, **kwargs)\u001b[0m\n\u001b[1;32m    255\u001b[0m             \u001b[0mcolor_source_vector\u001b[0m\u001b[0;34m,\u001b[0m\u001b[0;34m\u001b[0m\u001b[0;34m\u001b[0m\u001b[0m\n\u001b[1;32m    256\u001b[0m             \u001b[0mpalette\u001b[0m\u001b[0;34m=\u001b[0m\u001b[0mpalette\u001b[0m\u001b[0;34m,\u001b[0m\u001b[0;34m\u001b[0m\u001b[0;34m\u001b[0m\u001b[0m\n\u001b[0;32m--> 257\u001b[0;31m             \u001b[0mna_color\u001b[0m\u001b[0;34m=\u001b[0m\u001b[0mna_color\u001b[0m\u001b[0;34m,\u001b[0m\u001b[0;34m\u001b[0m\u001b[0;34m\u001b[0m\u001b[0m\n\u001b[0m\u001b[1;32m    258\u001b[0m         )\n\u001b[1;32m    259\u001b[0m \u001b[0;34m\u001b[0m\u001b[0m\n",
      "\u001b[0;32m/opt/conda/lib/python3.7/site-packages/scanpy/plotting/_tools/scatterplots.py\u001b[0m in \u001b[0;36m_color_vector\u001b[0;34m(adata, values_key, values, palette, na_color)\u001b[0m\n\u001b[1;32m   1275\u001b[0m         \u001b[0;31m# Set color to 'missing color' for all missing values\u001b[0m\u001b[0;34m\u001b[0m\u001b[0;34m\u001b[0m\u001b[0;34m\u001b[0m\u001b[0m\n\u001b[1;32m   1276\u001b[0m         \u001b[0;32mif\u001b[0m \u001b[0mcolor_vector\u001b[0m\u001b[0;34m.\u001b[0m\u001b[0misna\u001b[0m\u001b[0;34m(\u001b[0m\u001b[0;34m)\u001b[0m\u001b[0;34m.\u001b[0m\u001b[0many\u001b[0m\u001b[0;34m(\u001b[0m\u001b[0;34m)\u001b[0m\u001b[0;34m:\u001b[0m\u001b[0;34m\u001b[0m\u001b[0;34m\u001b[0m\u001b[0m\n\u001b[0;32m-> 1277\u001b[0;31m             \u001b[0mcolor_vector\u001b[0m \u001b[0;34m=\u001b[0m \u001b[0mcolor_vector\u001b[0m\u001b[0;34m.\u001b[0m\u001b[0madd_categories\u001b[0m\u001b[0;34m(\u001b[0m\u001b[0;34m[\u001b[0m\u001b[0mto_hex\u001b[0m\u001b[0;34m(\u001b[0m\u001b[0mna_color\u001b[0m\u001b[0;34m)\u001b[0m\u001b[0;34m]\u001b[0m\u001b[0;34m)\u001b[0m\u001b[0;34m\u001b[0m\u001b[0;34m\u001b[0m\u001b[0m\n\u001b[0m\u001b[1;32m   1278\u001b[0m             \u001b[0mcolor_vector\u001b[0m \u001b[0;34m=\u001b[0m \u001b[0mcolor_vector\u001b[0m\u001b[0;34m.\u001b[0m\u001b[0mfillna\u001b[0m\u001b[0;34m(\u001b[0m\u001b[0mto_hex\u001b[0m\u001b[0;34m(\u001b[0m\u001b[0mna_color\u001b[0m\u001b[0;34m)\u001b[0m\u001b[0;34m)\u001b[0m\u001b[0;34m\u001b[0m\u001b[0;34m\u001b[0m\u001b[0m\n\u001b[1;32m   1279\u001b[0m         \u001b[0;32mreturn\u001b[0m \u001b[0mcolor_vector\u001b[0m\u001b[0;34m,\u001b[0m \u001b[0;32mTrue\u001b[0m\u001b[0;34m\u001b[0m\u001b[0;34m\u001b[0m\u001b[0m\n",
      "\u001b[0;31mAttributeError\u001b[0m: 'Index' object has no attribute 'add_categories'"
     ]
    },
    {
     "data": {
      "image/png": "[encoded data removed]",
      "text/plain": [
       "<Figure size 432x288 with 1 Axes>"
      ]
     },
     "metadata": {
      "needs_background": "light"
     },
     "output_type": "display_data"
    }
   ],
   "source": [
    "sc.pl.umap(ann_data_working, color='hypercluster')"
   ]
  },
  {
   "cell_type": "code",
   "execution_count": null,
   "id": "champion-cisco",
   "metadata": {},
   "outputs": [],
   "source": []
  },
  {
   "cell_type": "code",
   "execution_count": null,
   "id": "polyphonic-miracle",
   "metadata": {},
   "outputs": [],
   "source": []
  },
  {
   "cell_type": "code",
   "execution_count": null,
   "id": "viral-elizabeth",
   "metadata": {},
   "outputs": [],
   "source": []
  },
  {
   "cell_type": "code",
   "execution_count": null,
   "id": "moderate-staff",
   "metadata": {},
   "outputs": [],
   "source": []
  },
  {
   "cell_type": "code",
   "execution_count": null,
   "id": "phantom-parks",
   "metadata": {},
   "outputs": [],
   "source": []
  },
  {
   "cell_type": "code",
   "execution_count": null,
   "id": "educated-fleet",
   "metadata": {},
   "outputs": [],
   "source": [
    "# We have to iterate through above\n",
    "# Only execute the subclustering for clusters smaller than a threshold"
   ]
  },
  {
   "cell_type": "code",
   "execution_count": null,
   "id": "oriented-complex",
   "metadata": {},
   "outputs": [],
   "source": [
    "\n",
    "sc.pl.umap(ann_data_working, color=['leiden_R'])"
   ]
  },
  {
   "cell_type": "code",
   "execution_count": null,
   "id": "judicial-domestic",
   "metadata": {},
   "outputs": [],
   "source": [
    "from collections import Counter"
   ]
  },
  {
   "cell_type": "code",
   "execution_count": null,
   "id": "systematic-baker",
   "metadata": {},
   "outputs": [],
   "source": [
    "Counter(ann_data_working.obs['leiden_R'])"
   ]
  },
  {
   "cell_type": "code",
   "execution_count": null,
   "id": "sublime-morgan",
   "metadata": {},
   "outputs": [],
   "source": [
    "sc.pl.umap(ann_data_working, color=['leiden'])"
   ]
  },
  {
   "cell_type": "code",
   "execution_count": null,
   "id": "stable-mason",
   "metadata": {},
   "outputs": [],
   "source": [
    "ann_data_working.obs.leiden_R"
   ]
  },
  {
   "cell_type": "code",
   "execution_count": null,
   "id": "collect-palace",
   "metadata": {},
   "outputs": [],
   "source": [
    "ann_data_working.obs.columns"
   ]
  },
  {
   "cell_type": "markdown",
   "id": "heated-shape",
   "metadata": {},
   "source": [
    "# Run Deconvolution"
   ]
  },
  {
   "cell_type": "code",
   "execution_count": null,
   "id": "purple-prize",
   "metadata": {},
   "outputs": [],
   "source": [
    "pseudo_time_reg_deconv = TimeRegularizedDeconvolution(\n",
    "    dataset=ebov_dataset,\n",
    "    polynomial_degree = 5,\n",
    "    basis_functions = \"polynomial\",\n",
    "    device=device,\n",
    "    dtype=dtype)"
   ]
  },
  {
   "cell_type": "code",
   "execution_count": null,
   "id": "postal-filling",
   "metadata": {},
   "outputs": [],
   "source": [
    "pseudo_time_reg_deconv.fit_model(n_iters=n_iters, verbose=True, log_frequency=1000)"
   ]
  },
  {
   "cell_type": "markdown",
   "id": "consecutive-radar",
   "metadata": {},
   "source": [
    "# Examine Outputs"
   ]
  },
  {
   "cell_type": "code",
   "execution_count": null,
   "id": "empirical-regular",
   "metadata": {},
   "outputs": [],
   "source": [
    "# plot the losses\n",
    "pseudo_time_reg_deconv.plot_loss()"
   ]
  },
  {
   "cell_type": "code",
   "execution_count": null,
   "id": "worthy-accent",
   "metadata": {},
   "outputs": [],
   "source": [
    "# calculate and plot composition trajectories\n",
    "pseudo_time_reg_deconv.calculate_composition_trajectories(n_intervals = 1000)\n",
    "pseudo_time_reg_deconv.plot_composition_trajectories()"
   ]
  },
  {
   "cell_type": "code",
   "execution_count": null,
   "id": "public-controversy",
   "metadata": {},
   "outputs": [],
   "source": [
    "# examine the per-gene dispersions\n",
    "pseudo_time_reg_deconv.plot_phi_g_distribution()"
   ]
  },
  {
   "cell_type": "code",
   "execution_count": null,
   "id": "mysterious-imperial",
   "metadata": {},
   "outputs": [],
   "source": [
    "# examine the gene capture coefficients\n",
    "pseudo_time_reg_deconv.plot_beta_g_distribution()\n",
    "matplotlib.pyplot.yscale('log')"
   ]
  },
  {
   "cell_type": "markdown",
   "id": "prospective-seattle",
   "metadata": {},
   "source": [
    "# Plot per sample deconvolution"
   ]
  },
  {
   "cell_type": "code",
   "execution_count": null,
   "id": "romantic-employee",
   "metadata": {},
   "outputs": [],
   "source": [
    "import matplotlib.pyplot as plt\n",
    "import matplotlib.colors as mcolors"
   ]
  },
  {
   "cell_type": "code",
   "execution_count": null,
   "id": "biological-mainstream",
   "metadata": {},
   "outputs": [],
   "source": [
    "math.ceil(3.)"
   ]
  },
  {
   "cell_type": "code",
   "execution_count": null,
   "id": "informal-evaluation",
   "metadata": {},
   "outputs": [],
   "source": [
    "pseudo_time_reg_deconv.plot_sample_compositions_scatter()\n",
    "matplotlib.pyplot.show()"
   ]
  },
  {
   "cell_type": "code",
   "execution_count": null,
   "id": "radio-armstrong",
   "metadata": {},
   "outputs": [],
   "source": [
    "pseudo_time_reg_deconv.plot_sample_compositions_boxplot()\n",
    "matplotlib.pyplot.show()"
   ]
  },
  {
   "cell_type": "markdown",
   "id": "transsexual-diameter",
   "metadata": {},
   "source": [
    "# Simulate and Evaluate"
   ]
  },
  {
   "cell_type": "code",
   "execution_count": null,
   "id": "industrial-consideration",
   "metadata": {},
   "outputs": [],
   "source": [
    "# Simulate and plot 100 samples from a random trajectory \n",
    "# based on linear functions through a softmax\n",
    "\n",
    "sim_res = simulate_data(\n",
    "    num_samples=100, \n",
    "    reference_deconvolution=pseudo_time_reg_deconv, \n",
    "    trajectory_type='linear',\n",
    "    seed = 100)\n",
    "\n",
    "plot_simulated_proportions(sim_res)\n",
    "matplotlib.pyplot.tight_layout()\n",
    "matplotlib.pyplot.show()"
   ]
  },
  {
   "cell_type": "code",
   "execution_count": null,
   "id": "knowing-november",
   "metadata": {},
   "outputs": [],
   "source": [
    "# Generate input AnnData object from the above simulation\n",
    "simulated_bulk = generate_anndata_from_sim(\n",
    "    sim_res, \n",
    "    reference_deconvolution = pseudo_time_reg_deconv)\n",
    "\n",
    "# Generate a deconvolution dataset\n",
    "ebov_simulated_dataset = DeconvolutionDataset(\n",
    "    sc_anndata = sc_anndata,\n",
    "    sc_celltype_col = \"Subclustering_reduced\",\n",
    "    bulk_anndata = simulated_bulk,\n",
    "    bulk_time_col = \"time\",\n",
    "    dtype_np = dtype_np,\n",
    "    dtype = dtype,\n",
    "    device = device,\n",
    "    feature_selection_method = 'common' \n",
    ")"
   ]
  },
  {
   "cell_type": "code",
   "execution_count": null,
   "id": "parental-ribbon",
   "metadata": {},
   "outputs": [],
   "source": [
    "# Set-up and run the deconvolution\n",
    "pseudo_time_reg_deconv_sim = TimeRegularizedDeconvolution(\n",
    "    dataset=ebov_simulated_dataset,\n",
    "    polynomial_degree = 20,\n",
    "    basis_functions = \"polynomial\",\n",
    "    device=device,\n",
    "    dtype=dtype)\n",
    "\n",
    "pseudo_time_reg_deconv_sim.fit_model(\n",
    "    n_iters=5_001, \n",
    "    verbose=True, \n",
    "    log_frequency=1000\n",
    ")"
   ]
  },
  {
   "cell_type": "markdown",
   "id": "covered-grant",
   "metadata": {},
   "source": [
    "# Examine Outputs"
   ]
  },
  {
   "cell_type": "code",
   "execution_count": null,
   "id": "private-spare",
   "metadata": {},
   "outputs": [],
   "source": [
    "pseudo_time_reg_deconv_sim.plot_loss()"
   ]
  },
  {
   "cell_type": "code",
   "execution_count": null,
   "id": "smart-essex",
   "metadata": {},
   "outputs": [],
   "source": [
    "pseudo_time_reg_deconv_sim.calculate_composition_trajectories(n_intervals = 1000)\n",
    "pseudo_time_reg_deconv_sim.plot_composition_trajectories()"
   ]
  },
  {
   "cell_type": "code",
   "execution_count": null,
   "id": "starting-installation",
   "metadata": {},
   "outputs": [],
   "source": [
    "# examine the per-gene dispersions\n",
    "pseudo_time_reg_deconv.plot_phi_g_distribution()"
   ]
  },
  {
   "cell_type": "code",
   "execution_count": null,
   "id": "danish-albania",
   "metadata": {},
   "outputs": [],
   "source": [
    "# examine the gene capture coefficients\n",
    "pseudo_time_reg_deconv.plot_beta_g_distribution()\n",
    "matplotlib.pyplot.yscale('log')"
   ]
  },
  {
   "cell_type": "code",
   "execution_count": null,
   "id": "comparative-rebate",
   "metadata": {},
   "outputs": [],
   "source": [
    "# examine the alphas\n",
    "\n",
    "alphas = list(pseudo_time_reg_deconv.param_store_hist[i]['dirichlet_alpha'] for i in range(len(pseudo_time_reg_deconv.param_store_hist)))\n",
    "\n",
    "fig, ax = matplotlib.pyplot.subplots(1,2)\n",
    "\n",
    "ax[0].plot(alphas)\n",
    "ax[0].set_title(r'Dirichlet $ \\alpha $ Values')\n",
    "\n",
    "ax[1].plot(alphas[-500:])\n",
    "ax[1].set_title(r'Last few Dirichlet $ \\alpha $ Values')"
   ]
  },
  {
   "cell_type": "code",
   "execution_count": null,
   "id": "adolescent-biology",
   "metadata": {},
   "outputs": [],
   "source": [
    "calculate_trajectory_prediction_error(sim_res, pseudo_time_reg_deconv_sim)"
   ]
  },
  {
   "cell_type": "code",
   "execution_count": null,
   "id": "tribal-congress",
   "metadata": {},
   "outputs": [],
   "source": [
    "sim_res['trajectory_params']['trajectories_cm'].shape"
   ]
  },
  {
   "cell_type": "code",
   "execution_count": null,
   "id": "departmental-gilbert",
   "metadata": {},
   "outputs": [],
   "source": [
    "sim_res['cell_pop_cm'].shape"
   ]
  },
  {
   "cell_type": "code",
   "execution_count": null,
   "id": "adapted-region",
   "metadata": {},
   "outputs": [],
   "source": [
    "def calculate_sample_prediction_error(sim_res, pseudo_time_reg_deconv_sim):\n",
    "    # Ground Truth\n",
    "    ground_truth_cell_pop_cm = sim_res['cell_pop_cm']\n",
    "    estimated_cell_pop_cm = pyro.param(\"cell_pop_posterior_loc_mc\").clone().detach().cpu().T\n",
    "    \n",
    "    l1_error = (ground_truth_cell_pop_cm - estimated_cell_pop_cm).abs().sum([0,1])\n",
    "    l1_error_norm = l1_error / estimated_cell_pop_cm.shape[-1]\n",
    "    \n",
    "    return {\n",
    "        'l1_error': l1_error,\n",
    "        'l1_error_norm': l1_error_norm\n",
    "    }"
   ]
  },
  {
   "cell_type": "code",
   "execution_count": null,
   "id": "positive-chess",
   "metadata": {},
   "outputs": [],
   "source": [
    "calculate_sample_prediction_error(sim_res, pseudo_time_reg_deconv_sim)"
   ]
  },
  {
   "cell_type": "code",
   "execution_count": null,
   "id": "plastic-ratio",
   "metadata": {},
   "outputs": [],
   "source": []
  }
 ],
 "metadata": {
  "environment": {
   "name": "pytorch-gpu.1-7.m65",
   "type": "gcloud",
   "uri": "gcr.io/deeplearning-platform-release/pytorch-gpu.1-7:m65"
  },
  "kernelspec": {
   "display_name": "Python 3",
   "language": "python",
   "name": "python3"
  },
  "language_info": {
   "codemirror_mode": {
    "name": "ipython",
    "version": 3
   },
   "file_extension": ".py",
   "mimetype": "text/x-python",
   "name": "python",
   "nbconvert_exporter": "python",
   "pygments_lexer": "ipython3",
   "version": "3.7.10"
  }
 },
 "nbformat": 4,
 "nbformat_minor": 5
}
