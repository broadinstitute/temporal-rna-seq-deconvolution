{
 "cells": [
  {
   "cell_type": "markdown",
   "id": "average-arctic",
   "metadata": {},
   "source": [
    "## Ebola infected Macaque Sample Composition Trajectory Identification\n",
    "\n",
    "In this notebook we deconvolve the ebov macaque blood samples using a matched seq-well reference."
   ]
  },
  {
   "cell_type": "code",
   "execution_count": null,
   "id": "lined-henry",
   "metadata": {},
   "outputs": [],
   "source": [
    "import torch\n",
    "from time_deconv.time_deconv import *\n",
    "from time_deconv.time_deconv_simulator import *\n",
    "from time_deconv.stats_helpers import *"
   ]
  },
  {
   "cell_type": "markdown",
   "id": "equivalent-experience",
   "metadata": {},
   "source": [
    "# Configuration"
   ]
  },
  {
   "cell_type": "code",
   "execution_count": null,
   "id": "unexpected-edgar",
   "metadata": {},
   "outputs": [],
   "source": [
    "device = torch.device(\"cuda:0\")\n",
    "dtype = torch.float32\n",
    "dtype_np = np.float32\n",
    "n_iters = 5000"
   ]
  },
  {
   "cell_type": "markdown",
   "id": "driving-wheel",
   "metadata": {},
   "source": [
    "# Load data"
   ]
  },
  {
   "cell_type": "code",
   "execution_count": null,
   "id": "national-oriental",
   "metadata": {},
   "outputs": [],
   "source": [
    "bulk_anndata_path = \"/home/nbarkas/disk1/work/deconvolution_method/datasets/ebov/load_data_python/ebov_bulk.h5ad\"\n",
    "sc_anndata_path = \"/home/nbarkas/disk1/work/deconvolution_method/datasets/ebov/load_data_python/ebov_sc.h5ad\""
   ]
  },
  {
   "cell_type": "code",
   "execution_count": null,
   "id": "canadian-ticket",
   "metadata": {},
   "outputs": [],
   "source": [
    "with open(bulk_anndata_path, 'rb') as fh:\n",
    "    bulk_anndata  = anndata.read_h5ad(fh)\n",
    "with open(sc_anndata_path, 'rb') as fh:\n",
    "    sc_anndata = anndata.read_h5ad(fh)"
   ]
  },
  {
   "cell_type": "code",
   "execution_count": null,
   "id": "pleasant-enclosure",
   "metadata": {},
   "outputs": [],
   "source": [
    "# select samples only after or on tp 0\n",
    "bulk_anndata = bulk_anndata[bulk_anndata.obs['dpi_time'] >= 0,]"
   ]
  },
  {
   "cell_type": "code",
   "execution_count": null,
   "id": "controlled-number",
   "metadata": {},
   "outputs": [],
   "source": [
    "ebov_dataset = DeconvolutionDataset(\n",
    "    sc_anndata = sc_anndata,\n",
    "    sc_celltype_col = \"Subclustering_reduced\",\n",
    "    bulk_anndata = bulk_anndata,\n",
    "    bulk_time_col = \"dpi_time\",\n",
    "    dtype_np = dtype_np,\n",
    "    dtype = dtype,\n",
    "    device=device,\n",
    "    feature_selection_method = 'single_cell_od' #'overdispersed_bulk'\n",
    ")"
   ]
  },
  {
   "cell_type": "markdown",
   "id": "introductory-evidence",
   "metadata": {},
   "source": [
    "# Run Deconvolution"
   ]
  },
  {
   "cell_type": "code",
   "execution_count": null,
   "id": "starting-offering",
   "metadata": {},
   "outputs": [],
   "source": [
    "pseudo_time_reg_deconv = TimeRegularizedDeconvolution(\n",
    "    dataset=ebov_dataset,\n",
    "    polynomial_degree = 10,\n",
    "    basis_functions = \"polynomial\",\n",
    "    device=device,\n",
    "    dtype=dtype)"
   ]
  },
  {
   "cell_type": "code",
   "execution_count": null,
   "id": "satellite-enzyme",
   "metadata": {},
   "outputs": [],
   "source": [
    "batch = generate_batch(pseudo_time_reg_deconv.dataset, device, dtype)\n",
    "c = torch.nn.functional.softmax(torch.rand([10,5]), dim=-1)\n",
    "pseudo_time_reg_deconv.model(**batch)"
   ]
  },
  {
   "cell_type": "code",
   "execution_count": null,
   "id": "streaming-clothing",
   "metadata": {},
   "outputs": [],
   "source": [
    "pseudo_time_reg_deconv.fit_model(n_iters=n_iters, verbose=True, log_frequency=1000, clear_param_store=True)"
   ]
  },
  {
   "cell_type": "markdown",
   "id": "uniform-blair",
   "metadata": {},
   "source": [
    "# Examine Outputs"
   ]
  },
  {
   "cell_type": "code",
   "execution_count": null,
   "id": "chronic-female",
   "metadata": {},
   "outputs": [],
   "source": [
    "# Plot the loses\n",
    "pseudo_time_reg_deconv.plot_loss()"
   ]
  },
  {
   "cell_type": "code",
   "execution_count": null,
   "id": "controlling-factor",
   "metadata": {},
   "outputs": [],
   "source": [
    "# calculate and plot the composition trajectories\n",
    "pseudo_time_reg_deconv.calculate_composition_trajectories(n_intervals = 1000)\n",
    "pseudo_time_reg_deconv.plot_composition_trajectories()"
   ]
  },
  {
   "cell_type": "code",
   "execution_count": null,
   "id": "fresh-familiar",
   "metadata": {},
   "outputs": [],
   "source": [
    "# examine the per-gene dispersions\n",
    "pseudo_time_reg_deconv.plot_phi_g_distribution()"
   ]
  },
  {
   "cell_type": "code",
   "execution_count": null,
   "id": "radical-wildlife",
   "metadata": {},
   "outputs": [],
   "source": [
    "# examine the gene capture coefficients\n",
    "pseudo_time_reg_deconv.plot_beta_g_distribution()\n",
    "matplotlib.pyplot.yscale('log')"
   ]
  },
  {
   "cell_type": "code",
   "execution_count": null,
   "id": "educated-shanghai",
   "metadata": {},
   "outputs": [],
   "source": [
    "# examine the alphas\n",
    "\n",
    "alphas = list(pseudo_time_reg_deconv.param_store_hist[i]['dirichlet_alpha'] for i in range(len(pseudo_time_reg_deconv.param_store_hist)))\n",
    "\n",
    "fig, ax = matplotlib.pyplot.subplots(1,2)\n",
    "\n",
    "ax[0].plot(alphas)\n",
    "ax[0].set_title(r'Dirichlet $ \\alpha $ Values')\n",
    "\n",
    "ax[1].plot(alphas[-500:])\n",
    "ax[1].set_title(r'Last few Dirichlet $ \\alpha $ Values')\n"
   ]
  },
  {
   "cell_type": "code",
   "execution_count": null,
   "id": "light-community",
   "metadata": {},
   "outputs": [],
   "source": [
    "pseudo_time_reg_deconv.plot_sample_compositions_scatter()"
   ]
  },
  {
   "cell_type": "code",
   "execution_count": null,
   "id": "educated-theory",
   "metadata": {},
   "outputs": [],
   "source": [
    "pseudo_time_reg_deconv.plot_sample_compositions_boxplot()\n",
    "matplotlib.pyplot.show()"
   ]
  },
  {
   "cell_type": "code",
   "execution_count": null,
   "id": "aggregate-flavor",
   "metadata": {},
   "outputs": [],
   "source": []
  }
 ],
 "metadata": {
  "environment": {
   "name": "pytorch-gpu.1-7.m65",
   "type": "gcloud",
   "uri": "gcr.io/deeplearning-platform-release/pytorch-gpu.1-7:m65"
  },
  "kernelspec": {
   "display_name": "Python 3 (ipykernel)",
   "language": "python",
   "name": "python3"
  },
  "language_info": {
   "codemirror_mode": {
    "name": "ipython",
    "version": 3
   },
   "file_extension": ".py",
   "mimetype": "text/x-python",
   "name": "python",
   "nbconvert_exporter": "python",
   "pygments_lexer": "ipython3",
   "version": "3.9.7"
  }
 },
 "nbformat": 4,
 "nbformat_minor": 5
}
