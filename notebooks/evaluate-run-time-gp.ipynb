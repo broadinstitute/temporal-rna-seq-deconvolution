{
 "cells": [
  {
   "cell_type": "markdown",
   "id": "practical-attitude",
   "metadata": {},
   "source": [
    "# Deconvolve simulated data with linear functions, vary number of samples"
   ]
  },
  {
   "cell_type": "code",
   "execution_count": 1,
   "id": "educational-rochester",
   "metadata": {},
   "outputs": [],
   "source": [
    "import torch\n",
    "from ternadecov.simulator import *\n",
    "from ternadecov.time_deconv import *\n",
    "from ternadecov.evaluation import *\n",
    "import matplotlib.pyplot as plt"
   ]
  },
  {
   "cell_type": "markdown",
   "id": "blond-cycle",
   "metadata": {},
   "source": [
    "# Configure"
   ]
  },
  {
   "cell_type": "code",
   "execution_count": 2,
   "id": "marked-design",
   "metadata": {},
   "outputs": [],
   "source": [
    "device = torch.device(\"cuda:0\")\n",
    "dtype = torch.float32\n",
    "dtype_np = np.float32"
   ]
  },
  {
   "cell_type": "markdown",
   "id": "peaceful-integer",
   "metadata": {},
   "source": [
    "# Load data"
   ]
  },
  {
   "cell_type": "code",
   "execution_count": 3,
   "id": "suited-former",
   "metadata": {},
   "outputs": [],
   "source": [
    "bulk_anndata_path = \"/home/nbarkas/disk1/work/deconvolution_method/datasets/ebov/load_data_python/ebov_bulk.h5ad\"\n",
    "sc_anndata_path = \"/home/nbarkas/disk1/work/deconvolution_method/datasets/ebov/load_data_python/ebov_sc.h5ad\""
   ]
  },
  {
   "cell_type": "code",
   "execution_count": 4,
   "id": "south-speech",
   "metadata": {},
   "outputs": [],
   "source": [
    "with open(sc_anndata_path, 'rb') as fh:\n",
    "    sc_anndata = anndata.read_h5ad(fh)"
   ]
  },
  {
   "cell_type": "markdown",
   "id": "caroline-while",
   "metadata": {
    "tags": []
   },
   "source": [
    "# Simulate data"
   ]
  },
  {
   "cell_type": "code",
   "execution_count": 5,
   "id": "iraqi-difference",
   "metadata": {},
   "outputs": [],
   "source": [
    "ebov_sc_dataset = SingleCellDataset(sc_anndata, sc_celltype_col=\"Subclustering_reduced\", dtype_np=dtype_np, dtype = dtype, device=device)"
   ]
  },
  {
   "cell_type": "code",
   "execution_count": 6,
   "id": "better-fiber",
   "metadata": {},
   "outputs": [
    {
     "data": {
      "text/plain": [
       "[100, 200, 300, 400, 500, 600, 700, 800, 900]"
      ]
     },
     "execution_count": 6,
     "metadata": {},
     "output_type": "execute_result"
    }
   ],
   "source": [
    "# trajectory generating function\n",
    "trajectory_type = 'periodic'\n",
    "n_sample_range = list(range(100,1000,100)) \n",
    "n_sample_range"
   ]
  },
  {
   "cell_type": "code",
   "execution_count": 7,
   "id": "first-october",
   "metadata": {},
   "outputs": [],
   "source": [
    "# Use a single trajectory for all iterations\n",
    "trajectory_coef = sample_trajectories(\n",
    "    type = trajectory_type,\n",
    "    num_cell_types = ebov_sc_dataset.w_hat_gc.shape[1]\n",
    ")"
   ]
  },
  {
   "cell_type": "code",
   "execution_count": 11,
   "id": "respected-spirituality",
   "metadata": {},
   "outputs": [
    {
     "name": "stdout",
     "output_type": "stream",
     "text": [
      "[step: 0, time: 1 s ] loss: 5955421.59\n",
      "[step: 1000, time: 15 s ] loss: 4876414.88\n",
      "[step: 2000, time: 30 s ] loss: 4366830.20\n",
      "[step: 0, time: 1 s ] loss: 11762729.84\n",
      "[step: 1000, time: 21 s ] loss: 9626652.83\n",
      "[step: 2000, time: 41 s ] loss: 8602841.86\n",
      "[step: 0, time: 1 s ] loss: 17787013.09\n",
      "[step: 1000, time: 26 s ] loss: 14545395.22\n",
      "[step: 2000, time: 52 s ] loss: 12980825.84\n",
      "[step: 0, time: 1 s ] loss: 23606778.34\n",
      "[step: 1000, time: 33 s ] loss: 19297684.50\n",
      "[step: 2000, time: 65 s ] loss: 17225025.07\n",
      "[step: 0, time: 1 s ] loss: 29960435.58\n",
      "[step: 1000, time: 40 s ] loss: 24471573.70\n",
      "[step: 2000, time: 80 s ] loss: 21784281.93\n",
      "[step: 0, time: 1 s ] loss: 35737388.83\n",
      "[step: 1000, time: 49 s ] loss: 29177342.17\n",
      "[step: 2000, time: 98 s ] loss: 25990219.86\n",
      "[step: 0, time: 1 s ] loss: 41355678.08\n",
      "[step: 1000, time: 61 s ] loss: 33855490.32\n",
      "[step: 2000, time: 119 s ] loss: 30183181.66\n",
      "[step: 0, time: 1 s ] loss: 47383979.33\n",
      "[step: 1000, time: 69 s ] loss: 38754053.97\n",
      "[step: 2000, time: 138 s ] loss: 34556293.20\n",
      "[step: 0, time: 1 s ] loss: 53375632.58\n",
      "[step: 1000, time: 85 s ] loss: 43633293.54\n",
      "[step: 2000, time: 170 s ] loss: 38870154.67\n"
     ]
    }
   ],
   "source": [
    "n_iters = 3_000\n",
    "\n",
    "n_samples = []\n",
    "l1_error_norm = []\n",
    "fit_time = []\n",
    "\n",
    "for n in n_sample_range:\n",
    "    eval_result = evaluate_with_trajectory(\n",
    "        sc_dataset = ebov_sc_dataset, \n",
    "        n_samples = n, \n",
    "        trajectory_type = trajectory_type, \n",
    "        trajectory_coef = trajectory_coef,\n",
    "        n_iters = n_iters,\n",
    "        dtype_np = dtype_np,\n",
    "        dtype = dtype,\n",
    "        device = device,\n",
    "        #deconvolution_params = {'polynomial_degree': 3, 'basis_functions': 'polynomial'}\n",
    "        deconvolution_params = {'trajectory_model_type': 'gp'},\n",
    "    )\n",
    "    \n",
    "    n_samples.append(eval_result['n_samples'])\n",
    "    l1_error_norm.append(eval_result['l1_error_norm'])\n",
    "    fit_time.append(eval_result['fit_time'])"
   ]
  },
  {
   "cell_type": "code",
   "execution_count": 12,
   "id": "7d5cbd22-e19a-4c30-bfa9-a1e8c0bc7045",
   "metadata": {},
   "outputs": [],
   "source": [
    "evaluation_resuts_df = pd.DataFrame({'n_samples':n_samples, 'l1_error_norm': list(x.item() for x in l1_error_norm), 'fit_time': fit_time})"
   ]
  },
  {
   "cell_type": "code",
   "execution_count": 13,
   "id": "2ddaa13d-7986-43b4-b6c7-bffce08c7429",
   "metadata": {},
   "outputs": [
    {
     "data": {
      "text/html": [
       "<div>\n",
       "<style scoped>\n",
       "    .dataframe tbody tr th:only-of-type {\n",
       "        vertical-align: middle;\n",
       "    }\n",
       "\n",
       "    .dataframe tbody tr th {\n",
       "        vertical-align: top;\n",
       "    }\n",
       "\n",
       "    .dataframe thead th {\n",
       "        text-align: right;\n",
       "    }\n",
       "</style>\n",
       "<table border=\"1\" class=\"dataframe\">\n",
       "  <thead>\n",
       "    <tr style=\"text-align: right;\">\n",
       "      <th></th>\n",
       "      <th>n_samples</th>\n",
       "      <th>l1_error_norm</th>\n",
       "      <th>fit_time</th>\n",
       "    </tr>\n",
       "  </thead>\n",
       "  <tbody>\n",
       "    <tr>\n",
       "      <th>0</th>\n",
       "      <td>100</td>\n",
       "      <td>1.020117</td>\n",
       "      <td>43.827071</td>\n",
       "    </tr>\n",
       "    <tr>\n",
       "      <th>1</th>\n",
       "      <td>200</td>\n",
       "      <td>1.025628</td>\n",
       "      <td>60.467765</td>\n",
       "    </tr>\n",
       "    <tr>\n",
       "      <th>2</th>\n",
       "      <td>300</td>\n",
       "      <td>1.026669</td>\n",
       "      <td>77.838892</td>\n",
       "    </tr>\n",
       "    <tr>\n",
       "      <th>3</th>\n",
       "      <td>400</td>\n",
       "      <td>1.021441</td>\n",
       "      <td>96.585298</td>\n",
       "    </tr>\n",
       "    <tr>\n",
       "      <th>4</th>\n",
       "      <td>500</td>\n",
       "      <td>1.023254</td>\n",
       "      <td>119.019842</td>\n",
       "    </tr>\n",
       "    <tr>\n",
       "      <th>5</th>\n",
       "      <td>600</td>\n",
       "      <td>1.023359</td>\n",
       "      <td>146.727114</td>\n",
       "    </tr>\n",
       "    <tr>\n",
       "      <th>6</th>\n",
       "      <td>700</td>\n",
       "      <td>1.022151</td>\n",
       "      <td>177.431844</td>\n",
       "    </tr>\n",
       "    <tr>\n",
       "      <th>7</th>\n",
       "      <td>800</td>\n",
       "      <td>1.026179</td>\n",
       "      <td>206.403928</td>\n",
       "    </tr>\n",
       "    <tr>\n",
       "      <th>8</th>\n",
       "      <td>900</td>\n",
       "      <td>1.024935</td>\n",
       "      <td>255.088668</td>\n",
       "    </tr>\n",
       "  </tbody>\n",
       "</table>\n",
       "</div>"
      ],
      "text/plain": [
       "   n_samples  l1_error_norm    fit_time\n",
       "0        100       1.020117   43.827071\n",
       "1        200       1.025628   60.467765\n",
       "2        300       1.026669   77.838892\n",
       "3        400       1.021441   96.585298\n",
       "4        500       1.023254  119.019842\n",
       "5        600       1.023359  146.727114\n",
       "6        700       1.022151  177.431844\n",
       "7        800       1.026179  206.403928\n",
       "8        900       1.024935  255.088668"
      ]
     },
     "execution_count": 13,
     "metadata": {},
     "output_type": "execute_result"
    }
   ],
   "source": [
    "evaluation_resuts_df"
   ]
  },
  {
   "cell_type": "markdown",
   "id": "9a70a509-00ef-4eb5-85f7-ffd1508c4752",
   "metadata": {},
   "source": [
    "## Plot"
   ]
  },
  {
   "cell_type": "code",
   "execution_count": 16,
   "id": "52d12135-44a4-45b6-844b-629e83b8e22e",
   "metadata": {},
   "outputs": [
    {
     "data": {
      "image/png": "[encoded data removed]",
      "text/plain": [
       "<Figure size 432x288 with 1 Axes>"
      ]
     },
     "metadata": {
      "needs_background": "light"
     },
     "output_type": "display_data"
    }
   ],
   "source": [
    "# Plot run-time\n",
    "plt.plot(evaluation_resuts_df.n_samples.to_numpy(), evaluation_resuts_df.fit_time.to_numpy())\n",
    "plt.xlabel(\"Number of simulated bulk samples\")\n",
    "plt.ylabel(\"Time (s)\")\n",
    "plt.title(\"Run time against number of samples \\n (GP)\")\n",
    "plt.savefig(\"../results/runtime_vs_bulk-vary_n-gp.png\", dpi=300)"
   ]
  },
  {
   "cell_type": "code",
   "execution_count": 17,
   "id": "nuclear-weekend",
   "metadata": {},
   "outputs": [
    {
     "data": {
      "image/png": "[encoded data removed]",
      "text/plain": [
       "<Figure size 432x288 with 1 Axes>"
      ]
     },
     "metadata": {
      "needs_background": "light"
     },
     "output_type": "display_data"
    }
   ],
   "source": [
    "# Plot L1 loss\n",
    "plt.plot(evaluation_resuts_df.n_samples.to_numpy(), evaluation_resuts_df.l1_error_norm.to_numpy())\n",
    "plt.xlabel(\"Number of simulated samples\")\n",
    "plt.ylabel(\"Normalized L1 error\")\n",
    "plt.title(\"Normalized L1 error against number of samples \\n (GP)\")\n",
    "plt.ylim(0.75,1.25)\n",
    "plt.savefig(\"../results/NormL1_vs_bulk-vary_n-gp.png\", dpi=300)"
   ]
  }
 ],
 "metadata": {
  "environment": {
   "name": "pytorch-gpu.1-7.m65",
   "type": "gcloud",
   "uri": "gcr.io/deeplearning-platform-release/pytorch-gpu.1-7:m65"
  },
  "kernelspec": {
   "display_name": "Python 3 (ipykernel)",
   "language": "python",
   "name": "python3"
  },
  "language_info": {
   "codemirror_mode": {
    "name": "ipython",
    "version": 3
   },
   "file_extension": ".py",
   "mimetype": "text/x-python",
   "name": "python",
   "nbconvert_exporter": "python",
   "pygments_lexer": "ipython3",
   "version": "3.9.7"
  }
 },
 "nbformat": 4,
 "nbformat_minor": 5
}
