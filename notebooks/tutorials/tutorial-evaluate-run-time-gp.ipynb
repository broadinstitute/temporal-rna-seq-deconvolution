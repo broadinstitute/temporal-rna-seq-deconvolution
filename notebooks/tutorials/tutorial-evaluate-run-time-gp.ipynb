{
 "cells": [
  {
   "cell_type": "markdown",
   "id": "practical-attitude",
   "metadata": {},
   "source": [
    "# Evaluate running time by number of samples"
   ]
  },
  {
   "cell_type": "markdown",
   "id": "68015dab-05de-4856-9548-c450cd94685d",
   "metadata": {},
   "source": [
    "In this tutorial we evaluate the running time of ternadecov for a varying number of samples using the GP trajectory model. The configuration of this tutorial has been set so that it completes in under 5 minutes. In order to generate more interesting plots increase the `n_iters` to 20k and set `n_sample_range` to span the range 500-1000."
   ]
  },
  {
   "cell_type": "code",
   "execution_count": 1,
   "id": "educational-rochester",
   "metadata": {},
   "outputs": [],
   "source": [
    "# load libraries\n",
    "import anndata\n",
    "import matplotlib.pylab as plt\n",
    "import torch\n",
    "from ternadecov.time_deconv import *\n",
    "from ternadecov.simulator import *\n",
    "from ternadecov.stats_helpers import *\n",
    "from ternadecov.dataset import *\n",
    "from ternadecov.deconvolution_plotter import *\n",
    "from ternadecov.parametrization import *\n",
    "from ternadecov.evaluation import evaluate_with_trajectory\n",
    "from ternadecov.deconvolution_writer import DeconvolutionWriter\n",
    "from ternadecov.deconvolution_exporter import DeconvolutionExporter"
   ]
  },
  {
   "cell_type": "markdown",
   "id": "blond-cycle",
   "metadata": {},
   "source": [
    "## Configure"
   ]
  },
  {
   "cell_type": "code",
   "execution_count": 2,
   "id": "a3197af2-17d1-4bc0-80b4-20ede3fdeffc",
   "metadata": {},
   "outputs": [],
   "source": [
    "# number of iterations to run\n",
    "n_iters = 5_000\n",
    "\n",
    "# path to single-cell anndata dataset\n",
    "sc_anndata_path = \"/home/nbarkas/disk2/deconvolution_method/datasets/ebov/load_data_python/ebov_sc.h5ad\""
   ]
  },
  {
   "cell_type": "code",
   "execution_count": 3,
   "id": "south-speech",
   "metadata": {},
   "outputs": [],
   "source": [
    "with open(sc_anndata_path, 'rb') as fh:\n",
    "    sc_anndata = anndata.read_h5ad(fh)"
   ]
  },
  {
   "cell_type": "markdown",
   "id": "caroline-while",
   "metadata": {
    "tags": []
   },
   "source": [
    "## Simulate data"
   ]
  },
  {
   "cell_type": "code",
   "execution_count": 4,
   "id": "3a235622-8acd-4ff7-aba2-e3af8d985726",
   "metadata": {},
   "outputs": [],
   "source": [
    "types = DeconvolutionDatatypeParametrization()"
   ]
  },
  {
   "cell_type": "markdown",
   "id": "e4cf9734-729a-4344-8c99-3bfd08f975de",
   "metadata": {},
   "source": [
    "Next we generate a 'SingleCellDataset' object. This is a special type of deconvolution dataset object that only contains single-cell data and is used only for simulations."
   ]
  },
  {
   "cell_type": "code",
   "execution_count": 5,
   "id": "iraqi-difference",
   "metadata": {},
   "outputs": [],
   "source": [
    "ebov_sc_dataset = SingleCellDataset(\n",
    "    sc_anndata, \n",
    "    sc_celltype_col=\"Subclustering_reduced\", \n",
    "    dtype_np=types.dtype_np, dtype = types.dtype, device=types.device)"
   ]
  },
  {
   "cell_type": "markdown",
   "id": "d3eaffb7-0b6b-43ca-89ac-8091aef721b7",
   "metadata": {},
   "source": [
    "Sample a random trajectory of celltypes that will be used for all iterations by only varying the number of samples draw from it\n"
   ]
  },
  {
   "cell_type": "code",
   "execution_count": 6,
   "id": "first-october",
   "metadata": {},
   "outputs": [],
   "source": [
    "trajectory_coef = sample_trajectories(\n",
    "    type = 'periodic',\n",
    "    num_cell_types = ebov_sc_dataset.w_hat_gc.shape[1]\n",
    ")"
   ]
  },
  {
   "cell_type": "code",
   "execution_count": 7,
   "id": "c82765a8-756b-4724-b2ea-084ce3cbc598",
   "metadata": {},
   "outputs": [
    {
     "name": "stdout",
     "output_type": "stream",
     "text": [
      "[10, 30, 50, 70, 100, 300, 500, 700, 900]\n"
     ]
    }
   ],
   "source": [
    "n_sample_range = list(range(10,90,20))+list(range(100,1000,200)) \n",
    "print(n_sample_range)"
   ]
  },
  {
   "cell_type": "code",
   "execution_count": 8,
   "id": "respected-spirituality",
   "metadata": {},
   "outputs": [
    {
     "name": "stderr",
     "output_type": "stream",
     "text": [
      "/home/nbarkas/disk1/anaconda3/lib/python3.9/site-packages/anndata/_core/anndata.py:120: ImplicitModificationWarning: Transforming to str index.\n",
      "  warnings.warn(\"Transforming to str index.\", ImplicitModificationWarning)\n",
      "/home/nbarkas/disk1/anaconda3/lib/python3.9/site-packages/sklearn/linear_model/_ridge.py:147: LinAlgWarning: Ill-conditioned matrix (rcond=5.44106e-10): result may not be accurate.\n",
      "  return linalg.solve(A, Xy, sym_pos=True,\n"
     ]
    },
    {
     "name": "stdout",
     "output_type": "stream",
     "text": [
      "2983 genes selected\n",
      "[step: 0, time: 1 s ] loss: 318857.12\n",
      "[step: 1000, time: 14 s ] loss: 232587.94\n",
      "[step: 2000, time: 27 s ] loss: 189270.65\n",
      "[step: 3000, time: 41 s ] loss: 172177.17\n",
      "[step: 4000, time: 54 s ] loss: 166771.14\n"
     ]
    },
    {
     "name": "stderr",
     "output_type": "stream",
     "text": [
      "/home/nbarkas/disk1/anaconda3/lib/python3.9/site-packages/anndata/_core/anndata.py:120: ImplicitModificationWarning: Transforming to str index.\n",
      "  warnings.warn(\"Transforming to str index.\", ImplicitModificationWarning)\n",
      "/home/nbarkas/disk1/anaconda3/lib/python3.9/site-packages/sklearn/linear_model/_ridge.py:147: LinAlgWarning: Ill-conditioned matrix (rcond=5.2013e-10): result may not be accurate.\n",
      "  return linalg.solve(A, Xy, sym_pos=True,\n"
     ]
    },
    {
     "name": "stdout",
     "output_type": "stream",
     "text": [
      "3056 genes selected\n",
      "[step: 0, time: 1 s ] loss: 987292.43\n",
      "[step: 1000, time: 16 s ] loss: 689260.68\n",
      "[step: 2000, time: 32 s ] loss: 560391.30\n",
      "[step: 3000, time: 47 s ] loss: 507137.19\n",
      "[step: 4000, time: 63 s ] loss: 488356.32\n"
     ]
    },
    {
     "name": "stderr",
     "output_type": "stream",
     "text": [
      "/home/nbarkas/disk1/anaconda3/lib/python3.9/site-packages/anndata/_core/anndata.py:120: ImplicitModificationWarning: Transforming to str index.\n",
      "  warnings.warn(\"Transforming to str index.\", ImplicitModificationWarning)\n",
      "/home/nbarkas/disk1/anaconda3/lib/python3.9/site-packages/sklearn/linear_model/_ridge.py:147: LinAlgWarning: Ill-conditioned matrix (rcond=5.33856e-10): result may not be accurate.\n",
      "  return linalg.solve(A, Xy, sym_pos=True,\n"
     ]
    },
    {
     "name": "stdout",
     "output_type": "stream",
     "text": [
      "3105 genes selected\n",
      "[step: 0, time: 1 s ] loss: 1607024.61\n",
      "[step: 1000, time: 19 s ] loss: 1143708.06\n",
      "[step: 2000, time: 37 s ] loss: 930685.83\n",
      "[step: 3000, time: 55 s ] loss: 839948.73\n",
      "[step: 4000, time: 74 s ] loss: 806818.78\n"
     ]
    },
    {
     "name": "stderr",
     "output_type": "stream",
     "text": [
      "/home/nbarkas/disk1/anaconda3/lib/python3.9/site-packages/anndata/_core/anndata.py:120: ImplicitModificationWarning: Transforming to str index.\n",
      "  warnings.warn(\"Transforming to str index.\", ImplicitModificationWarning)\n",
      "/home/nbarkas/disk1/anaconda3/lib/python3.9/site-packages/sklearn/linear_model/_ridge.py:147: LinAlgWarning: Ill-conditioned matrix (rcond=5.31587e-10): result may not be accurate.\n",
      "  return linalg.solve(A, Xy, sym_pos=True,\n"
     ]
    },
    {
     "name": "stdout",
     "output_type": "stream",
     "text": [
      "3143 genes selected\n",
      "[step: 0, time: 1 s ] loss: 2336701.00\n",
      "[step: 1000, time: 21 s ] loss: 1637840.84\n",
      "[step: 2000, time: 42 s ] loss: 1313826.42\n",
      "[step: 3000, time: 62 s ] loss: 1186340.73\n",
      "[step: 4000, time: 83 s ] loss: 1140662.78\n"
     ]
    },
    {
     "name": "stderr",
     "output_type": "stream",
     "text": [
      "/home/nbarkas/disk1/anaconda3/lib/python3.9/site-packages/anndata/_core/anndata.py:120: ImplicitModificationWarning: Transforming to str index.\n",
      "  warnings.warn(\"Transforming to str index.\", ImplicitModificationWarning)\n",
      "/home/nbarkas/disk1/anaconda3/lib/python3.9/site-packages/sklearn/linear_model/_ridge.py:147: LinAlgWarning: Ill-conditioned matrix (rcond=5.27915e-10): result may not be accurate.\n",
      "  return linalg.solve(A, Xy, sym_pos=True,\n"
     ]
    },
    {
     "name": "stdout",
     "output_type": "stream",
     "text": [
      "3176 genes selected\n",
      "[step: 0, time: 1 s ] loss: 3449919.09\n",
      "[step: 1000, time: 26 s ] loss: 2377165.59\n",
      "[step: 2000, time: 51 s ] loss: 1900222.40\n",
      "[step: 3000, time: 76 s ] loss: 1712169.05\n",
      "[step: 4000, time: 101 s ] loss: 1645778.51\n"
     ]
    },
    {
     "name": "stderr",
     "output_type": "stream",
     "text": [
      "/home/nbarkas/disk1/anaconda3/lib/python3.9/site-packages/anndata/_core/anndata.py:120: ImplicitModificationWarning: Transforming to str index.\n",
      "  warnings.warn(\"Transforming to str index.\", ImplicitModificationWarning)\n",
      "/home/nbarkas/disk1/anaconda3/lib/python3.9/site-packages/sklearn/linear_model/_ridge.py:147: LinAlgWarning: Ill-conditioned matrix (rcond=5.29993e-10): result may not be accurate.\n",
      "  return linalg.solve(A, Xy, sym_pos=True,\n"
     ]
    },
    {
     "name": "stdout",
     "output_type": "stream",
     "text": [
      "3251 genes selected\n",
      "[step: 0, time: 1 s ] loss: 10407189.38\n",
      "[step: 1000, time: 78 s ] loss: 7202534.87\n",
      "[step: 2000, time: 156 s ] loss: 5788878.75\n",
      "[step: 3000, time: 233 s ] loss: 5211359.14\n",
      "[step: 4000, time: 312 s ] loss: 4998428.71\n"
     ]
    },
    {
     "name": "stderr",
     "output_type": "stream",
     "text": [
      "/home/nbarkas/disk1/anaconda3/lib/python3.9/site-packages/anndata/_core/anndata.py:120: ImplicitModificationWarning: Transforming to str index.\n",
      "  warnings.warn(\"Transforming to str index.\", ImplicitModificationWarning)\n",
      "/home/nbarkas/disk1/anaconda3/lib/python3.9/site-packages/sklearn/linear_model/_ridge.py:147: LinAlgWarning: Ill-conditioned matrix (rcond=5.32307e-10): result may not be accurate.\n",
      "  return linalg.solve(A, Xy, sym_pos=True,\n"
     ]
    },
    {
     "name": "stdout",
     "output_type": "stream",
     "text": [
      "3260 genes selected\n",
      "[step: 0, time: 1 s ] loss: 17112167.40\n",
      "[step: 1000, time: 116 s ] loss: 11974210.10\n",
      "[step: 2000, time: 232 s ] loss: 9664693.06\n",
      "[step: 3000, time: 347 s ] loss: 8702128.97\n",
      "[step: 4000, time: 464 s ] loss: 8351270.65\n"
     ]
    },
    {
     "name": "stderr",
     "output_type": "stream",
     "text": [
      "/home/nbarkas/disk1/anaconda3/lib/python3.9/site-packages/anndata/_core/anndata.py:120: ImplicitModificationWarning: Transforming to str index.\n",
      "  warnings.warn(\"Transforming to str index.\", ImplicitModificationWarning)\n",
      "/home/nbarkas/disk1/anaconda3/lib/python3.9/site-packages/sklearn/linear_model/_ridge.py:147: LinAlgWarning: Ill-conditioned matrix (rcond=5.30408e-10): result may not be accurate.\n",
      "  return linalg.solve(A, Xy, sym_pos=True,\n"
     ]
    },
    {
     "name": "stdout",
     "output_type": "stream",
     "text": [
      "3249 genes selected\n",
      "[step: 0, time: 1 s ] loss: 23947811.63\n",
      "[step: 1000, time: 207 s ] loss: 16772669.62\n",
      "[step: 2000, time: 413 s ] loss: 13486545.63\n",
      "[step: 3000, time: 620 s ] loss: 12153806.41\n",
      "[step: 4000, time: 829 s ] loss: 11650319.40\n"
     ]
    },
    {
     "name": "stderr",
     "output_type": "stream",
     "text": [
      "/home/nbarkas/disk1/anaconda3/lib/python3.9/site-packages/anndata/_core/anndata.py:120: ImplicitModificationWarning: Transforming to str index.\n",
      "  warnings.warn(\"Transforming to str index.\", ImplicitModificationWarning)\n",
      "/home/nbarkas/disk1/anaconda3/lib/python3.9/site-packages/sklearn/linear_model/_ridge.py:147: LinAlgWarning: Ill-conditioned matrix (rcond=5.30656e-10): result may not be accurate.\n",
      "  return linalg.solve(A, Xy, sym_pos=True,\n"
     ]
    },
    {
     "name": "stdout",
     "output_type": "stream",
     "text": [
      "3298 genes selected\n",
      "[step: 0, time: 1 s ] loss: 30952238.69\n",
      "[step: 1000, time: 300 s ] loss: 21739736.82\n",
      "[step: 2000, time: 600 s ] loss: 17492538.29\n",
      "[step: 3000, time: 900 s ] loss: 15769364.36\n",
      "[step: 4000, time: 1203 s ] loss: 15126894.97\n"
     ]
    }
   ],
   "source": [
    "n_samples = []\n",
    "l1_error_norm = []\n",
    "fit_time = []\n",
    "\n",
    "\n",
    "for n in n_sample_range:\n",
    "    \n",
    "    eval_result = evaluate_with_trajectory(\n",
    "        sc_dataset = ebov_sc_dataset, \n",
    "        n_samples = n, \n",
    "        trajectory_type = 'periodic', \n",
    "        trajectory_coef = trajectory_coef,\n",
    "        n_iters = n_iters,\n",
    "        types = DeconvolutionDatatypeParametrization(),\n",
    "        deconvolution_params = {\n",
    "            'trajectory_model_type': 'gp',\n",
    "            'hyperparameters': TimeRegularizedDeconvolutionModelParametrization(),\n",
    "            'trajectory_hyperparameters': TimeRegularizedDeconvolutionGPParametrization(),\n",
    "        }\n",
    "    )\n",
    "    \n",
    "    n_samples.append(eval_result['n_samples'])\n",
    "    l1_error_norm.append(eval_result['l1_error_norm'])\n",
    "    fit_time.append(eval_result['fit_time'])"
   ]
  },
  {
   "cell_type": "code",
   "execution_count": 9,
   "id": "7d5cbd22-e19a-4c30-bfa9-a1e8c0bc7045",
   "metadata": {},
   "outputs": [],
   "source": [
    "evaluation_resuts_df = pd.DataFrame({'n_samples':n_samples, 'l1_error_norm': list(x.item() for x in l1_error_norm), 'fit_time': fit_time})"
   ]
  },
  {
   "cell_type": "code",
   "execution_count": 10,
   "id": "2ddaa13d-7986-43b4-b6c7-bffce08c7429",
   "metadata": {},
   "outputs": [
    {
     "data": {
      "text/html": [
       "<div>\n",
       "<style scoped>\n",
       "    .dataframe tbody tr th:only-of-type {\n",
       "        vertical-align: middle;\n",
       "    }\n",
       "\n",
       "    .dataframe tbody tr th {\n",
       "        vertical-align: top;\n",
       "    }\n",
       "\n",
       "    .dataframe thead th {\n",
       "        text-align: right;\n",
       "    }\n",
       "</style>\n",
       "<table border=\"1\" class=\"dataframe\">\n",
       "  <thead>\n",
       "    <tr style=\"text-align: right;\">\n",
       "      <th></th>\n",
       "      <th>n_samples</th>\n",
       "      <th>l1_error_norm</th>\n",
       "      <th>fit_time</th>\n",
       "    </tr>\n",
       "  </thead>\n",
       "  <tbody>\n",
       "    <tr>\n",
       "      <th>0</th>\n",
       "      <td>10</td>\n",
       "      <td>0.871758</td>\n",
       "      <td>66.451277</td>\n",
       "    </tr>\n",
       "    <tr>\n",
       "      <th>1</th>\n",
       "      <td>30</td>\n",
       "      <td>0.869518</td>\n",
       "      <td>78.291943</td>\n",
       "    </tr>\n",
       "    <tr>\n",
       "      <th>2</th>\n",
       "      <td>50</td>\n",
       "      <td>0.864875</td>\n",
       "      <td>91.768553</td>\n",
       "    </tr>\n",
       "    <tr>\n",
       "      <th>3</th>\n",
       "      <td>70</td>\n",
       "      <td>0.850476</td>\n",
       "      <td>104.141044</td>\n",
       "    </tr>\n",
       "    <tr>\n",
       "      <th>4</th>\n",
       "      <td>100</td>\n",
       "      <td>0.859508</td>\n",
       "      <td>126.601906</td>\n",
       "    </tr>\n",
       "    <tr>\n",
       "      <th>5</th>\n",
       "      <td>300</td>\n",
       "      <td>0.852567</td>\n",
       "      <td>390.698328</td>\n",
       "    </tr>\n",
       "    <tr>\n",
       "      <th>6</th>\n",
       "      <td>500</td>\n",
       "      <td>0.854624</td>\n",
       "      <td>582.720403</td>\n",
       "    </tr>\n",
       "    <tr>\n",
       "      <th>7</th>\n",
       "      <td>700</td>\n",
       "      <td>0.848973</td>\n",
       "      <td>1039.847996</td>\n",
       "    </tr>\n",
       "    <tr>\n",
       "      <th>8</th>\n",
       "      <td>900</td>\n",
       "      <td>0.853655</td>\n",
       "      <td>1507.635575</td>\n",
       "    </tr>\n",
       "  </tbody>\n",
       "</table>\n",
       "</div>"
      ],
      "text/plain": [
       "   n_samples  l1_error_norm     fit_time\n",
       "0         10       0.871758    66.451277\n",
       "1         30       0.869518    78.291943\n",
       "2         50       0.864875    91.768553\n",
       "3         70       0.850476   104.141044\n",
       "4        100       0.859508   126.601906\n",
       "5        300       0.852567   390.698328\n",
       "6        500       0.854624   582.720403\n",
       "7        700       0.848973  1039.847996\n",
       "8        900       0.853655  1507.635575"
      ]
     },
     "execution_count": 10,
     "metadata": {},
     "output_type": "execute_result"
    }
   ],
   "source": [
    "evaluation_resuts_df"
   ]
  },
  {
   "cell_type": "code",
   "execution_count": 13,
   "id": "2910865d-0ace-4bd5-a0e6-edba8a8fc8ab",
   "metadata": {},
   "outputs": [],
   "source": [
    "evaluation_resuts_df.to_csv('runtime_evaluation_results.csv')"
   ]
  },
  {
   "cell_type": "markdown",
   "id": "9a70a509-00ef-4eb5-85f7-ffd1508c4752",
   "metadata": {},
   "source": [
    "## Plot results"
   ]
  },
  {
   "cell_type": "code",
   "execution_count": 22,
   "id": "52d12135-44a4-45b6-844b-629e83b8e22e",
   "metadata": {},
   "outputs": [
    {
     "data": {
      "image/png": "[encoded data removed]",
      "text/plain": [
       "<Figure size 720x432 with 1 Axes>"
      ]
     },
     "metadata": {
      "needs_background": "light"
     },
     "output_type": "display_data"
    }
   ],
   "source": [
    "# Plot run-time\n",
    "plt.figure(figsize=(10, 6))\n",
    "plt.rcParams.update({'font.size': 22})\n",
    "plt.plot(evaluation_resuts_df.n_samples.to_numpy(), evaluation_resuts_df.fit_time.to_numpy(), color='black')\n",
    "plt.plot([10],[3474], color='red', markersize=10, marker='o')\n",
    "plt.xlabel(\"Number of bulk samples\")\n",
    "plt.ylabel(\"Time (s)\")\n",
    "plt.title(\"ternadecov run time\")\n",
    "plt.show()"
   ]
  }
 ],
 "metadata": {
  "environment": {
   "name": "pytorch-gpu.1-7.m65",
   "type": "gcloud",
   "uri": "gcr.io/deeplearning-platform-release/pytorch-gpu.1-7:m65"
  },
  "kernelspec": {
   "display_name": "Python 3 (ipykernel)",
   "language": "python",
   "name": "python3"
  },
  "language_info": {
   "codemirror_mode": {
    "name": "ipython",
    "version": 3
   },
   "file_extension": ".py",
   "mimetype": "text/x-python",
   "name": "python",
   "nbconvert_exporter": "python",
   "pygments_lexer": "ipython3",
   "version": "3.9.7"
  }
 },
 "nbformat": 4,
 "nbformat_minor": 5
}
