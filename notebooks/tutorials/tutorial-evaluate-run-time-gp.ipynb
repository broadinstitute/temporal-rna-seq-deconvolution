{
 "cells": [
  {
   "cell_type": "markdown",
   "id": "practical-attitude",
   "metadata": {},
   "source": [
    "# Evaluate running time by number of samples"
   ]
  },
  {
   "cell_type": "markdown",
   "id": "68015dab-05de-4856-9548-c450cd94685d",
   "metadata": {},
   "source": [
    "In this tutorial we evaluate the running time of ternadecov for a varying number of samples using the GP trajectory model. The configuration of this tutorial has been set so that it completes in under 5 minutes. In order to generate more interesting plots increase the `n_iters` to 20k and set `n_sample_range` to span the range 500-1000."
   ]
  },
  {
   "cell_type": "code",
   "execution_count": 1,
   "id": "educational-rochester",
   "metadata": {},
   "outputs": [],
   "source": [
    "# load libraries\n",
    "import anndata\n",
    "import matplotlib.pylab as plt\n",
    "import torch\n",
    "from ternadecov.time_deconv import *\n",
    "from ternadecov.simulator import *\n",
    "from ternadecov.stats_helpers import *\n",
    "from ternadecov.dataset import *\n",
    "from ternadecov.deconvolution_plotter import *\n",
    "from ternadecov.parametrization import *\n",
    "from ternadecov.evaluation import evaluate_with_trajectory\n",
    "from ternadecov.deconvolution_writer import DeconvolutionWriter\n",
    "from ternadecov.deconvolution_exporter import DeconvolutionExporter"
   ]
  },
  {
   "cell_type": "markdown",
   "id": "blond-cycle",
   "metadata": {},
   "source": [
    "## Configure"
   ]
  },
  {
   "cell_type": "code",
   "execution_count": 2,
   "id": "a3197af2-17d1-4bc0-80b4-20ede3fdeffc",
   "metadata": {},
   "outputs": [],
   "source": [
    "# number of iterations to run, 5k is low but fast >20k is recommended\n",
    "n_iters = 5_000\n",
    "\n",
    "# path to single-cell anndata dataset\n",
    "sc_anndata_path = \"/home/nbarkas/disk2/deconvolution_method/datasets/ebov/load_data_python/ebov_sc.h5ad\""
   ]
  },
  {
   "cell_type": "code",
   "execution_count": 3,
   "id": "south-speech",
   "metadata": {},
   "outputs": [],
   "source": [
    "with open(sc_anndata_path, 'rb') as fh:\n",
    "    sc_anndata = anndata.read_h5ad(fh)"
   ]
  },
  {
   "cell_type": "markdown",
   "id": "caroline-while",
   "metadata": {
    "tags": []
   },
   "source": [
    "## Simulate data"
   ]
  },
  {
   "cell_type": "code",
   "execution_count": 4,
   "id": "3a235622-8acd-4ff7-aba2-e3af8d985726",
   "metadata": {},
   "outputs": [],
   "source": [
    "types = DeconvolutionDatatypeParametrization()"
   ]
  },
  {
   "cell_type": "markdown",
   "id": "e4cf9734-729a-4344-8c99-3bfd08f975de",
   "metadata": {},
   "source": [
    "Next we generate a 'SingleCellDataset' object. This is a special type of deconvolution dataset object that only contains single-cell data and is used only for simulations."
   ]
  },
  {
   "cell_type": "code",
   "execution_count": 5,
   "id": "iraqi-difference",
   "metadata": {},
   "outputs": [],
   "source": [
    "ebov_sc_dataset = SingleCellDataset(\n",
    "    sc_anndata, \n",
    "    sc_celltype_col=\"Subclustering_reduced\", \n",
    "    dtype_np=types.dtype_np, dtype = types.dtype, device=types.device)"
   ]
  },
  {
   "cell_type": "markdown",
   "id": "d3eaffb7-0b6b-43ca-89ac-8091aef721b7",
   "metadata": {},
   "source": [
    "Sample a random trajectory of celltypes that will be used for all iterations by only varying the number of samples draw from it\n"
   ]
  },
  {
   "cell_type": "code",
   "execution_count": 6,
   "id": "first-october",
   "metadata": {},
   "outputs": [],
   "source": [
    "trajectory_coef = sample_trajectories(\n",
    "    type = 'periodic',\n",
    "    num_cell_types = ebov_sc_dataset.w_hat_gc.shape[1]\n",
    ")"
   ]
  },
  {
   "cell_type": "code",
   "execution_count": 7,
   "id": "respected-spirituality",
   "metadata": {},
   "outputs": [
    {
     "name": "stdout",
     "output_type": "stream",
     "text": [
      "[10, 15, 20, 25]\n",
      "log_sc_cutoff: 2\n"
     ]
    },
    {
     "name": "stderr",
     "output_type": "stream",
     "text": [
      "/home/nbarkas/disk1/anaconda3/lib/python3.9/site-packages/anndata/_core/anndata.py:120: ImplicitModificationWarning: Transforming to str index.\n",
      "  warnings.warn(\"Transforming to str index.\", ImplicitModificationWarning)\n",
      "/home/nbarkas/disk1/anaconda3/lib/python3.9/site-packages/sklearn/linear_model/_ridge.py:147: LinAlgWarning: Ill-conditioned matrix (rcond=5.20335e-10): result may not be accurate.\n",
      "  return linalg.solve(A, Xy, sym_pos=True,\n"
     ]
    },
    {
     "name": "stdout",
     "output_type": "stream",
     "text": [
      "3052 genes selected\n",
      "[step: 0, time: 1 s ] loss: 329583.66\n",
      "[step: 1000, time: 14 s ] loss: 230580.62\n",
      "[step: 2000, time: 28 s ] loss: 190738.82\n",
      "[step: 3000, time: 41 s ] loss: 176190.40\n",
      "[step: 4000, time: 54 s ] loss: 171063.03\n"
     ]
    },
    {
     "name": "stderr",
     "output_type": "stream",
     "text": [
      "/home/nbarkas/disk1/anaconda3/lib/python3.9/site-packages/anndata/_core/anndata.py:120: ImplicitModificationWarning: Transforming to str index.\n",
      "  warnings.warn(\"Transforming to str index.\", ImplicitModificationWarning)\n",
      "/home/nbarkas/disk1/anaconda3/lib/python3.9/site-packages/sklearn/linear_model/_ridge.py:147: LinAlgWarning: Ill-conditioned matrix (rcond=5.52216e-10): result may not be accurate.\n",
      "  return linalg.solve(A, Xy, sym_pos=True,\n"
     ]
    },
    {
     "name": "stdout",
     "output_type": "stream",
     "text": [
      "log_sc_cutoff: 2\n",
      "2971 genes selected\n",
      "[step: 0, time: 1 s ] loss: 462561.67\n",
      "[step: 1000, time: 14 s ] loss: 335376.19\n",
      "[step: 2000, time: 28 s ] loss: 273113.11\n",
      "[step: 3000, time: 41 s ] loss: 251618.39\n",
      "[step: 4000, time: 55 s ] loss: 242713.20\n"
     ]
    },
    {
     "name": "stderr",
     "output_type": "stream",
     "text": [
      "/home/nbarkas/disk1/anaconda3/lib/python3.9/site-packages/anndata/_core/anndata.py:120: ImplicitModificationWarning: Transforming to str index.\n",
      "  warnings.warn(\"Transforming to str index.\", ImplicitModificationWarning)\n",
      "/home/nbarkas/disk1/anaconda3/lib/python3.9/site-packages/sklearn/linear_model/_ridge.py:147: LinAlgWarning: Ill-conditioned matrix (rcond=5.27208e-10): result may not be accurate.\n",
      "  return linalg.solve(A, Xy, sym_pos=True,\n"
     ]
    },
    {
     "name": "stdout",
     "output_type": "stream",
     "text": [
      "log_sc_cutoff: 2\n",
      "3040 genes selected\n",
      "[step: 0, time: 1 s ] loss: 644793.53\n",
      "[step: 1000, time: 15 s ] loss: 457690.86\n",
      "[step: 2000, time: 30 s ] loss: 373861.65\n",
      "[step: 3000, time: 45 s ] loss: 338782.45\n",
      "[step: 4000, time: 60 s ] loss: 326713.81\n"
     ]
    },
    {
     "name": "stderr",
     "output_type": "stream",
     "text": [
      "/home/nbarkas/disk1/anaconda3/lib/python3.9/site-packages/anndata/_core/anndata.py:120: ImplicitModificationWarning: Transforming to str index.\n",
      "  warnings.warn(\"Transforming to str index.\", ImplicitModificationWarning)\n",
      "/home/nbarkas/disk1/anaconda3/lib/python3.9/site-packages/sklearn/linear_model/_ridge.py:147: LinAlgWarning: Ill-conditioned matrix (rcond=5.36363e-10): result may not be accurate.\n",
      "  return linalg.solve(A, Xy, sym_pos=True,\n"
     ]
    },
    {
     "name": "stdout",
     "output_type": "stream",
     "text": [
      "log_sc_cutoff: 2\n",
      "2997 genes selected\n",
      "[step: 0, time: 1 s ] loss: 829963.88\n",
      "[step: 1000, time: 15 s ] loss: 557964.98\n",
      "[step: 2000, time: 30 s ] loss: 452781.98\n",
      "[step: 3000, time: 45 s ] loss: 413098.86\n",
      "[step: 4000, time: 60 s ] loss: 399103.24\n"
     ]
    }
   ],
   "source": [
    "n_samples = []\n",
    "l1_error_norm = []\n",
    "fit_time = []\n",
    "n_sample_range = list(range(10,30,5)) \n",
    "print(n_sample_range)\n",
    "\n",
    "for n in n_sample_range:\n",
    "    \n",
    "    eval_result = evaluate_with_trajectory(\n",
    "        sc_dataset = ebov_sc_dataset, \n",
    "        n_samples = n, \n",
    "        trajectory_type = 'periodic', \n",
    "        trajectory_coef = trajectory_coef,\n",
    "        n_iters = n_iters,\n",
    "        types = DeconvolutionDatatypeParametrization(),\n",
    "        deconvolution_params = {\n",
    "            'trajectory_model_type': 'gp',\n",
    "            'hyperparameters': TimeRegularizedDeconvolutionModelParametrization(),\n",
    "            'trajectory_hyperparameters': TimeRegularizedDeconvolutionGPParametrization(),\n",
    "        }\n",
    "    )\n",
    "    \n",
    "    n_samples.append(eval_result['n_samples'])\n",
    "    l1_error_norm.append(eval_result['l1_error_norm'])\n",
    "    fit_time.append(eval_result['fit_time'])"
   ]
  },
  {
   "cell_type": "code",
   "execution_count": 8,
   "id": "7d5cbd22-e19a-4c30-bfa9-a1e8c0bc7045",
   "metadata": {},
   "outputs": [],
   "source": [
    "evaluation_resuts_df = pd.DataFrame({'n_samples':n_samples, 'l1_error_norm': list(x.item() for x in l1_error_norm), 'fit_time': fit_time})"
   ]
  },
  {
   "cell_type": "code",
   "execution_count": 9,
   "id": "2ddaa13d-7986-43b4-b6c7-bffce08c7429",
   "metadata": {},
   "outputs": [
    {
     "data": {
      "text/html": [
       "<div>\n",
       "<style scoped>\n",
       "    .dataframe tbody tr th:only-of-type {\n",
       "        vertical-align: middle;\n",
       "    }\n",
       "\n",
       "    .dataframe tbody tr th {\n",
       "        vertical-align: top;\n",
       "    }\n",
       "\n",
       "    .dataframe thead th {\n",
       "        text-align: right;\n",
       "    }\n",
       "</style>\n",
       "<table border=\"1\" class=\"dataframe\">\n",
       "  <thead>\n",
       "    <tr style=\"text-align: right;\">\n",
       "      <th></th>\n",
       "      <th>n_samples</th>\n",
       "      <th>l1_error_norm</th>\n",
       "      <th>fit_time</th>\n",
       "    </tr>\n",
       "  </thead>\n",
       "  <tbody>\n",
       "    <tr>\n",
       "      <th>0</th>\n",
       "      <td>10</td>\n",
       "      <td>1.011617</td>\n",
       "      <td>67.379663</td>\n",
       "    </tr>\n",
       "    <tr>\n",
       "      <th>1</th>\n",
       "      <td>15</td>\n",
       "      <td>1.006774</td>\n",
       "      <td>67.814211</td>\n",
       "    </tr>\n",
       "    <tr>\n",
       "      <th>2</th>\n",
       "      <td>20</td>\n",
       "      <td>1.003288</td>\n",
       "      <td>74.080531</td>\n",
       "    </tr>\n",
       "    <tr>\n",
       "      <th>3</th>\n",
       "      <td>25</td>\n",
       "      <td>0.996785</td>\n",
       "      <td>74.306241</td>\n",
       "    </tr>\n",
       "  </tbody>\n",
       "</table>\n",
       "</div>"
      ],
      "text/plain": [
       "   n_samples  l1_error_norm   fit_time\n",
       "0         10       1.011617  67.379663\n",
       "1         15       1.006774  67.814211\n",
       "2         20       1.003288  74.080531\n",
       "3         25       0.996785  74.306241"
      ]
     },
     "execution_count": 9,
     "metadata": {},
     "output_type": "execute_result"
    }
   ],
   "source": [
    "evaluation_resuts_df"
   ]
  },
  {
   "cell_type": "markdown",
   "id": "9a70a509-00ef-4eb5-85f7-ffd1508c4752",
   "metadata": {},
   "source": [
    "## Plot results"
   ]
  },
  {
   "cell_type": "code",
   "execution_count": 10,
   "id": "52d12135-44a4-45b6-844b-629e83b8e22e",
   "metadata": {},
   "outputs": [
    {
     "data": {
      "image/png": "[encoded data removed]",
      "text/plain": [
       "<Figure size 432x288 with 1 Axes>"
      ]
     },
     "metadata": {
      "needs_background": "light"
     },
     "output_type": "display_data"
    }
   ],
   "source": [
    "# Plot run-time\n",
    "plt.plot(evaluation_resuts_df.n_samples.to_numpy(), evaluation_resuts_df.fit_time.to_numpy())\n",
    "plt.xlabel(\"Number of deconvolved bulk samples\")\n",
    "plt.ylabel(\"Time (s)\")\n",
    "plt.title(\"Run time against number of samples \\n (GP)\")\n",
    "plt.show()"
   ]
  },
  {
   "cell_type": "code",
   "execution_count": 11,
   "id": "nuclear-weekend",
   "metadata": {},
   "outputs": [
    {
     "data": {
      "image/png": "[encoded data removed]",
      "text/plain": [
       "<Figure size 432x288 with 1 Axes>"
      ]
     },
     "metadata": {
      "needs_background": "light"
     },
     "output_type": "display_data"
    }
   ],
   "source": [
    "# Plot L1 loss\n",
    "plt.plot(evaluation_resuts_df.n_samples.to_numpy(), evaluation_resuts_df.l1_error_norm.to_numpy())\n",
    "plt.xlabel(\"Number of simulated samples\")\n",
    "plt.ylabel(\"Normalized L1 error\")\n",
    "plt.title(\"Normalized L1 error against number of samples \\n (GP)\")\n",
    "plt.ylim(0.75,1.25)\n",
    "plt.show()"
   ]
  }
 ],
 "metadata": {
  "environment": {
   "name": "pytorch-gpu.1-7.m65",
   "type": "gcloud",
   "uri": "gcr.io/deeplearning-platform-release/pytorch-gpu.1-7:m65"
  },
  "kernelspec": {
   "display_name": "Python 3 (ipykernel)",
   "language": "python",
   "name": "python3"
  },
  "language_info": {
   "codemirror_mode": {
    "name": "ipython",
    "version": 3
   },
   "file_extension": ".py",
   "mimetype": "text/x-python",
   "name": "python",
   "nbconvert_exporter": "python",
   "pygments_lexer": "ipython3",
   "version": "3.9.7"
  }
 },
 "nbformat": 4,
 "nbformat_minor": 5
}
