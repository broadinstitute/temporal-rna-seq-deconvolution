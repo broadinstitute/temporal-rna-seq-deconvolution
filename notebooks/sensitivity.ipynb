{
 "cells": [
  {
   "cell_type": "markdown",
   "id": "initial-grace",
   "metadata": {},
   "source": [
    "## Evaluate result sensitivity to params\n",
    "\n",
    "In this notebook we deconvolve the ebov macaque blood samples using a matched seq-well reference."
   ]
  },
  {
   "cell_type": "code",
   "execution_count": 1,
   "id": "behind-receiver",
   "metadata": {},
   "outputs": [],
   "source": [
    "import matplotlib.pylab as plt"
   ]
  },
  {
   "cell_type": "code",
   "execution_count": 2,
   "id": "frequent-potato",
   "metadata": {},
   "outputs": [],
   "source": [
    "import torch\n",
    "from ternadecov.time_deconv import *\n",
    "from ternadecov.simulator import *\n",
    "from ternadecov.stats_helpers import *\n",
    "from ternadecov.deconvolution_plotter import *"
   ]
  },
  {
   "cell_type": "markdown",
   "id": "southern-junction",
   "metadata": {},
   "source": [
    "# Configuration"
   ]
  },
  {
   "cell_type": "code",
   "execution_count": 3,
   "id": "dried-arrival",
   "metadata": {},
   "outputs": [],
   "source": [
    "device = torch.device(\"cpu:0\")\n",
    "dtype = torch.float32\n",
    "dtype_np = np.float32\n",
    "n_iters = 1_000"
   ]
  },
  {
   "cell_type": "markdown",
   "id": "failing-specification",
   "metadata": {},
   "source": [
    "# Load data"
   ]
  },
  {
   "cell_type": "code",
   "execution_count": 4,
   "id": "349f7896-ba93-4926-a8a8-dbaefd8e9fd7",
   "metadata": {},
   "outputs": [],
   "source": [
    "machine_name = 'remote'\n",
    "    \n",
    "if machine_name == 'remote':\n",
    "    sc_anndata_path = \"/home/nbarkas/disk2/deconvolution_method/datasets/ebov/02-EBOV_bulk/load_data_python/ebov_sc.h5ad\"\n",
    "    bulk_anndata_path = \"/home/nbarkas/disk2/deconvolution_method/datasets/ebov/02-EBOV_bulk/load_data_python/ebov_bulk.h5ad\"\n",
    "if machine_name == 'local':\n",
    "    bulk_anndata_path = \"/home/nbarkas/disk1/work/deconvolution_method/datasets/ebov/load_data_python/ebov_bulk.h5ad\"\n",
    "    sc_anndata_path = \"/home/nbarkas/disk1/work/deconvolution_method/datasets/ebov/load_data_python/ebov_sc.h5ad\""
   ]
  },
  {
   "cell_type": "code",
   "execution_count": 5,
   "id": "organic-strip",
   "metadata": {},
   "outputs": [],
   "source": [
    "with open(bulk_anndata_path, 'rb') as fh:\n",
    "    bulk_anndata = anndata.read_h5ad(fh)\n",
    "with open(sc_anndata_path, 'rb') as fh:\n",
    "    sc_anndata = anndata.read_h5ad(fh)"
   ]
  },
  {
   "cell_type": "code",
   "execution_count": 6,
   "id": "alike-audio",
   "metadata": {},
   "outputs": [],
   "source": [
    "# select samples only after or on tp 0 \n",
    "bulk_anndata = bulk_anndata[bulk_anndata.obs['dpi_time'] >= 0,]"
   ]
  },
  {
   "cell_type": "code",
   "execution_count": 7,
   "id": "dbdccaa5-0eac-44a8-adf7-1d94b6dd8138",
   "metadata": {},
   "outputs": [],
   "source": [
    "n_iters = 100"
   ]
  },
  {
   "cell_type": "code",
   "execution_count": 8,
   "id": "289f7451-ac4d-4c0d-a659-52e5c363c647",
   "metadata": {},
   "outputs": [],
   "source": [
    "def evaluate_deconvolution(sc_anndata, bulk_anndata, hyperparameters = None, n_iters = 1_000):\n",
    "    ebov_dataset = DeconvolutionDataset(\n",
    "        sc_anndata = sc_anndata,\n",
    "        sc_celltype_col = \"Subclustering_reduced\",\n",
    "        bulk_anndata = bulk_anndata,\n",
    "        bulk_time_col = \"dpi_time\",\n",
    "        dtype_np = dtype_np,\n",
    "        dtype = dtype,\n",
    "        device=device,\n",
    "        feature_selection_method = 'single_cell_od',\n",
    "        verbose=False,\n",
    "\n",
    "    )\n",
    "    \n",
    "    pseudo_time_reg_deconv = TimeRegularizedDeconvolutionModel(\n",
    "        dataset=ebov_dataset,\n",
    "        trajectory_model_type='gp',\n",
    "        device=device,\n",
    "        dtype=dtype,\n",
    "        hyperparameters = hyperparameters,\n",
    "    )\n",
    "    \n",
    "    pseudo_time_reg_deconv.fit_model(\n",
    "        n_iters=n_iters, \n",
    "        verbose=False, \n",
    "        log_frequency=1000,\n",
    "        keep_param_store_history=False,\n",
    "        clear_param_store=True)\n",
    "    \n",
    "    traj = pseudo_time_reg_deconv.population_proportion_model.get_composition_trajectories(\n",
    "                pseudo_time_reg_deconv.dataset, n_intervals=100\n",
    "            )\n",
    "    \n",
    "    return traj"
   ]
  },
  {
   "cell_type": "markdown",
   "id": "225cde18-5bb4-41c3-92cd-fad7dd02eaa6",
   "metadata": {},
   "source": [
    "### Vary beta prior scale"
   ]
  },
  {
   "cell_type": "code",
   "execution_count": null,
   "id": "b2336445-2cba-4b5a-b9b3-7c604200b0dc",
   "metadata": {},
   "outputs": [
    {
     "name": "stdout",
     "output_type": "stream",
     "text": [
      "Evaluating with beta_prior_scale = 1.0 ...\n"
     ]
    }
   ],
   "source": [
    "start = 1.\n",
    "end = 10.\n",
    "num = 10\n",
    "\n",
    "results = {}\n",
    "\n",
    "for i, v in enumerate(np.linspace(start, end, num)):\n",
    "    print(f'Evaluating with beta_prior_scale = {v} ...')\n",
    "    p = TimeRegularizedDeconvolutionModelParametrization()\n",
    "    p.log_beta_prior_scale = v\n",
    "    results[v] = evaluate_deconvolution(sc_anndata, bulk_anndata, hyperparameters = p, n_iters = 10_000)"
   ]
  },
  {
   "cell_type": "code",
   "execution_count": null,
   "id": "08cfe85a-ffbf-4bf1-8ad6-b590c62a937b",
   "metadata": {},
   "outputs": [],
   "source": [
    "keys = list(results.keys())\n",
    "n = len(keys)\n",
    "nr = math.ceil(math.sqrt(n))\n",
    "nc = math.floor(math.sqrt(n))\n",
    "\n",
    "fig, ax = matplotlib.pyplot.subplots(nr,nc, figsize=(10,10))\n",
    "\n",
    "for k in range(len(keys)):\n",
    "    traj = results[keys[k]]\n",
    "    cur_ax = ax[k // nr, k % nr]\n",
    "    cur_ax.plot(\n",
    "        traj[\"true_times_z\"], traj[\"norm_comp_tc\"],\n",
    "    )\n",
    "    cur_ax.set_title(f'beta_prior_scale = {keys[k]}')\n",
    "    cur_ax.set_xlabel(\"Time\")\n",
    "    \n",
    "fig.tight_layout()"
   ]
  },
  {
   "cell_type": "code",
   "execution_count": null,
   "id": "2b236ab9-79cf-4d47-b057-abf38faf3171",
   "metadata": {},
   "outputs": [],
   "source": []
  }
 ],
 "metadata": {
  "environment": {
   "name": "pytorch-gpu.1-7.m65",
   "type": "gcloud",
   "uri": "gcr.io/deeplearning-platform-release/pytorch-gpu.1-7:m65"
  },
  "kernelspec": {
   "display_name": "Python 3 (ipykernel)",
   "language": "python",
   "name": "python3"
  },
  "language_info": {
   "codemirror_mode": {
    "name": "ipython",
    "version": 3
   },
   "file_extension": ".py",
   "mimetype": "text/x-python",
   "name": "python",
   "nbconvert_exporter": "python",
   "pygments_lexer": "ipython3",
   "version": "3.9.7"
  }
 },
 "nbformat": 4,
 "nbformat_minor": 5
}
