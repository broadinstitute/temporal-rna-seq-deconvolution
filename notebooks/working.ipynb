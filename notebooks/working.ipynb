{
 "cells": [
  {
   "cell_type": "markdown",
   "id": "complete-importance",
   "metadata": {},
   "source": [
    "# Working Notebook"
   ]
  },
  {
   "cell_type": "code",
   "execution_count": null,
   "id": "demanding-fusion",
   "metadata": {},
   "outputs": [],
   "source": [
    "import torch\n",
    "from ternadecov.time_deconv_simulator import *\n",
    "from ternadecov.time_deconv import *\n",
    "from ternadecov.hypercluster import *\n",
    "from ternadecov.evaluation import *"
   ]
  },
  {
   "cell_type": "markdown",
   "id": "early-guinea",
   "metadata": {},
   "source": [
    "# Configure"
   ]
  },
  {
   "cell_type": "code",
   "execution_count": null,
   "id": "numeric-survey",
   "metadata": {},
   "outputs": [],
   "source": [
    "device = torch.device(\"cuda:0\")\n",
    "dtype = torch.float32\n",
    "dtype_np = np.float32\n",
    "\n",
    "n_iters = 1000"
   ]
  },
  {
   "cell_type": "markdown",
   "id": "average-least",
   "metadata": {},
   "source": [
    "# Load data"
   ]
  },
  {
   "cell_type": "code",
   "execution_count": null,
   "id": "rolled-stress",
   "metadata": {},
   "outputs": [],
   "source": [
    "bulk_anndata_path = \"/home/nbarkas/disk1/work/deconvolution_method/datasets/ebov/load_data_python/ebov_bulk.h5ad\"\n",
    "sc_anndata_path = \"/home/nbarkas/disk1/work/deconvolution_method/datasets/ebov/load_data_python/ebov_sc.h5ad\""
   ]
  },
  {
   "cell_type": "code",
   "execution_count": null,
   "id": "trained-japan",
   "metadata": {},
   "outputs": [],
   "source": [
    "with open(bulk_anndata_path, 'rb') as fh:\n",
    "    bulk_anndata  = anndata.read_h5ad(fh)"
   ]
  },
  {
   "cell_type": "code",
   "execution_count": null,
   "id": "effective-boston",
   "metadata": {},
   "outputs": [],
   "source": [
    "with open(sc_anndata_path, 'rb') as fh:\n",
    "    sc_anndata = anndata.read_h5ad(fh)"
   ]
  },
  {
   "cell_type": "code",
   "execution_count": null,
   "id": "material-twelve",
   "metadata": {},
   "outputs": [],
   "source": [
    "# select samples only after or on tp 0\n",
    "bulk_anndata = bulk_anndata[bulk_anndata.obs['dpi_time'] >= 0,]"
   ]
  },
  {
   "cell_type": "code",
   "execution_count": null,
   "id": "encouraging-hardwood",
   "metadata": {},
   "outputs": [],
   "source": [
    "ebov_dataset = DeconvolutionDataset(\n",
    "    sc_anndata = sc_anndata,\n",
    "    sc_celltype_col = \"Subclustering_reduced\",\n",
    "    bulk_anndata = bulk_anndata,\n",
    "    bulk_time_col = \"dpi_time\",\n",
    "    dtype_np = dtype_np,\n",
    "    dtype = dtype,\n",
    "    device=device,\n",
    "    feature_selection_method = 'overdispersed_bulk_and_high_sc',\n",
    "    hypercluster = False,\n",
    ")"
   ]
  },
  {
   "cell_type": "markdown",
   "id": "endless-kernel",
   "metadata": {},
   "source": [
    "# Run Deconvolution"
   ]
  },
  {
   "cell_type": "code",
   "execution_count": null,
   "id": "relative-spouse",
   "metadata": {},
   "outputs": [],
   "source": [
    "pseudo_time_reg_deconv = TimeRegularizedDeconvolution(\n",
    "    dataset=ebov_dataset,\n",
    "    polynomial_degree = 5,\n",
    "    basis_functions = \"polynomial\",\n",
    "    device=device,\n",
    "    dtype=dtype\n",
    ")"
   ]
  },
  {
   "cell_type": "code",
   "execution_count": null,
   "id": "fossil-appreciation",
   "metadata": {},
   "outputs": [],
   "source": [
    "pseudo_time_reg_deconv.fit_model(n_iters=n_iters, verbose=True, log_frequency=1000)"
   ]
  },
  {
   "cell_type": "markdown",
   "id": "offshore-console",
   "metadata": {},
   "source": [
    "# Examine Outputs"
   ]
  },
  {
   "cell_type": "code",
   "execution_count": null,
   "id": "horizontal-chart",
   "metadata": {},
   "outputs": [],
   "source": [
    "# plot the losses\n",
    "pseudo_time_reg_deconv.plot_loss()"
   ]
  },
  {
   "cell_type": "code",
   "execution_count": null,
   "id": "incorporate-above",
   "metadata": {},
   "outputs": [],
   "source": [
    "r = pseudo_time_reg_deconv.calculate_composition_trajectories(n_intervals = 1000, return_vals=True)"
   ]
  },
  {
   "cell_type": "code",
   "execution_count": null,
   "id": "domestic-leader",
   "metadata": {},
   "outputs": [],
   "source": []
  },
  {
   "cell_type": "code",
   "execution_count": null,
   "id": "pressing-concept",
   "metadata": {},
   "outputs": [],
   "source": [
    "pseudo_time_reg_deconv.plot_composition_trajectories(show_hypercluster=True)"
   ]
  },
  {
   "cell_type": "code",
   "execution_count": null,
   "id": "induced-barcelona",
   "metadata": {},
   "outputs": [],
   "source": [
    "pseudo_time_reg_deconv.plot_composition_trajectories()"
   ]
  },
  {
   "cell_type": "code",
   "execution_count": null,
   "id": "respective-coverage",
   "metadata": {},
   "outputs": [],
   "source": [
    "# examine the per-gene dispersions\n",
    "pseudo_time_reg_deconv.plot_phi_g_distribution()"
   ]
  },
  {
   "cell_type": "code",
   "execution_count": null,
   "id": "certain-store",
   "metadata": {},
   "outputs": [],
   "source": [
    "# examine the gene capture coefficients\n",
    "pseudo_time_reg_deconv.plot_beta_g_distribution()"
   ]
  },
  {
   "cell_type": "markdown",
   "id": "welsh-median",
   "metadata": {},
   "source": [
    "# Plot per sample deconvolution"
   ]
  },
  {
   "cell_type": "code",
   "execution_count": null,
   "id": "harmful-pendant",
   "metadata": {},
   "outputs": [],
   "source": [
    "import matplotlib.pyplot as plt\n",
    "import matplotlib.colors as mcolors"
   ]
  },
  {
   "cell_type": "code",
   "execution_count": null,
   "id": "civil-division",
   "metadata": {},
   "outputs": [],
   "source": [
    "pseudo_time_reg_deconv.plot_sample_compositions_scatter()"
   ]
  },
  {
   "cell_type": "code",
   "execution_count": null,
   "id": "ceramic-index",
   "metadata": {},
   "outputs": [],
   "source": [
    "pseudo_time_reg_deconv.plot_sample_compositions_scatter(ignore_hypercluster=True)\n",
    "matplotlib.pyplot.show()"
   ]
  },
  {
   "cell_type": "code",
   "execution_count": null,
   "id": "leading-scholarship",
   "metadata": {},
   "outputs": [],
   "source": [
    "pseudo_time_reg_deconv.plot_sample_compositions_boxplot()\n",
    "matplotlib.pyplot.show()"
   ]
  },
  {
   "cell_type": "markdown",
   "id": "f72d89c0-f2b7-4dcb-914c-87dd410d3fc1",
   "metadata": {},
   "source": [
    "# Exporting"
   ]
  },
  {
   "cell_type": "code",
   "execution_count": null,
   "id": "07b526db-bfd4-4cb8-8157-600b537ede54",
   "metadata": {},
   "outputs": [],
   "source": [
    "pseudo_time_reg_deconv.write_sample_compositions('export_file1.csv')"
   ]
  }
 ],
 "metadata": {
  "environment": {
   "name": "pytorch-gpu.1-7.m65",
   "type": "gcloud",
   "uri": "gcr.io/deeplearning-platform-release/pytorch-gpu.1-7:m65"
  },
  "kernelspec": {
   "display_name": "Python 3 (ipykernel)",
   "language": "python",
   "name": "python3"
  },
  "language_info": {
   "codemirror_mode": {
    "name": "ipython",
    "version": 3
   },
   "file_extension": ".py",
   "mimetype": "text/x-python",
   "name": "python",
   "nbconvert_exporter": "python",
   "pygments_lexer": "ipython3",
   "version": "3.9.7"
  }
 },
 "nbformat": 4,
 "nbformat_minor": 5
}
