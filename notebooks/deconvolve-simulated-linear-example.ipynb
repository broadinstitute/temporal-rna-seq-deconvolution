{
 "cells": [
  {
   "cell_type": "markdown",
   "id": "recovered-geology",
   "metadata": {},
   "source": [
    "# Deconvolving simulated data generated with linear functions"
   ]
  },
  {
   "cell_type": "code",
   "execution_count": null,
   "id": "nutritional-focus",
   "metadata": {},
   "outputs": [],
   "source": [
    "import torch\n",
    "from time_deconv.time_deconv_simulator import *\n",
    "from time_deconv.time_deconv import *"
   ]
  },
  {
   "cell_type": "markdown",
   "id": "caroline-signal",
   "metadata": {},
   "source": [
    "# Configure"
   ]
  },
  {
   "cell_type": "code",
   "execution_count": null,
   "id": "thousand-raise",
   "metadata": {},
   "outputs": [],
   "source": [
    "device = torch.device(\"cuda:0\")\n",
    "dtype = torch.float32\n",
    "dtype_np = np.float32"
   ]
  },
  {
   "cell_type": "markdown",
   "id": "acoustic-magnitude",
   "metadata": {},
   "source": [
    "# Load data"
   ]
  },
  {
   "cell_type": "code",
   "execution_count": null,
   "id": "geological-grocery",
   "metadata": {},
   "outputs": [],
   "source": [
    "bulk_anndata_path = \"/home/nbarkas/disk1/work/deconvolution_method/datasets/ebov/load_data_python/ebov_bulk.h5ad\"\n",
    "sc_anndata_path = \"/home/nbarkas/disk1/work/deconvolution_method/datasets/ebov/load_data_python/ebov_sc.h5ad\""
   ]
  },
  {
   "cell_type": "code",
   "execution_count": null,
   "id": "meaning-neighbor",
   "metadata": {},
   "outputs": [],
   "source": [
    "with open(bulk_anndata_path, 'rb') as fh:\n",
    "    bulk_anndata  = anndata.read_h5ad(fh)\n",
    "with open(sc_anndata_path, 'rb') as fh:\n",
    "    sc_anndata = anndata.read_h5ad(fh)"
   ]
  },
  {
   "cell_type": "code",
   "execution_count": null,
   "id": "spare-senate",
   "metadata": {},
   "outputs": [],
   "source": [
    "# select samples only after or on tp 0\n",
    "bulk_anndata = bulk_anndata[bulk_anndata.obs['dpi_time'] >= 0,]"
   ]
  },
  {
   "cell_type": "code",
   "execution_count": null,
   "id": "comparative-dallas",
   "metadata": {},
   "outputs": [],
   "source": []
  },
  {
   "cell_type": "code",
   "execution_count": null,
   "id": "interstate-earthquake",
   "metadata": {},
   "outputs": [],
   "source": [
    "bulk_anndata.var.index"
   ]
  },
  {
   "cell_type": "code",
   "execution_count": null,
   "id": "stone-helena",
   "metadata": {},
   "outputs": [],
   "source": [
    "selected_genes = list(('CCNF', 'TEDC2', 'NAGA'))"
   ]
  },
  {
   "cell_type": "code",
   "execution_count": null,
   "id": "super-voluntary",
   "metadata": {},
   "outputs": [],
   "source": [
    "selected_genes"
   ]
  },
  {
   "cell_type": "code",
   "execution_count": null,
   "id": "composite-nightmare",
   "metadata": {},
   "outputs": [],
   "source": [
    "sc_anndata.var.index.isin(selected_genes)"
   ]
  },
  {
   "cell_type": "code",
   "execution_count": null,
   "id": "answering-rolling",
   "metadata": {},
   "outputs": [],
   "source": [
    "sc_anndata[:, selected_genes]"
   ]
  },
  {
   "cell_type": "code",
   "execution_count": null,
   "id": "coupled-exception",
   "metadata": {},
   "outputs": [],
   "source": [
    "ebov_dataset = DeconvolutionDataset(\n",
    "    sc_anndata = sc_anndata,\n",
    "    sc_celltype_col = \"Subclustering_reduced\",\n",
    "    bulk_anndata = bulk_anndata,\n",
    "    bulk_time_col = \"dpi_time\",\n",
    "    dtype_np = dtype_np,\n",
    "    dtype = dtype,\n",
    "    device=device,\n",
    "    feature_selection_method = 'overdispersed_bulk_and_high_sc' #'overdispersed_bulk'\n",
    ")"
   ]
  },
  {
   "cell_type": "markdown",
   "id": "appropriate-forge",
   "metadata": {},
   "source": [
    "# Run Deconvolution"
   ]
  },
  {
   "cell_type": "code",
   "execution_count": null,
   "id": "injured-scientist",
   "metadata": {},
   "outputs": [],
   "source": [
    "pseudo_time_reg_deconv = TimeRegularizedDeconvolution(\n",
    "    dataset=ebov_dataset,\n",
    "    polynomial_degree = 5,\n",
    "    basis_functions = \"polynomial\",\n",
    "    device=device,\n",
    "    dtype=dtype)"
   ]
  },
  {
   "cell_type": "code",
   "execution_count": null,
   "id": "loose-victorian",
   "metadata": {},
   "outputs": [],
   "source": [
    "pseudo_time_reg_deconv.fit_model(n_iters=5_001, verbose=True, log_frequency=1000)"
   ]
  },
  {
   "cell_type": "markdown",
   "id": "unlimited-source",
   "metadata": {},
   "source": [
    "# Examine Outputs"
   ]
  },
  {
   "cell_type": "code",
   "execution_count": null,
   "id": "requested-significance",
   "metadata": {},
   "outputs": [],
   "source": [
    "# plot the losses\n",
    "pseudo_time_reg_deconv.plot_loss()"
   ]
  },
  {
   "cell_type": "code",
   "execution_count": null,
   "id": "worldwide-success",
   "metadata": {},
   "outputs": [],
   "source": [
    "# calculate and plot composition trajectories\n",
    "pseudo_time_reg_deconv.calculate_composition_trajectories(n_intervals = 1000)\n",
    "pseudo_time_reg_deconv.plot_composition_trajectories()"
   ]
  },
  {
   "cell_type": "code",
   "execution_count": null,
   "id": "victorian-knock",
   "metadata": {},
   "outputs": [],
   "source": [
    "# examine the per-gene dispersions\n",
    "pseudo_time_reg_deconv.plot_phi_g_distribution()"
   ]
  },
  {
   "cell_type": "code",
   "execution_count": null,
   "id": "signed-fisher",
   "metadata": {},
   "outputs": [],
   "source": [
    "# examine the gene capture coefficients\n",
    "pseudo_time_reg_deconv.plot_beta_g_distribution()\n",
    "matplotlib.pyplot.yscale('log')"
   ]
  },
  {
   "cell_type": "markdown",
   "id": "illegal-command",
   "metadata": {},
   "source": [
    "# Simulation"
   ]
  },
  {
   "cell_type": "code",
   "execution_count": null,
   "id": "tamil-islam",
   "metadata": {},
   "outputs": [],
   "source": [
    "# Simulate and plot 100 samples from a random trajectory \n",
    "# based on linear functions through a softmax\n",
    "\n",
    "sim_res = simulate_data(\n",
    "    num_samples=100, \n",
    "    reference_deconvolution=pseudo_time_reg_deconv, \n",
    "    trajectory_type='linear')\n",
    "\n",
    "plot_simulated_proportions(sim_res)\n",
    "matplotlib.pyplot.tight_layout()\n",
    "matplotlib.pyplot.show()"
   ]
  },
  {
   "cell_type": "code",
   "execution_count": null,
   "id": "geological-testing",
   "metadata": {},
   "outputs": [],
   "source": [
    "# Generate input AnnData object from the above simulation\n",
    "simulated_bulk = generate_anndata_from_sim(\n",
    "    sim_res, \n",
    "    reference_deconvolution = pseudo_time_reg_deconv)\n",
    "\n",
    "# Generate a deconvolution dataset\n",
    "ebov_simulated_dataset = DeconvolutionDataset(\n",
    "    sc_anndata = sc_anndata,\n",
    "    sc_celltype_col = \"Subclustering_reduced\",\n",
    "    bulk_anndata = simulated_bulk,\n",
    "    bulk_time_col = \"time\",\n",
    "    dtype_np = dtype_np,\n",
    "    dtype = dtype,\n",
    "    device = device,\n",
    "    feature_selection_method = 'common' \n",
    ")"
   ]
  },
  {
   "cell_type": "code",
   "execution_count": null,
   "id": "latin-jefferson",
   "metadata": {},
   "outputs": [],
   "source": [
    "# Set-up and run the deconvolution\n",
    "pseudo_time_reg_deconv_sim = TimeRegularizedDeconvolution(\n",
    "    dataset=ebov_simulated_dataset,\n",
    "    polynomial_degree = 20,\n",
    "    basis_functions = \"polynomial\",\n",
    "    device=device,\n",
    "    dtype=dtype)\n",
    "\n",
    "pseudo_time_reg_deconv_sim.fit_model(\n",
    "    n_iters=5_001, \n",
    "    verbose=True, \n",
    "    log_frequency=1000\n",
    ")"
   ]
  },
  {
   "cell_type": "markdown",
   "id": "abroad-clause",
   "metadata": {},
   "source": [
    "# Examine Outputs"
   ]
  },
  {
   "cell_type": "code",
   "execution_count": null,
   "id": "damaged-commitment",
   "metadata": {},
   "outputs": [],
   "source": [
    "pseudo_time_reg_deconv_sim.plot_loss()"
   ]
  },
  {
   "cell_type": "code",
   "execution_count": null,
   "id": "religious-animal",
   "metadata": {},
   "outputs": [],
   "source": [
    "pseudo_time_reg_deconv_sim.calculate_composition_trajectories(n_intervals = 1000)\n",
    "pseudo_time_reg_deconv_sim.plot_composition_trajectories()"
   ]
  },
  {
   "cell_type": "code",
   "execution_count": null,
   "id": "strong-syracuse",
   "metadata": {},
   "outputs": [],
   "source": [
    "# examine the per-gene dispersions\n",
    "pseudo_time_reg_deconv.plot_phi_g_distribution()"
   ]
  },
  {
   "cell_type": "code",
   "execution_count": null,
   "id": "joint-implementation",
   "metadata": {},
   "outputs": [],
   "source": [
    "# examine the gene capture coefficients\n",
    "pseudo_time_reg_deconv.plot_beta_g_distribution()\n",
    "matplotlib.pyplot.yscale('log')"
   ]
  },
  {
   "cell_type": "code",
   "execution_count": null,
   "id": "absolute-immigration",
   "metadata": {},
   "outputs": [],
   "source": [
    "# examine the alphas\n",
    "\n",
    "alphas = list(pseudo_time_reg_deconv.param_store_hist[i]['dirichlet_alpha'] for i in range(len(pseudo_time_reg_deconv.param_store_hist)))\n",
    "\n",
    "fig, ax = matplotlib.pyplot.subplots(1,2)\n",
    "\n",
    "ax[0].plot(alphas)\n",
    "ax[0].set_title(r'Dirichlet $ \\alpha $ Values')\n",
    "\n",
    "ax[1].plot(alphas[-500:])\n",
    "ax[1].set_title(r'Last few Dirichlet $ \\alpha $ Values')"
   ]
  },
  {
   "cell_type": "markdown",
   "id": "active-comment",
   "metadata": {},
   "source": [
    "## Evaluate with variable alpha"
   ]
  },
  {
   "cell_type": "code",
   "execution_count": null,
   "id": "grateful-madonna",
   "metadata": {},
   "outputs": [],
   "source": [
    "alpha_vals = list(10**(x -1 ) for x in range(4)) \n",
    "alpha_vals"
   ]
  },
  {
   "cell_type": "code",
   "execution_count": null,
   "id": "previous-shell",
   "metadata": {},
   "outputs": [],
   "source": [
    "# Use a single trajectory for all iterations\n",
    "trajectory_coef = sample_linear_trajectories(num_cell_types = pseudo_time_reg_deconv.w_hat_gc.shape[1])"
   ]
  },
  {
   "cell_type": "code",
   "execution_count": null,
   "id": "preliminary-florence",
   "metadata": {},
   "outputs": [],
   "source": [
    "df_a = []\n",
    "l1_error = []\n",
    "\n",
    "for a in alpha_vals:\n",
    "    sim_res = simulate_data(\n",
    "        num_samples=100, \n",
    "        reference_deconvolution=pseudo_time_reg_deconv, \n",
    "        trajectory_type='linear', \n",
    "        dirichlet_alpha = a,\n",
    "        trajectory_coef = trajectory_coef\n",
    "    )\n",
    "    \n",
    "    plot_simulated_proportions(sim_res)\n",
    "    \n",
    "    simulated_bulk = generate_anndata_from_sim(sim_res, reference_deconvolution=pseudo_time_reg_deconv)\n",
    "    \n",
    "    ebov_simulated_dataset = DeconvolutionDataset(\n",
    "        sc_anndata = sc_anndata,\n",
    "        sc_celltype_col = \"Subclustering_reduced\",\n",
    "        bulk_anndata = simulated_bulk,\n",
    "        bulk_time_col = \"time\",\n",
    "        dtype_np = dtype_np,\n",
    "        dtype = dtype,\n",
    "        device = device,\n",
    "        feature_selection_method = 'common' \n",
    "    )\n",
    "    \n",
    "    pseudo_time_reg_deconv_sim = TimeRegularizedDeconvolution(\n",
    "        dataset=ebov_simulated_dataset,\n",
    "        polynomial_degree = 3,\n",
    "        basis_functions = \"polynomial\",\n",
    "        device=device,\n",
    "        dtype=dtype)\n",
    "    \n",
    "    pseudo_time_reg_deconv_sim.fit_model(n_iters=5_001, verbose=True, log_frequency=1000)\n",
    "    \n",
    "    errors = calculate_prediction_error(sim_res, pseudo_time_reg_deconv_sim)\n",
    "    df_a.append(a)\n",
    "    l1_error.append(errors['L1_error_norm'])\n",
    "    \n",
    "    pseudo_time_reg_deconv_sim.plot_composition_trajectories()"
   ]
  }
 ],
 "metadata": {
  "environment": {
   "name": "pytorch-gpu.1-7.m65",
   "type": "gcloud",
   "uri": "gcr.io/deeplearning-platform-release/pytorch-gpu.1-7:m65"
  },
  "kernelspec": {
   "display_name": "Python 3 (ipykernel)",
   "language": "python",
   "name": "python3"
  },
  "language_info": {
   "codemirror_mode": {
    "name": "ipython",
    "version": 3
   },
   "file_extension": ".py",
   "mimetype": "text/x-python",
   "name": "python",
   "nbconvert_exporter": "python",
   "pygments_lexer": "ipython3",
   "version": "3.9.7"
  }
 },
 "nbformat": 4,
 "nbformat_minor": 5
}
