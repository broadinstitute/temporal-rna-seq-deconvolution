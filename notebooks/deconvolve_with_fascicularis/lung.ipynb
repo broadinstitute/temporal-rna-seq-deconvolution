{
 "cells": [
  {
   "cell_type": "markdown",
   "id": "initial-grace",
   "metadata": {},
   "source": [
    "## Ebola infected Macaque Sample Composition Trajectory Identification\n",
    "\n",
    "In this notebook we deconvolve the ebov macaque blood samples using a matched seq-well reference."
   ]
  },
  {
   "cell_type": "raw",
   "id": "f0fc65fd-d441-4aae-ae3b-768e97b59a6d",
   "metadata": {},
   "source": [
    "%load_ext autoreload\n",
    "%autoreload 2"
   ]
  },
  {
   "cell_type": "code",
   "execution_count": null,
   "id": "behind-receiver",
   "metadata": {},
   "outputs": [],
   "source": [
    "import matplotlib.pylab as plt"
   ]
  },
  {
   "cell_type": "code",
   "execution_count": null,
   "id": "fb92d2f8-c62d-4af7-a7fc-81182db78b7e",
   "metadata": {},
   "outputs": [],
   "source": [
    "import anndata"
   ]
  },
  {
   "cell_type": "code",
   "execution_count": null,
   "id": "frequent-potato",
   "metadata": {},
   "outputs": [],
   "source": [
    "import torch\n",
    "from ternadecov.time_deconv import *\n",
    "from ternadecov.simulator import *\n",
    "from ternadecov.stats_helpers import *\n",
    "from ternadecov.dataset import *"
   ]
  },
  {
   "cell_type": "markdown",
   "id": "southern-junction",
   "metadata": {},
   "source": [
    "# Configuration"
   ]
  },
  {
   "cell_type": "code",
   "execution_count": null,
   "id": "dried-arrival",
   "metadata": {},
   "outputs": [],
   "source": [
    "device = torch.device(\"cuda:0\")\n",
    "dtype = torch.float32\n",
    "dtype_np = np.float32\n",
    "n_iters = 10_000"
   ]
  },
  {
   "cell_type": "markdown",
   "id": "failing-specification",
   "metadata": {},
   "source": [
    "# Load data"
   ]
  },
  {
   "cell_type": "code",
   "execution_count": null,
   "id": "63815832-0c66-49fd-89ec-047dd62a43f4",
   "metadata": {},
   "outputs": [],
   "source": [
    "location_fascicularis = '/home/nbarkas/disk1/work/deconvolution_method/datasets/ebov/fascicularis/'\n",
    "\n",
    "h5ad_paths = {\n",
    "    # Ebov Datasets\n",
    "    \"bulk_blood\": \"ebov_bulk.h5ad\",\n",
    "    \"sc_blood\": \"/home/nbarkas/disk1/work/deconvolution_method/datasets/ebov/load_data_python/ebov_sc.h5ad\",\n",
    "    \"bulk_all\": \"/home/nbarkas/disk1/work/deconvolution_method/datasets/ebov/all_ebov_bulk.h5ad\",\n",
    "    \n",
    "    # fascicularis\n",
    "    \"sc_adrenal\": f\"{location_fascicularis}/Adrenal_gland.h5ad\",\n",
    "    \"sc_cerebellum\": f\"{location_fascicularis}/Cerebellum.h5ad\",\n",
    "    \"sc_kidney\": f\"{location_fascicularis}/Kidney.h5ad\",\n",
    "    \"sc_liver\": f\"{location_fascicularis}/Liver.h5ad\",\n",
    "    \"sc_lung\": f\"{location_fascicularis}/Lung.h5ad\",\n",
    "    \"sc_lymph_node\": f\"{location_fascicularis}/Lymph_node.h5ad\",\n",
    "    \"sc_neocortex\": f\"{location_fascicularis}/Neocortex.h5ad\",\n",
    "    \"sc_pbmc\": f\"{location_fascicularis}/pbmc.h5ad\",\n",
    "    \"sc_skin\": f\"{location_fascicularis}/Skin.h5ad\",\n",
    "    \"sc_spleen\": f\"{location_fascicularis}/Spleen.h5ad\",\n",
    "    \"sc_subcutaneous_adipose\": f\"{location_fascicularis}/Subcutaneous_adipose.h5ad\",\n",
    "    \"sc_testis\": f\"{location_fascicularis}/Testis.h5ad\",\n",
    "    \"sc_thyroid\": f\"{location_fascicularis}/Thyroid_gland.h5ad\",\n",
    "    \"sc_uterus\": f\"{location_fascicularis}/Uterus.h5ad\",\n",
    "    \"sc_vagina\": f\"{location_fascicularis}/Vagina.h5ad\",\n",
    "}"
   ]
  },
  {
   "cell_type": "code",
   "execution_count": null,
   "id": "76aef5ce-5687-48bd-a061-75f13a0343bd",
   "metadata": {},
   "outputs": [],
   "source": [
    "with open(h5ad_paths['bulk_all'], 'rb') as fh:\n",
    "    all_bulk_anndata = anndata.read_h5ad(fh)"
   ]
  },
  {
   "cell_type": "code",
   "execution_count": null,
   "id": "organic-strip",
   "metadata": {},
   "outputs": [],
   "source": [
    "with open(h5ad_paths['sc_lung'], 'rb') as fh:\n",
    "    sc_anndata = anndata.read_h5ad(fh)"
   ]
  },
  {
   "cell_type": "code",
   "execution_count": null,
   "id": "9e596a0d-1e83-4f88-a8a8-e8cacb41e491",
   "metadata": {},
   "outputs": [],
   "source": [
    "set(all_bulk_anndata.obs['full.tissue'])"
   ]
  },
  {
   "cell_type": "code",
   "execution_count": null,
   "id": "ca50f88e-2ea8-4c9a-b072-7c95c2a973cd",
   "metadata": {},
   "outputs": [],
   "source": [
    "#all_bulk_anndata = all_bulk_anndata[all_bulk_anndata.obs['dpi_time'] >=0,]\n",
    "all_bulk_anndata = all_bulk_anndata[all_bulk_anndata.obs['full.tissue'] == 'Lung',]"
   ]
  },
  {
   "cell_type": "code",
   "execution_count": null,
   "id": "e8a29369-22e3-4fbc-85b1-9c4b1b78a4d0",
   "metadata": {},
   "outputs": [],
   "source": [
    "all_bulk_anndata.var.gene = all_bulk_anndata.var.gene.astype(str)\n",
    "all_bulk_anndata.var = all_bulk_anndata.var.set_index('gene')"
   ]
  },
  {
   "cell_type": "code",
   "execution_count": null,
   "id": "unavailable-territory",
   "metadata": {},
   "outputs": [],
   "source": [
    "ebov_dataset = DeconvolutionDataset(\n",
    "    sc_anndata = sc_anndata,\n",
    "    sc_celltype_col = \"Abbreviation\",\n",
    "    bulk_anndata = all_bulk_anndata,\n",
    "    bulk_time_col = \"dpi_time\",\n",
    "    dtype_np = dtype_np,\n",
    "    dtype = dtype,\n",
    "    device=device,\n",
    "    feature_selection_method = 'overdispersed_bulk_and_high_sc' #'overdispersed_bulk'\n",
    ")"
   ]
  },
  {
   "cell_type": "markdown",
   "id": "attempted-equation",
   "metadata": {},
   "source": [
    "# Run Deconvolution"
   ]
  },
  {
   "cell_type": "code",
   "execution_count": null,
   "id": "flexible-contract",
   "metadata": {},
   "outputs": [],
   "source": [
    "pseudo_time_reg_deconv = TimeRegularizedDeconvolution(\n",
    "    dataset=ebov_dataset,\n",
    "    trajectory_model_type='gp',\n",
    "    device=device,\n",
    "    dtype=dtype)"
   ]
  },
  {
   "cell_type": "code",
   "execution_count": null,
   "id": "above-extension",
   "metadata": {},
   "outputs": [],
   "source": [
    "pseudo_time_reg_deconv.fit_model(n_iters=n_iters, verbose=True, log_frequency=1000, clear_param_store=False)"
   ]
  },
  {
   "cell_type": "markdown",
   "id": "taken-thesis",
   "metadata": {},
   "source": [
    "# Examine Outputs"
   ]
  },
  {
   "cell_type": "code",
   "execution_count": null,
   "id": "legal-strength",
   "metadata": {},
   "outputs": [],
   "source": [
    "# Plot the loses\n",
    "pseudo_time_reg_deconv.plot_loss()"
   ]
  },
  {
   "cell_type": "code",
   "execution_count": null,
   "id": "mental-lawyer",
   "metadata": {},
   "outputs": [],
   "source": [
    "pyro.get_param_store().keys()"
   ]
  },
  {
   "cell_type": "code",
   "execution_count": null,
   "id": "6022e35c-8fb8-4760-9729-f640cd66c101",
   "metadata": {},
   "outputs": [],
   "source": [
    "pseudo_time_reg_deconv.plot_composition_trajectories()"
   ]
  },
  {
   "cell_type": "code",
   "execution_count": null,
   "id": "f7810544-cf6f-4ebc-9de9-1db90539e401",
   "metadata": {},
   "outputs": [],
   "source": [
    "#pseudo_time_reg_deconv.plot_composition_trajectories(show_sampled_trajectories = True, n_samples=500)"
   ]
  },
  {
   "cell_type": "code",
   "execution_count": null,
   "id": "db4cbff4-3d4d-43f6-b1e5-57279c3d428a",
   "metadata": {},
   "outputs": [],
   "source": [
    "pseudo_time_reg_deconv.plot_sample_compositions_scatter()"
   ]
  },
  {
   "cell_type": "code",
   "execution_count": null,
   "id": "f0d08993-ec45-4723-ab00-468e88465e4f",
   "metadata": {},
   "outputs": [],
   "source": [
    "# Do correlation between different cell types"
   ]
  },
  {
   "cell_type": "code",
   "execution_count": null,
   "id": "9d3e79c9-6c6f-4ace-bac9-c5dcc55b5127",
   "metadata": {},
   "outputs": [],
   "source": [
    "pseudo_time_reg_deconv.plot_sample_compositions_boxplot()\n",
    "matplotlib.pyplot.show()"
   ]
  },
  {
   "cell_type": "code",
   "execution_count": null,
   "id": "b5c1e21f-d26d-497d-8a8c-a4a326a3cc91",
   "metadata": {},
   "outputs": [],
   "source": []
  }
 ],
 "metadata": {
  "environment": {
   "name": "pytorch-gpu.1-7.m65",
   "type": "gcloud",
   "uri": "gcr.io/deeplearning-platform-release/pytorch-gpu.1-7:m65"
  },
  "kernelspec": {
   "display_name": "Python 3 (ipykernel)",
   "language": "python",
   "name": "python3"
  },
  "language_info": {
   "codemirror_mode": {
    "name": "ipython",
    "version": 3
   },
   "file_extension": ".py",
   "mimetype": "text/x-python",
   "name": "python",
   "nbconvert_exporter": "python",
   "pygments_lexer": "ipython3",
   "version": "3.9.7"
  }
 },
 "nbformat": 4,
 "nbformat_minor": 5
}
