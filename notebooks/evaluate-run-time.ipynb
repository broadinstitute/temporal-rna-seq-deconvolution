{
 "cells": [
  {
   "cell_type": "markdown",
   "id": "practical-attitude",
   "metadata": {},
   "source": [
    "# Deconvolve simulated data with linear functions, vary number of samples"
   ]
  },
  {
   "cell_type": "code",
   "execution_count": null,
   "id": "educational-rochester",
   "metadata": {},
   "outputs": [],
   "source": [
    "import torch\n",
    "from ternadecov.simulator import *\n",
    "from ternadecov.time_deconv import *\n",
    "from ternadecov.evaluation import *\n",
    "import matplotlib.pyplot as plt"
   ]
  },
  {
   "cell_type": "markdown",
   "id": "blond-cycle",
   "metadata": {},
   "source": [
    "# Configure"
   ]
  },
  {
   "cell_type": "code",
   "execution_count": null,
   "id": "marked-design",
   "metadata": {},
   "outputs": [],
   "source": [
    "device = torch.device(\"cuda:0\")\n",
    "dtype = torch.float32\n",
    "dtype_np = np.float32"
   ]
  },
  {
   "cell_type": "markdown",
   "id": "peaceful-integer",
   "metadata": {},
   "source": [
    "# Load data"
   ]
  },
  {
   "cell_type": "code",
   "execution_count": null,
   "id": "suited-former",
   "metadata": {},
   "outputs": [],
   "source": [
    "bulk_anndata_path = \"/home/nbarkas/disk1/work/deconvolution_method/datasets/ebov/load_data_python/ebov_bulk.h5ad\"\n",
    "sc_anndata_path = \"/home/nbarkas/disk1/work/deconvolution_method/datasets/ebov/load_data_python/ebov_sc.h5ad\""
   ]
  },
  {
   "cell_type": "code",
   "execution_count": null,
   "id": "south-speech",
   "metadata": {},
   "outputs": [],
   "source": [
    "with open(sc_anndata_path, 'rb') as fh:\n",
    "    sc_anndata = anndata.read_h5ad(fh)"
   ]
  },
  {
   "cell_type": "markdown",
   "id": "caroline-while",
   "metadata": {
    "tags": []
   },
   "source": [
    "# Simulate data"
   ]
  },
  {
   "cell_type": "code",
   "execution_count": null,
   "id": "iraqi-difference",
   "metadata": {},
   "outputs": [],
   "source": [
    "ebov_sc_dataset = SingleCellDataset(sc_anndata, sc_celltype_col=\"Subclustering_reduced\", dtype_np=dtype_np, dtype = dtype, device=device)"
   ]
  },
  {
   "cell_type": "code",
   "execution_count": null,
   "id": "better-fiber",
   "metadata": {},
   "outputs": [],
   "source": [
    "# trajectory generating function\n",
    "trajectory_type = 'periodic'\n",
    "n_sample_range = list(range(100,1000,100)) \n",
    "n_sample_range"
   ]
  },
  {
   "cell_type": "code",
   "execution_count": null,
   "id": "first-october",
   "metadata": {},
   "outputs": [],
   "source": [
    "# Use a single trajectory for all iterations\n",
    "trajectory_coef = sample_trajectories(\n",
    "    type = trajectory_type,\n",
    "    num_cell_types = ebov_sc_dataset.w_hat_gc.shape[1]\n",
    ")"
   ]
  },
  {
   "cell_type": "code",
   "execution_count": null,
   "id": "respected-spirituality",
   "metadata": {},
   "outputs": [],
   "source": [
    "n_iters = 3_000\n",
    "\n",
    "n_samples = []\n",
    "l1_error_norm = []\n",
    "fit_time = []\n",
    "\n",
    "for n in n_sample_range:\n",
    "    eval_result = evaluate_with_trajectory(\n",
    "        sc_dataset = ebov_sc_dataset, \n",
    "        n_samples = n, \n",
    "        trajectory_type = trajectory_type, \n",
    "        trajectory_coef = trajectory_coef,\n",
    "        n_iters = n_iters,\n",
    "        dtype_np = dtype_np,\n",
    "        dtype = dtype,\n",
    "        device = device,\n",
    "    )\n",
    "    \n",
    "    n_samples.append(eval_result['n_samples'])\n",
    "    l1_error_norm.append(eval_result['l1_error_norm'])\n",
    "    fit_time.append(eval_result['fit_time'])\n",
    "    \n",
    "evaluation_resuts_df = pd.DataFrame({'n_samples':n_samples, 'l1_error_norm': list(x.item() for x in l1_error_norm), 'fit_time': fit_time})"
   ]
  },
  {
   "cell_type": "code",
   "execution_count": null,
   "id": "7d5cbd22-e19a-4c30-bfa9-a1e8c0bc7045",
   "metadata": {},
   "outputs": [],
   "source": [
    "evaluation_resuts_df = pd.DataFrame({'n_samples':n_samples, 'l1_error_norm': list(x.item() for x in l1_error_norm), 'fit_time': fit_time})"
   ]
  },
  {
   "cell_type": "code",
   "execution_count": null,
   "id": "2ddaa13d-7986-43b4-b6c7-bffce08c7429",
   "metadata": {},
   "outputs": [],
   "source": [
    "evaluation_resuts_df"
   ]
  },
  {
   "cell_type": "markdown",
   "id": "9a70a509-00ef-4eb5-85f7-ffd1508c4752",
   "metadata": {},
   "source": [
    "## Plot"
   ]
  },
  {
   "cell_type": "code",
   "execution_count": null,
   "id": "52d12135-44a4-45b6-844b-629e83b8e22e",
   "metadata": {},
   "outputs": [],
   "source": [
    "# Plot run-time\n",
    "plt.plot(evaluation_resuts_df.n_samples.to_numpy(), evaluation_resuts_df.fit_time.to_numpy())\n",
    "plt.xlabel(\"Number of simulated bulk samples\")\n",
    "plt.ylabel(\"Time (s)\")\n",
    "plt.title(\"Run time against number of samples \\n (3k iter; polynomial-3)\")\n",
    "plt.savefig(\"../results/runtime_vs_bulk-vary_n-3k_iter-polynomial_3.png\", dpi=300)"
   ]
  },
  {
   "cell_type": "code",
   "execution_count": null,
   "id": "nuclear-weekend",
   "metadata": {},
   "outputs": [],
   "source": [
    "# Plot L1 loss\n",
    "plt.plot(evaluation_resuts_df.n_samples.to_numpy(), evaluation_resuts_df.l1_error_norm.to_numpy())\n",
    "plt.xlabel(\"Number of simulated samples\")\n",
    "plt.ylabel(\"Normalized L1 error\")\n",
    "plt.title(\"Normalized L1 error against number of samples \\n (3k iter; polynomial-3)\")\n",
    "plt.ylim(0.75,1.25)\n",
    "plt.savefig(\"../results/NormL1_vs_bulk-vary_n-3k_iter-polynomial_3.png\", dpi=300)"
   ]
  }
 ],
 "metadata": {
  "environment": {
   "name": "pytorch-gpu.1-7.m65",
   "type": "gcloud",
   "uri": "gcr.io/deeplearning-platform-release/pytorch-gpu.1-7:m65"
  },
  "kernelspec": {
   "display_name": "Python 3 (ipykernel)",
   "language": "python",
   "name": "python3"
  },
  "language_info": {
   "codemirror_mode": {
    "name": "ipython",
    "version": 3
   },
   "file_extension": ".py",
   "mimetype": "text/x-python",
   "name": "python",
   "nbconvert_exporter": "python",
   "pygments_lexer": "ipython3",
   "version": "3.9.7"
  }
 },
 "nbformat": 4,
 "nbformat_minor": 5
}
