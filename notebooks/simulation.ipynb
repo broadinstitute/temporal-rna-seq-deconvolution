{
 "cells": [
  {
   "cell_type": "markdown",
   "id": "complete-importance",
   "metadata": {},
   "source": [
    "# Working Notebook"
   ]
  },
  {
   "cell_type": "code",
   "execution_count": null,
   "id": "demanding-fusion",
   "metadata": {},
   "outputs": [],
   "source": [
    "import torch\n",
    "import numpy as np\n",
    "\n",
    "from ternadecov.simulator import *\n",
    "from ternadecov.time_deconv import *\n",
    "from ternadecov.hypercluster import *\n",
    "from ternadecov.evaluation import *\n",
    "from ternadecov.dataset import *"
   ]
  },
  {
   "cell_type": "markdown",
   "id": "early-guinea",
   "metadata": {},
   "source": [
    "# Configure"
   ]
  },
  {
   "cell_type": "code",
   "execution_count": null,
   "id": "numeric-survey",
   "metadata": {},
   "outputs": [],
   "source": [
    "device = torch.device(\"cuda:0\")\n",
    "dtype = torch.float32\n",
    "dtype_np = np.float32\n",
    "\n",
    "n_iters = 1000"
   ]
  },
  {
   "cell_type": "markdown",
   "id": "average-least",
   "metadata": {},
   "source": [
    "# Load data"
   ]
  },
  {
   "cell_type": "code",
   "execution_count": null,
   "id": "rolled-stress",
   "metadata": {},
   "outputs": [],
   "source": [
    "bulk_anndata_path = \"/home/nbarkas/disk1/work/deconvolution_method/datasets/ebov/load_data_python/ebov_bulk.h5ad\"\n",
    "sc_anndata_path = \"/home/nbarkas/disk1/work/deconvolution_method/datasets/ebov/load_data_python/ebov_sc.h5ad\""
   ]
  },
  {
   "cell_type": "code",
   "execution_count": null,
   "id": "trained-japan",
   "metadata": {},
   "outputs": [],
   "source": [
    "with open(bulk_anndata_path, 'rb') as fh:\n",
    "    bulk_anndata  = anndata.read_h5ad(fh)"
   ]
  },
  {
   "cell_type": "code",
   "execution_count": null,
   "id": "effective-boston",
   "metadata": {},
   "outputs": [],
   "source": [
    "with open(sc_anndata_path, 'rb') as fh:\n",
    "    sc_anndata = anndata.read_h5ad(fh)"
   ]
  },
  {
   "cell_type": "markdown",
   "id": "e3c1839d-943c-4463-a7d7-885b4312ebfe",
   "metadata": {},
   "source": [
    "# Simulation"
   ]
  },
  {
   "cell_type": "code",
   "execution_count": null,
   "id": "df0afc4a-e323-4bae-afc6-cb04fb013b88",
   "metadata": {},
   "outputs": [],
   "source": [
    "sc_dataset = SingleCellDataset(\n",
    "    sc_anndata = sc_anndata,\n",
    "    sc_celltype_col = \"Subclustering_reduced\",\n",
    "    dtype_np = dtype_np,\n",
    "    dtype = dtype,\n",
    "    device=device,\n",
    ")"
   ]
  },
  {
   "cell_type": "code",
   "execution_count": null,
   "id": "e784baaf-5b17-43ad-aab8-ed419e9c6cb0",
   "metadata": {},
   "outputs": [],
   "source": [
    "sim_res = simulate_data(\n",
    "    w_hat_gc = torch.Tensor(sc_dataset.w_hat_gc),\n",
    "    num_samples=100, \n",
    "    trajectory_type='linear')"
   ]
  },
  {
   "cell_type": "code",
   "execution_count": null,
   "id": "13e6282d-a9b1-40d9-a207-d3f86f641c3d",
   "metadata": {},
   "outputs": [],
   "source": [
    "sc_anndata.X.shape"
   ]
  },
  {
   "cell_type": "code",
   "execution_count": null,
   "id": "0d1d8e80-88e3-49fb-ae91-694754bb93b9",
   "metadata": {},
   "outputs": [],
   "source": [
    "sc_anndata.obs.shape"
   ]
  },
  {
   "cell_type": "code",
   "execution_count": null,
   "id": "9d6d9717-06fb-4d50-b0bd-dd92eab1fa1a",
   "metadata": {},
   "outputs": [],
   "source": [
    "sc_anndata.obs"
   ]
  },
  {
   "cell_type": "code",
   "execution_count": null,
   "id": "110971b2-a297-48ff-a50a-28080937b10c",
   "metadata": {},
   "outputs": [],
   "source": []
  }
 ],
 "metadata": {
  "environment": {
   "name": "pytorch-gpu.1-7.m65",
   "type": "gcloud",
   "uri": "gcr.io/deeplearning-platform-release/pytorch-gpu.1-7:m65"
  },
  "kernelspec": {
   "display_name": "Python 3 (ipykernel)",
   "language": "python",
   "name": "python3"
  },
  "language_info": {
   "codemirror_mode": {
    "name": "ipython",
    "version": 3
   },
   "file_extension": ".py",
   "mimetype": "text/x-python",
   "name": "python",
   "nbconvert_exporter": "python",
   "pygments_lexer": "ipython3",
   "version": "3.9.7"
  }
 },
 "nbformat": 4,
 "nbformat_minor": 5
}
