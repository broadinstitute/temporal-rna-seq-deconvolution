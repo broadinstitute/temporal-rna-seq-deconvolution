{
 "cells": [
  {
   "cell_type": "markdown",
   "id": "confused-reservoir",
   "metadata": {},
   "source": [
    "# Example of parameter search"
   ]
  },
  {
   "cell_type": "code",
   "execution_count": null,
   "id": "joined-census",
   "metadata": {},
   "outputs": [],
   "source": [
    "import torch\n",
    "import seaborn as sns\n",
    "\n",
    "from time_deconv.time_deconv import *"
   ]
  },
  {
   "cell_type": "markdown",
   "id": "oriental-memphis",
   "metadata": {},
   "source": [
    "## Parameter Configuration"
   ]
  },
  {
   "cell_type": "code",
   "execution_count": null,
   "id": "distinguished-sequence",
   "metadata": {},
   "outputs": [],
   "source": [
    "device = torch.device(\"cuda:0\")\n",
    "dtype = torch.float32\n",
    "dtype_np = np.float32"
   ]
  },
  {
   "cell_type": "markdown",
   "id": "further-reproduction",
   "metadata": {},
   "source": [
    "## Train Base Model"
   ]
  },
  {
   "cell_type": "code",
   "execution_count": null,
   "id": "stopped-administrator",
   "metadata": {},
   "outputs": [],
   "source": [
    "bulk_anndata_path = \"/home/nbarkas/disk1/work/deconvolution_method/datasets/ebov/load_data_python/ebov_bulk.h5ad\"\n",
    "sc_anndata_path = \"/home/nbarkas/disk1/work/deconvolution_method/datasets/ebov/load_data_python/ebov_sc.h5ad\""
   ]
  },
  {
   "cell_type": "code",
   "execution_count": null,
   "id": "assigned-scheduling",
   "metadata": {},
   "outputs": [],
   "source": [
    "with open(bulk_anndata_path, 'rb') as fh:\n",
    "    bulk_anndata  = anndata.read_h5ad(fh)\n",
    "with open(sc_anndata_path, 'rb') as fh:\n",
    "    sc_anndata = anndata.read_h5ad(fh)"
   ]
  },
  {
   "cell_type": "code",
   "execution_count": null,
   "id": "negative-charter",
   "metadata": {},
   "outputs": [],
   "source": [
    "# select samples only after or on tp 0\n",
    "bulk_anndata = bulk_anndata[bulk_anndata.obs['dpi_time'] >= 0,]"
   ]
  },
  {
   "cell_type": "code",
   "execution_count": null,
   "id": "defined-soundtrack",
   "metadata": {},
   "outputs": [],
   "source": [
    "ebov_dataset = DeconvolutionDataset(\n",
    "    sc_anndata = sc_anndata,\n",
    "    sc_celltype_col = \"Subclustering_reduced\",\n",
    "    bulk_anndata = bulk_anndata,\n",
    "    bulk_time_col = \"dpi_time\",\n",
    "    dtype_np = dtype_np,\n",
    "    dtype = dtype,\n",
    "    device=device,\n",
    "    feature_selection_method = 'overdispersed_bulk_and_high_sc' #'overdispersed_bulk'\n",
    ")"
   ]
  },
  {
   "cell_type": "code",
   "execution_count": null,
   "id": "greater-sandwich",
   "metadata": {},
   "outputs": [],
   "source": [
    "pseudo_time_reg_deconv = TimeRegularizedDeconvolution(\n",
    "    dataset=ebov_dataset,\n",
    "    polynomial_degree = 20,\n",
    "    basis_functions = \"polynomial\",\n",
    "    device=device,\n",
    "    dtype=dtype)"
   ]
  },
  {
   "cell_type": "code",
   "execution_count": null,
   "id": "flexible-rebecca",
   "metadata": {},
   "outputs": [],
   "source": [
    "type(pseudo_time_reg_deconv.dataset.bulk_raw_gex_mg)"
   ]
  },
  {
   "cell_type": "code",
   "execution_count": null,
   "id": "guilty-allocation",
   "metadata": {},
   "outputs": [],
   "source": [
    "pseudo_time_reg_deconv.fit_model(n_iters=5_000, verbose=True, log_frequency=1000)"
   ]
  },
  {
   "cell_type": "markdown",
   "id": "color-bulgaria",
   "metadata": {},
   "source": [
    "## Examine Outputs"
   ]
  },
  {
   "cell_type": "code",
   "execution_count": null,
   "id": "confused-television",
   "metadata": {},
   "outputs": [],
   "source": [
    "pseudo_time_reg_deconv.plot_loss()"
   ]
  },
  {
   "cell_type": "code",
   "execution_count": null,
   "id": "extra-terrain",
   "metadata": {},
   "outputs": [],
   "source": [
    "pseudo_time_reg_deconv.calculate_composition_trajectories(n_intervals = 1000)\n",
    "pseudo_time_reg_deconv.plot_composition_trajectories()"
   ]
  },
  {
   "cell_type": "code",
   "execution_count": null,
   "id": "expensive-concern",
   "metadata": {},
   "outputs": [],
   "source": [
    "pseudo_time_reg_deconv.plot_phi_g_distribution()"
   ]
  },
  {
   "cell_type": "code",
   "execution_count": null,
   "id": "yellow-victorian",
   "metadata": {},
   "outputs": [],
   "source": [
    "pseudo_time_reg_deconv.plot_beta_g_distribution()\n",
    "matplotlib.pyplot.yscale('log')"
   ]
  },
  {
   "cell_type": "markdown",
   "id": "experienced-translation",
   "metadata": {},
   "source": [
    "# Synthetic Data"
   ]
  },
  {
   "cell_type": "code",
   "execution_count": null,
   "id": "consecutive-singles",
   "metadata": {},
   "outputs": [],
   "source": [
    "import copy\n",
    "from tqdm import tqdm"
   ]
  },
  {
   "cell_type": "code",
   "execution_count": null,
   "id": "magnetic-alpha",
   "metadata": {},
   "outputs": [],
   "source": [
    "def generate_evaluation_params(\n",
    "    vary_param = ('deconvolution_params', 'polynomial_degree'),\n",
    "    type = 'continuous',\n",
    "    start_val = 1,\n",
    "    end_val = 5,\n",
    "    step = 1,\n",
    "    n_reps = 10,\n",
    "):\n",
    "    default_params = get_default_evaluation_param(device, dtype, dtype_np)\n",
    "    \n",
    "    param_set = []\n",
    "    \n",
    "    if type == 'continuous':\n",
    "        for val in range(start_val, end_val, step):\n",
    "            for rep in range(n_reps):\n",
    "                tmp_params = copy.deepcopy(default_params)\n",
    "                tmp_params[vary_param[0]][vary_param[1]] = val\n",
    "                param_set.append(tmp_params)\n",
    "    \n",
    "    return param_set"
   ]
  },
  {
   "cell_type": "code",
   "execution_count": null,
   "id": "advanced-allergy",
   "metadata": {},
   "outputs": [],
   "source": [
    "evaluation_params = generate_evaluation_params()"
   ]
  },
  {
   "cell_type": "code",
   "execution_count": null,
   "id": "written-kernel",
   "metadata": {},
   "outputs": [],
   "source": [
    "sweep_degree_results = evaluate_paramset(evaluation_params, sc_anndata, pseudo_time_reg_deconv, show_progress = True)"
   ]
  },
  {
   "cell_type": "code",
   "execution_count": null,
   "id": "increasing-morrison",
   "metadata": {},
   "outputs": [],
   "source": [
    "# Plot the results \n",
    "polynomial_degree_list = []\n",
    "l1_error_norm_list = []\n",
    "\n",
    "for r in sweep_degree_results:\n",
    "    polynomial_degree_list.append(r['param']['deconvolution_params']['polynomial_degree'])\n",
    "    l1_error_norm_list.append(r['error']['L1_error_norm'].item())\n",
    "    \n",
    "res_df = pd.DataFrame({'polynomial_degree': polynomial_degree_list,\n",
    "                      'l1_error_norm': l1_error_norm_list})\n",
    "\n",
    "sns.boxplot(x=res_df['polynomial_degree'], y=res_df['l1_error_norm'])"
   ]
  }
 ],
 "metadata": {
  "environment": {
   "name": "pytorch-gpu.1-7.m65",
   "type": "gcloud",
   "uri": "gcr.io/deeplearning-platform-release/pytorch-gpu.1-7:m65"
  },
  "kernelspec": {
   "display_name": "Python 3 (ipykernel)",
   "language": "python",
   "name": "python3"
  },
  "language_info": {
   "codemirror_mode": {
    "name": "ipython",
    "version": 3
   },
   "file_extension": ".py",
   "mimetype": "text/x-python",
   "name": "python",
   "nbconvert_exporter": "python",
   "pygments_lexer": "ipython3",
   "version": "3.9.7"
  }
 },
 "nbformat": 4,
 "nbformat_minor": 5
}
