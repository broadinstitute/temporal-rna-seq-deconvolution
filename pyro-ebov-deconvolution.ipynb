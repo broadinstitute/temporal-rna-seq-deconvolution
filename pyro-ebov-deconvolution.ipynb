{
 "cells": [
  {
   "cell_type": "markdown",
   "id": "young-florist",
   "metadata": {},
   "source": [
    "## EBOV deconvolution in Pyro\n",
    "\n",
    "indices:\n",
    "- j for cell type\n",
    "- m for sample index in the sample sheet\n"
   ]
  },
  {
   "cell_type": "code",
   "execution_count": 1,
   "id": "smaller-dining",
   "metadata": {},
   "outputs": [],
   "source": [
    "import os\n",
    "import pickle5\n",
    "import numpy as np\n",
    "import pandas as pd\n",
    "import matplotlib.pylab as plt\n",
    "\n",
    "import torch\n",
    "import pyro\n",
    "from pyro.infer import SVI, Trace_ELBO\n",
    "\n",
    "device = torch.device(\"cuda:0\")\n",
    "dtype = torch.float32\n",
    "dtype_np = np.float32"
   ]
  },
  {
   "cell_type": "markdown",
   "id": "numeric-execution",
   "metadata": {},
   "source": [
    "## Configuration"
   ]
  },
  {
   "cell_type": "code",
   "execution_count": 2,
   "id": "surrounded-charleston",
   "metadata": {},
   "outputs": [],
   "source": [
    "# data_path = '/home/jupyter/mb-ml-data-disk/pyro-ebov-deconvolution'\n",
    "data_path = \"/home/nbarkas/disk1/deconvolution/data/load_data_python\""
   ]
  },
  {
   "cell_type": "code",
   "execution_count": 55,
   "id": "sunset-encounter",
   "metadata": {},
   "outputs": [],
   "source": [
    "from typing import List, Dict\n",
    "from boltons.cacheutils import cachedproperty\n",
    "\n",
    "\n",
    "class EBOVDataset:\n",
    "    \n",
    "    def __init__(\n",
    "            self,\n",
    "            data_path: str,\n",
    "            dtype_np: np.dtype):\n",
    "        \n",
    "        self.dtype_np = dtype_np\n",
    "        \n",
    "        # load all data\n",
    "        self.bulk_raw_gex_gm = np.load(os.path.join(data_path, 'bulk_matrix.npy')).astype(dtype_np)\n",
    "        \n",
    "        with open(os.path.join(data_path, 'bulk_pdata.pkl'), 'rb') as f:\n",
    "            loader = pickle5.Unpickler(f)\n",
    "            self.bulk_sample_metadata_pd = loader.load()\n",
    "\n",
    "        self.sc_raw_gex_gj = np.load(os.path.join(data_path, 'sc_matrix.npy'))\n",
    "\n",
    "        with open(os.path.join(data_path, 'sc_pdata.pkl'), 'rb') as f:\n",
    "            loader = pickle5.Unpickler(f)\n",
    "            self.sc_sample_metadata_pd = loader.load()\n",
    "            \n",
    "        # shorthands\n",
    "        self.num_samples = self.bulk_raw_gex_gm.shape[-1]\n",
    "        self.num_genes = self.bulk_raw_gex_gm.shape[-2]\n",
    "        self.num_individuals = len(set(self.bulk_sample_metadata_pd['id.individual'].values))\n",
    "        \n",
    "        # index individuals\n",
    "        individual_str_list = sorted(list(set(self.bulk_sample_metadata_pd['id.individual'].values)))\n",
    "        individual_str_to_index_map = {\n",
    "            individual_str: index for index, individual_str in enumerate(individual_str_list)}\n",
    "        \n",
    "        # individual index of each sample\n",
    "        self.m_to_i = np.asarray(list(\n",
    "            map(\n",
    "                individual_str_to_index_map.get,\n",
    "                self.bulk_sample_metadata_pd['id.individual'].values)))\n",
    "        \n",
    "        # pre-process dpi times\n",
    "        self.dpi_time_m = np.clip(\n",
    "            self.bulk_sample_metadata_pd['dpi_time'].values.astype(dtype_np),\n",
    "            a_min=0., a_max=None)\n",
    "        self.dpi_time_m = self.dpi_time_m / self.dpi_time_m.max()\n",
    "\n",
    "    @cachedproperty\n",
    "    def cell_type_str_list(self) -> List[str]:\n",
    "        return sorted(list(set(self.sc_sample_metadata_pd['Subclustering_reduced'])))\n",
    "\n",
    "    @cachedproperty\n",
    "    def cell_type_str_to_index_map(self) -> Dict[str, int]:\n",
    "        return {cell_type_str: index for index, cell_type_str in enumerate(self.cell_type_str_list)}        \n",
    "\n",
    "    @cachedproperty\n",
    "    def num_cell_types(self) -> int:\n",
    "        return len(self.cell_type_str_list)\n",
    "    \n",
    "    @cachedproperty\n",
    "    def w_hat_gc(self) -> np.ndarray:\n",
    "        w_hat_gc = np.zeros((self.num_genes, self.num_cell_types))\n",
    "        for cell_type_str in self.cell_type_str_list:\n",
    "            i_cell_type = self.cell_type_str_to_index_map[cell_type_str]\n",
    "            mask_j = self.sc_sample_metadata_pd['Subclustering_reduced'].values == cell_type_str\n",
    "            w_hat_gc[:, i_cell_type] = np.sum(self.sc_raw_gex_gj[:, mask_j], axis=-1)\n",
    "            w_hat_gc[:, i_cell_type] = w_hat_gc[:, i_cell_type] / np.sum(w_hat_gc[:, i_cell_type])\n",
    "        return w_hat_gc"
   ]
  },
  {
   "cell_type": "code",
   "execution_count": 4,
   "id": "smaller-holiday",
   "metadata": {},
   "outputs": [],
   "source": [
    "ebov_dataset = EBOVDataset(data_path, dtype_np)"
   ]
  },
  {
   "cell_type": "code",
   "execution_count": 5,
   "id": "worldwide-ballet",
   "metadata": {},
   "outputs": [],
   "source": [
    "from typing import Dict\n",
    "\n",
    "def generate_minibatch(\n",
    "        dataset: EBOVDataset,\n",
    "        minibatch_size: int,\n",
    "        device: torch.device,\n",
    "        dtype: torch.dtype,\n",
    "        return_full_batch: bool = False) -> Dict[str, torch.Tensor]:\n",
    "    \"\"\"\n",
    "    \n",
    "    TODO: balanced sampling from time\n",
    "    \n",
    "    \"\"\"\n",
    "    \n",
    "    # choose random samples\n",
    "    if return_full_batch:\n",
    "        sample_indices_n = np.arange(dataset.num_samples)\n",
    "    else:\n",
    "        sample_indices_n = np.random.randint(0, dataset.num_samples, size=minibatch_size)\n",
    "    \n",
    "    # subset data\n",
    "    x_ng = dataset.bulk_raw_gex_gm[:, sample_indices_n].T\n",
    "    t_n = dataset.dpi_time_m[sample_indices_n]\n",
    "    ind_index_n = dataset.m_to_i[sample_indices_n]\n",
    "    \n",
    "    return {\n",
    "        'x_ng': torch.tensor(x_ng, device=device, dtype=dtype),\n",
    "        't_n': torch.tensor(t_n, device=device, dtype=dtype),\n",
    "        'ind_index_n': torch.tensor(ind_index_n, device=device, dtype=torch.long),\n",
    "        'sample_index_n': torch.tensor(sample_indices_n, device=device, dtype=torch.long)\n",
    "    }"
   ]
  },
  {
   "cell_type": "code",
   "execution_count": 6,
   "id": "lesser-headline",
   "metadata": {},
   "outputs": [],
   "source": [
    "from pyro.distributions.torch_distribution import TorchDistribution, TorchDistributionMixin\n",
    "from torch.distributions.utils import probs_to_logits, logits_to_probs, broadcast_all, lazy_property\n",
    "from torch.distributions import constraints\n",
    "from numbers import Number\n",
    "\n",
    "\n",
    "class NegativeBinomialAltParam(TorchDistribution):\n",
    "    r\"\"\"\n",
    "    Creates a negative binomial distribution.\n",
    "    \n",
    "    Args:\n",
    "        mu (Number, Tensor): mean (must be strictly positive)\n",
    "        phi (Number, Tensor): overdispersion (must be strictly positive)\n",
    "    \"\"\"\n",
    "    arg_constraints = {'mu': constraints.positive, 'phi': constraints.positive}\n",
    "    support = constraints.nonnegative_integer\n",
    "    EPS = 1e-6\n",
    "    \n",
    "    def __init__(self, mu, phi, validate_args=None):\n",
    "        self.mu, self.phi = broadcast_all(mu, phi)\n",
    "        if all(isinstance(_var, Number) for _var in (mu, phi)): \n",
    "            batch_shape = torch.Size()\n",
    "        else:\n",
    "            batch_shape = self.mu.size()\n",
    "        super(NegativeBinomialAltParam, self).__init__(batch_shape, validate_args=validate_args)\n",
    "        \n",
    "    def expand(self, batch_shape, _instance=None):\n",
    "        new = self._get_checked_instance(NegativeBinomialAltParam, _instance)\n",
    "        batch_shape = torch.Size(batch_shape)\n",
    "        new.mu = self.mu.expand(batch_shape)\n",
    "        new.phi = self.phi.expand(batch_shape)\n",
    "        \n",
    "        super(NegativeBinomialAltParam, new).__init__(batch_shape, validate_args=False)\n",
    "        new._validate_args = self._validate_args\n",
    "        return new\n",
    "    \n",
    "    @lazy_property\n",
    "    def _gamma(self):\n",
    "        return torch.distributions.Gamma(\n",
    "            concentration=self.phi.reciprocal(),\n",
    "            rate=(self.mu * self.phi).reciprocal())\n",
    "\n",
    "    def sample(self, sample_shape=torch.Size()):\n",
    "        with torch.no_grad():\n",
    "            return torch.poisson(self._gamma.sample(sample_shape=sample_shape))\n",
    "        \n",
    "    @property\n",
    "    def mean(self):\n",
    "        return self.mu\n",
    "    \n",
    "    @property\n",
    "    def variance(self):\n",
    "        return self.mu + self.phi * self.mu.pow(2)\n",
    "    \n",
    "    def log_prob(self, value):\n",
    "        if self._validate_args:\n",
    "            self._validate_sample(value)\n",
    "        mu, phi, value = broadcast_all(self.mu, self.phi, value)\n",
    "        alpha = (self.EPS + phi).reciprocal()\n",
    "        return ((value + alpha).lgamma() - (value + 1).lgamma() - alpha.lgamma()\n",
    "                + alpha * (alpha.log() - (alpha + mu).log())\n",
    "                + value * (mu.log() - (alpha + mu).log()))"
   ]
  },
  {
   "cell_type": "code",
   "execution_count": 7,
   "id": "authorized-simulation",
   "metadata": {},
   "outputs": [],
   "source": [
    "import pyro.distributions as dist\n",
    "\n",
    "\n",
    "class PseudoTimeRegDeconvolution:\n",
    "    \"\"\"\n",
    "    \n",
    "    .. note: we use \"n\" for batch dimension, and \"m\" for sample index.\n",
    "    \n",
    "    \"\"\"\n",
    "    \n",
    "    def  __init__(\n",
    "            self,\n",
    "            dataset: EBOVDataset,\n",
    "            device: device,\n",
    "            dtype: dtype):\n",
    "        \n",
    "        self.dataset = dataset\n",
    "        self.device = device\n",
    "        self.dtype = dtype\n",
    "        \n",
    "        # hyperparameters\n",
    "        self.log_beta_prior_scale = 1.0\n",
    "        self.log_r_prior_scale = 1.0\n",
    "        self.tau_prior_scale = 1.0\n",
    "        self.log_phi_prior_loc = -5.0\n",
    "        self.log_phi_prior_scale = 1.0\n",
    "        \n",
    "        self.unnorm_cell_pop_base_prior_loc_c = np.zeros((self.dataset.num_cell_types,))\n",
    "        self.unnorm_cell_pop_base_prior_scale_c = np.ones((self.dataset.num_cell_types,))\n",
    "        self.unnorm_cell_pop_deform_prior_loc_c = np.zeros((self.dataset.num_cell_types,))\n",
    "        self.unnorm_cell_pop_deform_prior_scale_c = np.ones((self.dataset.num_cell_types,))\n",
    "\n",
    "        self.init_posterior_global_scale_factor = 0.05\n",
    "        \n",
    "        self.log_beta_posterior_scale = 1.0 * self.init_posterior_global_scale_factor\n",
    "        self.log_r_posterior_scale = 1.0 * self.init_posterior_global_scale_factor\n",
    "        self.tau_posterior_scale = 1.0 * self.init_posterior_global_scale_factor\n",
    "        self.log_phi_posterior_loc = -5.0\n",
    "        self.log_phi_posterior_scale = 0.1 * self.init_posterior_global_scale_factor\n",
    "        \n",
    "        self.unnorm_cell_pop_base_posterior_loc_c = np.zeros((self.dataset.num_cell_types,))\n",
    "        self.unnorm_cell_pop_base_posterior_scale_c = self.init_posterior_global_scale_factor * np.ones((self.dataset.num_cell_types,))\n",
    "        self.unnorm_cell_pop_deform_posterior_loc_c = np.zeros((self.dataset.num_cell_types,))\n",
    "        self.unnorm_cell_pop_deform_posterior_scale_c = self.init_posterior_global_scale_factor * np.ones((self.dataset.num_cell_types,))\n",
    "\n",
    "        # cache useful tensors\n",
    "        self.w_hat_gc = torch.tensor(self.dataset.w_hat_gc, device=device, dtype=dtype)\n",
    "        \n",
    "    def model(\n",
    "            self,\n",
    "            x_ng: torch.Tensor,\n",
    "            t_n: torch.Tensor,\n",
    "            ind_index_n: torch.Tensor,\n",
    "            sample_index_n: torch.Tensor):\n",
    "        \"\"\"\n",
    "        :param x_ng: gene expression\n",
    "        :param t_n: obseration time\n",
    "        :param ind_index_n: index of the individual\n",
    "        :param sample_index_n: index of the sample in the dataset\n",
    "        \"\"\"\n",
    "        \n",
    "        minibatch_size = x_ng.shape[0]\n",
    "        \n",
    "        # sample log_phi_g\n",
    "        log_phi_g = pyro.sample(\n",
    "            'log_phi_g',\n",
    "            dist.Normal(\n",
    "                loc=self.log_phi_prior_loc * torch.ones(\n",
    "                    (self.dataset.num_genes,), device=self.device, dtype=self.dtype),\n",
    "                scale=self.log_phi_prior_scale * torch.ones(\n",
    "                    (self.dataset.num_genes,), device=self.device, dtype=self.dtype)).to_event(1))\n",
    "        \n",
    "        # sample log_beta_g\n",
    "        log_beta_g = pyro.sample(\n",
    "            'log_beta_g',\n",
    "            dist.Normal(\n",
    "                loc=torch.zeros(\n",
    "                    (self.dataset.num_genes,), device=self.device, dtype=self.dtype),\n",
    "                scale=self.log_beta_prior_scale * torch.ones(\n",
    "                    (self.dataset.num_genes,), device=self.device, dtype=self.dtype)).to_event(1))\n",
    "        \n",
    "        # sample log_r_i\n",
    "        log_r_i = pyro.sample(\n",
    "            'log_r_i',\n",
    "            dist.Normal(\n",
    "                loc=torch.zeros(\n",
    "                    (self.dataset.num_individuals,), device=self.device, dtype=self.dtype),\n",
    "                scale=self.log_r_prior_scale * torch.ones(\n",
    "                    (self.dataset.num_individuals,), device=self.device, dtype=self.dtype)).to_event(1))\n",
    "        \n",
    "        # sample unnorm_cell_pop_base_c\n",
    "        unnorm_cell_pop_base_c = pyro.sample(\n",
    "            'unnorm_cell_pop_base_c',\n",
    "            dist.Normal(\n",
    "                loc=torch.tensor(\n",
    "                    self.unnorm_cell_pop_base_prior_loc_c,\n",
    "                    device=self.device, dtype=self.dtype),\n",
    "                scale=torch.tensor(\n",
    "                    self.unnorm_cell_pop_base_prior_scale_c,\n",
    "                    device=self.device, dtype=self.dtype)).to_event(1))\n",
    "        \n",
    "        # sample unnorm_cell_pop_base_c\n",
    "        unnorm_cell_pop_deform_c = pyro.sample(\n",
    "            'unnorm_cell_pop_deform_c',\n",
    "            dist.Normal(\n",
    "                loc=torch.tensor(\n",
    "                    self.unnorm_cell_pop_deform_prior_loc_c,\n",
    "                    device=self.device, dtype=self.dtype),\n",
    "                scale=torch.tensor(\n",
    "                    self.unnorm_cell_pop_deform_prior_scale_c,\n",
    "                    device=self.device, dtype=self.dtype)).to_event(1))\n",
    "        \n",
    "        # calculate useful derived variables\n",
    "        beta_g = log_beta_g.exp()\n",
    "        phi_g = log_phi_g.exp()\n",
    "        \n",
    "#         ### NOTE ###\n",
    "#         phi_g = 0.01 * torch.ones((self.dataset.num_genes,), device=self.device, dtype=self.dtype)\n",
    "#         beta_g = torch.ones((self.dataset.num_genes,), device=self.device, dtype=self.dtype)\n",
    "        \n",
    "        unnorm_w_gc = self.w_hat_gc * beta_g[:, None]\n",
    "        w_gc = unnorm_w_gc / unnorm_w_gc.sum(0)\n",
    "        r_n = log_r_i[ind_index_n].exp()\n",
    "        \n",
    "        with pyro.poutine.scale(scale=self.dataset.num_samples / minibatch_size):\n",
    "            \n",
    "            with pyro.plate(\"batch\"):\n",
    "\n",
    "                # sample tau (\"actual infection\") for each sample\n",
    "                tau_mean_shift_n = t_n / r_n\n",
    "                tau_deviation_n = pyro.sample(\n",
    "                    \"tau_deviation_n\",\n",
    "                    dist.Normal(\n",
    "                        loc=torch.zeros_like(t_n),\n",
    "                        scale=self.tau_prior_scale * torch.ones_like(t_n)))\n",
    "                tau_n = tau_mean_shift_n + tau_deviation_n\n",
    "\n",
    "                # calculate cell proportion\n",
    "                cell_pop_nc = torch.nn.functional.softmax(\n",
    "                    unnorm_cell_pop_base_c + unnorm_cell_pop_deform_c * tau_n[:, None],\n",
    "                    dim=-1)\n",
    "\n",
    "                # calculate mean gene expression\n",
    "                mu_ng = x_ng.sum(-1)[:, None] * torch.matmul(cell_pop_nc, w_gc.transpose(-1, -2))\n",
    "\n",
    "                # observe gene expression\n",
    "                pyro.sample(\n",
    "                    \"x_ng\",\n",
    "                    NegativeBinomialAltParam(\n",
    "                        mu=mu_ng,\n",
    "                        phi=phi_g[None, :]).to_event(1),\n",
    "                    obs=x_ng)\n",
    "\n",
    "    def delta_guide(\n",
    "            self,\n",
    "            x_ng: torch.Tensor,\n",
    "            t_n: torch.Tensor,\n",
    "            ind_index_n: torch.Tensor,\n",
    "            sample_index_n: torch.Tensor):\n",
    "        \n",
    "        minibatch_size = x_ng.shape[0]\n",
    "        \n",
    "        # variational parameters for log_phi_g\n",
    "        log_phi_posterior_loc_g = pyro.param(\n",
    "            \"log_phi_posterior_loc_g\",\n",
    "            self.log_phi_posterior_loc * torch.ones(\n",
    "                (self.dataset.num_genes,), device=self.device, dtype=self.dtype))\n",
    "\n",
    "        # variational parameters for log_beta_g\n",
    "        log_beta_posterior_loc_g = pyro.param(\n",
    "            \"log_beta_posterior_loc_g\",\n",
    "            torch.zeros(\n",
    "                (self.dataset.num_genes,), device=self.device, dtype=self.dtype))        \n",
    "        \n",
    "        # variational parameters for log_r_i\n",
    "        log_r_posterior_loc_i = pyro.param(\n",
    "            \"log_r_posterior_loc_i\",\n",
    "            torch.zeros(\n",
    "                (self.dataset.num_individuals,), device=self.device, dtype=self.dtype))\n",
    "        \n",
    "        # variational parameters for unnorm_cell_pop_base_c (\"B_c\")\n",
    "        unnorm_cell_pop_base_posterior_loc_c = pyro.param(\n",
    "            \"unnorm_cell_pop_base_posterior_loc_c\",\n",
    "            torch.tensor(\n",
    "                self.unnorm_cell_pop_base_posterior_loc_c,\n",
    "                device=self.device, dtype=self.dtype))\n",
    "        \n",
    "        # variational parameters for unnorm_cell_pop_deform_c (\"R_c\")\n",
    "        unnorm_cell_pop_deform_posterior_loc_c = pyro.param(\n",
    "            \"unnorm_cell_pop_deform_posterior_loc_c\",\n",
    "            torch.tensor(\n",
    "                self.unnorm_cell_pop_deform_posterior_loc_c,\n",
    "                device=self.device, dtype=self.dtype))\n",
    "        \n",
    "        # variational parameters for tau_deviation_m\n",
    "        tau_deviation_posterior_loc_m = pyro.param(\n",
    "            \"tau_deviation_posterior_loc_m\",\n",
    "            torch.zeros(\n",
    "                (self.dataset.num_samples,),\n",
    "                device=self.device, dtype=self.dtype))\n",
    "        \n",
    "        # posterior sample statements\n",
    "        log_phi_g = pyro.sample(\n",
    "            \"log_phi_g\",\n",
    "            dist.Delta(\n",
    "                v=log_phi_posterior_loc_g).to_event(1))\n",
    "\n",
    "        log_beta_g = pyro.sample(\n",
    "            \"log_beta_g\",\n",
    "            dist.Delta(\n",
    "                v=log_beta_posterior_loc_g).to_event(1))\n",
    "\n",
    "        log_r_i = pyro.sample(\n",
    "            \"log_r_i\",\n",
    "            dist.Delta(\n",
    "                v=log_r_posterior_loc_i).to_event(1))\n",
    "\n",
    "        unnorm_cell_pop_base_c = pyro.sample(\n",
    "            'unnorm_cell_pop_base_c',\n",
    "            dist.Delta(\n",
    "                v=unnorm_cell_pop_base_posterior_loc_c).to_event(1))\n",
    "        \n",
    "        unnorm_cell_pop_deform_c = pyro.sample(\n",
    "            'unnorm_cell_pop_deform_c',\n",
    "            dist.Delta(\n",
    "                v=unnorm_cell_pop_deform_posterior_loc_c).to_event(1))\n",
    "        \n",
    "        with pyro.poutine.scale(scale=self.dataset.num_samples / minibatch_size):\n",
    "\n",
    "            with pyro.plate(\"batch\"):\n",
    "            \n",
    "                tau_deviation_n = pyro.sample(\n",
    "                    \"tau_deviation_n\",\n",
    "                    dist.Delta(\n",
    "                        v=tau_deviation_posterior_loc_m[sample_index_n]))\n",
    "                \n",
    "    def guide(\n",
    "            self,\n",
    "            x_ng: torch.Tensor,\n",
    "            t_n: torch.Tensor,\n",
    "            ind_index_n: torch.Tensor,\n",
    "            sample_index_n: torch.Tensor):\n",
    "        \n",
    "        minibatch_size = x_ng.shape[0]\n",
    "        \n",
    "        # variational parameters for log_phi_g\n",
    "        log_phi_posterior_loc_g = pyro.param(\n",
    "            \"log_phi_posterior_loc_g\",\n",
    "            self.log_phi_posterior_loc * torch.ones(\n",
    "                (self.dataset.num_genes,), device=self.device, dtype=self.dtype))\n",
    "        log_phi_posterior_scale_g = pyro.param(\n",
    "            \"log_phi_posterior_scale_g\",\n",
    "            self.log_phi_posterior_scale * torch.ones(\n",
    "                (self.dataset.num_genes,), device=self.device, dtype=self.dtype),\n",
    "            constraint=constraints.positive)\n",
    "\n",
    "        # variational parameters for log_beta_g\n",
    "        log_beta_posterior_loc_g = pyro.param(\n",
    "            \"log_beta_posterior_loc_g\",\n",
    "            torch.zeros(\n",
    "                (self.dataset.num_genes,), device=self.device, dtype=self.dtype))        \n",
    "        log_beta_posterior_scale_g = pyro.param(\n",
    "            \"log_beta_posterior_scale_g\",\n",
    "            self.log_phi_posterior_scale * torch.ones(\n",
    "                (self.dataset.num_genes,), device=self.device, dtype=self.dtype),\n",
    "            constraint=constraints.positive)\n",
    "        \n",
    "        # variational parameters for log_r_i\n",
    "        log_r_posterior_loc_i = pyro.param(\n",
    "            \"log_r_posterior_loc_i\",\n",
    "            torch.zeros(\n",
    "                (self.dataset.num_individuals,), device=self.device, dtype=self.dtype))\n",
    "        log_r_posterior_scale_i = pyro.param(\n",
    "            \"log_r_posterior_scale_i\",\n",
    "            self.log_r_posterior_scale * torch.ones(\n",
    "                (self.dataset.num_individuals,), device=self.device, dtype=self.dtype),\n",
    "            constraint=constraints.positive)\n",
    "        \n",
    "        # variational parameters for unnorm_cell_pop_base_c (\"B_c\")\n",
    "        unnorm_cell_pop_base_posterior_loc_c = pyro.param(\n",
    "            \"unnorm_cell_pop_base_posterior_loc_c\",\n",
    "            torch.tensor(\n",
    "                self.unnorm_cell_pop_base_posterior_loc_c,\n",
    "                device=self.device, dtype=self.dtype))\n",
    "        unnorm_cell_pop_base_posterior_scale_c = pyro.param(\n",
    "            \"unnorm_cell_pop_base_posterior_scale_c\",\n",
    "            torch.tensor(\n",
    "                self.unnorm_cell_pop_base_posterior_scale_c,\n",
    "                device=self.device, dtype=self.dtype),\n",
    "            constraint=constraints.positive)\n",
    "        \n",
    "        # variational parameters for unnorm_cell_pop_deform_c (\"R_c\")\n",
    "        unnorm_cell_pop_deform_posterior_loc_c = pyro.param(\n",
    "            \"unnorm_cell_pop_deform_posterior_loc_c\",\n",
    "            torch.tensor(\n",
    "                self.unnorm_cell_pop_deform_posterior_loc_c,\n",
    "                device=self.device, dtype=self.dtype))\n",
    "        unnorm_cell_pop_deform_posterior_scale_c = pyro.param(\n",
    "            \"unnorm_cell_pop_deform_posterior_scale_c\",\n",
    "            torch.tensor(\n",
    "                self.unnorm_cell_pop_deform_posterior_scale_c,\n",
    "                device=self.device, dtype=self.dtype),\n",
    "            constraint=constraints.positive)\n",
    "        \n",
    "        # variational parameters for tau_deviation_m\n",
    "        tau_deviation_posterior_loc_m = pyro.param(\n",
    "            \"tau_deviation_posterior_loc_m\",\n",
    "            torch.zeros(\n",
    "                (self.dataset.num_samples,),\n",
    "                device=self.device, dtype=self.dtype))\n",
    "        tau_deviation_posterior_scale_m = pyro.param(\n",
    "            \"tau_deviation_posterior_scale_m\",\n",
    "            self.tau_posterior_scale * torch.ones(\n",
    "                (self.dataset.num_samples,),\n",
    "                device=self.device, dtype=self.dtype),\n",
    "            constraint=constraints.positive)\n",
    "        \n",
    "        # posterior sample statements\n",
    "        log_phi_g = pyro.sample(\n",
    "            \"log_phi_g\",\n",
    "            dist.Normal(\n",
    "                loc=log_phi_posterior_loc_g,\n",
    "                scale=log_phi_posterior_scale_g).to_event(1))\n",
    "\n",
    "        log_beta_g = pyro.sample(\n",
    "            \"log_beta_g\",\n",
    "            dist.Normal(\n",
    "                loc=log_beta_posterior_loc_g,\n",
    "                scale=log_beta_posterior_scale_g).to_event(1))\n",
    "\n",
    "        log_r_i = pyro.sample(\n",
    "            \"log_r_i\",\n",
    "            dist.Normal(\n",
    "                loc=log_r_posterior_loc_i,\n",
    "                scale=log_r_posterior_scale_i).to_event(1))\n",
    "\n",
    "        unnorm_cell_pop_base_c = pyro.sample(\n",
    "            'unnorm_cell_pop_base_c',\n",
    "            dist.Normal(\n",
    "                loc=unnorm_cell_pop_base_posterior_loc_c,\n",
    "                scale=unnorm_cell_pop_base_posterior_scale_c).to_event(1))\n",
    "        \n",
    "        unnorm_cell_pop_deform_c = pyro.sample(\n",
    "            'unnorm_cell_pop_deform_c',\n",
    "            dist.Normal(\n",
    "                loc=unnorm_cell_pop_deform_posterior_loc_c,\n",
    "                scale=unnorm_cell_pop_deform_posterior_scale_c).to_event(1))\n",
    "        \n",
    "        with pyro.poutine.scale(scale=self.dataset.num_samples / minibatch_size):\n",
    "\n",
    "            with pyro.plate(\"batch\"):\n",
    "            \n",
    "                tau_deviation_n = pyro.sample(\n",
    "                    \"tau_deviation_n\",\n",
    "                    dist.Normal(\n",
    "                        loc=tau_deviation_posterior_loc_m[sample_index_n],\n",
    "                        scale=tau_deviation_posterior_scale_m[sample_index_n]))"
   ]
  },
  {
   "cell_type": "code",
   "execution_count": 8,
   "id": "general-model",
   "metadata": {},
   "outputs": [],
   "source": [
    "pseudo_time_reg_deconv = PseudoTimeRegDeconvolution(\n",
    "    dataset=ebov_dataset,\n",
    "    device=device,\n",
    "    dtype=dtype)\n",
    "\n",
    "pyro.clear_param_store()"
   ]
  },
  {
   "cell_type": "code",
   "execution_count": 9,
   "id": "unauthorized-maker",
   "metadata": {},
   "outputs": [],
   "source": [
    "# minibatch_dict = generate_minibatch(ebov_dataset, 10, device, dtype)\n",
    "\n",
    "# pseudo_time_reg_deconv.model(\n",
    "#     x_ng=minibatch_dict['x_ng'],\n",
    "#     t_n=minibatch_dict['t_n'],\n",
    "#     ind_index_n=minibatch_dict['ind_index_n'],\n",
    "#     sample_index_n=minibatch_dict['sample_indices_n'])\n",
    "\n",
    "# pseudo_time_reg_deconv.guide(\n",
    "#     x_ng=minibatch_dict['x_ng'],\n",
    "#     t_n=minibatch_dict['t_n'],\n",
    "#     ind_index_n=minibatch_dict['ind_index_n'],\n",
    "#     sample_index_n=minibatch_dict['sample_indices_n'])"
   ]
  },
  {
   "cell_type": "code",
   "execution_count": 10,
   "id": "agricultural-korea",
   "metadata": {},
   "outputs": [],
   "source": [
    "n_iters = 10_000\n",
    "minibatch_size = 50\n",
    "log_frequency = 100"
   ]
  },
  {
   "cell_type": "code",
   "execution_count": 11,
   "id": "parallel-airfare",
   "metadata": {},
   "outputs": [],
   "source": [
    "# optimizer\n",
    "optim = pyro.optim.Adam(\n",
    "    {'lr': 5e-3})\n",
    "\n",
    "loss_hist = []"
   ]
  },
  {
   "cell_type": "code",
   "execution_count": 12,
   "id": "suspended-ecology",
   "metadata": {},
   "outputs": [],
   "source": [
    "# SVI objective\n",
    "svi = SVI(\n",
    "    model=pseudo_time_reg_deconv.model,\n",
    "    guide=pseudo_time_reg_deconv.delta_guide,\n",
    "    optim=optim,\n",
    "    loss=Trace_ELBO())"
   ]
  },
  {
   "cell_type": "code",
   "execution_count": 13,
   "id": "colonial-rachel",
   "metadata": {},
   "outputs": [
    {
     "name": "stdout",
     "output_type": "stream",
     "text": [
      "0   loss: 94785417.7246952\n",
      "100   loss: 45208648.480314255\n",
      "200   loss: 25907578.24180031\n",
      "300   loss: 16977600.651752472\n",
      "400   loss: 12294977.412143707\n",
      "500   loss: 9712050.06955719\n",
      "600   loss: 8211023.749427795\n",
      "700   loss: 7283491.892173767\n",
      "800   loss: 6674544.011871338\n",
      "900   loss: 6253461.311623573\n",
      "1000   loss: 5949796.196974754\n",
      "1100   loss: 5723320.005774498\n",
      "1200   loss: 5549762.95498848\n",
      "1300   loss: 5413731.347416878\n",
      "1400   loss: 5305089.817148209\n",
      "1500   loss: 5216922.346300125\n",
      "1600   loss: 5144382.436737061\n",
      "1700   loss: 5083979.758680344\n",
      "1800   loss: 5033152.648216248\n",
      "1900   loss: 4989984.623512268\n",
      "2000   loss: 4953022.578137398\n",
      "2100   loss: 4921134.4159908295\n",
      "2200   loss: 4893438.292087555\n",
      "2300   loss: 4869244.098654747\n",
      "2400   loss: 4847983.391145706\n",
      "2500   loss: 4829220.634674072\n",
      "2600   loss: 4812585.219560623\n",
      "2700   loss: 4797772.19213295\n",
      "2800   loss: 4784535.484933853\n",
      "2900   loss: 4772667.981330872\n",
      "3000   loss: 4761986.556821823\n",
      "3100   loss: 4752358.012403488\n",
      "3200   loss: 4743646.393233299\n",
      "3300   loss: 4735746.674008369\n",
      "3400   loss: 4728564.559967995\n",
      "3500   loss: 4722021.504308701\n",
      "3600   loss: 4716048.310002327\n",
      "3700   loss: 4710589.6334095\n",
      "3800   loss: 4705589.000257492\n",
      "3900   loss: 4701000.1157512665\n",
      "4000   loss: 4696789.66762352\n",
      "4100   loss: 4692923.12685585\n",
      "4200   loss: 4689359.956710815\n",
      "4300   loss: 4686077.161405563\n",
      "4400   loss: 4683053.196479797\n",
      "4500   loss: 4680260.050590515\n",
      "4600   loss: 4677678.384489059\n",
      "4700   loss: 4675289.772895813\n",
      "4800   loss: 4673084.861186981\n",
      "4900   loss: 4671036.4587984085\n",
      "5000   loss: 4669141.162324905\n",
      "5100   loss: 4667384.755959511\n",
      "5200   loss: 4665753.067024231\n",
      "5300   loss: 4664237.592720985\n",
      "5400   loss: 4662831.787208557\n",
      "5500   loss: 4661525.6221990585\n",
      "5600   loss: 4660313.59474659\n",
      "5700   loss: 4659190.5822582245\n",
      "5800   loss: 4658150.3370399475\n",
      "5900   loss: 4657183.085451126\n",
      "6000   loss: 4656280.406956673\n",
      "6100   loss: 4655440.220534325\n",
      "6200   loss: 4654657.372471809\n",
      "6300   loss: 4653925.892420769\n",
      "6400   loss: 4653241.739476204\n",
      "6500   loss: 4652600.400196075\n",
      "6600   loss: 4651994.456827164\n",
      "6700   loss: 4651422.581544876\n",
      "6800   loss: 4650883.438782692\n",
      "6900   loss: 4650369.255518913\n",
      "7000   loss: 4649875.5031757355\n",
      "7100   loss: 4649403.739848137\n",
      "7200   loss: 4648958.458942413\n",
      "7300   loss: 4648530.418979645\n",
      "7400   loss: 4648119.1639175415\n",
      "7500   loss: 4647721.077033997\n",
      "7600   loss: 4647335.680147171\n",
      "7700   loss: 4646959.604044914\n",
      "7800   loss: 4646591.033847809\n",
      "7900   loss: 4646232.5959739685\n",
      "8000   loss: 4645883.877026558\n",
      "8100   loss: 4645533.936889648\n",
      "8200   loss: 4645176.057099342\n",
      "8300   loss: 4644787.32975769\n",
      "8400   loss: 4644330.657010078\n",
      "8500   loss: 4643741.850720406\n",
      "8600   loss: 4643061.889743805\n",
      "8700   loss: 4642594.64449501\n",
      "8800   loss: 4642264.762928009\n",
      "8900   loss: 4641971.816109657\n",
      "9000   loss: 4641693.839722633\n",
      "9100   loss: 4641430.769573212\n",
      "9200   loss: 4641169.402721405\n",
      "9300   loss: 4640918.400905609\n",
      "9400   loss: 4640670.8845386505\n",
      "9500   loss: 4640430.746007919\n",
      "9600   loss: 4640196.20523262\n",
      "9700   loss: 4639969.542143822\n",
      "9800   loss: 4639749.153583527\n",
      "9900   loss: 4639534.879534721\n"
     ]
    }
   ],
   "source": [
    "for i_iter in range(n_iters):\n",
    "    \n",
    "    minibatch_dict = generate_minibatch(\n",
    "        ebov_dataset, minibatch_size, device, dtype,\n",
    "        return_full_batch=True)\n",
    "    loss = svi.step(**minibatch_dict)\n",
    "    \n",
    "    loss_hist.append(loss)\n",
    "    \n",
    "    if i_iter % log_frequency == 0:\n",
    "        print(f\"{i_iter}   loss: {loss_hist[-1]}\")"
   ]
  },
  {
   "cell_type": "code",
   "execution_count": 14,
   "id": "greenhouse-wound",
   "metadata": {},
   "outputs": [
    {
     "data": {
      "text/plain": [
       "[<matplotlib.lines.Line2D at 0x7f6f84d2fc90>]"
      ]
     },
     "execution_count": 14,
     "metadata": {},
     "output_type": "execute_result"
    },
    {
     "data": {
      "image/png": "[encoded data removed]",
      "text/plain": [
       "<Figure size 432x288 with 1 Axes>"
      ]
     },
     "metadata": {
      "needs_background": "light"
     },
     "output_type": "display_data"
    }
   ],
   "source": [
    "plt.plot(loss_hist)"
   ]
  },
  {
   "cell_type": "code",
   "execution_count": 15,
   "id": "durable-classroom",
   "metadata": {},
   "outputs": [
    {
     "data": {
      "text/plain": [
       "dict_keys(['log_phi_posterior_loc_g', 'log_beta_posterior_loc_g', 'log_r_posterior_loc_i', 'unnorm_cell_pop_base_posterior_loc_c', 'unnorm_cell_pop_deform_posterior_loc_c', 'tau_deviation_posterior_loc_m'])"
      ]
     },
     "execution_count": 15,
     "metadata": {},
     "output_type": "execute_result"
    }
   ],
   "source": [
    "pyro.get_param_store().keys()"
   ]
  },
  {
   "cell_type": "code",
   "execution_count": 43,
   "id": "auburn-resort",
   "metadata": {},
   "outputs": [
    {
     "data": {
      "text/plain": [
       "Text(0.5, 1.0, 'Gene Dispersions (phi)')"
      ]
     },
     "execution_count": 43,
     "metadata": {},
     "output_type": "execute_result"
    },
    {
     "data": {
      "image/png": "[encoded data removed]",
      "text/plain": [
       "<Figure size 432x288 with 1 Axes>"
      ]
     },
     "metadata": {
      "needs_background": "light"
     },
     "output_type": "display_data"
    }
   ],
   "source": [
    "# Histogram of the posterior estimates of the gene dispersion (phi)\n",
    "plt.hist(pyro.param('log_phi_posterior_loc_g').detach().cpu().numpy(), bins=50);\n",
    "plt.title(\"Gene Dispersions (phi)\")"
   ]
  },
  {
   "cell_type": "code",
   "execution_count": 42,
   "id": "selective-absence",
   "metadata": {},
   "outputs": [
    {
     "data": {
      "image/png": "[encoded data removed]",
      "text/plain": [
       "<Figure size 432x288 with 1 Axes>"
      ]
     },
     "metadata": {
      "needs_background": "light"
     },
     "output_type": "display_data"
    }
   ],
   "source": [
    "# Histogram of the posterior estimates of the gene betas (scaling coefficients of genes)\n",
    "plt.hist(pyro.param('log_beta_posterior_loc_g').detach().cpu().numpy(), bins=50);\n",
    "plt.title('Gene scaling betas')\n",
    "plt.show()"
   ]
  },
  {
   "cell_type": "code",
   "execution_count": 18,
   "id": "constant-packaging",
   "metadata": {},
   "outputs": [
    {
     "data": {
      "image/png": "[encoded data removed]",
      "text/plain": [
       "<Figure size 432x288 with 1 Axes>"
      ]
     },
     "metadata": {
      "needs_background": "light"
     },
     "output_type": "display_data"
    }
   ],
   "source": [
    "# Plot the celltype base composition\n",
    "\n",
    "fig = plt.figure()\n",
    "ax = plt.gca()\n",
    "\n",
    "ax.bar(\n",
    "    np.arange(ebov_dataset.num_cell_types),\n",
    "    torch.nn.functional.softmax(pyro.param(\"unnorm_cell_pop_base_posterior_loc_c\"), dim=0).detach().cpu().numpy())\n",
    "\n",
    "ax.set_title('Base cell population')\n",
    "ax.set_xticks(np.arange(ebov_dataset.num_cell_types))\n",
    "ax.set_xticklabels(ebov_dataset.cell_type_str_list, rotation=90);"
   ]
  },
  {
   "cell_type": "code",
   "execution_count": 19,
   "id": "educational-presentation",
   "metadata": {},
   "outputs": [
    {
     "data": {
      "image/png": "[encoded data removed]",
      "text/plain": [
       "<Figure size 432x288 with 1 Axes>"
      ]
     },
     "metadata": {
      "needs_background": "light"
     },
     "output_type": "display_data"
    }
   ],
   "source": [
    "# Plot the deltas of the celltype composition\n",
    "\n",
    "fig = plt.figure()\n",
    "ax = plt.gca()\n",
    "\n",
    "ax.bar(\n",
    "    np.arange(ebov_dataset.num_cell_types),\n",
    "    pyro.param(\"unnorm_cell_pop_deform_posterior_loc_c\").detach().cpu().numpy())\n",
    "\n",
    "ax.set_xticks(np.arange(ebov_dataset.num_cell_types))\n",
    "ax.set_xticklabels(ebov_dataset.cell_type_str_list, rotation=90);"
   ]
  },
  {
   "cell_type": "code",
   "execution_count": 40,
   "id": "sealed-muslim",
   "metadata": {},
   "outputs": [
    {
     "data": {
      "image/png": "[encoded data removed]",
      "text/plain": [
       "<Figure size 432x288 with 1 Axes>"
      ]
     },
     "metadata": {
      "needs_background": "light"
     },
     "output_type": "display_data"
    }
   ],
   "source": [
    "# celltype composition at time 0.1\n",
    "time = 0.0\n",
    "\n",
    "base_composition_post = pyro.param(\"unnorm_cell_pop_base_posterior_loc_c\").detach().cpu()\n",
    "delta_composition_post = pyro.param(\"unnorm_cell_pop_deform_posterior_loc_c\").detach().cpu()\n",
    "    \n",
    "norm_comp_t = torch.nn.functional.softmax(base_composition_post + time * delta_composition_post, dim=0).numpy()\n",
    "\n",
    "fig = plt.figure()\n",
    "ax = plt.gca()\n",
    "\n",
    "ax.bar(\n",
    "    np.arange(ebov_dataset.num_cell_types),\n",
    "    norm_comp_t\n",
    ")\n",
    "\n",
    "ax.set_title(f'Cell population proportions at time {time}')\n",
    "ax.set_xticks(np.arange(ebov_dataset.num_cell_types))\n",
    "ax.set_xticklabels(ebov_dataset.cell_type_str_list, rotation=90);"
   ]
  },
  {
   "cell_type": "code",
   "execution_count": 21,
   "id": "simple-brick",
   "metadata": {},
   "outputs": [
    {
     "data": {
      "text/plain": [
       "torch.Size([10, 1])"
      ]
     },
     "execution_count": 21,
     "metadata": {},
     "output_type": "execute_result"
    }
   ],
   "source": [
    "times = torch.arange(0,1,0.1)\n",
    "times.unsqueeze(1).shape"
   ]
  },
  {
   "cell_type": "code",
   "execution_count": 22,
   "id": "treated-oasis",
   "metadata": {},
   "outputs": [
    {
     "data": {
      "text/plain": [
       "torch.Size([9])"
      ]
     },
     "execution_count": 22,
     "metadata": {},
     "output_type": "execute_result"
    }
   ],
   "source": [
    "delta_composition_post\n",
    "delta_composition_post.shape"
   ]
  },
  {
   "cell_type": "code",
   "execution_count": 23,
   "id": "short-potter",
   "metadata": {},
   "outputs": [],
   "source": [
    "composition_deltas = times.unsqueeze(1) @ delta_composition_post.unsqueeze(0)"
   ]
  },
  {
   "cell_type": "code",
   "execution_count": 24,
   "id": "hindu-contributor",
   "metadata": {},
   "outputs": [],
   "source": [
    "composition_over_time = torch.nn.functional.softmax(base_composition_post.expand(10,9) + composition_deltas, dim=1)"
   ]
  },
  {
   "cell_type": "code",
   "execution_count": 25,
   "id": "closing-documentary",
   "metadata": {},
   "outputs": [
    {
     "data": {
      "text/plain": [
       "tensor([[0.1578, 0.0376, 0.0940, 0.1346, 0.0792, 0.1181, 0.3077, 0.0473, 0.0236],\n",
       "        [0.1522, 0.0412, 0.0914, 0.1559, 0.0772, 0.1132, 0.2986, 0.0465, 0.0237],\n",
       "        [0.1461, 0.0450, 0.0885, 0.1797, 0.0750, 0.1081, 0.2885, 0.0455, 0.0237],\n",
       "        [0.1396, 0.0489, 0.0852, 0.2061, 0.0724, 0.1026, 0.2773, 0.0443, 0.0235],\n",
       "        [0.1327, 0.0529, 0.0816, 0.2352, 0.0695, 0.0969, 0.2651, 0.0428, 0.0233],\n",
       "        [0.1253, 0.0568, 0.0777, 0.2667, 0.0664, 0.0910, 0.2520, 0.0412, 0.0229],\n",
       "        [0.1176, 0.0606, 0.0736, 0.3005, 0.0630, 0.0849, 0.2380, 0.0394, 0.0223],\n",
       "        [0.1097, 0.0643, 0.0692, 0.3364, 0.0594, 0.0787, 0.2233, 0.0375, 0.0216],\n",
       "        [0.1015, 0.0677, 0.0646, 0.3740, 0.0556, 0.0724, 0.2080, 0.0353, 0.0208],\n",
       "        [0.0933, 0.0708, 0.0598, 0.4128, 0.0516, 0.0662, 0.1924, 0.0331, 0.0199]])"
      ]
     },
     "execution_count": 25,
     "metadata": {},
     "output_type": "execute_result"
    }
   ],
   "source": [
    "composition_over_time"
   ]
  },
  {
   "cell_type": "code",
   "execution_count": 26,
   "id": "billion-stationery",
   "metadata": {},
   "outputs": [
    {
     "data": {
      "text/plain": [
       "tensor([0.1578, 0.1522, 0.1461, 0.1396, 0.1327, 0.1253, 0.1176, 0.1097, 0.1015,\n",
       "        0.0933])"
      ]
     },
     "execution_count": 26,
     "metadata": {},
     "output_type": "execute_result"
    }
   ],
   "source": [
    "composition_over_time[:,0]"
   ]
  },
  {
   "cell_type": "code",
   "execution_count": 27,
   "id": "persistent-niagara",
   "metadata": {},
   "outputs": [
    {
     "data": {
      "text/plain": [
       "[<matplotlib.lines.Line2D at 0x7f6f84c917d0>]"
      ]
     },
     "execution_count": 27,
     "metadata": {},
     "output_type": "execute_result"
    },
    {
     "data": {
      "image/png": "[encoded data removed]",
      "text/plain": [
       "<Figure size 432x288 with 1 Axes>"
      ]
     },
     "metadata": {
      "needs_background": "light"
     },
     "output_type": "display_data"
    }
   ],
   "source": [
    "fig = plt.figure()\n",
    "ax = plt.gca()\n",
    "\n",
    "ax.plot(times.numpy(), composition_over_time[:,0])"
   ]
  },
  {
   "cell_type": "code",
   "execution_count": 28,
   "id": "possible-species",
   "metadata": {},
   "outputs": [
    {
     "data": {
      "text/plain": [
       "<matplotlib.legend.Legend at 0x7f6f84a91d10>"
      ]
     },
     "execution_count": 28,
     "metadata": {},
     "output_type": "execute_result"
    },
    {
     "data": {
      "image/png": "[encoded data removed]",
      "text/plain": [
       "<Figure size 432x288 with 1 Axes>"
      ]
     },
     "metadata": {
      "needs_background": "light"
     },
     "output_type": "display_data"
    }
   ],
   "source": [
    "fig = plt.figure()\n",
    "ax = plt.gca()\n",
    "\n",
    "ax.plot(times.numpy(), composition_over_time)\n",
    "\n",
    "ax.set_title(\"Predicted cell proportions\")\n",
    "ax.set_xlabel(\"Time\")\n",
    "ax.legend(ebov_dataset.cell_type_str_list,loc='best',fontsize='small')"
   ]
  },
  {
   "cell_type": "code",
   "execution_count": 29,
   "id": "passing-configuration",
   "metadata": {},
   "outputs": [
    {
     "data": {
      "text/plain": [
       "dict_keys(['log_phi_posterior_loc_g', 'log_beta_posterior_loc_g', 'log_r_posterior_loc_i', 'unnorm_cell_pop_base_posterior_loc_c', 'unnorm_cell_pop_deform_posterior_loc_c', 'tau_deviation_posterior_loc_m'])"
      ]
     },
     "execution_count": 29,
     "metadata": {},
     "output_type": "execute_result"
    }
   ],
   "source": [
    "pyro.get_param_store().keys()"
   ]
  },
  {
   "cell_type": "markdown",
   "id": "wanted-newspaper",
   "metadata": {},
   "source": [
    "### Individual Infection Rates"
   ]
  },
  {
   "cell_type": "code",
   "execution_count": 33,
   "id": "billion-layout",
   "metadata": {},
   "outputs": [
    {
     "data": {
      "text/plain": [
       "tensor([0.3963, 0.6541, 0.5688, 0.4631, 1.2465, 0.3176, 0.4320, 0.5872, 0.5222,\n",
       "        1.0000, 0.5146, 1.2297, 0.4485, 0.8825, 1.0918, 0.5111, 1.0841, 1.0000,\n",
       "        0.5506, 0.3756, 1.0000], device='cuda:0', grad_fn=<ExpBackward>)"
      ]
     },
     "execution_count": 33,
     "metadata": {},
     "output_type": "execute_result"
    }
   ],
   "source": [
    "# These are the per individual infection rates\n",
    "pyro.param('log_r_posterior_loc_i').exp()"
   ]
  },
  {
   "cell_type": "code",
   "execution_count": 37,
   "id": "intimate-seminar",
   "metadata": {},
   "outputs": [],
   "source": [
    "infection_rates = pyro.param('log_r_posterior_loc_i').exp().cpu().detach().numpy()"
   ]
  },
  {
   "cell_type": "code",
   "execution_count": 39,
   "id": "acoustic-hypothetical",
   "metadata": {},
   "outputs": [
    {
     "data": {
      "text/plain": [
       "Text(0.5, 1.0, 'Histogram of infection rates')"
      ]
     },
     "execution_count": 39,
     "metadata": {},
     "output_type": "execute_result"
    },
    {
     "data": {
      "image/png": "[encoded data removed]",
      "text/plain": [
       "<Figure size 432x288 with 1 Axes>"
      ]
     },
     "metadata": {
      "needs_background": "light"
     },
     "output_type": "display_data"
    }
   ],
   "source": [
    "plt.hist(infection_rates)\n",
    "plt.title(\"Histogram of infection rates\")"
   ]
  },
  {
   "cell_type": "code",
   "execution_count": 44,
   "id": "universal-approval",
   "metadata": {},
   "outputs": [],
   "source": [
    "# Plot Gene Dispersions against gene expression levels"
   ]
  },
  {
   "cell_type": "code",
   "execution_count": 63,
   "id": "demonstrated-treasure",
   "metadata": {},
   "outputs": [
    {
     "data": {
      "text/plain": [
       "Text(0, 0.5, 'phi')"
      ]
     },
     "execution_count": 63,
     "metadata": {},
     "output_type": "execute_result"
    },
    {
     "data": {
      "image/png": "[encoded data removed]",
      "text/plain": [
       "<Figure size 432x288 with 1 Axes>"
      ]
     },
     "metadata": {
      "needs_background": "light"
     },
     "output_type": "display_data"
    }
   ],
   "source": [
    "plt.scatter(\n",
    "    x=np.log1p(ebov_dataset.bulk_raw_gex_gm.sum(1)),\n",
    "    y=pyro.param('log_phi_posterior_loc_g').detach().cpu().numpy(),\n",
    "    )\n",
    "plt.xlabel('log(sum(X)+1)')\n",
    "plt.ylabel('phi')"
   ]
  },
  {
   "cell_type": "code",
   "execution_count": 64,
   "id": "handmade-likelihood",
   "metadata": {},
   "outputs": [
    {
     "data": {
      "text/plain": [
       "Text(0, 0.5, 'phi')"
      ]
     },
     "execution_count": 64,
     "metadata": {},
     "output_type": "execute_result"
    },
    {
     "data": {
      "image/png": "[encoded data removed]",
      "text/plain": [
       "<Figure size 432x288 with 1 Axes>"
      ]
     },
     "metadata": {
      "needs_background": "light"
     },
     "output_type": "display_data"
    }
   ],
   "source": [
    "plt.scatter(\n",
    "    x=np.log1p(ebov_dataset.bulk_raw_gex_gm.sum(1)),\n",
    "    y=pyro.param('log_beta_posterior_loc_g').detach().cpu().numpy(),\n",
    "    )\n",
    "plt.xlabel('log(sum(X)+1)')\n",
    "plt.ylabel('phi')"
   ]
  },
  {
   "cell_type": "code",
   "execution_count": 66,
   "id": "under-dispatch",
   "metadata": {},
   "outputs": [
    {
     "data": {
      "text/plain": [
       "Text(0, 0.5, 'beta')"
      ]
     },
     "execution_count": 66,
     "metadata": {},
     "output_type": "execute_result"
    },
    {
     "data": {
      "image/png": "[encoded data removed]",
      "text/plain": [
       "<Figure size 432x288 with 1 Axes>"
      ]
     },
     "metadata": {
      "needs_background": "light"
     },
     "output_type": "display_data"
    }
   ],
   "source": [
    "plt.scatter(\n",
    "    x=pyro.param('log_phi_posterior_loc_g').detach().cpu().numpy(),\n",
    "    y=pyro.param('log_beta_posterior_loc_g').detach().cpu().numpy(),\n",
    "    )\n",
    "plt.xlabel('phi')\n",
    "plt.ylabel('beta')"
   ]
  },
  {
   "cell_type": "code",
   "execution_count": null,
   "id": "signed-yield",
   "metadata": {},
   "outputs": [],
   "source": [
    "plt.hist(, bins=50);"
   ]
  },
  {
   "cell_type": "code",
   "execution_count": 54,
   "id": "seeing-northwest",
   "metadata": {},
   "outputs": [],
   "source": [
    "#plt.scatter(\n",
    "#    ebov_dataset.m_to_i,\n",
    "#    ebov_dataset.dpi_time_m)"
   ]
  },
  {
   "cell_type": "code",
   "execution_count": null,
   "id": "gothic-ethiopia",
   "metadata": {},
   "outputs": [],
   "source": []
  }
 ],
 "metadata": {
  "environment": {
   "name": "pytorch-gpu.1-7.m65",
   "type": "gcloud",
   "uri": "gcr.io/deeplearning-platform-release/pytorch-gpu.1-7:m65"
  },
  "kernelspec": {
   "display_name": "Python 3",
   "language": "python",
   "name": "python3"
  },
  "language_info": {
   "codemirror_mode": {
    "name": "ipython",
    "version": 3
   },
   "file_extension": ".py",
   "mimetype": "text/x-python",
   "name": "python",
   "nbconvert_exporter": "python",
   "pygments_lexer": "ipython3",
   "version": "3.7.10"
  }
 },
 "nbformat": 4,
 "nbformat_minor": 5
}
