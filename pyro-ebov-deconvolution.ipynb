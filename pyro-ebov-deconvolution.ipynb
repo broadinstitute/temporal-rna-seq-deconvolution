{
 "cells": [
  {
   "cell_type": "markdown",
   "id": "chinese-piano",
   "metadata": {},
   "source": [
    "## EBOV deconvolution in Pyro\n",
    "\n",
    "indices:\n",
    "- j for cell type\n",
    "- m for sample index in the sample sheet\n"
   ]
  },
  {
   "cell_type": "code",
   "execution_count": 60,
   "id": "burning-thermal",
   "metadata": {},
   "outputs": [],
   "source": [
    "import os\n",
    "import pickle5\n",
    "import numpy as np\n",
    "import pandas as pd\n",
    "import matplotlib.pylab as plt\n",
    "\n",
    "import torch\n",
    "import pyro\n",
    "from pyro.infer import SVI, Trace_ELBO\n",
    "\n",
    "device = torch.device(\"cuda:0\")\n",
    "dtype = torch.float32\n",
    "dtype_np = np.float32"
   ]
  },
  {
   "cell_type": "markdown",
   "id": "coupled-commitment",
   "metadata": {},
   "source": [
    "## Configuration"
   ]
  },
  {
   "cell_type": "code",
   "execution_count": 61,
   "id": "accredited-singing",
   "metadata": {},
   "outputs": [],
   "source": [
    "data_path = '/home/jupyter/mb-ml-data-disk/pyro-ebov-deconvolution'"
   ]
  },
  {
   "cell_type": "code",
   "execution_count": 62,
   "id": "deadly-calibration",
   "metadata": {},
   "outputs": [],
   "source": [
    "from typing import List, Dict\n",
    "from boltons.cacheutils import cachedproperty\n",
    "\n",
    "\n",
    "class EBOVDataset:\n",
    "    \n",
    "    def __init__(\n",
    "            self,\n",
    "            data_path: str,\n",
    "            dtype_np: np.dtype):\n",
    "        \n",
    "        self.dtype_np = dtype_np\n",
    "        \n",
    "        # load all data\n",
    "        self.bulk_raw_gex_gm = np.load(os.path.join(data_path, 'bulk_matrix.npy')).astype(dtype_np)\n",
    "        \n",
    "        with open(os.path.join(data_path, 'bulk_pdata.pkl'), 'rb') as f:\n",
    "            loader = pickle5.Unpickler(f)\n",
    "            self.bulk_sample_metadata_pd = loader.load()\n",
    "\n",
    "        self.sc_raw_gex_gj = np.load(os.path.join(data_path, 'sc_matrix.npy'))\n",
    "\n",
    "        with open(os.path.join(data_path, 'sc_pdata.pkl'), 'rb') as f:\n",
    "            loader = pickle5.Unpickler(f)\n",
    "            self.sc_sample_metadata_pd = loader.load()\n",
    "            \n",
    "        # shorthands\n",
    "        self.num_samples = self.bulk_raw_gex_gm.shape[-1]\n",
    "        self.num_genes = self.bulk_raw_gex_gm.shape[-2]\n",
    "        self.num_individuals = len(set(self.bulk_sample_metadata_pd['id.individual'].values))\n",
    "        \n",
    "        # index individuals\n",
    "        individual_str_list = sorted(list(set(self.bulk_sample_metadata_pd['id.individual'].values)))\n",
    "        individual_str_to_index_map = {\n",
    "            individual_str: index for index, individual_str in enumerate(individual_str_list)}\n",
    "        \n",
    "        # individual index of each sample\n",
    "        self.m_to_i = np.asarray(list(\n",
    "            map(\n",
    "                individual_str_to_index_map.get,\n",
    "                self.bulk_sample_metadata_pd['id.individual'].values)))\n",
    "        \n",
    "        # pre-process dpi times\n",
    "        self.dpi_time_m = np.clip(\n",
    "            self.bulk_sample_metadata_pd['dpi_time'].values.astype(dtype_np),\n",
    "            a_min=0., a_max=None)\n",
    "        self.dpi_time_m = self.dpi_time_m / self.dpi_time_m.max()\n",
    "\n",
    "    @cachedproperty\n",
    "    def cell_type_str_list(self) -> List[str]:\n",
    "        return sorted(list(set(self.sc_sample_metadata_pd['Subclustering_reduced'])))\n",
    "\n",
    "    @cachedproperty\n",
    "    def cell_type_str_to_index_map(self) -> Dict[str, int]:\n",
    "        return {cell_type_str: index for index, cell_type_str in enumerate(self.cell_type_str_list)}        \n",
    "\n",
    "    @cachedproperty\n",
    "    def num_cell_types(self) -> int:\n",
    "        return len(self.cell_type_str_list)\n",
    "    \n",
    "    @cachedproperty\n",
    "    def w_hat_gc(self) -> np.ndarray:\n",
    "        w_hat_gc = np.zeros((self.num_genes, self.num_cell_types))\n",
    "        for cell_type_str in self.cell_type_str_list:\n",
    "            i_cell_type = self.cell_type_str_to_index_map[cell_type_str]\n",
    "            mask_j = self.sc_sample_metadata_pd['Subclustering_reduced'].values == cell_type_str\n",
    "            w_hat_gc[:, i_cell_type] = np.sum(self.sc_raw_gex_gj[:, mask_j], axis=-1)\n",
    "            w_hat_gc[:, i_cell_type] = w_hat_gc[:, i_cell_type] / np.sum(w_hat_gc[:, i_cell_type])\n",
    "        return w_hat_gc"
   ]
  },
  {
   "cell_type": "code",
   "execution_count": null,
   "id": "million-maryland",
   "metadata": {},
   "outputs": [],
   "source": [
    "ebov_dataset = EBOVDataset(data_path, dtype_np)"
   ]
  },
  {
   "cell_type": "code",
   "execution_count": 249,
   "id": "alpine-hazard",
   "metadata": {},
   "outputs": [],
   "source": [
    "from typing import Dict\n",
    "\n",
    "def generate_minibatch(\n",
    "        dataset: EBOVDataset,\n",
    "        minibatch_size: int,\n",
    "        device: torch.device,\n",
    "        dtype: torch.dtype,\n",
    "        return_full_batch: bool = False) -> Dict[str, torch.Tensor]:\n",
    "    \"\"\"\n",
    "    \n",
    "    TODO: balanced sampling from time\n",
    "    \n",
    "    \"\"\"\n",
    "    \n",
    "    # choose random samples\n",
    "    if return_full_batch:\n",
    "        sample_indices_n = np.arange(dataset.num_samples)\n",
    "    else:\n",
    "        sample_indices_n = np.random.randint(0, dataset.num_samples, size=minibatch_size)\n",
    "    \n",
    "    # subset data\n",
    "    x_ng = dataset.bulk_raw_gex_gm[:, sample_indices_n].T\n",
    "    t_n = dataset.dpi_time_m[sample_indices_n]\n",
    "    ind_index_n = dataset.m_to_i[sample_indices_n]\n",
    "    \n",
    "    return {\n",
    "        'x_ng': torch.tensor(x_ng, device=device, dtype=dtype),\n",
    "        't_n': torch.tensor(t_n, device=device, dtype=dtype),\n",
    "        'ind_index_n': torch.tensor(ind_index_n, device=device, dtype=torch.long),\n",
    "        'sample_index_n': torch.tensor(sample_indices_n, device=device, dtype=torch.long)\n",
    "    }"
   ]
  },
  {
   "cell_type": "code",
   "execution_count": 250,
   "id": "dominican-portsmouth",
   "metadata": {},
   "outputs": [],
   "source": [
    "from pyro.distributions.torch_distribution import TorchDistribution, TorchDistributionMixin\n",
    "from torch.distributions.utils import probs_to_logits, logits_to_probs, broadcast_all, lazy_property\n",
    "from torch.distributions import constraints\n",
    "from numbers import Number\n",
    "\n",
    "\n",
    "class NegativeBinomialAltParam(TorchDistribution):\n",
    "    r\"\"\"\n",
    "    Creates a negative binomial distribution.\n",
    "    \n",
    "    Args:\n",
    "        mu (Number, Tensor): mean (must be strictly positive)\n",
    "        phi (Number, Tensor): overdispersion (must be strictly positive)\n",
    "    \"\"\"\n",
    "    arg_constraints = {'mu': constraints.positive, 'phi': constraints.positive}\n",
    "    support = constraints.nonnegative_integer\n",
    "    EPS = 1e-6\n",
    "    \n",
    "    def __init__(self, mu, phi, validate_args=None):\n",
    "        self.mu, self.phi = broadcast_all(mu, phi)\n",
    "        if all(isinstance(_var, Number) for _var in (mu, phi)): \n",
    "            batch_shape = torch.Size()\n",
    "        else:\n",
    "            batch_shape = self.mu.size()\n",
    "        super(NegativeBinomialAltParam, self).__init__(batch_shape, validate_args=validate_args)\n",
    "        \n",
    "    def expand(self, batch_shape, _instance=None):\n",
    "        new = self._get_checked_instance(NegativeBinomialAltParam, _instance)\n",
    "        batch_shape = torch.Size(batch_shape)\n",
    "        new.mu = self.mu.expand(batch_shape)\n",
    "        new.phi = self.phi.expand(batch_shape)\n",
    "        \n",
    "        super(NegativeBinomialAltParam, new).__init__(batch_shape, validate_args=False)\n",
    "        new._validate_args = self._validate_args\n",
    "        return new\n",
    "    \n",
    "    @lazy_property\n",
    "    def _gamma(self):\n",
    "        return torch.distributions.Gamma(\n",
    "            concentration=self.phi.reciprocal(),\n",
    "            rate=(self.mu * self.phi).reciprocal())\n",
    "\n",
    "    def sample(self, sample_shape=torch.Size()):\n",
    "        with torch.no_grad():\n",
    "            return torch.poisson(self._gamma.sample(sample_shape=sample_shape))\n",
    "        \n",
    "    @property\n",
    "    def mean(self):\n",
    "        return self.mu\n",
    "    \n",
    "    @property\n",
    "    def variance(self):\n",
    "        return self.mu + self.phi * self.mu.pow(2)\n",
    "    \n",
    "    def log_prob(self, value):\n",
    "        if self._validate_args:\n",
    "            self._validate_sample(value)\n",
    "        mu, phi, value = broadcast_all(self.mu, self.phi, value)\n",
    "        alpha = (self.EPS + phi).reciprocal()\n",
    "        return ((value + alpha).lgamma() - (value + 1).lgamma() - alpha.lgamma()\n",
    "                + alpha * (alpha.log() - (alpha + mu).log())\n",
    "                + value * (mu.log() - (alpha + mu).log()))"
   ]
  },
  {
   "cell_type": "code",
   "execution_count": 267,
   "id": "completed-patrol",
   "metadata": {},
   "outputs": [],
   "source": [
    "import pyro.distributions as dist\n",
    "\n",
    "\n",
    "class PseudoTimeRegDeconvolution:\n",
    "    \"\"\"\n",
    "    \n",
    "    .. note: we use \"n\" for batch dimension, and \"m\" for sample index.\n",
    "    \n",
    "    \"\"\"\n",
    "    \n",
    "    def  __init__(\n",
    "            self,\n",
    "            dataset: EBOVDataset,\n",
    "            device: device,\n",
    "            dtype: dtype):\n",
    "        \n",
    "        self.dataset = dataset\n",
    "        self.device = device\n",
    "        self.dtype = dtype\n",
    "        \n",
    "        # hyperparameters\n",
    "        self.log_beta_prior_scale = 1.0\n",
    "        self.log_r_prior_scale = 1.0\n",
    "        self.tau_prior_scale = 1.0\n",
    "        self.log_phi_prior_loc = -5.0\n",
    "        self.log_phi_prior_scale = 1.0\n",
    "        \n",
    "        self.unnorm_cell_pop_base_prior_loc_c = np.zeros((self.dataset.num_cell_types,))\n",
    "        self.unnorm_cell_pop_base_prior_scale_c = np.ones((self.dataset.num_cell_types,))\n",
    "        self.unnorm_cell_pop_deform_prior_loc_c = np.zeros((self.dataset.num_cell_types,))\n",
    "        self.unnorm_cell_pop_deform_prior_scale_c = np.ones((self.dataset.num_cell_types,))\n",
    "\n",
    "        self.init_posterior_global_scale_factor = 0.05\n",
    "        \n",
    "        self.log_beta_posterior_scale = 1.0 * self.init_posterior_global_scale_factor\n",
    "        self.log_r_posterior_scale = 1.0 * self.init_posterior_global_scale_factor\n",
    "        self.tau_posterior_scale = 1.0 * self.init_posterior_global_scale_factor\n",
    "        self.log_phi_posterior_loc = -5.0\n",
    "        self.log_phi_posterior_scale = 0.1 * self.init_posterior_global_scale_factor\n",
    "        \n",
    "        self.unnorm_cell_pop_base_posterior_loc_c = np.zeros((self.dataset.num_cell_types,))\n",
    "        self.unnorm_cell_pop_base_posterior_scale_c = self.init_posterior_global_scale_factor * np.ones((self.dataset.num_cell_types,))\n",
    "        self.unnorm_cell_pop_deform_posterior_loc_c = np.zeros((self.dataset.num_cell_types,))\n",
    "        self.unnorm_cell_pop_deform_posterior_scale_c = self.init_posterior_global_scale_factor * np.ones((self.dataset.num_cell_types,))\n",
    "\n",
    "        # cache useful tensors\n",
    "        self.w_hat_gc = torch.tensor(self.dataset.w_hat_gc, device=device, dtype=dtype)\n",
    "        \n",
    "    def model(\n",
    "            self,\n",
    "            x_ng: torch.Tensor,\n",
    "            t_n: torch.Tensor,\n",
    "            ind_index_n: torch.Tensor,\n",
    "            sample_index_n: torch.Tensor):\n",
    "        \"\"\"\n",
    "        :param x_ng: gene expression\n",
    "        :param t_n: obseration time\n",
    "        :param ind_index_n: index of the individual\n",
    "        :param sample_index_n: index of the sample in the dataset\n",
    "        \"\"\"\n",
    "        \n",
    "        minibatch_size = x_ng.shape[0]\n",
    "        \n",
    "        # sample log_phi_g\n",
    "        log_phi_g = pyro.sample(\n",
    "            'log_phi_g',\n",
    "            dist.Normal(\n",
    "                loc=self.log_phi_prior_loc * torch.ones(\n",
    "                    (self.dataset.num_genes,), device=self.device, dtype=self.dtype),\n",
    "                scale=self.log_phi_prior_scale * torch.ones(\n",
    "                    (self.dataset.num_genes,), device=self.device, dtype=self.dtype)).to_event(1))\n",
    "        \n",
    "        # sample log_beta_g\n",
    "        log_beta_g = pyro.sample(\n",
    "            'log_beta_g',\n",
    "            dist.Normal(\n",
    "                loc=torch.zeros(\n",
    "                    (self.dataset.num_genes,), device=self.device, dtype=self.dtype),\n",
    "                scale=self.log_beta_prior_scale * torch.ones(\n",
    "                    (self.dataset.num_genes,), device=self.device, dtype=self.dtype)).to_event(1))\n",
    "        \n",
    "        # sample log_r_i\n",
    "        log_r_i = pyro.sample(\n",
    "            'log_r_i',\n",
    "            dist.Normal(\n",
    "                loc=torch.zeros(\n",
    "                    (self.dataset.num_individuals,), device=self.device, dtype=self.dtype),\n",
    "                scale=self.log_r_prior_scale * torch.ones(\n",
    "                    (self.dataset.num_individuals,), device=self.device, dtype=self.dtype)).to_event(1))\n",
    "        \n",
    "        # sample unnorm_cell_pop_base_c\n",
    "        unnorm_cell_pop_base_c = pyro.sample(\n",
    "            'unnorm_cell_pop_base_c',\n",
    "            dist.Normal(\n",
    "                loc=torch.tensor(\n",
    "                    self.unnorm_cell_pop_base_prior_loc_c,\n",
    "                    device=self.device, dtype=self.dtype),\n",
    "                scale=torch.tensor(\n",
    "                    self.unnorm_cell_pop_base_prior_scale_c,\n",
    "                    device=self.device, dtype=self.dtype)).to_event(1))\n",
    "        \n",
    "        # sample unnorm_cell_pop_base_c\n",
    "        unnorm_cell_pop_deform_c = pyro.sample(\n",
    "            'unnorm_cell_pop_deform_c',\n",
    "            dist.Normal(\n",
    "                loc=torch.tensor(\n",
    "                    self.unnorm_cell_pop_deform_prior_loc_c,\n",
    "                    device=self.device, dtype=self.dtype),\n",
    "                scale=torch.tensor(\n",
    "                    self.unnorm_cell_pop_deform_prior_scale_c,\n",
    "                    device=self.device, dtype=self.dtype)).to_event(1))\n",
    "        \n",
    "        # calculate useful derived variables\n",
    "        beta_g = log_beta_g.exp()\n",
    "        phi_g = log_phi_g.exp()\n",
    "        \n",
    "#         ### NOTE ###\n",
    "#         phi_g = 0.01 * torch.ones((self.dataset.num_genes,), device=self.device, dtype=self.dtype)\n",
    "#         beta_g = torch.ones((self.dataset.num_genes,), device=self.device, dtype=self.dtype)\n",
    "        \n",
    "        unnorm_w_gc = self.w_hat_gc * beta_g[:, None]\n",
    "        w_gc = unnorm_w_gc / unnorm_w_gc.sum(0)\n",
    "        r_n = log_r_i[ind_index_n].exp()\n",
    "        \n",
    "        with pyro.poutine.scale(scale=self.dataset.num_samples / minibatch_size):\n",
    "            \n",
    "            with pyro.plate(\"batch\"):\n",
    "\n",
    "                # sample tau (\"actual infection\") for each sample\n",
    "                tau_mean_shift_n = t_n / r_n\n",
    "                tau_deviation_n = pyro.sample(\n",
    "                    \"tau_deviation_n\",\n",
    "                    dist.Normal(\n",
    "                        loc=torch.zeros_like(t_n),\n",
    "                        scale=self.tau_prior_scale * torch.ones_like(t_n)))\n",
    "                tau_n = tau_mean_shift_n + tau_deviation_n\n",
    "\n",
    "                # calculate cell proportion\n",
    "                cell_pop_nc = torch.nn.functional.softmax(\n",
    "                    unnorm_cell_pop_base_c + unnorm_cell_pop_deform_c * tau_n[:, None],\n",
    "                    dim=-1)\n",
    "\n",
    "                # calculate mean gene expression\n",
    "                mu_ng = x_ng.sum(-1)[:, None] * torch.matmul(cell_pop_nc, w_gc.transpose(-1, -2))\n",
    "\n",
    "                # observe gene expression\n",
    "                pyro.sample(\n",
    "                    \"x_ng\",\n",
    "                    NegativeBinomialAltParam(\n",
    "                        mu=mu_ng,\n",
    "                        phi=phi_g[None, :]).to_event(1),\n",
    "                    obs=x_ng)\n",
    "\n",
    "    def delta_guide(\n",
    "            self,\n",
    "            x_ng: torch.Tensor,\n",
    "            t_n: torch.Tensor,\n",
    "            ind_index_n: torch.Tensor,\n",
    "            sample_index_n: torch.Tensor):\n",
    "        \n",
    "        minibatch_size = x_ng.shape[0]\n",
    "        \n",
    "        # variational parameters for log_phi_g\n",
    "        log_phi_posterior_loc_g = pyro.param(\n",
    "            \"log_phi_posterior_loc_g\",\n",
    "            self.log_phi_posterior_loc * torch.ones(\n",
    "                (self.dataset.num_genes,), device=self.device, dtype=self.dtype))\n",
    "\n",
    "        # variational parameters for log_beta_g\n",
    "        log_beta_posterior_loc_g = pyro.param(\n",
    "            \"log_beta_posterior_loc_g\",\n",
    "            torch.zeros(\n",
    "                (self.dataset.num_genes,), device=self.device, dtype=self.dtype))        \n",
    "        \n",
    "        # variational parameters for log_r_i\n",
    "        log_r_posterior_loc_i = pyro.param(\n",
    "            \"log_r_posterior_loc_i\",\n",
    "            torch.zeros(\n",
    "                (self.dataset.num_individuals,), device=self.device, dtype=self.dtype))\n",
    "        \n",
    "        # variational parameters for unnorm_cell_pop_base_c (\"B_c\")\n",
    "        unnorm_cell_pop_base_posterior_loc_c = pyro.param(\n",
    "            \"unnorm_cell_pop_base_posterior_loc_c\",\n",
    "            torch.tensor(\n",
    "                self.unnorm_cell_pop_base_posterior_loc_c,\n",
    "                device=self.device, dtype=self.dtype))\n",
    "        \n",
    "        # variational parameters for unnorm_cell_pop_deform_c (\"R_c\")\n",
    "        unnorm_cell_pop_deform_posterior_loc_c = pyro.param(\n",
    "            \"unnorm_cell_pop_deform_posterior_loc_c\",\n",
    "            torch.tensor(\n",
    "                self.unnorm_cell_pop_deform_posterior_loc_c,\n",
    "                device=self.device, dtype=self.dtype))\n",
    "        \n",
    "        # variational parameters for tau_deviation_m\n",
    "        tau_deviation_posterior_loc_m = pyro.param(\n",
    "            \"tau_deviation_posterior_loc_m\",\n",
    "            torch.zeros(\n",
    "                (self.dataset.num_samples,),\n",
    "                device=self.device, dtype=self.dtype))\n",
    "        \n",
    "        # posterior sample statements\n",
    "        log_phi_g = pyro.sample(\n",
    "            \"log_phi_g\",\n",
    "            dist.Delta(\n",
    "                v=log_phi_posterior_loc_g).to_event(1))\n",
    "\n",
    "        log_beta_g = pyro.sample(\n",
    "            \"log_beta_g\",\n",
    "            dist.Delta(\n",
    "                v=log_beta_posterior_loc_g).to_event(1))\n",
    "\n",
    "        log_r_i = pyro.sample(\n",
    "            \"log_r_i\",\n",
    "            dist.Delta(\n",
    "                v=log_r_posterior_loc_i).to_event(1))\n",
    "\n",
    "        unnorm_cell_pop_base_c = pyro.sample(\n",
    "            'unnorm_cell_pop_base_c',\n",
    "            dist.Delta(\n",
    "                v=unnorm_cell_pop_base_posterior_loc_c).to_event(1))\n",
    "        \n",
    "        unnorm_cell_pop_deform_c = pyro.sample(\n",
    "            'unnorm_cell_pop_deform_c',\n",
    "            dist.Delta(\n",
    "                v=unnorm_cell_pop_deform_posterior_loc_c).to_event(1))\n",
    "        \n",
    "        with pyro.poutine.scale(scale=self.dataset.num_samples / minibatch_size):\n",
    "\n",
    "            with pyro.plate(\"batch\"):\n",
    "            \n",
    "                tau_deviation_n = pyro.sample(\n",
    "                    \"tau_deviation_n\",\n",
    "                    dist.Delta(\n",
    "                        v=tau_deviation_posterior_loc_m[sample_index_n]))\n",
    "                \n",
    "    def guide(\n",
    "            self,\n",
    "            x_ng: torch.Tensor,\n",
    "            t_n: torch.Tensor,\n",
    "            ind_index_n: torch.Tensor,\n",
    "            sample_index_n: torch.Tensor):\n",
    "        \n",
    "        minibatch_size = x_ng.shape[0]\n",
    "        \n",
    "        # variational parameters for log_phi_g\n",
    "        log_phi_posterior_loc_g = pyro.param(\n",
    "            \"log_phi_posterior_loc_g\",\n",
    "            self.log_phi_posterior_loc * torch.ones(\n",
    "                (self.dataset.num_genes,), device=self.device, dtype=self.dtype))\n",
    "        log_phi_posterior_scale_g = pyro.param(\n",
    "            \"log_phi_posterior_scale_g\",\n",
    "            self.log_phi_posterior_scale * torch.ones(\n",
    "                (self.dataset.num_genes,), device=self.device, dtype=self.dtype),\n",
    "            constraint=constraints.positive)\n",
    "\n",
    "        # variational parameters for log_beta_g\n",
    "        log_beta_posterior_loc_g = pyro.param(\n",
    "            \"log_beta_posterior_loc_g\",\n",
    "            torch.zeros(\n",
    "                (self.dataset.num_genes,), device=self.device, dtype=self.dtype))        \n",
    "        log_beta_posterior_scale_g = pyro.param(\n",
    "            \"log_beta_posterior_scale_g\",\n",
    "            self.log_phi_posterior_scale * torch.ones(\n",
    "                (self.dataset.num_genes,), device=self.device, dtype=self.dtype),\n",
    "            constraint=constraints.positive)\n",
    "        \n",
    "        # variational parameters for log_r_i\n",
    "        log_r_posterior_loc_i = pyro.param(\n",
    "            \"log_r_posterior_loc_i\",\n",
    "            torch.zeros(\n",
    "                (self.dataset.num_individuals,), device=self.device, dtype=self.dtype))\n",
    "        log_r_posterior_scale_i = pyro.param(\n",
    "            \"log_r_posterior_scale_i\",\n",
    "            self.log_r_posterior_scale * torch.ones(\n",
    "                (self.dataset.num_individuals,), device=self.device, dtype=self.dtype),\n",
    "            constraint=constraints.positive)\n",
    "        \n",
    "        # variational parameters for unnorm_cell_pop_base_c (\"B_c\")\n",
    "        unnorm_cell_pop_base_posterior_loc_c = pyro.param(\n",
    "            \"unnorm_cell_pop_base_posterior_loc_c\",\n",
    "            torch.tensor(\n",
    "                self.unnorm_cell_pop_base_posterior_loc_c,\n",
    "                device=self.device, dtype=self.dtype))\n",
    "        unnorm_cell_pop_base_posterior_scale_c = pyro.param(\n",
    "            \"unnorm_cell_pop_base_posterior_scale_c\",\n",
    "            torch.tensor(\n",
    "                self.unnorm_cell_pop_base_posterior_scale_c,\n",
    "                device=self.device, dtype=self.dtype),\n",
    "            constraint=constraints.positive)\n",
    "        \n",
    "        # variational parameters for unnorm_cell_pop_deform_c (\"R_c\")\n",
    "        unnorm_cell_pop_deform_posterior_loc_c = pyro.param(\n",
    "            \"unnorm_cell_pop_deform_posterior_loc_c\",\n",
    "            torch.tensor(\n",
    "                self.unnorm_cell_pop_deform_posterior_loc_c,\n",
    "                device=self.device, dtype=self.dtype))\n",
    "        unnorm_cell_pop_deform_posterior_scale_c = pyro.param(\n",
    "            \"unnorm_cell_pop_deform_posterior_scale_c\",\n",
    "            torch.tensor(\n",
    "                self.unnorm_cell_pop_deform_posterior_scale_c,\n",
    "                device=self.device, dtype=self.dtype),\n",
    "            constraint=constraints.positive)\n",
    "        \n",
    "        # variational parameters for tau_deviation_m\n",
    "        tau_deviation_posterior_loc_m = pyro.param(\n",
    "            \"tau_deviation_posterior_loc_m\",\n",
    "            torch.zeros(\n",
    "                (self.dataset.num_samples,),\n",
    "                device=self.device, dtype=self.dtype))\n",
    "        tau_deviation_posterior_scale_m = pyro.param(\n",
    "            \"tau_deviation_posterior_scale_m\",\n",
    "            self.tau_posterior_scale * torch.ones(\n",
    "                (self.dataset.num_samples,),\n",
    "                device=self.device, dtype=self.dtype),\n",
    "            constraint=constraints.positive)\n",
    "        \n",
    "        # posterior sample statements\n",
    "        log_phi_g = pyro.sample(\n",
    "            \"log_phi_g\",\n",
    "            dist.Normal(\n",
    "                loc=log_phi_posterior_loc_g,\n",
    "                scale=log_phi_posterior_scale_g).to_event(1))\n",
    "\n",
    "        log_beta_g = pyro.sample(\n",
    "            \"log_beta_g\",\n",
    "            dist.Normal(\n",
    "                loc=log_beta_posterior_loc_g,\n",
    "                scale=log_beta_posterior_scale_g).to_event(1))\n",
    "\n",
    "        log_r_i = pyro.sample(\n",
    "            \"log_r_i\",\n",
    "            dist.Normal(\n",
    "                loc=log_r_posterior_loc_i,\n",
    "                scale=log_r_posterior_scale_i).to_event(1))\n",
    "\n",
    "        unnorm_cell_pop_base_c = pyro.sample(\n",
    "            'unnorm_cell_pop_base_c',\n",
    "            dist.Normal(\n",
    "                loc=unnorm_cell_pop_base_posterior_loc_c,\n",
    "                scale=unnorm_cell_pop_base_posterior_scale_c).to_event(1))\n",
    "        \n",
    "        unnorm_cell_pop_deform_c = pyro.sample(\n",
    "            'unnorm_cell_pop_deform_c',\n",
    "            dist.Normal(\n",
    "                loc=unnorm_cell_pop_deform_posterior_loc_c,\n",
    "                scale=unnorm_cell_pop_deform_posterior_scale_c).to_event(1))\n",
    "        \n",
    "        with pyro.poutine.scale(scale=self.dataset.num_samples / minibatch_size):\n",
    "\n",
    "            with pyro.plate(\"batch\"):\n",
    "            \n",
    "                tau_deviation_n = pyro.sample(\n",
    "                    \"tau_deviation_n\",\n",
    "                    dist.Normal(\n",
    "                        loc=tau_deviation_posterior_loc_m[sample_index_n],\n",
    "                        scale=tau_deviation_posterior_scale_m[sample_index_n]))"
   ]
  },
  {
   "cell_type": "code",
   "execution_count": 268,
   "id": "north-replica",
   "metadata": {},
   "outputs": [],
   "source": [
    "pseudo_time_reg_deconv = PseudoTimeRegDeconvolution(\n",
    "    dataset=ebov_dataset,\n",
    "    device=device,\n",
    "    dtype=dtype)\n",
    "\n",
    "pyro.clear_param_store()"
   ]
  },
  {
   "cell_type": "code",
   "execution_count": 269,
   "id": "criminal-underground",
   "metadata": {},
   "outputs": [],
   "source": [
    "# minibatch_dict = generate_minibatch(ebov_dataset, 10, device, dtype)\n",
    "\n",
    "# pseudo_time_reg_deconv.model(\n",
    "#     x_ng=minibatch_dict['x_ng'],\n",
    "#     t_n=minibatch_dict['t_n'],\n",
    "#     ind_index_n=minibatch_dict['ind_index_n'],\n",
    "#     sample_index_n=minibatch_dict['sample_indices_n'])\n",
    "\n",
    "# pseudo_time_reg_deconv.guide(\n",
    "#     x_ng=minibatch_dict['x_ng'],\n",
    "#     t_n=minibatch_dict['t_n'],\n",
    "#     ind_index_n=minibatch_dict['ind_index_n'],\n",
    "#     sample_index_n=minibatch_dict['sample_indices_n'])"
   ]
  },
  {
   "cell_type": "code",
   "execution_count": 270,
   "id": "downtown-affair",
   "metadata": {},
   "outputs": [],
   "source": [
    "n_iters = 10_000\n",
    "minibatch_size = 50\n",
    "log_frequency = 100"
   ]
  },
  {
   "cell_type": "code",
   "execution_count": 271,
   "id": "primary-luther",
   "metadata": {},
   "outputs": [],
   "source": [
    "# optimizer\n",
    "optim = pyro.optim.Adam(\n",
    "    {'lr': 5e-3})\n",
    "\n",
    "loss_hist = []"
   ]
  },
  {
   "cell_type": "code",
   "execution_count": 272,
   "id": "august-cream",
   "metadata": {},
   "outputs": [],
   "source": [
    "# SVI objective\n",
    "svi = SVI(\n",
    "    model=pseudo_time_reg_deconv.model,\n",
    "    guide=pseudo_time_reg_deconv.delta_guide,\n",
    "    optim=optim,\n",
    "    loss=Trace_ELBO())"
   ]
  },
  {
   "cell_type": "code",
   "execution_count": 290,
   "id": "accompanied-metallic",
   "metadata": {},
   "outputs": [
    {
     "name": "stdout",
     "output_type": "stream",
     "text": [
      "0   loss: 4677382.04445076\n",
      "100   loss: 4674994.34504509\n",
      "200   loss: 4672808.566480637\n",
      "300   loss: 4670784.367631912\n",
      "400   loss: 4668909.212321281\n",
      "500   loss: 4667167.398441315\n",
      "600   loss: 4665551.0579481125\n",
      "700   loss: 4664053.902894974\n",
      "800   loss: 4662661.629722595\n",
      "900   loss: 4661368.319421768\n",
      "1000   loss: 4660168.008018494\n",
      "1100   loss: 4659055.11601162\n",
      "1200   loss: 4658022.655290604\n",
      "1300   loss: 4657065.617835999\n",
      "1400   loss: 4656171.620177269\n",
      "1500   loss: 4655342.087053299\n",
      "1600   loss: 4654562.435071945\n",
      "1700   loss: 4653840.135233879\n",
      "1800   loss: 4653161.144765854\n",
      "1900   loss: 4652521.969634056\n",
      "2000   loss: 4651922.2175216675\n",
      "2100   loss: 4651353.601661682\n",
      "2200   loss: 4650817.645839691\n",
      "2300   loss: 4650306.440397263\n",
      "2400   loss: 4649817.800563812\n",
      "2500   loss: 4649349.524668694\n",
      "2600   loss: 4648903.660703659\n",
      "2700   loss: 4648479.410698891\n",
      "2800   loss: 4648067.470707893\n",
      "2900   loss: 4647672.690941811\n",
      "3000   loss: 4647289.061906815\n",
      "3100   loss: 4646915.081476212\n",
      "3200   loss: 4646544.255158424\n",
      "3300   loss: 4646189.461186409\n",
      "3400   loss: 4645840.532247543\n",
      "3500   loss: 4645492.043964386\n",
      "3600   loss: 4645129.487565994\n",
      "3700   loss: 4644737.850100517\n",
      "3800   loss: 4644268.327716827\n",
      "3900   loss: 4643660.231664658\n",
      "4000   loss: 4642994.18315506\n",
      "4100   loss: 4642552.483205795\n",
      "4200   loss: 4642228.583498001\n",
      "4300   loss: 4641935.240196228\n",
      "4400   loss: 4641664.7250442505\n",
      "4500   loss: 4641397.996334076\n",
      "4600   loss: 4641138.46959877\n",
      "4700   loss: 4640888.306186676\n",
      "4800   loss: 4640640.755164146\n",
      "4900   loss: 4640403.562450409\n",
      "5000   loss: 4640169.994651794\n",
      "5100   loss: 4639940.837548256\n",
      "5200   loss: 4639723.181293488\n",
      "5300   loss: 4639508.742873192\n",
      "5400   loss: 4639303.363874435\n",
      "5500   loss: 4639095.772454262\n",
      "5600   loss: 4638895.521731377\n",
      "5700   loss: 4638705.301066399\n",
      "5800   loss: 4638525.756345749\n",
      "5900   loss: 4638354.783428192\n",
      "6000   loss: 4638189.462453842\n",
      "6100   loss: 4638032.920146942\n",
      "6200   loss: 4637884.7913274765\n",
      "6300   loss: 4637743.916778564\n",
      "6400   loss: 4637603.5289011\n",
      "6500   loss: 4637476.930109024\n",
      "6600   loss: 4637362.874302864\n",
      "6700   loss: 4637260.2339401245\n",
      "6800   loss: 4637162.115867615\n",
      "6900   loss: 4637068.786140442\n",
      "7000   loss: 4636977.120999336\n",
      "7100   loss: 4636893.0376262665\n",
      "7200   loss: 4636818.343665123\n",
      "7300   loss: 4636746.46490097\n",
      "7400   loss: 4636679.193561554\n",
      "7500   loss: 4636620.630737305\n",
      "7600   loss: 4636573.696098328\n",
      "7700   loss: 4636526.072353363\n",
      "7800   loss: 4636486.067705154\n",
      "7900   loss: 4636448.333875656\n",
      "8000   loss: 4636420.1503715515\n",
      "8100   loss: 4636391.531642914\n",
      "8200   loss: 4636367.922009468\n",
      "8300   loss: 4636347.853500366\n",
      "8400   loss: 4636329.801707268\n",
      "8500   loss: 4636314.942948341\n",
      "8600   loss: 4636300.507946014\n",
      "8700   loss: 4636286.6567316055\n",
      "8800   loss: 4636275.679076195\n",
      "8900   loss: 4636263.8612270355\n",
      "9000   loss: 4636250.617777824\n",
      "9100   loss: 4636241.709177017\n",
      "9200   loss: 4636227.929260254\n",
      "9300   loss: 4636213.97903347\n",
      "9400   loss: 4636203.068348885\n",
      "9500   loss: 4636191.083585739\n",
      "9600   loss: 4636181.294633865\n",
      "9700   loss: 4636172.865249634\n",
      "9800   loss: 4636163.048753738\n",
      "9900   loss: 4636156.254248619\n"
     ]
    }
   ],
   "source": [
    "for i_iter in range(n_iters):\n",
    "    \n",
    "    minibatch_dict = generate_minibatch(\n",
    "        ebov_dataset, minibatch_size, device, dtype,\n",
    "        return_full_batch=True)\n",
    "    loss = svi.step(**minibatch_dict)\n",
    "    \n",
    "    loss_hist.append(loss)\n",
    "    \n",
    "    if i_iter % log_frequency == 0:\n",
    "        print(f\"{i_iter}   loss: {loss_hist[-1]}\")"
   ]
  },
  {
   "cell_type": "code",
   "execution_count": 291,
   "id": "streaming-bubble",
   "metadata": {},
   "outputs": [
    {
     "data": {
      "text/plain": [
       "[<matplotlib.lines.Line2D at 0x7f643e25b190>]"
      ]
     },
     "execution_count": 291,
     "metadata": {},
     "output_type": "execute_result"
    },
    {
     "data": {
      "image/png": "[encoded data removed]",
      "text/plain": [
       "<Figure size 432x288 with 1 Axes>"
      ]
     },
     "metadata": {
      "needs_background": "light"
     },
     "output_type": "display_data"
    }
   ],
   "source": [
    "plt.plot(loss_hist)"
   ]
  },
  {
   "cell_type": "code",
   "execution_count": 292,
   "id": "varied-composer",
   "metadata": {},
   "outputs": [
    {
     "data": {
      "text/plain": [
       "dict_keys(['log_phi_posterior_loc_g', 'log_beta_posterior_loc_g', 'log_r_posterior_loc_i', 'unnorm_cell_pop_base_posterior_loc_c', 'unnorm_cell_pop_deform_posterior_loc_c', 'tau_deviation_posterior_loc_m'])"
      ]
     },
     "execution_count": 292,
     "metadata": {},
     "output_type": "execute_result"
    }
   ],
   "source": [
    "pyro.get_param_store().keys()"
   ]
  },
  {
   "cell_type": "code",
   "execution_count": 293,
   "id": "mechanical-seeking",
   "metadata": {},
   "outputs": [
    {
     "data": {
      "text/plain": [
       "tensor([0.1823, 0.5160, 0.1392,  ..., 0.2352, 1.3931, 0.0619], device='cuda:0',\n",
       "       grad_fn=<ExpBackward>)"
      ]
     },
     "execution_count": 293,
     "metadata": {},
     "output_type": "execute_result"
    }
   ],
   "source": [
    "pyro.param('log_phi_posterior_loc_g').exp()"
   ]
  },
  {
   "cell_type": "code",
   "execution_count": 294,
   "id": "tutorial-denver",
   "metadata": {},
   "outputs": [
    {
     "data": {
      "image/png": "[encoded data removed]",
      "text/plain": [
       "<Figure size 432x288 with 1 Axes>"
      ]
     },
     "metadata": {
      "needs_background": "light"
     },
     "output_type": "display_data"
    }
   ],
   "source": [
    "plt.hist(pyro.param('log_phi_posterior_loc_g').detach().cpu().numpy(), bins=50);"
   ]
  },
  {
   "cell_type": "code",
   "execution_count": 295,
   "id": "careful-mustang",
   "metadata": {},
   "outputs": [
    {
     "data": {
      "image/png": "[encoded data removed]",
      "text/plain": [
       "<Figure size 432x288 with 1 Axes>"
      ]
     },
     "metadata": {
      "needs_background": "light"
     },
     "output_type": "display_data"
    }
   ],
   "source": [
    "plt.hist(pyro.param('log_beta_posterior_loc_g').detach().cpu().numpy(), bins=50);"
   ]
  },
  {
   "cell_type": "code",
   "execution_count": 296,
   "id": "political-french",
   "metadata": {},
   "outputs": [
    {
     "data": {
      "image/png": "[encoded data removed]",
      "text/plain": [
       "<Figure size 432x288 with 1 Axes>"
      ]
     },
     "metadata": {
      "needs_background": "light"
     },
     "output_type": "display_data"
    }
   ],
   "source": [
    "fig = plt.figure()\n",
    "ax = plt.gca()\n",
    "\n",
    "ax.bar(\n",
    "    np.arange(ebov_dataset.num_cell_types),\n",
    "    torch.nn.functional.softmax(pyro.param(\"unnorm_cell_pop_base_posterior_loc_c\"), dim=0).detach().cpu().numpy())\n",
    "\n",
    "ax.set_title('Base cell population')\n",
    "ax.set_xticks(np.arange(ebov_dataset.num_cell_types))\n",
    "ax.set_xticklabels(ebov_dataset.cell_type_str_list, rotation=90);"
   ]
  },
  {
   "cell_type": "code",
   "execution_count": 297,
   "id": "mysterious-costume",
   "metadata": {},
   "outputs": [
    {
     "data": {
      "image/png": "[encoded data removed]",
      "text/plain": [
       "<Figure size 432x288 with 1 Axes>"
      ]
     },
     "metadata": {
      "needs_background": "light"
     },
     "output_type": "display_data"
    }
   ],
   "source": [
    "fig = plt.figure()\n",
    "ax = plt.gca()\n",
    "\n",
    "ax.bar(\n",
    "    np.arange(ebov_dataset.num_cell_types),\n",
    "    pyro.param(\"unnorm_cell_pop_deform_posterior_loc_c\").detach().cpu().numpy())\n",
    "\n",
    "ax.set_xticks(np.arange(ebov_dataset.num_cell_types))\n",
    "ax.set_xticklabels(ebov_dataset.cell_type_str_list, rotation=90);"
   ]
  },
  {
   "cell_type": "code",
   "execution_count": 279,
   "id": "comfortable-philadelphia",
   "metadata": {},
   "outputs": [
    {
     "data": {
      "text/plain": [
       "dict_keys(['log_phi_posterior_loc_g', 'log_beta_posterior_loc_g', 'log_r_posterior_loc_i', 'unnorm_cell_pop_base_posterior_loc_c', 'unnorm_cell_pop_deform_posterior_loc_c', 'tau_deviation_posterior_loc_m'])"
      ]
     },
     "execution_count": 279,
     "metadata": {},
     "output_type": "execute_result"
    }
   ],
   "source": [
    "pyro.get_param_store().keys()"
   ]
  },
  {
   "cell_type": "code",
   "execution_count": 280,
   "id": "linear-elements",
   "metadata": {},
   "outputs": [
    {
     "data": {
      "text/plain": [
       "tensor([0.3267, 0.5452, 0.4727, 0.3734, 1.0600, 0.2668, 0.3622, 0.5002, 0.4391,\n",
       "        1.0000, 0.4434, 1.0951, 0.3840, 0.7753, 0.9565, 0.4211, 0.9312, 1.0000,\n",
       "        0.4521, 0.3156, 1.0000], device='cuda:0', grad_fn=<ExpBackward>)"
      ]
     },
     "execution_count": 280,
     "metadata": {},
     "output_type": "execute_result"
    }
   ],
   "source": [
    "pyro.param('log_r_posterior_loc_i').exp()"
   ]
  },
  {
   "cell_type": "code",
   "execution_count": 281,
   "id": "ordinary-madrid",
   "metadata": {},
   "outputs": [
    {
     "data": {
      "text/plain": [
       "<matplotlib.collections.PathCollection at 0x7f643e926190>"
      ]
     },
     "execution_count": 281,
     "metadata": {},
     "output_type": "execute_result"
    },
    {
     "data": {
      "image/png": "[encoded data removed]",
      "text/plain": [
       "<Figure size 432x288 with 1 Axes>"
      ]
     },
     "metadata": {
      "needs_background": "light"
     },
     "output_type": "display_data"
    }
   ],
   "source": [
    "plt.scatter(\n",
    "    ebov_dataset.m_to_i,\n",
    "    ebov_dataset.dpi_time_m)"
   ]
  },
  {
   "cell_type": "code",
   "execution_count": null,
   "id": "antique-interim",
   "metadata": {},
   "outputs": [],
   "source": []
  }
 ],
 "metadata": {
  "environment": {
   "name": "pytorch-gpu.1-7.m65",
   "type": "gcloud",
   "uri": "gcr.io/deeplearning-platform-release/pytorch-gpu.1-7:m65"
  },
  "kernelspec": {
   "display_name": "Python 3",
   "language": "python",
   "name": "python3"
  },
  "language_info": {
   "codemirror_mode": {
    "name": "ipython",
    "version": 3
   },
   "file_extension": ".py",
   "mimetype": "text/x-python",
   "name": "python",
   "nbconvert_exporter": "python",
   "pygments_lexer": "ipython3",
   "version": "3.7.10"
  }
 },
 "nbformat": 4,
 "nbformat_minor": 5
}
