{
 "cells": [
  {
   "cell_type": "markdown",
   "id": "abandoned-evolution",
   "metadata": {},
   "source": [
    "## Ebola infected Macaque Sample Composition Trajectory Identification\n",
    "\n",
    "```\n",
    "Indices:\n",
    "\n",
    "- c cell type\n",
    "- g genes\n",
    "- m samples\n",
    "- k deformation polynomial degree\n",
    "```"
   ]
  },
  {
   "cell_type": "code",
   "execution_count": 43,
   "id": "prostate-folks",
   "metadata": {},
   "outputs": [],
   "source": [
    "import os\n",
    "import pickle5\n",
    "import numpy as np\n",
    "import pandas as pd\n",
    "#import matplotlib.pylab as plt\n",
    "import matplotlib\n",
    "import matplotlib.pyplot\n",
    "from typing import Dict\n",
    "from pyro.distributions.torch_distribution import TorchDistribution, TorchDistributionMixin\n",
    "from torch.distributions.utils import probs_to_logits, logits_to_probs, broadcast_all, lazy_property\n",
    "from torch.distributions import constraints\n",
    "import torch\n",
    "import pyro\n",
    "from pyro.infer import SVI, Trace_ELBO\n",
    "from typing import List, Dict\n",
    "from boltons.cacheutils import cachedproperty\n",
    "from pyro.distributions.torch_distribution import TorchDistribution, TorchDistributionMixin\n",
    "from torch.distributions.utils import probs_to_logits, logits_to_probs, broadcast_all, lazy_property\n",
    "from torch.distributions import constraints\n",
    "from numbers import Number\n",
    "import pyro.distributions as dist\n",
    "import anndata"
   ]
  },
  {
   "cell_type": "markdown",
   "id": "fatal-deviation",
   "metadata": {},
   "source": [
    "## Parameter Configuration"
   ]
  },
  {
   "cell_type": "code",
   "execution_count": 44,
   "id": "realistic-breast",
   "metadata": {},
   "outputs": [],
   "source": [
    "device = torch.device(\"cuda:0\")\n",
    "dtype = torch.float32\n",
    "dtype_np = np.float32"
   ]
  },
  {
   "cell_type": "markdown",
   "id": "proof-trash",
   "metadata": {},
   "source": [
    "## Helper functions and Classes"
   ]
  },
  {
   "cell_type": "code",
   "execution_count": 45,
   "id": "informal-prophet",
   "metadata": {},
   "outputs": [],
   "source": [
    "def NegativeBinomialAltParam(mu, phi):\n",
    "    \"\"\"\n",
    "    Creates a negative binomial distribution.\n",
    "    \n",
    "    Args:\n",
    "        mu (Number, Tensor): mean (must be strictly positive)\n",
    "        phi (Number, Tensor): overdispersion (must be strictly positive)\n",
    "    \"\"\"\n",
    "    return dist.GammaPoisson(\n",
    "            concentration= 1 /phi ,\n",
    "            rate=1 / (mu * phi))"
   ]
  },
  {
   "cell_type": "code",
   "execution_count": 46,
   "id": "voluntary-geneva",
   "metadata": {},
   "outputs": [],
   "source": [
    "class DeconvolutionDataset:\n",
    "    \"\"\"This class represents a bulk and single-cell dataset to be deconvolved in tandem\"\"\"\n",
    "    \n",
    "    def __init__(\n",
    "            self,\n",
    "            sc_anndata: anndata.AnnData,\n",
    "            sc_celltype_col: str,\n",
    "            bulk_anndata: anndata.AnnData,\n",
    "            bulk_time_col: str,\n",
    "            dtype_np: np.dtype):\n",
    "\n",
    "        self.dtype_np = dtype_np\n",
    "        self.sc_celltype_col = sc_celltype_col\n",
    "        self.bul_time_col = bulk_time_col\n",
    "\n",
    "        self.bulk_anndata = bulk_anndata\n",
    "        self.sc_anndata = sc_anndata\n",
    "        \n",
    "        # Select common genes and subset/order anndata objects\n",
    "        common_genes = list(set(self.bulk_anndata.obs.index).intersection(set(self.sc_anndata.obs.index)))\n",
    "        self.num_genes = len(common_genes)\n",
    "        self.bulk_anndata = self.bulk_anndata[common_genes,:]\n",
    "        self.sc_anndata = self.sc_anndata[common_genes,:]\n",
    "        \n",
    "        # TODO: Issue warning if too many genes removed\n",
    "        \n",
    "        # Pre-process time values and save inverse function\n",
    "        self.dpi_time_original_m = self.bulk_anndata.var[bulk_time_col].values.astype(dtype_np)\n",
    "        self.time_min = np.min(self.dpi_time_original_m)\n",
    "        self.time_range = np.max(self.dpi_time_original_m) - self.time_min\n",
    "        self.dpi_time_m = (self.dpi_time_original_m - self.time_min) / self.time_range\n",
    "        \n",
    "        \n",
    "    @cachedproperty\n",
    "    def cell_type_str_list(self) -> List[str]:\n",
    "        return sorted(list(set(self.sc_anndata.var[self.sc_celltype_col])))\n",
    "    \n",
    "    @cachedproperty\n",
    "    def cell_type_str_to_index_map(self) -> Dict[str, int]:\n",
    "        return {cell_type_str: index for index, cell_type_str in enumerate(self.cell_type_str_list)}        \n",
    "    \n",
    "    @cachedproperty\n",
    "    def num_cell_types(self) -> int:\n",
    "        return len(self.cell_type_str_list)\n",
    "    \n",
    "    @cachedproperty\n",
    "    def w_hat_gc(self) -> np.ndarray:\n",
    "        \"\"\"Calculate the estimate cell profiles\"\"\"\n",
    "        w_hat_gc = np.zeros((self.num_genes, self.num_cell_types))\n",
    "        for cell_type_str in self.cell_type_str_list:\n",
    "            i_cell_type = self.cell_type_str_to_index_map[cell_type_str]\n",
    "            mask_j = self.sc_anndata.var[self.sc_celltype_col].values == cell_type_str\n",
    "            w_hat_gc[:, i_cell_type] = np.sum(self.sc_anndata.X[:, mask_j], axis=-1)\n",
    "            w_hat_gc[:, i_cell_type] = w_hat_gc[:, i_cell_type] / np.sum(w_hat_gc[:, i_cell_type])\n",
    "        return w_hat_gc\n",
    "    \n",
    "    @cachedproperty\n",
    "    def bulk_raw_gex_gm(self) -> torch.tensor:\n",
    "        return torch.tensor(self.bulk_anndata.X, device=device, dtype=dtype)\n",
    "    \n",
    "    @cachedproperty\n",
    "    def t_m(self) -> torch.tensor:\n",
    "        return torch.tensor(self.dpi_time_m, device=device, dtype=dtype)\n"
   ]
  },
  {
   "cell_type": "code",
   "execution_count": 47,
   "id": "dietary-dream",
   "metadata": {},
   "outputs": [],
   "source": [
    "def generate_batch(\n",
    "    dataset: DeconvolutionDataset,\n",
    "    device: torch.device,\n",
    "    dtype: torch.dtype):\n",
    "    \n",
    "    return {\n",
    "        \"x_mg\": torch.tensor(dataset.bulk_raw_gex_gm.T, device=device, dtype=dtype),\n",
    "        \"t_m\": torch.tensor(dataset.dpi_time_m, device=device, dtype=dtype),\n",
    "    }"
   ]
  },
  {
   "cell_type": "markdown",
   "id": "seeing-complement",
   "metadata": {},
   "source": [
    "## Model Definition"
   ]
  },
  {
   "cell_type": "code",
   "execution_count": 48,
   "id": "painted-engineering",
   "metadata": {},
   "outputs": [],
   "source": [
    "class TimeRegularizedDeconvolution:\n",
    "    \n",
    "    def  __init__(\n",
    "            self,\n",
    "            dataset: DeconvolutionDataset,\n",
    "            polynomial_degree: int,\n",
    "            device: device,\n",
    "            dtype: dtype):\n",
    "        \n",
    "        self.dataset = dataset\n",
    "        self.device = device\n",
    "        self.dtype = dtype\n",
    "        self.polynomial_degree = polynomial_degree\n",
    "        \n",
    "        # hyperparameters\n",
    "        self.log_beta_prior_scale = 1.0\n",
    "        self.log_r_prior_scale = 1.0\n",
    "        self.tau_prior_scale = 1.0\n",
    "        self.log_phi_prior_loc = -5.0\n",
    "        self.log_phi_prior_scale = 1.0\n",
    "        \n",
    "        self.unnorm_cell_pop_base_prior_loc_c = np.zeros((self.dataset.num_cell_types,))\n",
    "        self.unnorm_cell_pop_base_prior_scale_c = np.ones((self.dataset.num_cell_types,))\n",
    "\n",
    "        # dist of coefficients of population deformation polynomial\n",
    "        self.unnorm_cell_pop_deform_prior_loc_ck = np.zeros((self.dataset.num_cell_types, self.polynomial_degree))\n",
    "        self.unnorm_cell_pop_deform_prior_scale_ck = np.ones((self.dataset.num_cell_types, self.polynomial_degree))\n",
    "\n",
    "\n",
    "        self.init_posterior_global_scale_factor = 0.05\n",
    "        \n",
    "        self.log_beta_posterior_scale = 1.0 * self.init_posterior_global_scale_factor\n",
    "        self.log_r_posterior_scale = 1.0 * self.init_posterior_global_scale_factor\n",
    "        self.tau_posterior_scale = 1.0 * self.init_posterior_global_scale_factor\n",
    "        self.log_phi_posterior_loc = -5.0\n",
    "        self.log_phi_posterior_scale = 0.1 * self.init_posterior_global_scale_factor\n",
    "        \n",
    "        \n",
    "        self.unnorm_cell_pop_base_posterior_loc_c = np.zeros((self.dataset.num_cell_types,))\n",
    "        self.unnorm_cell_pop_base_posterior_scale_c = self.init_posterior_global_scale_factor * np.ones((self.dataset.num_cell_types,))\n",
    "        \n",
    "        self.unnorm_cell_pop_deform_posterior_loc_ck = np.zeros((self.dataset.num_cell_types, self.polynomial_degree))\n",
    "        self.unnorm_cell_pop_deform_posterior_scale_ck = self.init_posterior_global_scale_factor *  np.ones((self.dataset.num_cell_types, self.polynomial_degree))\n",
    "        \n",
    "        # cache useful tensors\n",
    "        self.w_hat_gc = torch.tensor(self.dataset.w_hat_gc, device=device, dtype=dtype)\n",
    "        \n",
    "    def model(\n",
    "            self,\n",
    "            x_mg: torch.Tensor,\n",
    "            t_m: torch.Tensor):\n",
    "        \"\"\"\n",
    "        :param x_mg: gene expression\n",
    "        :param t_m: obseration time\n",
    "        \"\"\"\n",
    "        \n",
    "        # sample log_phi_g\n",
    "        log_phi_g = pyro.sample(\n",
    "            'log_phi_g',\n",
    "            dist.Normal(\n",
    "                loc=self.log_phi_prior_loc * torch.ones(\n",
    "                    (self.dataset.num_genes,), device=self.device, dtype=self.dtype),\n",
    "                scale=self.log_phi_prior_scale * torch.ones(\n",
    "                    (self.dataset.num_genes,), device=self.device, dtype=self.dtype)).to_event(1))\n",
    "        \n",
    "        # sample log_beta_g\n",
    "        log_beta_g = pyro.sample(\n",
    "            'log_beta_g',\n",
    "            dist.Normal(\n",
    "                loc=torch.zeros(\n",
    "                    (self.dataset.num_genes,), device=self.device, dtype=self.dtype),\n",
    "                scale=self.log_beta_prior_scale * torch.ones(\n",
    "                    (self.dataset.num_genes,), device=self.device, dtype=self.dtype)).to_event(1))\n",
    "        \n",
    "        # sample unnorm_cell_pop_base_c\n",
    "        unnorm_cell_pop_base_c = pyro.sample(\n",
    "            'unnorm_cell_pop_base_c',\n",
    "            dist.Normal(\n",
    "                loc=torch.tensor(\n",
    "                    self.unnorm_cell_pop_base_prior_loc_c,\n",
    "                    device=self.device, dtype=self.dtype),\n",
    "                scale=torch.tensor(\n",
    "                    self.unnorm_cell_pop_base_prior_scale_c,\n",
    "                    device=self.device, dtype=self.dtype)).to_event(1))\n",
    "        \n",
    "        # Deformation scale is a learnable parameter now\n",
    "        unnorm_cell_pop_deform_prior_scale_ck = pyro.param(\"unnorm_cell_pop_deform_prior_scale_ck\",\n",
    "                        torch.tensor(self.unnorm_cell_pop_deform_prior_scale_ck, \n",
    "                        device=self.device,\n",
    "                        dtype=self.dtype),                          \n",
    "                        constraint = constraints.positive) \n",
    "        \n",
    "        unnorm_cell_pop_deform_ck = pyro.sample(\n",
    "            'unnorm_cell_pop_deform_ck',\n",
    "            dist.Normal(\n",
    "                loc=torch.tensor(\n",
    "                    self.unnorm_cell_pop_deform_prior_loc_ck,\n",
    "                    device=self.device, dtype=self.dtype),\n",
    "                scale=unnorm_cell_pop_deform_prior_scale_ck).to_event(2))\n",
    "        \n",
    "        # calculate useful derived variables\n",
    "        beta_g = log_beta_g.exp()\n",
    "        phi_g = log_phi_g.exp()\n",
    "        \n",
    "        unnorm_w_gc = self.w_hat_gc * beta_g[:, None]\n",
    "        w_gc = unnorm_w_gc / unnorm_w_gc.sum(0)\n",
    "\n",
    "        \n",
    "        # calculate cell proportion\n",
    "        tau_km = torch.pow(t_m[None,:], torch.arange(1,self.polynomial_degree + 1,device=self.device)[:,None])  \n",
    "        deformation_mc = torch.matmul(unnorm_cell_pop_deform_ck, tau_km).transpose(-1,-2)\n",
    "        cell_pop_unnorm_mc = unnorm_cell_pop_base_c[None,:] + deformation_mc\n",
    "        cell_pop_mc = torch.nn.functional.softmax(cell_pop_unnorm_mc, dim=-1)\n",
    "\n",
    "        # calculate mean gene expression\n",
    "        mu_mg = x_mg.sum(-1)[:, None] * torch.matmul(cell_pop_mc, w_gc.transpose(-1, -2))\n",
    "\n",
    "        with pyro.plate('batch'):\n",
    "            # observe gene expression\n",
    "            pyro.sample(\n",
    "                \"x_mg\",\n",
    "                NegativeBinomialAltParam(\n",
    "                    mu=mu_mg,\n",
    "                    phi=phi_g[None, :]).to_event(1),\n",
    "                obs=x_mg)\n",
    "\n",
    "    def delta_guide(\n",
    "            self,\n",
    "            x_mg: torch.Tensor,\n",
    "            t_m: torch.Tensor):\n",
    "        \n",
    "        # variational parameters for log_phi_g\n",
    "        log_phi_posterior_loc_g = pyro.param(\n",
    "            \"log_phi_posterior_loc_g\",\n",
    "            self.log_phi_posterior_loc * torch.ones(\n",
    "                (self.dataset.num_genes,), device=self.device, dtype=self.dtype))\n",
    "\n",
    "        # variational parameters for log_beta_g\n",
    "        log_beta_posterior_loc_g = pyro.param(\n",
    "            \"log_beta_posterior_loc_g\",\n",
    "            torch.zeros(\n",
    "                (self.dataset.num_genes,), device=self.device, dtype=self.dtype))        \n",
    "        \n",
    "        # variational parameters for unnorm_cell_pop_base_c (\"B_c\")\n",
    "        unnorm_cell_pop_base_posterior_loc_c = pyro.param(\n",
    "            \"unnorm_cell_pop_base_posterior_loc_c\",\n",
    "            torch.tensor(\n",
    "                self.unnorm_cell_pop_base_posterior_loc_c,\n",
    "                device=self.device, dtype=self.dtype))\n",
    "        \n",
    "        # variational parameters for unnorm_cell_pop_deform_c (\"R_c\")\n",
    "        unnorm_cell_pop_deform_posterior_loc_ck = pyro.param(\n",
    "            \"unnorm_cell_pop_deform_posterior_loc_ck\",\n",
    "            torch.tensor(\n",
    "                self.unnorm_cell_pop_deform_posterior_loc_ck,\n",
    "                device=self.device, dtype=self.dtype))\n",
    "        \n",
    "        # posterior sample statements\n",
    "        log_phi_g = pyro.sample(\n",
    "            \"log_phi_g\",\n",
    "            dist.Delta(\n",
    "                v=log_phi_posterior_loc_g).to_event(1))\n",
    "\n",
    "        log_beta_g = pyro.sample(\n",
    "            \"log_beta_g\",\n",
    "            dist.Delta(\n",
    "                v=log_beta_posterior_loc_g).to_event(1))\n",
    "\n",
    "        unnorm_cell_pop_base_c = pyro.sample(\n",
    "            'unnorm_cell_pop_base_c',\n",
    "            dist.Delta(\n",
    "                v=unnorm_cell_pop_base_posterior_loc_c).to_event(1))\n",
    "        \n",
    "        unnorm_cell_pop_deform_ck = pyro.sample(\n",
    "            'unnorm_cell_pop_deform_ck',\n",
    "            dist.Delta(v=unnorm_cell_pop_deform_posterior_loc_ck).to_event(2))\n",
    "        \n",
    "    def fit_model(self, n_iters = 3000, log_frequency = 100, verbose = True):\n",
    "        pyro.clear_param_store()\n",
    "        optim = pyro.optim.Adam({'lr': 5e-3})\n",
    "        \n",
    "        self.loss_hist = []\n",
    "        \n",
    "        svi = SVI(\n",
    "            model=self.model,\n",
    "            guide=self.delta_guide,\n",
    "            optim=optim,\n",
    "            loss=Trace_ELBO())\n",
    "        \n",
    "        for i_iter in range(n_iters):\n",
    "            batch_dict = generate_batch(self.dataset, device, dtype)\n",
    "            loss = svi.step(**batch_dict)\n",
    "            self.loss_hist.append(loss)\n",
    "            if verbose:\n",
    "                if i_iter % log_frequency == 0:\n",
    "                    print(f\"{i_iter}   loss: {self.loss_hist[-1]}\")\n",
    "                \n",
    "    def plot_loss(self):\n",
    "        fig, ax = matplotlib.pyplot.subplots()\n",
    "        ax.plot(self.loss_hist)\n",
    "        ax.set_title('Losses')\n",
    "        ax.set_xlabel('iteration')\n",
    "        ax.set_ylabel('ELBO Loss')\n",
    "        \n",
    "        return ax\n",
    "    \n",
    "    def calculate_composition_trajectories(self, time_step=0.01):\n",
    "        times_z = torch.arange(0,1,time_step)\n",
    "        \n",
    "        # Take time to appropriate exponent\n",
    "        times_zk = torch.pow(times_z[:,None], torch.arange(1,self.polynomial_degree + 1,))\n",
    "        \n",
    "        # get the trained params\n",
    "        base_composition_post_c = pyro.param(\"unnorm_cell_pop_base_posterior_loc_c\").detach().cpu()\n",
    "        delta_composition_post_ck = pyro.param(\"unnorm_cell_pop_deform_posterior_loc_ck\").detach().cpu()\n",
    "        \n",
    "        # Calculate the deltas for each time point\n",
    "        delta_cz = torch.matmul(delta_composition_post_ck, times_zk.transpose(-1,-2))\n",
    "        \n",
    "        # normalize\n",
    "        norm_comp_t = torch.nn.functional.softmax(base_composition_post_c[:,None] + delta_cz, dim=0).numpy().T\n",
    "        \n",
    "        # calculate true times\n",
    "        true_times_z = times_z * self.dataset.time_range + self.dataset.time_min\n",
    "        \n",
    "        self.calculated_trajectories = {\n",
    "            \"times_z\": times_z.numpy(), \n",
    "            \"true_times_z\": true_times_z,\n",
    "            \"norm_comp_t\": norm_comp_t\n",
    "        }\n",
    "    \n",
    "    def get_composition_trajectories(self):\n",
    "        return self.calculated_trajectories\n",
    "    \n",
    "    def plot_composition_trajectories(self):\n",
    "        fig, ax  = matplotlib.pyplot.subplots()\n",
    "        ax.plot(self.calculated_trajectories[\"true_times_z\"], self.calculated_trajectories[\"norm_comp_t\"])\n",
    "        ax.set_title(\"Predicted cell proportions\")\n",
    "        ax.set_xlabel(\"Time\")\n",
    "        ax.legend(ebov_dataset.cell_type_str_list,loc='best',fontsize='small')"
   ]
  },
  {
   "cell_type": "code",
   "execution_count": 49,
   "id": "confused-australia",
   "metadata": {},
   "outputs": [
    {
     "data": {
      "text/plain": [
       "-30.0"
      ]
     },
     "execution_count": 49,
     "metadata": {},
     "output_type": "execute_result"
    }
   ],
   "source": [
    "pseudo_time_reg_deconv.dataset.time_min"
   ]
  },
  {
   "cell_type": "code",
   "execution_count": 50,
   "id": "marked-talent",
   "metadata": {},
   "outputs": [
    {
     "data": {
      "text/plain": [
       "38.0"
      ]
     },
     "execution_count": 50,
     "metadata": {},
     "output_type": "execute_result"
    }
   ],
   "source": [
    "pseudo_time_reg_deconv.dataset.time_range"
   ]
  },
  {
   "cell_type": "markdown",
   "id": "extraordinary-intake",
   "metadata": {},
   "source": [
    "## Train Model"
   ]
  },
  {
   "cell_type": "code",
   "execution_count": 51,
   "id": "choice-excerpt",
   "metadata": {},
   "outputs": [],
   "source": [
    "bulk_anndata_path = \"/home/nbarkas/disk2/deconvolution_method/datasets/ebov/load_data_python/ebov_bulk.h5ad\"\n",
    "sc_anndata_path = \"/home/nbarkas/disk2/deconvolution_method/datasets/ebov/load_data_python/ebov_sc.h5ad\""
   ]
  },
  {
   "cell_type": "code",
   "execution_count": 52,
   "id": "located-realtor",
   "metadata": {},
   "outputs": [],
   "source": [
    "with open(bulk_anndata_path, 'rb') as fh:\n",
    "    bulk_anndata  = anndata.read_h5ad(fh)\n",
    "with open(sc_anndata_path, 'rb') as fh:\n",
    "    sc_anndata = anndata.read_h5ad(fh)"
   ]
  },
  {
   "cell_type": "code",
   "execution_count": 53,
   "id": "viral-nelson",
   "metadata": {},
   "outputs": [],
   "source": [
    "bulk_anndata = bulk_anndata[:,bulk_anndata.var['dpi_time'] >= 0,]"
   ]
  },
  {
   "cell_type": "code",
   "execution_count": 54,
   "id": "flush-building",
   "metadata": {},
   "outputs": [],
   "source": [
    "ebov_dataset = DeconvolutionDataset(\n",
    "    sc_anndata = sc_anndata,\n",
    "    sc_celltype_col = \"Subclustering_reduced\",\n",
    "    bulk_anndata = bulk_anndata,\n",
    "    bulk_time_col = \"dpi_time\",\n",
    "    dtype_np = dtype_np\n",
    ")"
   ]
  },
  {
   "cell_type": "code",
   "execution_count": 61,
   "id": "happy-mozambique",
   "metadata": {},
   "outputs": [],
   "source": [
    "pseudo_time_reg_deconv = TimeRegularizedDeconvolution(\n",
    "    dataset=ebov_dataset,\n",
    "    polynomial_degree = 10,\n",
    "    device=device,\n",
    "    dtype=dtype)"
   ]
  },
  {
   "cell_type": "code",
   "execution_count": 62,
   "id": "powered-thickness",
   "metadata": {},
   "outputs": [
    {
     "name": "stderr",
     "output_type": "stream",
     "text": [
      "/opt/conda/lib/python3.7/site-packages/ipykernel_launcher.py:7: UserWarning: To copy construct from a tensor, it is recommended to use sourceTensor.clone().detach() or sourceTensor.clone().detach().requires_grad_(True), rather than torch.tensor(sourceTensor).\n",
      "  import sys\n"
     ]
    },
    {
     "name": "stdout",
     "output_type": "stream",
     "text": [
      "0   loss: 53814212.31866455\n",
      "100   loss: 26233440.486718178\n",
      "200   loss: 15337509.810703278\n",
      "300   loss: 10091738.998559952\n",
      "400   loss: 7341275.960107803\n",
      "500   loss: 5823478.040403366\n",
      "600   loss: 4937077.439756393\n",
      "700   loss: 4385697.517356873\n",
      "800   loss: 4021405.5682811737\n",
      "900   loss: 3768201.8557243347\n"
     ]
    }
   ],
   "source": [
    "pseudo_time_reg_deconv.fit_model(n_iters=1000)"
   ]
  },
  {
   "cell_type": "markdown",
   "id": "responsible-castle",
   "metadata": {},
   "source": [
    "## Examine Outputs"
   ]
  },
  {
   "cell_type": "code",
   "execution_count": 63,
   "id": "several-numbers",
   "metadata": {},
   "outputs": [
    {
     "data": {
      "text/plain": [
       "<AxesSubplot:title={'center':'Losses'}, xlabel='iteration', ylabel='ELBO Loss'>"
      ]
     },
     "execution_count": 63,
     "metadata": {},
     "output_type": "execute_result"
    },
    {
     "data": {
      "image/png": "[encoded data removed]",
      "text/plain": [
       "<Figure size 432x288 with 1 Axes>"
      ]
     },
     "metadata": {
      "needs_background": "light"
     },
     "output_type": "display_data"
    }
   ],
   "source": [
    "pseudo_time_reg_deconv.plot_loss()"
   ]
  },
  {
   "cell_type": "code",
   "execution_count": 64,
   "id": "vietnamese-ability",
   "metadata": {},
   "outputs": [],
   "source": [
    "pseudo_time_reg_deconv.calculate_composition_trajectories(time_step=0.01)"
   ]
  },
  {
   "cell_type": "code",
   "execution_count": 65,
   "id": "saving-vault",
   "metadata": {},
   "outputs": [
    {
     "data": {
      "image/png": "[encoded data removed]",
      "text/plain": [
       "<Figure size 432x288 with 1 Axes>"
      ]
     },
     "metadata": {
      "needs_background": "light"
     },
     "output_type": "display_data"
    }
   ],
   "source": [
    "pseudo_time_reg_deconv.plot_composition_trajectories()"
   ]
  },
  {
   "cell_type": "code",
   "execution_count": null,
   "id": "black-greece",
   "metadata": {},
   "outputs": [],
   "source": []
  }
 ],
 "metadata": {
  "environment": {
   "name": "pytorch-gpu.1-7.m65",
   "type": "gcloud",
   "uri": "gcr.io/deeplearning-platform-release/pytorch-gpu.1-7:m65"
  },
  "kernelspec": {
   "display_name": "Python 3",
   "language": "python",
   "name": "python3"
  },
  "language_info": {
   "codemirror_mode": {
    "name": "ipython",
    "version": 3
   },
   "file_extension": ".py",
   "mimetype": "text/x-python",
   "name": "python",
   "nbconvert_exporter": "python",
   "pygments_lexer": "ipython3",
   "version": "3.7.10"
  }
 },
 "nbformat": 4,
 "nbformat_minor": 5
}
