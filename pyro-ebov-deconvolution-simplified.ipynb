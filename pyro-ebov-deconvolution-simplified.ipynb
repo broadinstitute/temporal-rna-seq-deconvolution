{
 "cells": [
  {
   "cell_type": "markdown",
   "id": "spatial-relative",
   "metadata": {},
   "source": [
    "## Ebola infected Macaque Sample Composition Trajectory Identification\n",
    "\n",
    "```\n",
    "Indices:\n",
    "\n",
    "- c cell type\n",
    "- g genes\n",
    "- m samples\n",
    "- n sample in batch\n",
    "- k deformation polynomial degree\n",
    "- i individual\n",
    "```"
   ]
  },
  {
   "cell_type": "code",
   "execution_count": 1,
   "id": "documented-armor",
   "metadata": {},
   "outputs": [],
   "source": [
    "import os\n",
    "import pickle5\n",
    "import numpy as np\n",
    "import pandas as pd\n",
    "import matplotlib.pylab as plt\n",
    "from typing import Dict\n",
    "from pyro.distributions.torch_distribution import TorchDistribution, TorchDistributionMixin\n",
    "from torch.distributions.utils import probs_to_logits, logits_to_probs, broadcast_all, lazy_property\n",
    "from torch.distributions import constraints\n",
    "import torch\n",
    "import pyro\n",
    "from pyro.infer import SVI, Trace_ELBO\n",
    "from typing import List, Dict\n",
    "from boltons.cacheutils import cachedproperty\n",
    "from pyro.distributions.torch_distribution import TorchDistribution, TorchDistributionMixin\n",
    "from torch.distributions.utils import probs_to_logits, logits_to_probs, broadcast_all, lazy_property\n",
    "from torch.distributions import constraints\n",
    "from numbers import Number\n",
    "import pyro.distributions as dist"
   ]
  },
  {
   "cell_type": "markdown",
   "id": "exclusive-elevation",
   "metadata": {},
   "source": [
    "## Parameter Configuration"
   ]
  },
  {
   "cell_type": "code",
   "execution_count": 2,
   "id": "knowing-policy",
   "metadata": {},
   "outputs": [],
   "source": [
    "device = torch.device(\"cuda:0\")\n",
    "dtype = torch.float32\n",
    "dtype_np = np.float32"
   ]
  },
  {
   "cell_type": "code",
   "execution_count": 3,
   "id": "automated-bangladesh",
   "metadata": {},
   "outputs": [],
   "source": [
    "# data_path = '/home/jupyter/mb-ml-data-disk/pyro-ebov-deconvolution'\n",
    "#data_path = \"/home/nbarkas/disk1/deconvolution/data/load_data_python\"\n",
    "data_path = \"/home/nbarkas/disk1/deconv/deconvolution/data/load_data_python/\""
   ]
  },
  {
   "cell_type": "markdown",
   "id": "reduced-adventure",
   "metadata": {},
   "source": [
    "## Helper functions and Classes"
   ]
  },
  {
   "cell_type": "code",
   "execution_count": 4,
   "id": "covered-suspension",
   "metadata": {},
   "outputs": [],
   "source": [
    "def NegativeBinomialAltParam(mu, phi):\n",
    "    \"\"\"\n",
    "    Creates a negative binomial distribution.\n",
    "    \n",
    "    Args:\n",
    "        mu (Number, Tensor): mean (must be strictly positive)\n",
    "        phi (Number, Tensor): overdispersion (must be strictly positive)\n",
    "    \"\"\"\n",
    "    return dist.GammaPoisson(\n",
    "            concentration= 1 /phi ,\n",
    "            rate=1 / (mu * phi))"
   ]
  },
  {
   "cell_type": "code",
   "execution_count": 5,
   "id": "strategic-ideal",
   "metadata": {},
   "outputs": [],
   "source": [
    "class EBOVDataset:\n",
    "    \n",
    "    def __init__(\n",
    "            self,\n",
    "            data_path: str,\n",
    "            dtype_np: np.dtype):\n",
    "        \n",
    "        self.dtype_np = dtype_np\n",
    "        \n",
    "        # load all data\n",
    "        self.bulk_raw_gex_gm = np.load(os.path.join(data_path, 'bulk_matrix.npy')).astype(dtype_np)\n",
    "        \n",
    "        with open(os.path.join(data_path, 'bulk_pdata.pkl'), 'rb') as f:\n",
    "            loader = pickle5.Unpickler(f)\n",
    "            self.bulk_sample_metadata_pd = loader.load()\n",
    "\n",
    "        self.sc_raw_gex_gj = np.load(os.path.join(data_path, 'sc_matrix.npy'))\n",
    "\n",
    "        with open(os.path.join(data_path, 'sc_pdata.pkl'), 'rb') as f:\n",
    "            loader = pickle5.Unpickler(f)\n",
    "            self.sc_sample_metadata_pd = loader.load()\n",
    "            \n",
    "        # shorthands\n",
    "        self.num_samples = self.bulk_raw_gex_gm.shape[-1]\n",
    "        self.num_genes = self.bulk_raw_gex_gm.shape[-2]\n",
    "        self.num_individuals = len(set(self.bulk_sample_metadata_pd['id.individual'].values))\n",
    "        \n",
    "        # index individuals\n",
    "        individual_str_list = sorted(list(set(self.bulk_sample_metadata_pd['id.individual'].values)))\n",
    "        individual_str_to_index_map = {\n",
    "            individual_str: index for index, individual_str in enumerate(individual_str_list)}\n",
    "        \n",
    "        # individual index of each sample\n",
    "        self.m_to_i = np.asarray(list(\n",
    "            map(\n",
    "                individual_str_to_index_map.get,\n",
    "                self.bulk_sample_metadata_pd['id.individual'].values)))\n",
    "        \n",
    "        # pre-process dpi times\n",
    "        self.dpi_time_m = np.clip(\n",
    "            self.bulk_sample_metadata_pd['dpi_time'].values.astype(dtype_np),\n",
    "            a_min=0., a_max=None)\n",
    "        self.dpi_time_m = self.dpi_time_m / self.dpi_time_m.max()\n",
    "\n",
    "    @cachedproperty\n",
    "    def cell_type_str_list(self) -> List[str]:\n",
    "        return sorted(list(set(self.sc_sample_metadata_pd['Subclustering_reduced'])))\n",
    "\n",
    "    @cachedproperty\n",
    "    def cell_type_str_to_index_map(self) -> Dict[str, int]:\n",
    "        return {cell_type_str: index for index, cell_type_str in enumerate(self.cell_type_str_list)}        \n",
    "\n",
    "    @cachedproperty\n",
    "    def num_cell_types(self) -> int:\n",
    "        return len(self.cell_type_str_list)\n",
    "    \n",
    "    @cachedproperty\n",
    "    def w_hat_gc(self) -> np.ndarray:\n",
    "        w_hat_gc = np.zeros((self.num_genes, self.num_cell_types))\n",
    "        for cell_type_str in self.cell_type_str_list:\n",
    "            i_cell_type = self.cell_type_str_to_index_map[cell_type_str]\n",
    "            mask_j = self.sc_sample_metadata_pd['Subclustering_reduced'].values == cell_type_str\n",
    "            w_hat_gc[:, i_cell_type] = np.sum(self.sc_raw_gex_gj[:, mask_j], axis=-1)\n",
    "            w_hat_gc[:, i_cell_type] = w_hat_gc[:, i_cell_type] / np.sum(w_hat_gc[:, i_cell_type])\n",
    "        return w_hat_gc"
   ]
  },
  {
   "cell_type": "code",
   "execution_count": 6,
   "id": "civilian-fleet",
   "metadata": {},
   "outputs": [],
   "source": [
    "def generate_batch(\n",
    "    dataset: EBOVDataset,\n",
    "    device: torch.device,\n",
    "    dtype: torch.dtype):\n",
    "    \n",
    "    return {\n",
    "        \"x_ng\": torch.tensor(dataset.bulk_raw_gex_gm.T, device=device, dtype=dtype),\n",
    "        \"t_n\": torch.tensor(dataset.dpi_time_m, device=device, dtype=dtype),\n",
    "        \"ind_index_n\": torch.tensor(dataset.m_to_i, device=device, dtype=torch.long),\n",
    "    }"
   ]
  },
  {
   "cell_type": "markdown",
   "id": "least-notebook",
   "metadata": {},
   "source": [
    "## Model Definition"
   ]
  },
  {
   "cell_type": "code",
   "execution_count": 7,
   "id": "collectible-fiber",
   "metadata": {},
   "outputs": [],
   "source": [
    "class PseudoTimeRegDeconvolution:\n",
    "    \n",
    "    def  __init__(\n",
    "            self,\n",
    "            dataset: EBOVDataset,\n",
    "            polynomial_degree: int,\n",
    "            device: device,\n",
    "            dtype: dtype):\n",
    "        \n",
    "        self.dataset = dataset\n",
    "        self.device = device\n",
    "        self.dtype = dtype\n",
    "        self.polynomial_degree = polynomial_degree\n",
    "        \n",
    "        # hyperparameters\n",
    "        self.log_beta_prior_scale = 1.0\n",
    "        self.log_r_prior_scale = 1.0\n",
    "        self.tau_prior_scale = 1.0\n",
    "        self.log_phi_prior_loc = -5.0\n",
    "        self.log_phi_prior_scale = 1.0\n",
    "        \n",
    "        self.unnorm_cell_pop_base_prior_loc_c = np.zeros((self.dataset.num_cell_types,))\n",
    "        self.unnorm_cell_pop_base_prior_scale_c = np.ones((self.dataset.num_cell_types,))\n",
    "\n",
    "        # dist of coefficients of population deformation polynomial\n",
    "        self.unnorm_cell_pop_deform_prior_loc_ck = np.zeros((self.dataset.num_cell_types, self.polynomial_degree))\n",
    "        self.unnorm_cell_pop_deform_prior_scale_ck = np.ones((self.dataset.num_cell_types, self.polynomial_degree))\n",
    "\n",
    "\n",
    "        self.init_posterior_global_scale_factor = 0.05\n",
    "        \n",
    "        self.log_beta_posterior_scale = 1.0 * self.init_posterior_global_scale_factor\n",
    "        self.log_r_posterior_scale = 1.0 * self.init_posterior_global_scale_factor\n",
    "        self.tau_posterior_scale = 1.0 * self.init_posterior_global_scale_factor\n",
    "        self.log_phi_posterior_loc = -5.0\n",
    "        self.log_phi_posterior_scale = 0.1 * self.init_posterior_global_scale_factor\n",
    "        \n",
    "        \n",
    "        self.unnorm_cell_pop_base_posterior_loc_c = np.zeros((self.dataset.num_cell_types,))\n",
    "        self.unnorm_cell_pop_base_posterior_scale_c = self.init_posterior_global_scale_factor * np.ones((self.dataset.num_cell_types,))\n",
    "        \n",
    "        self.unnorm_cell_pop_deform_posterior_loc_ck = np.zeros((self.dataset.num_cell_types, self.polynomial_degree))\n",
    "        self.unnorm_cell_pop_deform_posterior_scale_ck = self.init_posterior_global_scale_factor *  np.ones((self.dataset.num_cell_types, self.polynomial_degree))\n",
    "        \n",
    "        # cache useful tensors\n",
    "        self.w_hat_gc = torch.tensor(self.dataset.w_hat_gc, device=device, dtype=dtype)\n",
    "        \n",
    "    def model(\n",
    "            self,\n",
    "            x_ng: torch.Tensor,\n",
    "            t_n: torch.Tensor,\n",
    "            ind_index_n: torch.Tensor):\n",
    "        \"\"\"\n",
    "        :param x_ng: gene expression\n",
    "        :param t_n: obseration time\n",
    "        :param ind_index_n: index of the individual\n",
    "        :param sample_index_n: index of the sample in the dataset\n",
    "        \"\"\"\n",
    "        \n",
    "        #minibatch_size = x_ng.shape[0]\n",
    "        \n",
    "        # sample log_phi_g\n",
    "        log_phi_g = pyro.sample(\n",
    "            'log_phi_g',\n",
    "            dist.Normal(\n",
    "                loc=self.log_phi_prior_loc * torch.ones(\n",
    "                    (self.dataset.num_genes,), device=self.device, dtype=self.dtype),\n",
    "                scale=self.log_phi_prior_scale * torch.ones(\n",
    "                    (self.dataset.num_genes,), device=self.device, dtype=self.dtype)).to_event(1))\n",
    "        \n",
    "        # sample log_beta_g\n",
    "        log_beta_g = pyro.sample(\n",
    "            'log_beta_g',\n",
    "            dist.Normal(\n",
    "                loc=torch.zeros(\n",
    "                    (self.dataset.num_genes,), device=self.device, dtype=self.dtype),\n",
    "                scale=self.log_beta_prior_scale * torch.ones(\n",
    "                    (self.dataset.num_genes,), device=self.device, dtype=self.dtype)).to_event(1))\n",
    "        \n",
    "        # sample log_r_i\n",
    "        log_r_i = pyro.sample(\n",
    "            'log_r_i',\n",
    "            dist.Normal(\n",
    "                loc=torch.zeros(\n",
    "                    (self.dataset.num_individuals,), device=self.device, dtype=self.dtype),\n",
    "                scale=self.log_r_prior_scale * torch.ones(\n",
    "                    (self.dataset.num_individuals,), device=self.device, dtype=self.dtype)).to_event(1))\n",
    "        \n",
    "        # sample unnorm_cell_pop_base_c\n",
    "        unnorm_cell_pop_base_c = pyro.sample(\n",
    "            'unnorm_cell_pop_base_c',\n",
    "            dist.Normal(\n",
    "                loc=torch.tensor(\n",
    "                    self.unnorm_cell_pop_base_prior_loc_c,\n",
    "                    device=self.device, dtype=self.dtype),\n",
    "                scale=torch.tensor(\n",
    "                    self.unnorm_cell_pop_base_prior_scale_c,\n",
    "                    device=self.device, dtype=self.dtype)).to_event(1))\n",
    "        \n",
    "        # Deformation scale is a learnable parameter now\n",
    "        unnorm_cell_pop_deform_prior_scale_ck = pyro.param(\"unnorm_cell_pop_deform_prior_scale_ck\",\n",
    "                        torch.tensor(self.unnorm_cell_pop_deform_prior_scale_ck, \n",
    "                        device=self.device,\n",
    "                        dtype=self.dtype),                          \n",
    "                        constraint = constraints.positive) \n",
    "        \n",
    "        unnorm_cell_pop_deform_ck = pyro.sample(\n",
    "            'unnorm_cell_pop_deform_ck',\n",
    "            dist.Normal(\n",
    "                loc=torch.tensor(\n",
    "                    self.unnorm_cell_pop_deform_prior_loc_ck,\n",
    "                    device=self.device, dtype=self.dtype),\n",
    "                scale=unnorm_cell_pop_deform_prior_scale_ck).to_event(2))\n",
    "        \n",
    "        # calculate useful derived variables\n",
    "        beta_g = log_beta_g.exp()\n",
    "        phi_g = log_phi_g.exp()\n",
    "        \n",
    "        unnorm_w_gc = self.w_hat_gc * beta_g[:, None]\n",
    "        w_gc = unnorm_w_gc / unnorm_w_gc.sum(0)\n",
    "        r_n = log_r_i[ind_index_n].exp()\n",
    "            \n",
    "        with pyro.plate(\"batch\"):\n",
    "            # sample tau (\"actual infection\") for each sample\n",
    "            tau_mean_shift_n = t_n / r_n\n",
    "\n",
    "            tau_n = tau_mean_shift_n\n",
    "\n",
    "            # calculate cell proportion\n",
    "            tau_kn = torch.pow(tau_n[None,:],torch.arange(1,self.polynomial_degree + 1,device=self.device)[:,None])  \n",
    "            deformation_nc = torch.matmul(unnorm_cell_pop_deform_ck, tau_kn).transpose(-1,-2)\n",
    "            cell_pop_unnorm_nc = (unnorm_cell_pop_base_c[None,:] + deformation_nc)\n",
    "            cell_pop_nc = torch.nn.functional.softmax(cell_pop_unnorm_nc, dim=-1)\n",
    "\n",
    "            # calculate mean gene expression\n",
    "            mu_ng = x_ng.sum(-1)[:, None] * torch.matmul(cell_pop_nc, w_gc.transpose(-1, -2))\n",
    "\n",
    "            # observe gene expression\n",
    "            pyro.sample(\n",
    "                \"x_ng\",\n",
    "                NegativeBinomialAltParam(\n",
    "                    mu=mu_ng,\n",
    "                    phi=phi_g[None, :]).to_event(1),\n",
    "                obs=x_ng)\n",
    "\n",
    "    def delta_guide(\n",
    "            self,\n",
    "            x_ng: torch.Tensor,\n",
    "            t_n: torch.Tensor,\n",
    "            ind_index_n: torch.Tensor):\n",
    "        \n",
    "        # variational parameters for log_phi_g\n",
    "        log_phi_posterior_loc_g = pyro.param(\n",
    "            \"log_phi_posterior_loc_g\",\n",
    "            self.log_phi_posterior_loc * torch.ones(\n",
    "                (self.dataset.num_genes,), device=self.device, dtype=self.dtype))\n",
    "\n",
    "        # variational parameters for log_beta_g\n",
    "        log_beta_posterior_loc_g = pyro.param(\n",
    "            \"log_beta_posterior_loc_g\",\n",
    "            torch.zeros(\n",
    "                (self.dataset.num_genes,), device=self.device, dtype=self.dtype))        \n",
    "        \n",
    "        # variational parameters for log_r_i\n",
    "        log_r_posterior_loc_i = pyro.param(\n",
    "            \"log_r_posterior_loc_i\",\n",
    "            torch.zeros(\n",
    "                (self.dataset.num_individuals,), device=self.device, dtype=self.dtype))\n",
    "        \n",
    "        # variational parameters for unnorm_cell_pop_base_c (\"B_c\")\n",
    "        unnorm_cell_pop_base_posterior_loc_c = pyro.param(\n",
    "            \"unnorm_cell_pop_base_posterior_loc_c\",\n",
    "            torch.tensor(\n",
    "                self.unnorm_cell_pop_base_posterior_loc_c,\n",
    "                device=self.device, dtype=self.dtype))\n",
    "        \n",
    "        # variational parameters for unnorm_cell_pop_deform_c (\"R_c\")\n",
    "        unnorm_cell_pop_deform_posterior_loc_ck = pyro.param(\n",
    "            \"unnorm_cell_pop_deform_posterior_loc_ck\",\n",
    "            torch.tensor(\n",
    "                self.unnorm_cell_pop_deform_posterior_loc_ck,\n",
    "                device=self.device, dtype=self.dtype))\n",
    "        \n",
    "        # posterior sample statements\n",
    "        log_phi_g = pyro.sample(\n",
    "            \"log_phi_g\",\n",
    "            dist.Delta(\n",
    "                v=log_phi_posterior_loc_g).to_event(1))\n",
    "\n",
    "        log_beta_g = pyro.sample(\n",
    "            \"log_beta_g\",\n",
    "            dist.Delta(\n",
    "                v=log_beta_posterior_loc_g).to_event(1))\n",
    "\n",
    "        log_r_i = pyro.sample(\n",
    "            \"log_r_i\",\n",
    "            dist.Delta(\n",
    "                v=log_r_posterior_loc_i).to_event(1))\n",
    "\n",
    "        unnorm_cell_pop_base_c = pyro.sample(\n",
    "            'unnorm_cell_pop_base_c',\n",
    "            dist.Delta(\n",
    "                v=unnorm_cell_pop_base_posterior_loc_c).to_event(1))\n",
    "        \n",
    "        unnorm_cell_pop_deform_ck = pyro.sample(\n",
    "            'unnorm_cell_pop_deform_ck',\n",
    "            dist.Delta(v=unnorm_cell_pop_deform_posterior_loc_ck).to_event(2))"
   ]
  },
  {
   "cell_type": "markdown",
   "id": "heavy-pharmacology",
   "metadata": {},
   "source": [
    "## Train Model"
   ]
  },
  {
   "cell_type": "code",
   "execution_count": 8,
   "id": "dynamic-latino",
   "metadata": {},
   "outputs": [],
   "source": [
    "# Training Parameters\n",
    "n_iters = 2_000\n",
    "log_frequency = 500\n",
    "polynomial_degree = 1"
   ]
  },
  {
   "cell_type": "code",
   "execution_count": 9,
   "id": "heard-rabbit",
   "metadata": {},
   "outputs": [],
   "source": [
    "ebov_dataset = EBOVDataset(data_path, dtype_np)"
   ]
  },
  {
   "cell_type": "code",
   "execution_count": 10,
   "id": "convinced-governor",
   "metadata": {},
   "outputs": [],
   "source": [
    "pseudo_time_reg_deconv = PseudoTimeRegDeconvolution(\n",
    "    dataset=ebov_dataset,\n",
    "    polynomial_degree = polynomial_degree,\n",
    "    device=device,\n",
    "    dtype=dtype)\n",
    "\n",
    "pyro.clear_param_store()"
   ]
  },
  {
   "cell_type": "code",
   "execution_count": 11,
   "id": "soviet-national",
   "metadata": {},
   "outputs": [],
   "source": [
    "# optimizer\n",
    "optim = pyro.optim.Adam({'lr': 5e-3})\n",
    "loss_hist = []"
   ]
  },
  {
   "cell_type": "code",
   "execution_count": 12,
   "id": "phantom-begin",
   "metadata": {},
   "outputs": [],
   "source": [
    "# SVI objective\n",
    "svi = SVI(\n",
    "    model=pseudo_time_reg_deconv.model,\n",
    "    guide=pseudo_time_reg_deconv.delta_guide,\n",
    "    optim=optim,\n",
    "    loss=Trace_ELBO())"
   ]
  },
  {
   "cell_type": "code",
   "execution_count": 13,
   "id": "potential-birmingham",
   "metadata": {},
   "outputs": [
    {
     "name": "stdout",
     "output_type": "stream",
     "text": [
      "0   loss: 94790573.18235207\n",
      "500   loss: 10089727.551688671\n",
      "1000   loss: 6146223.130311966\n",
      "1500   loss: 5379340.834332943\n"
     ]
    }
   ],
   "source": [
    "for i_iter in range(n_iters):\n",
    "    \n",
    "    batch_dict = generate_batch(\n",
    "        ebov_dataset, device, dtype)\n",
    "    loss = svi.step(**batch_dict)\n",
    "    \n",
    "    loss_hist.append(loss)\n",
    "    \n",
    "    if i_iter % log_frequency == 0:\n",
    "        print(f\"{i_iter}   loss: {loss_hist[-1]}\")"
   ]
  },
  {
   "cell_type": "markdown",
   "id": "optional-translation",
   "metadata": {},
   "source": [
    "## Examine Model outputs"
   ]
  },
  {
   "cell_type": "code",
   "execution_count": 14,
   "id": "structural-least",
   "metadata": {},
   "outputs": [
    {
     "data": {
      "text/plain": [
       "[<matplotlib.lines.Line2D at 0x7fdd85743e50>]"
      ]
     },
     "execution_count": 14,
     "metadata": {},
     "output_type": "execute_result"
    },
    {
     "data": {
      "image/png": "[encoded data removed]",
      "text/plain": [
       "<Figure size 432x288 with 1 Axes>"
      ]
     },
     "metadata": {
      "needs_background": "light"
     },
     "output_type": "display_data"
    }
   ],
   "source": [
    "plt.plot(loss_hist)"
   ]
  },
  {
   "cell_type": "code",
   "execution_count": null,
   "id": "wireless-tuning",
   "metadata": {},
   "outputs": [],
   "source": []
  },
  {
   "cell_type": "code",
   "execution_count": null,
   "id": "studied-valuable",
   "metadata": {},
   "outputs": [],
   "source": []
  },
  {
   "cell_type": "code",
   "execution_count": 15,
   "id": "bearing-currency",
   "metadata": {},
   "outputs": [],
   "source": [
    "def get_composition_trajectories(time_step=0.01):\n",
    "    times_z = torch.arange(0,1,time_step)\n",
    "    # Take time to appropriate exponent\n",
    "    times_zk = torch.pow(times_z[:,None], torch.arange(1,pseudo_time_reg_deconv.polynomial_degree + 1,))\n",
    "    # get the trained params\n",
    "    base_composition_post_c = pyro.param(\"unnorm_cell_pop_base_posterior_loc_c\").detach().cpu()\n",
    "    delta_composition_post_ck = pyro.param(\"unnorm_cell_pop_deform_posterior_loc_ck\").detach().cpu()\n",
    "    # Calculate the deltas for each time point\n",
    "    delta_cz = torch.matmul(delta_composition_post_ck, times_zk.transpose(-1,-2))\n",
    "    # normalize\n",
    "    norm_comp_t = torch.nn.functional.softmax(base_composition_post_c[:,None] + delta_cz, dim=0).numpy().T\n",
    "    return {\"times_z\": times_z.numpy(), \"norm_comp_t\": norm_comp_t}"
   ]
  },
  {
   "cell_type": "code",
   "execution_count": 16,
   "id": "private-lesson",
   "metadata": {},
   "outputs": [],
   "source": [
    "composition_results = get_composition_trajectories(time_step=0.01)"
   ]
  },
  {
   "cell_type": "code",
   "execution_count": 17,
   "id": "involved-addition",
   "metadata": {},
   "outputs": [],
   "source": [
    "def plot_composition_trajectories(composition_trajectories):\n",
    "    fig = plt.figure()\n",
    "    ax = plt.gca()\n",
    "    ax.plot(composition_trajectories[\"times_z\"], composition_trajectories[\"norm_comp_t\"])\n",
    "    ax.set_title(\"Predicted cell proportions\")\n",
    "    ax.set_xlabel(\"Pseudotime\")\n",
    "    ax.legend(ebov_dataset.cell_type_str_list,loc='best',fontsize='small')"
   ]
  },
  {
   "cell_type": "code",
   "execution_count": 18,
   "id": "diverse-positive",
   "metadata": {},
   "outputs": [
    {
     "data": {
      "image/png": "[encoded data removed]",
      "text/plain": [
       "<Figure size 432x288 with 1 Axes>"
      ]
     },
     "metadata": {
      "needs_background": "light"
     },
     "output_type": "display_data"
    }
   ],
   "source": [
    "plot_composition_trajectories(composition_results)"
   ]
  },
  {
   "cell_type": "code",
   "execution_count": null,
   "id": "frequent-financing",
   "metadata": {},
   "outputs": [],
   "source": []
  },
  {
   "cell_type": "code",
   "execution_count": 19,
   "id": "incredible-tutorial",
   "metadata": {},
   "outputs": [
    {
     "data": {
      "text/plain": [
       "Text(0.5, 1.0, 'Gene Dispersions (phi)')"
      ]
     },
     "execution_count": 19,
     "metadata": {},
     "output_type": "execute_result"
    },
    {
     "data": {
      "image/png": "[encoded data removed]",
      "text/plain": [
       "<Figure size 432x288 with 1 Axes>"
      ]
     },
     "metadata": {
      "needs_background": "light"
     },
     "output_type": "display_data"
    }
   ],
   "source": [
    "# Histogram of the posterior estimates of the gene dispersion (phi)\n",
    "plt.hist(pyro.param('log_phi_posterior_loc_g').detach().cpu().numpy(), bins=50);\n",
    "plt.title(\"Gene Dispersions (phi)\")"
   ]
  },
  {
   "cell_type": "code",
   "execution_count": 20,
   "id": "constitutional-minority",
   "metadata": {},
   "outputs": [
    {
     "data": {
      "image/png": "[encoded data removed]",
      "text/plain": [
       "<Figure size 432x288 with 1 Axes>"
      ]
     },
     "metadata": {
      "needs_background": "light"
     },
     "output_type": "display_data"
    }
   ],
   "source": [
    "# Histogram of the posterior estimates of the gene betas (scaling coefficients of genes)\n",
    "plt.hist(pyro.param('log_beta_posterior_loc_g').detach().cpu().numpy(), bins=50);\n",
    "plt.title('Gene scaling betas')\n",
    "plt.show()"
   ]
  },
  {
   "cell_type": "code",
   "execution_count": 21,
   "id": "civic-judges",
   "metadata": {},
   "outputs": [
    {
     "data": {
      "image/png": "[encoded data removed]",
      "text/plain": [
       "<Figure size 432x288 with 1 Axes>"
      ]
     },
     "metadata": {
      "needs_background": "light"
     },
     "output_type": "display_data"
    }
   ],
   "source": [
    "# Plot the celltype base composition\n",
    "\n",
    "fig = plt.figure()\n",
    "ax = plt.gca()\n",
    "\n",
    "ax.bar(\n",
    "    np.arange(ebov_dataset.num_cell_types),\n",
    "    torch.nn.functional.softmax(pyro.param(\"unnorm_cell_pop_base_posterior_loc_c\"), dim=0).detach().cpu().numpy())\n",
    "\n",
    "ax.set_title('Base cell population')\n",
    "ax.set_xticks(np.arange(ebov_dataset.num_cell_types))\n",
    "ax.set_xticklabels(ebov_dataset.cell_type_str_list, rotation=90);"
   ]
  },
  {
   "cell_type": "code",
   "execution_count": 22,
   "id": "motivated-ivory",
   "metadata": {},
   "outputs": [
    {
     "ename": "TypeError",
     "evalue": "only size-1 arrays can be converted to Python scalars",
     "output_type": "error",
     "traceback": [
      "\u001b[0;31m---------------------------------------------------------------------------\u001b[0m",
      "\u001b[0;31mTypeError\u001b[0m                                 Traceback (most recent call last)",
      "\u001b[0;32m<ipython-input-22-3243f64e5afa>\u001b[0m in \u001b[0;36m<module>\u001b[0;34m\u001b[0m\n\u001b[1;32m      6\u001b[0m ax.bar(\n\u001b[1;32m      7\u001b[0m     \u001b[0mnp\u001b[0m\u001b[0;34m.\u001b[0m\u001b[0marange\u001b[0m\u001b[0;34m(\u001b[0m\u001b[0mebov_dataset\u001b[0m\u001b[0;34m.\u001b[0m\u001b[0mnum_cell_types\u001b[0m\u001b[0;34m)\u001b[0m\u001b[0;34m,\u001b[0m\u001b[0;34m\u001b[0m\u001b[0;34m\u001b[0m\u001b[0m\n\u001b[0;32m----> 8\u001b[0;31m     pyro.param(\"unnorm_cell_pop_deform_posterior_loc_ck\").detach().cpu().numpy())\n\u001b[0m\u001b[1;32m      9\u001b[0m \u001b[0;34m\u001b[0m\u001b[0m\n\u001b[1;32m     10\u001b[0m \u001b[0max\u001b[0m\u001b[0;34m.\u001b[0m\u001b[0mset_xticks\u001b[0m\u001b[0;34m(\u001b[0m\u001b[0mnp\u001b[0m\u001b[0;34m.\u001b[0m\u001b[0marange\u001b[0m\u001b[0;34m(\u001b[0m\u001b[0mebov_dataset\u001b[0m\u001b[0;34m.\u001b[0m\u001b[0mnum_cell_types\u001b[0m\u001b[0;34m)\u001b[0m\u001b[0;34m)\u001b[0m\u001b[0;34m\u001b[0m\u001b[0;34m\u001b[0m\u001b[0m\n",
      "\u001b[0;32m/opt/conda/lib/python3.7/site-packages/matplotlib/__init__.py\u001b[0m in \u001b[0;36minner\u001b[0;34m(ax, data, *args, **kwargs)\u001b[0m\n\u001b[1;32m   1445\u001b[0m     \u001b[0;32mdef\u001b[0m \u001b[0minner\u001b[0m\u001b[0;34m(\u001b[0m\u001b[0max\u001b[0m\u001b[0;34m,\u001b[0m \u001b[0;34m*\u001b[0m\u001b[0margs\u001b[0m\u001b[0;34m,\u001b[0m \u001b[0mdata\u001b[0m\u001b[0;34m=\u001b[0m\u001b[0;32mNone\u001b[0m\u001b[0;34m,\u001b[0m \u001b[0;34m**\u001b[0m\u001b[0mkwargs\u001b[0m\u001b[0;34m)\u001b[0m\u001b[0;34m:\u001b[0m\u001b[0;34m\u001b[0m\u001b[0;34m\u001b[0m\u001b[0m\n\u001b[1;32m   1446\u001b[0m         \u001b[0;32mif\u001b[0m \u001b[0mdata\u001b[0m \u001b[0;32mis\u001b[0m \u001b[0;32mNone\u001b[0m\u001b[0;34m:\u001b[0m\u001b[0;34m\u001b[0m\u001b[0;34m\u001b[0m\u001b[0m\n\u001b[0;32m-> 1447\u001b[0;31m             \u001b[0;32mreturn\u001b[0m \u001b[0mfunc\u001b[0m\u001b[0;34m(\u001b[0m\u001b[0max\u001b[0m\u001b[0;34m,\u001b[0m \u001b[0;34m*\u001b[0m\u001b[0mmap\u001b[0m\u001b[0;34m(\u001b[0m\u001b[0msanitize_sequence\u001b[0m\u001b[0;34m,\u001b[0m \u001b[0margs\u001b[0m\u001b[0;34m)\u001b[0m\u001b[0;34m,\u001b[0m \u001b[0;34m**\u001b[0m\u001b[0mkwargs\u001b[0m\u001b[0;34m)\u001b[0m\u001b[0;34m\u001b[0m\u001b[0;34m\u001b[0m\u001b[0m\n\u001b[0m\u001b[1;32m   1448\u001b[0m \u001b[0;34m\u001b[0m\u001b[0m\n\u001b[1;32m   1449\u001b[0m         \u001b[0mbound\u001b[0m \u001b[0;34m=\u001b[0m \u001b[0mnew_sig\u001b[0m\u001b[0;34m.\u001b[0m\u001b[0mbind\u001b[0m\u001b[0;34m(\u001b[0m\u001b[0max\u001b[0m\u001b[0;34m,\u001b[0m \u001b[0;34m*\u001b[0m\u001b[0margs\u001b[0m\u001b[0;34m,\u001b[0m \u001b[0;34m**\u001b[0m\u001b[0mkwargs\u001b[0m\u001b[0;34m)\u001b[0m\u001b[0;34m\u001b[0m\u001b[0;34m\u001b[0m\u001b[0m\n",
      "\u001b[0;32m/opt/conda/lib/python3.7/site-packages/matplotlib/axes/_axes.py\u001b[0m in \u001b[0;36mbar\u001b[0;34m(self, x, height, width, bottom, align, **kwargs)\u001b[0m\n\u001b[1;32m   2484\u001b[0m                 \u001b[0medgecolor\u001b[0m\u001b[0;34m=\u001b[0m\u001b[0me\u001b[0m\u001b[0;34m,\u001b[0m\u001b[0;34m\u001b[0m\u001b[0;34m\u001b[0m\u001b[0m\n\u001b[1;32m   2485\u001b[0m                 \u001b[0mlinewidth\u001b[0m\u001b[0;34m=\u001b[0m\u001b[0mlw\u001b[0m\u001b[0;34m,\u001b[0m\u001b[0;34m\u001b[0m\u001b[0;34m\u001b[0m\u001b[0m\n\u001b[0;32m-> 2486\u001b[0;31m                 \u001b[0mlabel\u001b[0m\u001b[0;34m=\u001b[0m\u001b[0;34m'_nolegend_'\u001b[0m\u001b[0;34m,\u001b[0m\u001b[0;34m\u001b[0m\u001b[0;34m\u001b[0m\u001b[0m\n\u001b[0m\u001b[1;32m   2487\u001b[0m                 )\n\u001b[1;32m   2488\u001b[0m             \u001b[0mr\u001b[0m\u001b[0;34m.\u001b[0m\u001b[0mupdate\u001b[0m\u001b[0;34m(\u001b[0m\u001b[0mkwargs\u001b[0m\u001b[0;34m)\u001b[0m\u001b[0;34m\u001b[0m\u001b[0;34m\u001b[0m\u001b[0m\n",
      "\u001b[0;32m/opt/conda/lib/python3.7/site-packages/matplotlib/patches.py\u001b[0m in \u001b[0;36m__init__\u001b[0;34m(self, xy, width, height, angle, **kwargs)\u001b[0m\n\u001b[1;32m    740\u001b[0m         \"\"\"\n\u001b[1;32m    741\u001b[0m \u001b[0;34m\u001b[0m\u001b[0m\n\u001b[0;32m--> 742\u001b[0;31m         \u001b[0mPatch\u001b[0m\u001b[0;34m.\u001b[0m\u001b[0m__init__\u001b[0m\u001b[0;34m(\u001b[0m\u001b[0mself\u001b[0m\u001b[0;34m,\u001b[0m \u001b[0;34m**\u001b[0m\u001b[0mkwargs\u001b[0m\u001b[0;34m)\u001b[0m\u001b[0;34m\u001b[0m\u001b[0;34m\u001b[0m\u001b[0m\n\u001b[0m\u001b[1;32m    743\u001b[0m \u001b[0;34m\u001b[0m\u001b[0m\n\u001b[1;32m    744\u001b[0m         \u001b[0mself\u001b[0m\u001b[0;34m.\u001b[0m\u001b[0m_x0\u001b[0m \u001b[0;34m=\u001b[0m \u001b[0mxy\u001b[0m\u001b[0;34m[\u001b[0m\u001b[0;36m0\u001b[0m\u001b[0;34m]\u001b[0m\u001b[0;34m\u001b[0m\u001b[0;34m\u001b[0m\u001b[0m\n",
      "\u001b[0;32m/opt/conda/lib/python3.7/site-packages/matplotlib/patches.py\u001b[0m in \u001b[0;36m__init__\u001b[0;34m(self, edgecolor, facecolor, color, linewidth, linestyle, antialiased, hatch, fill, capstyle, joinstyle, **kwargs)\u001b[0m\n\u001b[1;32m     86\u001b[0m         \u001b[0mself\u001b[0m\u001b[0;34m.\u001b[0m\u001b[0mset_fill\u001b[0m\u001b[0;34m(\u001b[0m\u001b[0mfill\u001b[0m\u001b[0;34m)\u001b[0m\u001b[0;34m\u001b[0m\u001b[0;34m\u001b[0m\u001b[0m\n\u001b[1;32m     87\u001b[0m         \u001b[0mself\u001b[0m\u001b[0;34m.\u001b[0m\u001b[0mset_linestyle\u001b[0m\u001b[0;34m(\u001b[0m\u001b[0mlinestyle\u001b[0m\u001b[0;34m)\u001b[0m\u001b[0;34m\u001b[0m\u001b[0;34m\u001b[0m\u001b[0m\n\u001b[0;32m---> 88\u001b[0;31m         \u001b[0mself\u001b[0m\u001b[0;34m.\u001b[0m\u001b[0mset_linewidth\u001b[0m\u001b[0;34m(\u001b[0m\u001b[0mlinewidth\u001b[0m\u001b[0;34m)\u001b[0m\u001b[0;34m\u001b[0m\u001b[0;34m\u001b[0m\u001b[0m\n\u001b[0m\u001b[1;32m     89\u001b[0m         \u001b[0mself\u001b[0m\u001b[0;34m.\u001b[0m\u001b[0mset_antialiased\u001b[0m\u001b[0;34m(\u001b[0m\u001b[0mantialiased\u001b[0m\u001b[0;34m)\u001b[0m\u001b[0;34m\u001b[0m\u001b[0;34m\u001b[0m\u001b[0m\n\u001b[1;32m     90\u001b[0m         \u001b[0mself\u001b[0m\u001b[0;34m.\u001b[0m\u001b[0mset_hatch\u001b[0m\u001b[0;34m(\u001b[0m\u001b[0mhatch\u001b[0m\u001b[0;34m)\u001b[0m\u001b[0;34m\u001b[0m\u001b[0;34m\u001b[0m\u001b[0m\n",
      "\u001b[0;32m/opt/conda/lib/python3.7/site-packages/matplotlib/patches.py\u001b[0m in \u001b[0;36mset_linewidth\u001b[0;34m(self, w)\u001b[0m\n\u001b[1;32m    391\u001b[0m                 \u001b[0mw\u001b[0m \u001b[0;34m=\u001b[0m \u001b[0mmpl\u001b[0m\u001b[0;34m.\u001b[0m\u001b[0mrcParams\u001b[0m\u001b[0;34m[\u001b[0m\u001b[0;34m'axes.linewidth'\u001b[0m\u001b[0;34m]\u001b[0m\u001b[0;34m\u001b[0m\u001b[0;34m\u001b[0m\u001b[0m\n\u001b[1;32m    392\u001b[0m \u001b[0;34m\u001b[0m\u001b[0m\n\u001b[0;32m--> 393\u001b[0;31m         \u001b[0mself\u001b[0m\u001b[0;34m.\u001b[0m\u001b[0m_linewidth\u001b[0m \u001b[0;34m=\u001b[0m \u001b[0mfloat\u001b[0m\u001b[0;34m(\u001b[0m\u001b[0mw\u001b[0m\u001b[0;34m)\u001b[0m\u001b[0;34m\u001b[0m\u001b[0;34m\u001b[0m\u001b[0m\n\u001b[0m\u001b[1;32m    394\u001b[0m         \u001b[0;31m# scale the dash pattern by the linewidth\u001b[0m\u001b[0;34m\u001b[0m\u001b[0;34m\u001b[0m\u001b[0;34m\u001b[0m\u001b[0m\n\u001b[1;32m    395\u001b[0m         \u001b[0moffset\u001b[0m\u001b[0;34m,\u001b[0m \u001b[0mls\u001b[0m \u001b[0;34m=\u001b[0m \u001b[0mself\u001b[0m\u001b[0;34m.\u001b[0m\u001b[0m_us_dashes\u001b[0m\u001b[0;34m\u001b[0m\u001b[0;34m\u001b[0m\u001b[0m\n",
      "\u001b[0;31mTypeError\u001b[0m: only size-1 arrays can be converted to Python scalars"
     ]
    },
    {
     "data": {
      "image/png": "[encoded data removed]",
      "text/plain": [
       "<Figure size 432x288 with 1 Axes>"
      ]
     },
     "metadata": {
      "needs_background": "light"
     },
     "output_type": "display_data"
    }
   ],
   "source": [
    "# Plot the deltas of the celltype composition\n",
    "\n",
    "fig = plt.figure()\n",
    "ax = plt.gca()\n",
    "\n",
    "ax.bar(\n",
    "    np.arange(ebov_dataset.num_cell_types),\n",
    "    pyro.param(\"unnorm_cell_pop_deform_posterior_loc_ck\").detach().cpu().numpy())\n",
    "\n",
    "ax.set_xticks(np.arange(ebov_dataset.num_cell_types))\n",
    "ax.set_xticklabels(ebov_dataset.cell_type_str_list, rotation=90);"
   ]
  },
  {
   "cell_type": "code",
   "execution_count": null,
   "id": "proud-pipeline",
   "metadata": {},
   "outputs": [],
   "source": [
    "# celltype composition at time 0.1\n",
    "time = 0.0\n",
    "\n",
    "base_composition_post = pyro.param(\"unnorm_cell_pop_base_posterior_loc_c\").detach().cpu()\n",
    "delta_composition_post = pyro.param(\"unnorm_cell_pop_deform_posterior_loc_c\").detach().cpu()\n",
    "    \n",
    "norm_comp_t = torch.nn.functional.softmax(base_composition_post + time * delta_composition_post, dim=0).numpy()\n",
    "\n",
    "fig = plt.figure()\n",
    "ax = plt.gca()\n",
    "\n",
    "ax.bar(\n",
    "    np.arange(ebov_dataset.num_cell_types),\n",
    "    norm_comp_t\n",
    ")\n",
    "\n",
    "ax.set_title(f'Cell population proportions at time {time}')\n",
    "ax.set_xticks(np.arange(ebov_dataset.num_cell_types))\n",
    "ax.set_xticklabels(ebov_dataset.cell_type_str_list, rotation=90);"
   ]
  },
  {
   "cell_type": "code",
   "execution_count": null,
   "id": "solved-japan",
   "metadata": {},
   "outputs": [],
   "source": [
    "times = torch.arange(0,1,0.1)\n",
    "times.unsqueeze(1).shape"
   ]
  },
  {
   "cell_type": "code",
   "execution_count": null,
   "id": "celtic-finnish",
   "metadata": {},
   "outputs": [],
   "source": [
    "delta_composition_post\n",
    "delta_composition_post.shape"
   ]
  },
  {
   "cell_type": "code",
   "execution_count": null,
   "id": "improving-notebook",
   "metadata": {},
   "outputs": [],
   "source": [
    "composition_deltas = times.unsqueeze(1) @ delta_composition_post.unsqueeze(0)"
   ]
  },
  {
   "cell_type": "code",
   "execution_count": null,
   "id": "reflected-spray",
   "metadata": {},
   "outputs": [],
   "source": [
    "composition_over_time = torch.nn.functional.softmax(base_composition_post.expand(10,9) + composition_deltas, dim=1)"
   ]
  },
  {
   "cell_type": "code",
   "execution_count": null,
   "id": "unauthorized-whale",
   "metadata": {},
   "outputs": [],
   "source": [
    "composition_over_time"
   ]
  },
  {
   "cell_type": "code",
   "execution_count": null,
   "id": "analyzed-driving",
   "metadata": {},
   "outputs": [],
   "source": [
    "composition_over_time[:,0]"
   ]
  },
  {
   "cell_type": "code",
   "execution_count": null,
   "id": "premier-crowd",
   "metadata": {},
   "outputs": [],
   "source": [
    "fig = plt.figure()\n",
    "ax = plt.gca()\n",
    "\n",
    "ax.plot(times.numpy(), composition_over_time[:,0])"
   ]
  },
  {
   "cell_type": "code",
   "execution_count": null,
   "id": "legitimate-coaching",
   "metadata": {},
   "outputs": [],
   "source": [
    "fig = plt.figure()\n",
    "ax = plt.gca()\n",
    "\n",
    "ax.plot(times.numpy(), composition_over_time)\n",
    "\n",
    "ax.set_title(\"Predicted cell proportions\")\n",
    "ax.set_xlabel(\"Time\")\n",
    "ax.legend(ebov_dataset.cell_type_str_list,loc='best',fontsize='small')"
   ]
  },
  {
   "cell_type": "code",
   "execution_count": null,
   "id": "extraordinary-employment",
   "metadata": {},
   "outputs": [],
   "source": [
    "pyro.get_param_store().keys()"
   ]
  },
  {
   "cell_type": "markdown",
   "id": "threatened-briefs",
   "metadata": {},
   "source": [
    "### Individual Infection Rates"
   ]
  },
  {
   "cell_type": "code",
   "execution_count": null,
   "id": "expanded-daniel",
   "metadata": {},
   "outputs": [],
   "source": [
    "# These are the per individual infection rates\n",
    "pyro.param('log_r_posterior_loc_i').exp()"
   ]
  },
  {
   "cell_type": "code",
   "execution_count": null,
   "id": "transparent-honduras",
   "metadata": {},
   "outputs": [],
   "source": [
    "infection_rates = pyro.param('log_r_posterior_loc_i').exp().cpu().detach().numpy()"
   ]
  },
  {
   "cell_type": "code",
   "execution_count": null,
   "id": "bearing-atmosphere",
   "metadata": {},
   "outputs": [],
   "source": [
    "plt.hist(infection_rates)\n",
    "plt.title(\"Histogram of infection rates\")"
   ]
  },
  {
   "cell_type": "code",
   "execution_count": null,
   "id": "vocational-worship",
   "metadata": {},
   "outputs": [],
   "source": [
    "# Plot Gene Dispersions against gene expression levels"
   ]
  },
  {
   "cell_type": "code",
   "execution_count": null,
   "id": "graduate-schedule",
   "metadata": {},
   "outputs": [],
   "source": [
    "plt.scatter(\n",
    "    x=np.log1p(ebov_dataset.bulk_raw_gex_gm.sum(1)),\n",
    "    y=pyro.param('log_phi_posterior_loc_g').detach().cpu().numpy(),\n",
    "    )\n",
    "plt.xlabel('log(sum(X)+1)')\n",
    "plt.ylabel('phi')"
   ]
  },
  {
   "cell_type": "code",
   "execution_count": null,
   "id": "consistent-choice",
   "metadata": {},
   "outputs": [],
   "source": [
    "plt.scatter(\n",
    "    x=np.log1p(ebov_dataset.bulk_raw_gex_gm.sum(1)),\n",
    "    y=pyro.param('log_beta_posterior_loc_g').detach().cpu().numpy(),\n",
    "    )\n",
    "plt.xlabel('log(sum(X)+1)')\n",
    "plt.ylabel('phi')"
   ]
  },
  {
   "cell_type": "code",
   "execution_count": null,
   "id": "funded-chaos",
   "metadata": {},
   "outputs": [],
   "source": [
    "plt.scatter(\n",
    "    x=pyro.param('log_phi_posterior_loc_g').detach().cpu().numpy(),\n",
    "    y=pyro.param('log_beta_posterior_loc_g').detach().cpu().numpy(),\n",
    "    )\n",
    "plt.xlabel('phi')\n",
    "plt.ylabel('beta')"
   ]
  },
  {
   "cell_type": "code",
   "execution_count": null,
   "id": "thorough-philosophy",
   "metadata": {},
   "outputs": [],
   "source": [
    "plt.hist(, bins=50);"
   ]
  },
  {
   "cell_type": "code",
   "execution_count": null,
   "id": "going-effect",
   "metadata": {},
   "outputs": [],
   "source": [
    "#plt.scatter(\n",
    "#    ebov_dataset.m_to_i,\n",
    "#    ebov_dataset.dpi_time_m)"
   ]
  },
  {
   "cell_type": "code",
   "execution_count": null,
   "id": "fleet-commitment",
   "metadata": {},
   "outputs": [],
   "source": []
  },
  {
   "cell_type": "code",
   "execution_count": null,
   "id": "cutting-estimate",
   "metadata": {},
   "outputs": [],
   "source": []
  },
  {
   "cell_type": "code",
   "execution_count": null,
   "id": "realistic-generation",
   "metadata": {},
   "outputs": [],
   "source": []
  },
  {
   "cell_type": "code",
   "execution_count": null,
   "id": "injured-islam",
   "metadata": {},
   "outputs": [],
   "source": []
  },
  {
   "cell_type": "code",
   "execution_count": null,
   "id": "functioning-prison",
   "metadata": {},
   "outputs": [],
   "source": []
  },
  {
   "cell_type": "code",
   "execution_count": null,
   "id": "burning-exclusive",
   "metadata": {},
   "outputs": [],
   "source": []
  },
  {
   "cell_type": "code",
   "execution_count": null,
   "id": "aboriginal-render",
   "metadata": {},
   "outputs": [],
   "source": []
  },
  {
   "cell_type": "code",
   "execution_count": null,
   "id": "younger-future",
   "metadata": {},
   "outputs": [],
   "source": []
  },
  {
   "cell_type": "code",
   "execution_count": null,
   "id": "peaceful-cycle",
   "metadata": {},
   "outputs": [],
   "source": []
  },
  {
   "cell_type": "code",
   "execution_count": null,
   "id": "offshore-richardson",
   "metadata": {},
   "outputs": [],
   "source": []
  },
  {
   "cell_type": "code",
   "execution_count": null,
   "id": "presidential-robertson",
   "metadata": {},
   "outputs": [],
   "source": []
  },
  {
   "cell_type": "code",
   "execution_count": null,
   "id": "finished-consumption",
   "metadata": {},
   "outputs": [],
   "source": []
  },
  {
   "cell_type": "code",
   "execution_count": null,
   "id": "sustained-generation",
   "metadata": {},
   "outputs": [],
   "source": []
  },
  {
   "cell_type": "code",
   "execution_count": null,
   "id": "parallel-portland",
   "metadata": {},
   "outputs": [],
   "source": []
  },
  {
   "cell_type": "code",
   "execution_count": null,
   "id": "attractive-wallace",
   "metadata": {},
   "outputs": [],
   "source": []
  },
  {
   "cell_type": "code",
   "execution_count": null,
   "id": "comparative-wagon",
   "metadata": {},
   "outputs": [],
   "source": []
  },
  {
   "cell_type": "code",
   "execution_count": null,
   "id": "dense-somerset",
   "metadata": {},
   "outputs": [],
   "source": []
  }
 ],
 "metadata": {
  "environment": {
   "name": "pytorch-gpu.1-7.m65",
   "type": "gcloud",
   "uri": "gcr.io/deeplearning-platform-release/pytorch-gpu.1-7:m65"
  },
  "kernelspec": {
   "display_name": "Python 3",
   "language": "python",
   "name": "python3"
  },
  "language_info": {
   "codemirror_mode": {
    "name": "ipython",
    "version": 3
   },
   "file_extension": ".py",
   "mimetype": "text/x-python",
   "name": "python",
   "nbconvert_exporter": "python",
   "pygments_lexer": "ipython3",
   "version": "3.7.10"
  }
 },
 "nbformat": 4,
 "nbformat_minor": 5
}
