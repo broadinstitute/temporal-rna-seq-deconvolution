{
 "cells": [
  {
   "cell_type": "markdown",
   "id": "adjusted-minneapolis",
   "metadata": {},
   "source": [
    "## Ebola infected Macaque Sample Composition Trajectory Identification\n",
    "\n",
    "```\n",
    "Indices:\n",
    "\n",
    "- c cell type\n",
    "- g genes\n",
    "- m samples\n",
    "- k deformation polynomial degree\n",
    "```"
   ]
  },
  {
   "cell_type": "code",
   "execution_count": 1,
   "id": "freelance-modern",
   "metadata": {},
   "outputs": [],
   "source": [
    "import os\n",
    "import pickle5\n",
    "import numpy as np\n",
    "import pandas as pd\n",
    "#import matplotlib.pylab as plt\n",
    "import matplotlib\n",
    "import matplotlib.pyplot\n",
    "from typing import Dict\n",
    "from pyro.distributions.torch_distribution import TorchDistribution, TorchDistributionMixin\n",
    "from torch.distributions.utils import probs_to_logits, logits_to_probs, broadcast_all, lazy_property\n",
    "from torch.distributions import constraints\n",
    "import torch\n",
    "import pyro\n",
    "from pyro.infer import SVI, Trace_ELBO\n",
    "from typing import List, Dict\n",
    "from boltons.cacheutils import cachedproperty\n",
    "from pyro.distributions.torch_distribution import TorchDistribution, TorchDistributionMixin\n",
    "from torch.distributions.utils import probs_to_logits, logits_to_probs, broadcast_all, lazy_property\n",
    "from torch.distributions import constraints\n",
    "from numbers import Number\n",
    "import pyro.distributions as dist\n",
    "import anndata\n",
    "from sklearn.linear_model import Ridge\n",
    "from sklearn.preprocessing import PolynomialFeatures, SplineTransformer\n",
    "from sklearn.pipeline import make_pipeline"
   ]
  },
  {
   "cell_type": "markdown",
   "id": "explicit-model",
   "metadata": {},
   "source": [
    "## Parameter Configuration"
   ]
  },
  {
   "cell_type": "code",
   "execution_count": 2,
   "id": "centered-article",
   "metadata": {},
   "outputs": [],
   "source": [
    "device = torch.device(\"cuda:0\")\n",
    "dtype = torch.float32\n",
    "dtype_np = np.float32"
   ]
  },
  {
   "cell_type": "markdown",
   "id": "bound-samuel",
   "metadata": {},
   "source": [
    "## Helper functions and Classes"
   ]
  },
  {
   "cell_type": "code",
   "execution_count": 3,
   "id": "suited-reporter",
   "metadata": {},
   "outputs": [],
   "source": [
    "def NegativeBinomialAltParam(mu, phi):\n",
    "    \"\"\"\n",
    "    Creates a negative binomial distribution.\n",
    "    \n",
    "    Args:\n",
    "        mu (Number, Tensor): mean (must be strictly positive)\n",
    "        phi (Number, Tensor): overdispersion (must be strictly positive)\n",
    "    \"\"\"\n",
    "    return dist.GammaPoisson(\n",
    "            concentration= 1 /phi ,\n",
    "            rate=1 / (mu * phi))"
   ]
  },
  {
   "cell_type": "code",
   "execution_count": 42,
   "id": "environmental-steps",
   "metadata": {},
   "outputs": [],
   "source": [
    "class DeconvolutionDataset:\n",
    "    \"\"\"This class represents a bulk and single-cell dataset to be deconvolved in tandem\"\"\"\n",
    "    \n",
    "    def __init__(\n",
    "            self,\n",
    "            sc_anndata: anndata.AnnData,\n",
    "            sc_celltype_col: str,\n",
    "            bulk_anndata: anndata.AnnData,\n",
    "            bulk_time_col: str,\n",
    "            dtype_np: np.dtype,\n",
    "            feature_selection_method: str = \"common\"):\n",
    "\n",
    "        self.dtype_np = dtype_np\n",
    "        self.sc_celltype_col = sc_celltype_col\n",
    "        self.bul_time_col = bulk_time_col\n",
    "\n",
    "        #self.bulk_anndata = bulk_anndata\n",
    "        #self.sc_anndata = sc_anndata\n",
    "        \n",
    "        # Select common genes and subset/order anndata objects\n",
    "        selected_genes = self.__select_features(bulk_anndata, sc_anndata, feature_selection_method = feature_selection_method)\n",
    "        \n",
    "        \n",
    "        self.bulk_anndata = bulk_anndata[:,selected_genes]\n",
    "        self.sc_anndata = sc_anndata[:,selected_genes]\n",
    "        \n",
    "        self.num_genes = len(selected_genes)\n",
    "        \n",
    "        # TODO: Issue warning if too many genes removed\n",
    "        \n",
    "        # Pre-process time values and save inverse function\n",
    "        self.dpi_time_original_m = self.bulk_anndata.obs[bulk_time_col].values.astype(dtype_np)\n",
    "        self.time_min = np.min(self.dpi_time_original_m)\n",
    "        self.time_range = np.max(self.dpi_time_original_m) - self.time_min\n",
    "        self.dpi_time_m = (self.dpi_time_original_m - self.time_min) / self.time_range\n",
    "        \n",
    "        \n",
    "    def __select_features(self, bulk_anndata, sc_anndata, feature_selection_method, dispersion_cutoff = 10):\n",
    "        if feature_selection_method == \"common\":\n",
    "            return list(set(bulk_anndata.var.index).intersection(set(sc_anndata.var.index)))\n",
    "        if feature_selection_method == 'overdispersed_bulk':\n",
    "            x_train = np.log(bulk_anndata.X.mean(0)+1) # log_mu_g\n",
    "            y_train = np.log(bulk_anndata.X.var(0)+1) # log_sigma_g\n",
    "            \n",
    "            X_train = x_train[:, np.newaxis]\n",
    "            degree = 3\n",
    "            model = make_pipeline(PolynomialFeatures(degree), Ridge(alpha=1e-3))\n",
    "            model.fit(X_train, y_train)\n",
    "            y_pred = model.predict(X_train)\n",
    "\n",
    "            # Split genes into sets\n",
    "            sel_over = (y_train - y_pred > 0.0) & (y_train > dispersion_cutoff)\n",
    "            #\n",
    "\n",
    "            selected_genes = list(bulk_anndata.var.index[sel_over]) \n",
    "            \n",
    "            return selected_genes\n",
    "\n",
    "# Some plotting code\n",
    "#             sel_under = (y_train - y_pred < 0.0 ) | (y_train <= 7)\n",
    "#             lw = 1e-4\n",
    "#             fig, ax = matplotlib.pyplot.subplots()\n",
    "#             ax.scatter(x_train[sel_under], y_train[sel_under], linewidth=lw, label=\"ground truth\", c='black', marker='.', s=2)\n",
    "#             ax.scatter(x_train[sel_over], y_train[sel_over], linewidth=lw, label=\"ground truth\", c='orange', marker='.', s=2)\n",
    "#             # order for the line\n",
    "#             o = np.argsort(X_train.T)[0]\n",
    "#             matplotlib.pyplot.plot(X_train[o,:], y_pred[o], c='red')\n",
    "\n",
    "        \n",
    "    @cachedproperty\n",
    "    def cell_type_str_list(self) -> List[str]:\n",
    "        return sorted(list(set(self.sc_anndata.obs[self.sc_celltype_col])))\n",
    "    \n",
    "    @cachedproperty\n",
    "    def cell_type_str_to_index_map(self) -> Dict[str, int]:\n",
    "        return {cell_type_str: index for index, cell_type_str in enumerate(self.cell_type_str_list)}        \n",
    "    \n",
    "    @cachedproperty\n",
    "    def num_cell_types(self) -> int:\n",
    "        return len(self.cell_type_str_list)\n",
    "    \n",
    "    @cachedproperty\n",
    "    def w_hat_gc(self) -> np.ndarray:\n",
    "        \"\"\"Calculate the estimate cell profiles\"\"\"\n",
    "        w_hat_gc = np.zeros((self.num_genes, self.num_cell_types))\n",
    "        for cell_type_str in self.cell_type_str_list:\n",
    "            i_cell_type = self.cell_type_str_to_index_map[cell_type_str]\n",
    "            mask_j = self.sc_anndata.obs[self.sc_celltype_col].values == cell_type_str\n",
    "            w_hat_gc[:, i_cell_type] = np.sum(self.sc_anndata.X[mask_j,:], axis=-2)\n",
    "            w_hat_gc[:, i_cell_type] = w_hat_gc[:, i_cell_type] / np.sum(w_hat_gc[:, i_cell_type])\n",
    "        return w_hat_gc\n",
    "    \n",
    "    @cachedproperty\n",
    "    def bulk_raw_gex_mg(self) -> torch.tensor:\n",
    "        return torch.tensor(self.bulk_anndata.X, device=device, dtype=dtype)\n",
    "    \n",
    "    @cachedproperty\n",
    "    def t_m(self) -> torch.tensor:\n",
    "        return torch.tensor(self.dpi_time_m, device=device, dtype=dtype)\n"
   ]
  },
  {
   "cell_type": "code",
   "execution_count": 43,
   "id": "improved-serial",
   "metadata": {},
   "outputs": [],
   "source": [
    "def generate_batch(\n",
    "    dataset: DeconvolutionDataset,\n",
    "    device: torch.device,\n",
    "    dtype: torch.dtype):\n",
    "    \n",
    "    return {\n",
    "        \"x_mg\": torch.tensor(dataset.bulk_raw_gex_mg, device=device, dtype=dtype),\n",
    "        \"t_m\": torch.tensor(dataset.dpi_time_m, device=device, dtype=dtype),\n",
    "    }"
   ]
  },
  {
   "cell_type": "markdown",
   "id": "challenging-string",
   "metadata": {},
   "source": [
    "## Model Definition"
   ]
  },
  {
   "cell_type": "code",
   "execution_count": 44,
   "id": "informational-elimination",
   "metadata": {},
   "outputs": [],
   "source": [
    "class TimeRegularizedDeconvolution:\n",
    "    \n",
    "    def  __init__(\n",
    "            self,\n",
    "            dataset: DeconvolutionDataset,\n",
    "            polynomial_degree: int,\n",
    "            device: device,\n",
    "            dtype: dtype):\n",
    "        \n",
    "        self.dataset = dataset\n",
    "        self.device = device\n",
    "        self.dtype = dtype\n",
    "        self.polynomial_degree = polynomial_degree\n",
    "        \n",
    "        # hyperparameters\n",
    "        self.log_beta_prior_scale = 1.0\n",
    "        self.log_r_prior_scale = 1.0\n",
    "        self.tau_prior_scale = 1.0\n",
    "        self.log_phi_prior_loc = -5.0\n",
    "        self.log_phi_prior_scale = 1.0\n",
    "        \n",
    "        self.unnorm_cell_pop_base_prior_loc_c = np.zeros((self.dataset.num_cell_types,))\n",
    "        self.unnorm_cell_pop_base_prior_scale_c = np.ones((self.dataset.num_cell_types,))\n",
    "\n",
    "        # dist of coefficients of population deformation polynomial\n",
    "        self.unnorm_cell_pop_deform_prior_loc_ck = np.zeros((self.dataset.num_cell_types, self.polynomial_degree))\n",
    "        self.unnorm_cell_pop_deform_prior_scale_ck = np.ones((self.dataset.num_cell_types, self.polynomial_degree))\n",
    "\n",
    "\n",
    "        self.init_posterior_global_scale_factor = 0.05\n",
    "        \n",
    "        self.log_beta_posterior_scale = 1.0 * self.init_posterior_global_scale_factor\n",
    "        self.log_r_posterior_scale = 1.0 * self.init_posterior_global_scale_factor\n",
    "        self.tau_posterior_scale = 1.0 * self.init_posterior_global_scale_factor\n",
    "        self.log_phi_posterior_loc = -5.0\n",
    "        self.log_phi_posterior_scale = 0.1 * self.init_posterior_global_scale_factor\n",
    "        \n",
    "        \n",
    "        self.unnorm_cell_pop_base_posterior_loc_c = np.zeros((self.dataset.num_cell_types,))\n",
    "        self.unnorm_cell_pop_base_posterior_scale_c = self.init_posterior_global_scale_factor * np.ones((self.dataset.num_cell_types,))\n",
    "        \n",
    "        self.unnorm_cell_pop_deform_posterior_loc_ck = np.zeros((self.dataset.num_cell_types, self.polynomial_degree))\n",
    "        self.unnorm_cell_pop_deform_posterior_scale_ck = self.init_posterior_global_scale_factor *  np.ones((self.dataset.num_cell_types, self.polynomial_degree))\n",
    "        \n",
    "        # cache useful tensors\n",
    "        self.w_hat_gc = torch.tensor(self.dataset.w_hat_gc, device=device, dtype=dtype)\n",
    "        \n",
    "    def model(\n",
    "            self,\n",
    "            x_mg: torch.Tensor,\n",
    "            t_m: torch.Tensor):\n",
    "        \"\"\"Main model\n",
    "        \n",
    "        :param x_mg: gene expression\n",
    "        :param t_m: obseration time\n",
    "        \"\"\"\n",
    "        \n",
    "        # sample log_phi_g\n",
    "        log_phi_g = pyro.sample(\n",
    "            'log_phi_g',\n",
    "            dist.Normal(\n",
    "                loc=self.log_phi_prior_loc * torch.ones(\n",
    "                    (self.dataset.num_genes,), device=self.device, dtype=self.dtype),\n",
    "                scale=self.log_phi_prior_scale * torch.ones(\n",
    "                    (self.dataset.num_genes,), device=self.device, dtype=self.dtype)).to_event(1))\n",
    "        \n",
    "        # sample log_beta_g\n",
    "        log_beta_g = pyro.sample(\n",
    "            'log_beta_g',\n",
    "            dist.Normal(\n",
    "                loc=torch.zeros(\n",
    "                    (self.dataset.num_genes,), device=self.device, dtype=self.dtype),\n",
    "                scale=self.log_beta_prior_scale * torch.ones(\n",
    "                    (self.dataset.num_genes,), device=self.device, dtype=self.dtype)).to_event(1))\n",
    "        \n",
    "        # sample unnorm_cell_pop_base_c\n",
    "        unnorm_cell_pop_base_c = pyro.sample(\n",
    "            'unnorm_cell_pop_base_c',\n",
    "            dist.Normal(\n",
    "                loc=torch.tensor(\n",
    "                    self.unnorm_cell_pop_base_prior_loc_c,\n",
    "                    device=self.device, dtype=self.dtype),\n",
    "                scale=torch.tensor(\n",
    "                    self.unnorm_cell_pop_base_prior_scale_c,\n",
    "                    device=self.device, dtype=self.dtype)).to_event(1))\n",
    "        \n",
    "        # Deformation scale is a learnable parameter now\n",
    "        unnorm_cell_pop_deform_prior_scale_ck = pyro.param(\"unnorm_cell_pop_deform_prior_scale_ck\",\n",
    "                        torch.tensor(self.unnorm_cell_pop_deform_prior_scale_ck, \n",
    "                        device=self.device,\n",
    "                        dtype=self.dtype),                          \n",
    "                        constraint = constraints.positive) \n",
    "        \n",
    "        unnorm_cell_pop_deform_ck = pyro.sample(\n",
    "            'unnorm_cell_pop_deform_ck',\n",
    "            dist.Normal(\n",
    "                loc=torch.tensor(\n",
    "                    self.unnorm_cell_pop_deform_prior_loc_ck,\n",
    "                    device=self.device, dtype=self.dtype),\n",
    "                scale=unnorm_cell_pop_deform_prior_scale_ck).to_event(2))\n",
    "        \n",
    "        # calculate useful derived variables\n",
    "        beta_g = log_beta_g.exp()\n",
    "        phi_g = log_phi_g.exp()\n",
    "        \n",
    "        # Get normalized w_gc\n",
    "        unnorm_w_gc = self.w_hat_gc * beta_g[:, None]\n",
    "        w_gc = unnorm_w_gc / unnorm_w_gc.sum(0)\n",
    "\n",
    "        # calculate cell proportion\n",
    "        tau_km = torch.pow(t_m[None,:], torch.arange(1,self.polynomial_degree + 1,device=self.device)[:,None])  \n",
    "        deformation_mc = torch.matmul(unnorm_cell_pop_deform_ck, tau_km).transpose(-1,-2)\n",
    "        \n",
    "        # Cell population proportions\n",
    "        cell_pop_unnorm_mc = unnorm_cell_pop_base_c[None,:] + deformation_mc\n",
    "        cell_pop_mc = torch.nn.functional.softmax(cell_pop_unnorm_mc, dim=-1)\n",
    "\n",
    "        # calculate mean gene expression\n",
    "        mu_mg = x_mg.sum(-1)[:, None] * torch.matmul(cell_pop_mc, w_gc.transpose(-1, -2))\n",
    "\n",
    "        with pyro.plate('batch'):\n",
    "            # observe gene expression\n",
    "            pyro.sample(\n",
    "                \"x_mg\",\n",
    "                NegativeBinomialAltParam(\n",
    "                    mu=mu_mg,\n",
    "                    phi=phi_g[None, :]).to_event(1),\n",
    "                obs=x_mg)\n",
    "\n",
    "    def delta_guide(\n",
    "            self,\n",
    "            x_mg: torch.Tensor,\n",
    "            t_m: torch.Tensor):\n",
    "        \"\"\"Simple delta guide\"\"\"\n",
    "        \n",
    "        # variational parameters for log_phi_g\n",
    "        log_phi_posterior_loc_g = pyro.param(\n",
    "            \"log_phi_posterior_loc_g\",\n",
    "            self.log_phi_posterior_loc * torch.ones(\n",
    "                (self.dataset.num_genes,), device=self.device, dtype=self.dtype))\n",
    "\n",
    "        # variational parameters for log_beta_g\n",
    "        log_beta_posterior_loc_g = pyro.param(\n",
    "            \"log_beta_posterior_loc_g\",\n",
    "            torch.zeros(\n",
    "                (self.dataset.num_genes,), device=self.device, dtype=self.dtype))        \n",
    "        \n",
    "        # variational parameters for unnorm_cell_pop_base_c (\"B_c\")\n",
    "        unnorm_cell_pop_base_posterior_loc_c = pyro.param(\n",
    "            \"unnorm_cell_pop_base_posterior_loc_c\",\n",
    "            torch.tensor(\n",
    "                self.unnorm_cell_pop_base_posterior_loc_c,\n",
    "                device=self.device, dtype=self.dtype))\n",
    "        \n",
    "        # variational parameters for unnorm_cell_pop_deform_c (\"R_c\")\n",
    "        unnorm_cell_pop_deform_posterior_loc_ck = pyro.param(\n",
    "            \"unnorm_cell_pop_deform_posterior_loc_ck\",\n",
    "            torch.tensor(\n",
    "                self.unnorm_cell_pop_deform_posterior_loc_ck,\n",
    "                device=self.device, dtype=self.dtype))\n",
    "        \n",
    "        # posterior sample statements\n",
    "        log_phi_g = pyro.sample(\n",
    "            \"log_phi_g\",\n",
    "            dist.Delta(\n",
    "                v=log_phi_posterior_loc_g).to_event(1))\n",
    "\n",
    "        log_beta_g = pyro.sample(\n",
    "            \"log_beta_g\",\n",
    "            dist.Delta(\n",
    "                v=log_beta_posterior_loc_g).to_event(1))\n",
    "\n",
    "        unnorm_cell_pop_base_c = pyro.sample(\n",
    "            'unnorm_cell_pop_base_c',\n",
    "            dist.Delta(\n",
    "                v=unnorm_cell_pop_base_posterior_loc_c).to_event(1))\n",
    "        \n",
    "        unnorm_cell_pop_deform_ck = pyro.sample(\n",
    "            'unnorm_cell_pop_deform_ck',\n",
    "            dist.Delta(v=unnorm_cell_pop_deform_posterior_loc_ck).to_event(2))\n",
    "        \n",
    "        \n",
    "    def fit_model(self, n_iters = 3000, log_frequency = 100, verbose = True):\n",
    "        pyro.clear_param_store()\n",
    "        optim = pyro.optim.Adam({'lr': 5e-3})\n",
    "        \n",
    "        self.loss_hist = []\n",
    "        \n",
    "        svi = SVI(\n",
    "            model=self.model,\n",
    "            guide=self.delta_guide,\n",
    "            optim=optim,\n",
    "            loss=Trace_ELBO())\n",
    "        \n",
    "        for i_iter in range(n_iters):\n",
    "            batch_dict = generate_batch(self.dataset, device, dtype)\n",
    "            loss = svi.step(**batch_dict)\n",
    "            self.loss_hist.append(loss)\n",
    "            if verbose:\n",
    "                if i_iter % log_frequency == 0:\n",
    "                    print(f\"{i_iter}   loss: {self.loss_hist[-1]}\")\n",
    "                \n",
    "    def plot_loss(self):\n",
    "        \"\"\"Plot the losses during training\"\"\"\n",
    "        fig, ax = matplotlib.pyplot.subplots()\n",
    "        ax.plot(self.loss_hist)\n",
    "        ax.set_title('Losses')\n",
    "        ax.set_xlabel('iteration')\n",
    "        ax.set_ylabel('ELBO Loss')\n",
    "        \n",
    "        return ax\n",
    "    \n",
    "    \n",
    "    def calculate_composition_trajectories(self, time_step=0.01):\n",
    "        \"\"\"Calculate the composition trajectories\"\"\"\n",
    "        times_z = torch.arange(0,1,time_step)\n",
    "        \n",
    "        # Take time to appropriate exponent\n",
    "        times_zk = torch.pow(times_z[:,None], torch.arange(1,self.polynomial_degree + 1,))\n",
    "        \n",
    "        # get the trained params\n",
    "        base_composition_post_c = pyro.param(\"unnorm_cell_pop_base_posterior_loc_c\").detach().cpu()\n",
    "        delta_composition_post_ck = pyro.param(\"unnorm_cell_pop_deform_posterior_loc_ck\").detach().cpu()\n",
    "        \n",
    "        # Calculate the deltas for each time point\n",
    "        delta_cz = torch.matmul(delta_composition_post_ck, times_zk.transpose(-1,-2))\n",
    "        \n",
    "        # normalize\n",
    "        norm_comp_t = torch.nn.functional.softmax(base_composition_post_c[:,None] + delta_cz, dim=0).numpy().T\n",
    "        \n",
    "        # calculate true times\n",
    "        true_times_z = times_z * self.dataset.time_range + self.dataset.time_min\n",
    "        \n",
    "        self.calculated_trajectories = {\n",
    "            \"times_z\": times_z.numpy(), \n",
    "            \"true_times_z\": true_times_z,\n",
    "            \"norm_comp_t\": norm_comp_t\n",
    "        }\n",
    "    \n",
    "    \n",
    "    def get_composition_trajectories(self):\n",
    "        \"\"\"Return the composition trajectories\"\"\"\n",
    "        return self.calculated_trajectories\n",
    "    \n",
    "    \n",
    "    def plot_composition_trajectories(self):\n",
    "        \"\"\"Plot the composition trajectories\"\"\"\n",
    "        fig, ax  = matplotlib.pyplot.subplots()\n",
    "        ax.plot(self.calculated_trajectories[\"true_times_z\"], self.calculated_trajectories[\"norm_comp_t\"])\n",
    "        ax.set_title(\"Predicted cell proportions\")\n",
    "        ax.set_xlabel(\"Time\")\n",
    "        ax.legend(ebov_dataset.cell_type_str_list,loc='best',fontsize='small')\n",
    "        \n",
    "        "
   ]
  },
  {
   "cell_type": "markdown",
   "id": "complex-employment",
   "metadata": {},
   "source": [
    "## Train Model"
   ]
  },
  {
   "cell_type": "code",
   "execution_count": 45,
   "id": "cathedral-creek",
   "metadata": {},
   "outputs": [],
   "source": [
    "bulk_anndata_path = \"/home/nbarkas/disk2/deconvolution_method/datasets/ebov/load_data_python/ebov_bulk.h5ad\"\n",
    "sc_anndata_path = \"/home/nbarkas/disk2/deconvolution_method/datasets/ebov/load_data_python/ebov_sc.h5ad\""
   ]
  },
  {
   "cell_type": "code",
   "execution_count": 46,
   "id": "verified-stanley",
   "metadata": {},
   "outputs": [],
   "source": [
    "with open(bulk_anndata_path, 'rb') as fh:\n",
    "    bulk_anndata  = anndata.read_h5ad(fh)\n",
    "with open(sc_anndata_path, 'rb') as fh:\n",
    "    sc_anndata = anndata.read_h5ad(fh)"
   ]
  },
  {
   "cell_type": "code",
   "execution_count": 47,
   "id": "intense-aberdeen",
   "metadata": {},
   "outputs": [],
   "source": [
    "# select samples only after or on tp 0\n",
    "bulk_anndata = bulk_anndata[bulk_anndata.obs['dpi_time'] >= 0,]"
   ]
  },
  {
   "cell_type": "code",
   "execution_count": 48,
   "id": "sealed-eating",
   "metadata": {},
   "outputs": [
    {
     "name": "stderr",
     "output_type": "stream",
     "text": [
      "/opt/conda/lib/python3.7/site-packages/sklearn/linear_model/_ridge.py:157: LinAlgWarning: Ill-conditioned matrix (rcond=5.6896e-12): result may not be accurate.\n",
      "  return linalg.solve(A, Xy, sym_pos=True, overwrite_a=True).T\n"
     ]
    }
   ],
   "source": [
    "ebov_dataset = DeconvolutionDataset(\n",
    "    sc_anndata = sc_anndata,\n",
    "    sc_celltype_col = \"Subclustering_reduced\",\n",
    "    bulk_anndata = bulk_anndata,\n",
    "    bulk_time_col = \"dpi_time\",\n",
    "    dtype_np = dtype_np,\n",
    "    feature_selection_method = 'overdispersed_bulk'\n",
    ")"
   ]
  },
  {
   "cell_type": "code",
   "execution_count": 49,
   "id": "mineral-debate",
   "metadata": {},
   "outputs": [],
   "source": [
    "pseudo_time_reg_deconv = TimeRegularizedDeconvolution(\n",
    "    dataset=ebov_dataset,\n",
    "    polynomial_degree = 3,\n",
    "    device=device,\n",
    "    dtype=dtype)"
   ]
  },
  {
   "cell_type": "code",
   "execution_count": 50,
   "id": "balanced-message",
   "metadata": {},
   "outputs": [
    {
     "name": "stderr",
     "output_type": "stream",
     "text": [
      "/opt/conda/lib/python3.7/site-packages/ipykernel_launcher.py:7: UserWarning: To copy construct from a tensor, it is recommended to use sourceTensor.clone().detach() or sourceTensor.clone().detach().requires_grad_(True), rather than torch.tensor(sourceTensor).\n",
      "  import sys\n"
     ]
    },
    {
     "name": "stdout",
     "output_type": "stream",
     "text": [
      "0   loss: 21288071.076416016\n",
      "100   loss: 10471315.086238861\n",
      "200   loss: 5907700.47561264\n",
      "300   loss: 3577073.1150360107\n",
      "400   loss: 2369832.937927246\n",
      "500   loss: 1727700.7341842651\n",
      "600   loss: 1362826.0659599304\n",
      "700   loss: 1137974.909790039\n",
      "800   loss: 989052.713508606\n",
      "900   loss: 884621.2606811523\n"
     ]
    }
   ],
   "source": [
    "pseudo_time_reg_deconv.fit_model(n_iters=1000, verbose=True)"
   ]
  },
  {
   "cell_type": "markdown",
   "id": "exotic-administrator",
   "metadata": {},
   "source": [
    "## Examine Outputs"
   ]
  },
  {
   "cell_type": "code",
   "execution_count": 51,
   "id": "civic-receiver",
   "metadata": {},
   "outputs": [
    {
     "data": {
      "text/plain": [
       "<AxesSubplot:title={'center':'Losses'}, xlabel='iteration', ylabel='ELBO Loss'>"
      ]
     },
     "execution_count": 51,
     "metadata": {},
     "output_type": "execute_result"
    },
    {
     "data": {
      "image/png": "[encoded data removed]",
      "text/plain": [
       "<Figure size 432x288 with 1 Axes>"
      ]
     },
     "metadata": {
      "needs_background": "light"
     },
     "output_type": "display_data"
    }
   ],
   "source": [
    "pseudo_time_reg_deconv.plot_loss()"
   ]
  },
  {
   "cell_type": "code",
   "execution_count": 52,
   "id": "underlying-money",
   "metadata": {},
   "outputs": [],
   "source": [
    "pseudo_time_reg_deconv.calculate_composition_trajectories(time_step=0.01)"
   ]
  },
  {
   "cell_type": "code",
   "execution_count": 53,
   "id": "understanding-special",
   "metadata": {},
   "outputs": [
    {
     "data": {
      "image/png": "[encoded data removed]",
      "text/plain": [
       "<Figure size 432x288 with 1 Axes>"
      ]
     },
     "metadata": {
      "needs_background": "light"
     },
     "output_type": "display_data"
    }
   ],
   "source": [
    "pseudo_time_reg_deconv.plot_composition_trajectories()"
   ]
  },
  {
   "cell_type": "code",
   "execution_count": null,
   "id": "welcome-stopping",
   "metadata": {},
   "outputs": [],
   "source": []
  },
  {
   "cell_type": "code",
   "execution_count": null,
   "id": "dutch-manchester",
   "metadata": {},
   "outputs": [],
   "source": []
  },
  {
   "cell_type": "code",
   "execution_count": null,
   "id": "rubber-specification",
   "metadata": {},
   "outputs": [],
   "source": []
  },
  {
   "cell_type": "code",
   "execution_count": null,
   "id": "sound-summary",
   "metadata": {},
   "outputs": [],
   "source": []
  },
  {
   "cell_type": "code",
   "execution_count": null,
   "id": "polish-prefix",
   "metadata": {},
   "outputs": [],
   "source": []
  },
  {
   "cell_type": "code",
   "execution_count": null,
   "id": "exceptional-cycle",
   "metadata": {},
   "outputs": [],
   "source": []
  },
  {
   "cell_type": "code",
   "execution_count": null,
   "id": "prepared-mainstream",
   "metadata": {},
   "outputs": [],
   "source": []
  },
  {
   "cell_type": "code",
   "execution_count": null,
   "id": "approximate-formula",
   "metadata": {},
   "outputs": [],
   "source": []
  },
  {
   "cell_type": "code",
   "execution_count": null,
   "id": "quarterly-listening",
   "metadata": {},
   "outputs": [],
   "source": []
  },
  {
   "cell_type": "code",
   "execution_count": null,
   "id": "senior-decision",
   "metadata": {},
   "outputs": [],
   "source": []
  },
  {
   "cell_type": "code",
   "execution_count": null,
   "id": "bearing-strain",
   "metadata": {},
   "outputs": [],
   "source": []
  },
  {
   "cell_type": "code",
   "execution_count": null,
   "id": "insured-reserve",
   "metadata": {},
   "outputs": [],
   "source": []
  },
  {
   "cell_type": "code",
   "execution_count": null,
   "id": "superb-caribbean",
   "metadata": {},
   "outputs": [],
   "source": []
  }
 ],
 "metadata": {
  "environment": {
   "name": "pytorch-gpu.1-7.m65",
   "type": "gcloud",
   "uri": "gcr.io/deeplearning-platform-release/pytorch-gpu.1-7:m65"
  },
  "kernelspec": {
   "display_name": "Python 3",
   "language": "python",
   "name": "python3"
  },
  "language_info": {
   "codemirror_mode": {
    "name": "ipython",
    "version": 3
   },
   "file_extension": ".py",
   "mimetype": "text/x-python",
   "name": "python",
   "nbconvert_exporter": "python",
   "pygments_lexer": "ipython3",
   "version": "3.7.10"
  }
 },
 "nbformat": 4,
 "nbformat_minor": 5
}
