{
 "cells": [
  {
   "cell_type": "markdown",
   "id": "initial-atlantic",
   "metadata": {},
   "source": [
    "# Deconvolve Simulated Linear Example"
   ]
  },
  {
   "cell_type": "markdown",
   "id": "clean-review",
   "metadata": {},
   "source": [
    "Indices:\n",
    "- c cell type\n",
    "- g genes\n",
    "- m samples\n",
    "- k deformation polynomial degree"
   ]
  },
  {
   "cell_type": "code",
   "execution_count": 1,
   "id": "human-conducting",
   "metadata": {},
   "outputs": [],
   "source": [
    "import torch\n",
    "from time_deconv.time_deconv_simulator import *\n",
    "from time_deconv.time_deconv import *"
   ]
  },
  {
   "cell_type": "markdown",
   "id": "amended-tourism",
   "metadata": {},
   "source": [
    "## Parameter Configuration"
   ]
  },
  {
   "cell_type": "code",
   "execution_count": 2,
   "id": "thrown-parent",
   "metadata": {},
   "outputs": [],
   "source": [
    "device = torch.device(\"cuda:0\")\n",
    "dtype = torch.float32\n",
    "dtype_np = np.float32"
   ]
  },
  {
   "cell_type": "markdown",
   "id": "potential-paintball",
   "metadata": {},
   "source": [
    "## Train Model"
   ]
  },
  {
   "cell_type": "code",
   "execution_count": 3,
   "id": "sharp-lesbian",
   "metadata": {},
   "outputs": [],
   "source": [
    "bulk_anndata_path = \"/home/nbarkas/disk2/deconvolution_method/datasets/ebov/load_data_python/ebov_bulk.h5ad\"\n",
    "sc_anndata_path = \"/home/nbarkas/disk2/deconvolution_method/datasets/ebov/load_data_python/ebov_sc.h5ad\""
   ]
  },
  {
   "cell_type": "code",
   "execution_count": 4,
   "id": "italian-battery",
   "metadata": {},
   "outputs": [],
   "source": [
    "with open(bulk_anndata_path, 'rb') as fh:\n",
    "    bulk_anndata  = anndata.read_h5ad(fh)\n",
    "with open(sc_anndata_path, 'rb') as fh:\n",
    "    sc_anndata = anndata.read_h5ad(fh)"
   ]
  },
  {
   "cell_type": "code",
   "execution_count": 5,
   "id": "consolidated-pitch",
   "metadata": {},
   "outputs": [],
   "source": [
    "# select samples only after or on tp 0\n",
    "bulk_anndata = bulk_anndata[bulk_anndata.obs['dpi_time'] >= 0,]"
   ]
  },
  {
   "cell_type": "code",
   "execution_count": 6,
   "id": "every-colleague",
   "metadata": {},
   "outputs": [
    {
     "name": "stderr",
     "output_type": "stream",
     "text": [
      "/opt/conda/lib/python3.7/site-packages/sklearn/linear_model/_ridge.py:157: LinAlgWarning: Ill-conditioned matrix (rcond=3.1044e-10): result may not be accurate.\n",
      "  return linalg.solve(A, Xy, sym_pos=True, overwrite_a=True).T\n"
     ]
    }
   ],
   "source": [
    "ebov_dataset = DeconvolutionDataset(\n",
    "    sc_anndata = sc_anndata,\n",
    "    sc_celltype_col = \"Subclustering_reduced\",\n",
    "    bulk_anndata = bulk_anndata,\n",
    "    bulk_time_col = \"dpi_time\",\n",
    "    dtype_np = dtype_np,\n",
    "    dtype = dtype,\n",
    "    device=device,\n",
    "    feature_selection_method = 'overdispersed_bulk_and_high_sc' #'overdispersed_bulk'\n",
    ")"
   ]
  },
  {
   "cell_type": "code",
   "execution_count": 7,
   "id": "rough-degree",
   "metadata": {},
   "outputs": [],
   "source": [
    "pseudo_time_reg_deconv = TimeRegularizedDeconvolution(\n",
    "    dataset=ebov_dataset,\n",
    "    polynomial_degree = 5,\n",
    "    basis_functions = \"polynomial\",\n",
    "    device=device,\n",
    "    dtype=dtype)"
   ]
  },
  {
   "cell_type": "code",
   "execution_count": 8,
   "id": "aggressive-tiger",
   "metadata": {},
   "outputs": [
    {
     "name": "stdout",
     "output_type": "stream",
     "text": [
      "[iteration: 0]   loss: 30370669.54\n",
      "[iteration: 1000]   loss: 8828506.86\n",
      "[iteration: 2000]   loss: 3696003.78\n",
      "[iteration: 3000]   loss: 2148004.16\n",
      "[iteration: 4000]   loss: 1558377.70\n",
      "[iteration: 5000]   loss: 1285225.56\n"
     ]
    }
   ],
   "source": [
    "pseudo_time_reg_deconv.fit_model(n_iters=5_001, verbose=True, log_frequency=1000)"
   ]
  },
  {
   "cell_type": "markdown",
   "id": "correct-smooth",
   "metadata": {},
   "source": [
    "## Examine Outputs"
   ]
  },
  {
   "cell_type": "code",
   "execution_count": null,
   "id": "humanitarian-therapist",
   "metadata": {},
   "outputs": [],
   "source": [
    "pseudo_time_reg_deconv.plot_loss()"
   ]
  },
  {
   "cell_type": "code",
   "execution_count": null,
   "id": "sustained-grace",
   "metadata": {},
   "outputs": [],
   "source": [
    "pseudo_time_reg_deconv.calculate_composition_trajectories(n_intervals = 1000)"
   ]
  },
  {
   "cell_type": "code",
   "execution_count": null,
   "id": "hourly-chamber",
   "metadata": {},
   "outputs": [],
   "source": [
    "pseudo_time_reg_deconv.plot_composition_trajectories()"
   ]
  },
  {
   "cell_type": "code",
   "execution_count": null,
   "id": "cloudy-aspect",
   "metadata": {},
   "outputs": [],
   "source": [
    "pseudo_time_reg_deconv.plot_phi_g_distribution()"
   ]
  },
  {
   "cell_type": "code",
   "execution_count": null,
   "id": "static-couple",
   "metadata": {},
   "outputs": [],
   "source": [
    "pseudo_time_reg_deconv.plot_beta_g_distribution()\n",
    "matplotlib.pyplot.yscale('log')"
   ]
  },
  {
   "cell_type": "markdown",
   "id": "central-contamination",
   "metadata": {},
   "source": [
    "# Synthetic Data"
   ]
  },
  {
   "cell_type": "code",
   "execution_count": null,
   "id": "legitimate-detector",
   "metadata": {},
   "outputs": [],
   "source": [
    "batch_dict = generate_batch(pseudo_time_reg_deconv.dataset, device, dtype)"
   ]
  },
  {
   "cell_type": "markdown",
   "id": "strategic-female",
   "metadata": {},
   "source": [
    "## Evaluate Simulation 1 (100 samples; polynomial)"
   ]
  },
  {
   "cell_type": "code",
   "execution_count": null,
   "id": "legal-paradise",
   "metadata": {},
   "outputs": [],
   "source": [
    "# Simulate and plot proportions\n",
    "sim_res = simulate_data(num_samples=100, reference_deconvolution=pseudo_time_reg_deconv, trajectory_type='linear')\n",
    "plot_simulated_proportions(sim_res)\n",
    "matplotlib.pyplot.show()"
   ]
  },
  {
   "cell_type": "code",
   "execution_count": null,
   "id": "breathing-logging",
   "metadata": {},
   "outputs": [],
   "source": [
    "simulated_bulk = generate_anndata_from_sim(sim_res, reference_deconvolution=pseudo_time_reg_deconv)"
   ]
  },
  {
   "cell_type": "code",
   "execution_count": null,
   "id": "accredited-spine",
   "metadata": {},
   "outputs": [],
   "source": [
    "ebov_simulated_dataset = DeconvolutionDataset(\n",
    "    sc_anndata = sc_anndata,\n",
    "    sc_celltype_col = \"Subclustering_reduced\",\n",
    "    bulk_anndata = simulated_bulk,\n",
    "    bulk_time_col = \"time\",\n",
    "    dtype_np = dtype_np,\n",
    "    dtype = dtype,\n",
    "    device = device,\n",
    "    feature_selection_method = 'common' \n",
    ")"
   ]
  },
  {
   "cell_type": "code",
   "execution_count": null,
   "id": "greek-wheat",
   "metadata": {},
   "outputs": [],
   "source": [
    "pseudo_time_reg_deconv_sim = TimeRegularizedDeconvolution(\n",
    "    dataset=ebov_simulated_dataset,\n",
    "    polynomial_degree = 20,\n",
    "    basis_functions = \"polynomial\",\n",
    "    device=device,\n",
    "    dtype=dtype)"
   ]
  },
  {
   "cell_type": "code",
   "execution_count": null,
   "id": "applied-domestic",
   "metadata": {},
   "outputs": [],
   "source": [
    "pseudo_time_reg_deconv_sim.fit_model(n_iters=5_001, verbose=True, log_frequency=1000)"
   ]
  },
  {
   "cell_type": "code",
   "execution_count": null,
   "id": "buried-attitude",
   "metadata": {},
   "outputs": [],
   "source": [
    "pseudo_time_reg_deconv_sim.plot_loss()"
   ]
  },
  {
   "cell_type": "code",
   "execution_count": null,
   "id": "final-tunnel",
   "metadata": {},
   "outputs": [],
   "source": [
    "pseudo_time_reg_deconv_sim.calculate_composition_trajectories(n_intervals = 1000)"
   ]
  },
  {
   "cell_type": "code",
   "execution_count": null,
   "id": "wireless-object",
   "metadata": {},
   "outputs": [],
   "source": [
    "plot_simulated_proportions(sim_res)"
   ]
  },
  {
   "cell_type": "code",
   "execution_count": null,
   "id": "unique-infection",
   "metadata": {},
   "outputs": [],
   "source": [
    "pseudo_time_reg_deconv_sim.plot_composition_trajectories()"
   ]
  },
  {
   "cell_type": "code",
   "execution_count": null,
   "id": "split-amount",
   "metadata": {},
   "outputs": [],
   "source": [
    "calculate_prediction_error(sim_res, pseudo_time_reg_deconv_sim)"
   ]
  },
  {
   "cell_type": "markdown",
   "id": "advanced-restriction",
   "metadata": {},
   "source": [
    "## Evaluate linear fit error vs Increasing sampling noise"
   ]
  },
  {
   "cell_type": "code",
   "execution_count": null,
   "id": "packed-baptist",
   "metadata": {},
   "outputs": [],
   "source": [
    "alpha_vals = list(10**(x -1 ) for x in range(4)) \n",
    "alpha_vals"
   ]
  },
  {
   "cell_type": "code",
   "execution_count": null,
   "id": "major-stamp",
   "metadata": {},
   "outputs": [],
   "source": [
    "# Use a single trajectory for all iterations\n",
    "trajectory_coef = sample_linear_trajectories(num_cell_types = pseudo_time_reg_deconv.w_hat_gc.shape[1])"
   ]
  },
  {
   "cell_type": "code",
   "execution_count": null,
   "id": "persistent-frequency",
   "metadata": {},
   "outputs": [],
   "source": [
    "df_a = []\n",
    "l1_error = []\n",
    "\n",
    "for a in alpha_vals:\n",
    "    sim_res = simulate_data(\n",
    "        num_samples=100, \n",
    "        reference_deconvolution=pseudo_time_reg_deconv, \n",
    "        trajectory_type='linear', \n",
    "        dirichlet_alpha = a,\n",
    "        trajectory_coef = trajectory_coef\n",
    "    )\n",
    "    \n",
    "    plot_simulated_proportions(sim_res)\n",
    "    \n",
    "    simulated_bulk = generate_anndata_from_sim(sim_res, reference_deconvolution=pseudo_time_reg_deconv)\n",
    "    \n",
    "    ebov_simulated_dataset = DeconvolutionDataset(\n",
    "        sc_anndata = sc_anndata,\n",
    "        sc_celltype_col = \"Subclustering_reduced\",\n",
    "        bulk_anndata = simulated_bulk,\n",
    "        bulk_time_col = \"time\",\n",
    "        dtype_np = dtype_np,\n",
    "        dtype = dtype,\n",
    "        device = device,\n",
    "        feature_selection_method = 'common' \n",
    "    )\n",
    "    \n",
    "    pseudo_time_reg_deconv_sim = TimeRegularizedDeconvolution(\n",
    "        dataset=ebov_simulated_dataset,\n",
    "        polynomial_degree = 3,\n",
    "        basis_functions = \"polynomial\",\n",
    "        device=device,\n",
    "        dtype=dtype)\n",
    "    \n",
    "    pseudo_time_reg_deconv_sim.fit_model(n_iters=5_001, verbose=True, log_frequency=1000)\n",
    "    \n",
    "    errors = calculate_prediction_error(sim_res, pseudo_time_reg_deconv_sim)\n",
    "    df_a.append(a)\n",
    "    l1_error.append(errors['L1_error_norm'])\n",
    "    \n",
    "    pseudo_time_reg_deconv_sim.plot_composition_trajectories()"
   ]
  },
  {
   "cell_type": "code",
   "execution_count": null,
   "id": "proud-durham",
   "metadata": {},
   "outputs": [],
   "source": [
    "error_df = pd.DataFrame({'a':df_a, 'l1': list(x.item() for x in l1_error)})"
   ]
  },
  {
   "cell_type": "code",
   "execution_count": null,
   "id": "premier-warren",
   "metadata": {},
   "outputs": [],
   "source": [
    "error_df.plot(x='a',y='l1')"
   ]
  },
  {
   "cell_type": "markdown",
   "id": "decent-workshop",
   "metadata": {},
   "source": [
    "## Periodic"
   ]
  },
  {
   "cell_type": "code",
   "execution_count": null,
   "id": "centered-mexico",
   "metadata": {},
   "outputs": [],
   "source": [
    "trajectory_type = 'periodic'"
   ]
  },
  {
   "cell_type": "code",
   "execution_count": null,
   "id": "lyric-davis",
   "metadata": {},
   "outputs": [],
   "source": [
    "alpha_vals = list(10**(x -1 ) for x in range(4)) \n",
    "alpha_vals"
   ]
  },
  {
   "cell_type": "code",
   "execution_count": null,
   "id": "assumed-attribute",
   "metadata": {},
   "outputs": [],
   "source": [
    "# Use a single trajectory for all iterations\n",
    "trajectory_coef = sample_trajectories(\n",
    "    type = trajectory_type,\n",
    "    num_cell_types = pseudo_time_reg_deconv.w_hat_gc.shape[1]\n",
    ")"
   ]
  },
  {
   "cell_type": "code",
   "execution_count": null,
   "id": "postal-collapse",
   "metadata": {},
   "outputs": [],
   "source": [
    "df_a = []\n",
    "l1_error = []\n",
    "\n",
    "for a in alpha_vals:\n",
    "    sim_res = simulate_data(\n",
    "        num_samples=100, \n",
    "        reference_deconvolution=pseudo_time_reg_deconv, \n",
    "        trajectory_type=trajectory_type, \n",
    "        dirichlet_alpha = a,\n",
    "        trajectory_coef = trajectory_coef\n",
    "    )\n",
    "    \n",
    "    plot_simulated_proportions(sim_res)\n",
    "    \n",
    "    simulated_bulk = generate_anndata_from_sim(sim_res, reference_deconvolution=pseudo_time_reg_deconv)\n",
    "    \n",
    "    ebov_simulated_dataset = DeconvolutionDataset(\n",
    "        sc_anndata = sc_anndata,\n",
    "        sc_celltype_col = \"Subclustering_reduced\",\n",
    "        bulk_anndata = simulated_bulk,\n",
    "        bulk_time_col = \"time\",\n",
    "        dtype_np = dtype_np,\n",
    "        dtype = dtype,\n",
    "        device = device,\n",
    "        feature_selection_method = 'common' \n",
    "    )\n",
    "    \n",
    "    pseudo_time_reg_deconv_sim = TimeRegularizedDeconvolution(\n",
    "        dataset=ebov_simulated_dataset,\n",
    "        polynomial_degree = 3,\n",
    "        basis_functions = \"polynomial\",\n",
    "        device=device,\n",
    "        dtype=dtype)\n",
    "    \n",
    "    pseudo_time_reg_deconv_sim.fit_model(n_iters=5_001, verbose=True, log_frequency=1000)\n",
    "    \n",
    "    errors = calculate_prediction_error(sim_res, pseudo_time_reg_deconv_sim)\n",
    "    df_a.append(a)\n",
    "    l1_error.append(errors['L1_error_norm'])\n",
    "    \n",
    "    pseudo_time_reg_deconv_sim.plot_composition_trajectories()"
   ]
  },
  {
   "cell_type": "code",
   "execution_count": null,
   "id": "funded-editing",
   "metadata": {},
   "outputs": [],
   "source": [
    "error_df = pd.DataFrame({'a':df_a, 'l1': list(x.item() for x in l1_error)})"
   ]
  },
  {
   "cell_type": "code",
   "execution_count": null,
   "id": "noticed-looking",
   "metadata": {},
   "outputs": [],
   "source": [
    "error_df.plot(x='a',y='l1')"
   ]
  },
  {
   "cell_type": "markdown",
   "id": "victorian-clause",
   "metadata": {},
   "source": [
    "## Periodic with high degree polynomial"
   ]
  },
  {
   "cell_type": "code",
   "execution_count": 9,
   "id": "thermal-cedar",
   "metadata": {},
   "outputs": [],
   "source": [
    "trajectory_type = 'periodic'"
   ]
  },
  {
   "cell_type": "code",
   "execution_count": 10,
   "id": "appreciated-cross",
   "metadata": {},
   "outputs": [
    {
     "data": {
      "text/plain": [
       "[0.1, 1, 10, 100]"
      ]
     },
     "execution_count": 10,
     "metadata": {},
     "output_type": "execute_result"
    }
   ],
   "source": [
    "alpha_vals = list(10**(x -1 ) for x in range(4)) \n",
    "alpha_vals"
   ]
  },
  {
   "cell_type": "code",
   "execution_count": 11,
   "id": "developing-workshop",
   "metadata": {},
   "outputs": [],
   "source": [
    "# Use a single trajectory for all iterations\n",
    "trajectory_coef = sample_trajectories(\n",
    "    type = trajectory_type,\n",
    "    num_cell_types = pseudo_time_reg_deconv.w_hat_gc.shape[1]\n",
    ")"
   ]
  },
  {
   "cell_type": "code",
   "execution_count": 12,
   "id": "smart-scene",
   "metadata": {},
   "outputs": [
    {
     "name": "stderr",
     "output_type": "stream",
     "text": [
      "/opt/conda/lib/python3.7/site-packages/anndata/_core/anndata.py:120: ImplicitModificationWarning: Transforming to str index.\n",
      "  warnings.warn(\"Transforming to str index.\", ImplicitModificationWarning)\n"
     ]
    },
    {
     "name": "stdout",
     "output_type": "stream",
     "text": [
      "[iteration: 0]   loss: 2424127.39\n",
      "[iteration: 1000]   loss: 1912952.95\n",
      "[iteration: 2000]   loss: 1689796.12\n",
      "[iteration: 3000]   loss: 1597111.87\n"
     ]
    },
    {
     "ename": "UnboundLocalError",
     "evalue": "local variable 'predicted_composition_norm_cm' referenced before assignment",
     "output_type": "error",
     "traceback": [
      "\u001b[0;31m---------------------------------------------------------------------------\u001b[0m",
      "\u001b[0;31mUnboundLocalError\u001b[0m                         Traceback (most recent call last)",
      "\u001b[0;32m<ipython-input-12-6938f1623681>\u001b[0m in \u001b[0;36m<module>\u001b[0;34m\u001b[0m\n\u001b[1;32m     35\u001b[0m     \u001b[0mpseudo_time_reg_deconv_sim\u001b[0m\u001b[0;34m.\u001b[0m\u001b[0mfit_model\u001b[0m\u001b[0;34m(\u001b[0m\u001b[0mn_iters\u001b[0m\u001b[0;34m=\u001b[0m\u001b[0;36m3_001\u001b[0m\u001b[0;34m,\u001b[0m \u001b[0mverbose\u001b[0m\u001b[0;34m=\u001b[0m\u001b[0;32mTrue\u001b[0m\u001b[0;34m,\u001b[0m \u001b[0mlog_frequency\u001b[0m\u001b[0;34m=\u001b[0m\u001b[0;36m1000\u001b[0m\u001b[0;34m)\u001b[0m\u001b[0;34m\u001b[0m\u001b[0;34m\u001b[0m\u001b[0m\n\u001b[1;32m     36\u001b[0m \u001b[0;34m\u001b[0m\u001b[0m\n\u001b[0;32m---> 37\u001b[0;31m     \u001b[0merrors\u001b[0m \u001b[0;34m=\u001b[0m \u001b[0mcalculate_prediction_error\u001b[0m\u001b[0;34m(\u001b[0m\u001b[0msim_res\u001b[0m\u001b[0;34m,\u001b[0m \u001b[0mpseudo_time_reg_deconv_sim\u001b[0m\u001b[0;34m)\u001b[0m\u001b[0;34m\u001b[0m\u001b[0;34m\u001b[0m\u001b[0m\n\u001b[0m\u001b[1;32m     38\u001b[0m     \u001b[0mdf_a\u001b[0m\u001b[0;34m.\u001b[0m\u001b[0mappend\u001b[0m\u001b[0;34m(\u001b[0m\u001b[0ma\u001b[0m\u001b[0;34m)\u001b[0m\u001b[0;34m\u001b[0m\u001b[0;34m\u001b[0m\u001b[0m\n\u001b[1;32m     39\u001b[0m     \u001b[0ml1_error\u001b[0m\u001b[0;34m.\u001b[0m\u001b[0mappend\u001b[0m\u001b[0;34m(\u001b[0m\u001b[0merrors\u001b[0m\u001b[0;34m[\u001b[0m\u001b[0;34m'L1_error_norm'\u001b[0m\u001b[0;34m]\u001b[0m\u001b[0;34m)\u001b[0m\u001b[0;34m\u001b[0m\u001b[0;34m\u001b[0m\u001b[0m\n",
      "\u001b[0;32m/mnt/disk2/nbarkas/deconvolution_method/temporal-rna-seq-deconvolution/time_deconv/time_deconv_simulator.py\u001b[0m in \u001b[0;36mcalculate_prediction_error\u001b[0;34m(sim_res, pseudo_time_reg_deconv_sim, n_intervals)\u001b[0m\n\u001b[1;32m    456\u001b[0m     \u001b[0;31m# Normalize by cell type summing to 1\u001b[0m\u001b[0;34m\u001b[0m\u001b[0;34m\u001b[0m\u001b[0;34m\u001b[0m\u001b[0m\n\u001b[1;32m    457\u001b[0m     \u001b[0mground_truth_proportions_norm_cm\u001b[0m \u001b[0;34m=\u001b[0m \u001b[0mground_truth_proportions_cm\u001b[0m \u001b[0;34m/\u001b[0m \u001b[0mground_truth_proportions_cm\u001b[0m\u001b[0;34m.\u001b[0m\u001b[0msum\u001b[0m\u001b[0;34m(\u001b[0m\u001b[0;34m-\u001b[0m\u001b[0;36m2\u001b[0m\u001b[0;34m,\u001b[0m\u001b[0;32mTrue\u001b[0m\u001b[0;34m)\u001b[0m\u001b[0;34m\u001b[0m\u001b[0;34m\u001b[0m\u001b[0m\n\u001b[0;32m--> 458\u001b[0;31m     \u001b[0mpredicted_composition_norm_cm\u001b[0m \u001b[0;34m=\u001b[0m \u001b[0mpredicted_composition_norm_cm\u001b[0m \u001b[0;34m/\u001b[0m \u001b[0mpredicted_composition_norm_cm\u001b[0m\u001b[0;34m.\u001b[0m\u001b[0msum\u001b[0m\u001b[0;34m(\u001b[0m\u001b[0;34m-\u001b[0m\u001b[0;36m2\u001b[0m\u001b[0;34m,\u001b[0m\u001b[0;32mTrue\u001b[0m\u001b[0;34m)\u001b[0m\u001b[0;34m\u001b[0m\u001b[0;34m\u001b[0m\u001b[0m\n\u001b[0m\u001b[1;32m    459\u001b[0m \u001b[0;34m\u001b[0m\u001b[0m\n\u001b[1;32m    460\u001b[0m     \u001b[0mshape_L1_error\u001b[0m \u001b[0;34m=\u001b[0m \u001b[0;34m(\u001b[0m\u001b[0mground_truth_proportions_norm_cm\u001b[0m \u001b[0;34m-\u001b[0m \u001b[0mpredicted_composition_norm_cm\u001b[0m\u001b[0;34m)\u001b[0m\u001b[0;34m.\u001b[0m\u001b[0mabs\u001b[0m\u001b[0;34m(\u001b[0m\u001b[0;34m)\u001b[0m\u001b[0;34m.\u001b[0m\u001b[0msum\u001b[0m\u001b[0;34m(\u001b[0m\u001b[0;34m[\u001b[0m\u001b[0;36m0\u001b[0m\u001b[0;34m,\u001b[0m \u001b[0;36m1\u001b[0m\u001b[0;34m]\u001b[0m\u001b[0;34m)\u001b[0m\u001b[0;34m\u001b[0m\u001b[0;34m\u001b[0m\u001b[0m\n",
      "\u001b[0;31mUnboundLocalError\u001b[0m: local variable 'predicted_composition_norm_cm' referenced before assignment"
     ]
    },
    {
     "data": {
      "image/png": "[encoded data removed]",
      "text/plain": [
       "<Figure size 432x288 with 2 Axes>"
      ]
     },
     "metadata": {
      "needs_background": "light"
     },
     "output_type": "display_data"
    }
   ],
   "source": [
    "df_a = []\n",
    "l1_error = []\n",
    "\n",
    "for a in alpha_vals:\n",
    "    sim_res = simulate_data(\n",
    "        num_samples=100, \n",
    "        reference_deconvolution=pseudo_time_reg_deconv, \n",
    "        trajectory_type=trajectory_type, \n",
    "        dirichlet_alpha = a,\n",
    "        trajectory_coef = trajectory_coef\n",
    "    )\n",
    "    \n",
    "    plot_simulated_proportions(sim_res)\n",
    "    \n",
    "    simulated_bulk = generate_anndata_from_sim(sim_res, reference_deconvolution=pseudo_time_reg_deconv)\n",
    "    \n",
    "    ebov_simulated_dataset = DeconvolutionDataset(\n",
    "        sc_anndata = sc_anndata,\n",
    "        sc_celltype_col = \"Subclustering_reduced\",\n",
    "        bulk_anndata = simulated_bulk,\n",
    "        bulk_time_col = \"time\",\n",
    "        dtype_np = dtype_np,\n",
    "        dtype = dtype,\n",
    "        device = device,\n",
    "        feature_selection_method = 'common' \n",
    "    )\n",
    "    \n",
    "    pseudo_time_reg_deconv_sim = TimeRegularizedDeconvolution(\n",
    "        dataset=ebov_simulated_dataset,\n",
    "        polynomial_degree = 10,\n",
    "        basis_functions = \"polynomial\",\n",
    "        device=device,\n",
    "        dtype=dtype)\n",
    "    \n",
    "    pseudo_time_reg_deconv_sim.fit_model(n_iters=3_001, verbose=True, log_frequency=1000)\n",
    "    \n",
    "    errors = calculate_prediction_error(sim_res, pseudo_time_reg_deconv_sim)\n",
    "    df_a.append(a)\n",
    "    l1_error.append(errors['L1_error_norm'])\n",
    "    \n",
    "    pseudo_time_reg_deconv_sim.plot_composition_trajectories()"
   ]
  },
  {
   "cell_type": "code",
   "execution_count": null,
   "id": "extended-defendant",
   "metadata": {},
   "outputs": [],
   "source": [
    "error_df = pd.DataFrame({'a':df_a, 'l1': list(x.item() for x in l1_error)})\n",
    "error_df.plot(x='a',y='l1')"
   ]
  },
  {
   "cell_type": "markdown",
   "id": "instant-store",
   "metadata": {},
   "source": [
    "### Same trajectory Vary the number of samples"
   ]
  },
  {
   "cell_type": "code",
   "execution_count": null,
   "id": "painted-breath",
   "metadata": {},
   "outputs": [],
   "source": [
    "trajectory_type = 'periodic'"
   ]
  },
  {
   "cell_type": "code",
   "execution_count": null,
   "id": "perfect-queue",
   "metadata": {},
   "outputs": [],
   "source": [
    "n_samples = list(range(10,100,10)) \n",
    "n_samples"
   ]
  },
  {
   "cell_type": "code",
   "execution_count": null,
   "id": "clear-heart",
   "metadata": {},
   "outputs": [],
   "source": [
    "# Use a single trajectory for all iterations\n",
    "trajectory_coef = sample_trajectories(\n",
    "    type = trajectory_type,\n",
    "    num_cell_types = pseudo_time_reg_deconv.w_hat_gc.shape[1]\n",
    ")"
   ]
  },
  {
   "cell_type": "code",
   "execution_count": null,
   "id": "incident-presence",
   "metadata": {},
   "outputs": [],
   "source": [
    "df_n = []\n",
    "l1_error = []\n",
    "shape_l1_error = []\n",
    "\n",
    "a = 10\n",
    "\n",
    "for n in n_samples:\n",
    "    \n",
    "    sim_res = simulate_data(\n",
    "        num_samples=n, \n",
    "        reference_deconvolution=pseudo_time_reg_deconv, \n",
    "        trajectory_type=trajectory_type, \n",
    "        dirichlet_alpha = a,\n",
    "        trajectory_coef = trajectory_coef\n",
    "    )\n",
    "    \n",
    "    plot_simulated_proportions(sim_res)\n",
    "    \n",
    "    simulated_bulk = generate_anndata_from_sim(\n",
    "        sim_res, \n",
    "        reference_deconvolution=pseudo_time_reg_deconv)\n",
    "    \n",
    "    ebov_simulated_dataset = DeconvolutionDataset(\n",
    "        sc_anndata = sc_anndata,\n",
    "        sc_celltype_col = \"Subclustering_reduced\",\n",
    "        bulk_anndata = simulated_bulk,\n",
    "        bulk_time_col = \"time\",\n",
    "        dtype_np = dtype_np,\n",
    "        dtype = dtype,\n",
    "        device = device,\n",
    "        feature_selection_method = 'common' \n",
    "    )\n",
    "    \n",
    "    pseudo_time_reg_deconv_sim = TimeRegularizedDeconvolution(\n",
    "        dataset=ebov_simulated_dataset,\n",
    "        polynomial_degree = 10,\n",
    "        basis_functions = \"polynomial\",\n",
    "        device=device,\n",
    "        dtype=dtype)\n",
    "    \n",
    "    pseudo_time_reg_deconv_sim.fit_model(n_iters=3_001, verbose=True, log_frequency=1000)\n",
    "    \n",
    "    errors = calculate_prediction_error(sim_res, pseudo_time_reg_deconv_sim)\n",
    "    \n",
    "    df_n.append(n)\n",
    "    l1_error.append(errors['L1_error_norm'])\n",
    "    shape_l1_error.append(errors['shape_L1_error'])\n",
    "    \n",
    "    pseudo_time_reg_deconv_sim.plot_composition_trajectories()"
   ]
  },
  {
   "cell_type": "code",
   "execution_count": null,
   "id": "imported-phone",
   "metadata": {},
   "outputs": [],
   "source": [
    "pyro.param(\"unnorm_cell_pop_base_posterior_loc_c\").detach().cpu()"
   ]
  },
  {
   "cell_type": "code",
   "execution_count": null,
   "id": "social-qatar",
   "metadata": {},
   "outputs": [],
   "source": [
    "pyro.param(\"unnorm_cell_pop_deform_posterior_loc_ck\").detach().cpu()"
   ]
  },
  {
   "cell_type": "code",
   "execution_count": null,
   "id": "mexican-thesaurus",
   "metadata": {},
   "outputs": [],
   "source": [
    "error_df = pd.DataFrame({'n':df_n, 'l1': list(x.item() for x in l1_error)})\n",
    "error_df.plot(x='n',y='l1')"
   ]
  },
  {
   "cell_type": "code",
   "execution_count": null,
   "id": "lined-split",
   "metadata": {},
   "outputs": [],
   "source": []
  },
  {
   "cell_type": "code",
   "execution_count": null,
   "id": "freelance-accuracy",
   "metadata": {},
   "outputs": [],
   "source": []
  }
 ],
 "metadata": {
  "environment": {
   "name": "pytorch-gpu.1-7.m65",
   "type": "gcloud",
   "uri": "gcr.io/deeplearning-platform-release/pytorch-gpu.1-7:m65"
  },
  "kernelspec": {
   "display_name": "Python 3",
   "language": "python",
   "name": "python3"
  },
  "language_info": {
   "codemirror_mode": {
    "name": "ipython",
    "version": 3
   },
   "file_extension": ".py",
   "mimetype": "text/x-python",
   "name": "python",
   "nbconvert_exporter": "python",
   "pygments_lexer": "ipython3",
   "version": "3.7.10"
  }
 },
 "nbformat": 4,
 "nbformat_minor": 5
}
